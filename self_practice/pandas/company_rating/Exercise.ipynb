{
 "cells": [
  {
   "cell_type": "code",
   "execution_count": 1,
   "id": "360265fd-7260-41ba-a12d-0fb403ca10ff",
   "metadata": {},
   "outputs": [],
   "source": [
    "import pandas as pd"
   ]
  },
  {
   "cell_type": "code",
   "execution_count": 62,
   "id": "35032100-8a05-4554-a532-eaa4f9435811",
   "metadata": {},
   "outputs": [],
   "source": [
    "# Read the data\n",
    "\n",
    "data = pd.read_csv('rating.csv')"
   ]
  },
  {
   "cell_type": "code",
   "execution_count": 63,
   "id": "9f0c189d-e5f6-42c1-b3fa-960692d1bcfc",
   "metadata": {},
   "outputs": [
    {
     "data": {
      "text/html": [
       "<div>\n",
       "<style scoped>\n",
       "    .dataframe tbody tr th:only-of-type {\n",
       "        vertical-align: middle;\n",
       "    }\n",
       "\n",
       "    .dataframe tbody tr th {\n",
       "        vertical-align: top;\n",
       "    }\n",
       "\n",
       "    .dataframe thead th {\n",
       "        text-align: right;\n",
       "    }\n",
       "</style>\n",
       "<table border=\"1\" class=\"dataframe\">\n",
       "  <thead>\n",
       "    <tr style=\"text-align: right;\">\n",
       "      <th></th>\n",
       "      <th>ID</th>\n",
       "      <th>Department</th>\n",
       "      <th>Office</th>\n",
       "      <th>Rating</th>\n",
       "    </tr>\n",
       "  </thead>\n",
       "  <tbody>\n",
       "    <tr>\n",
       "      <th>0</th>\n",
       "      <td>U2F26</td>\n",
       "      <td>Finance</td>\n",
       "      <td>New Delhi</td>\n",
       "      <td>3.4</td>\n",
       "    </tr>\n",
       "    <tr>\n",
       "      <th>1</th>\n",
       "      <td>U2M61</td>\n",
       "      <td>Marketing</td>\n",
       "      <td>New Delhi</td>\n",
       "      <td>3.9</td>\n",
       "    </tr>\n",
       "    <tr>\n",
       "      <th>2</th>\n",
       "      <td>U1S15</td>\n",
       "      <td>Sales</td>\n",
       "      <td>New Delhi</td>\n",
       "      <td>2.8</td>\n",
       "    </tr>\n",
       "    <tr>\n",
       "      <th>3</th>\n",
       "      <td>U1H87</td>\n",
       "      <td>HR</td>\n",
       "      <td>Mumbai</td>\n",
       "      <td>2.1</td>\n",
       "    </tr>\n",
       "    <tr>\n",
       "      <th>4</th>\n",
       "      <td>U1S51</td>\n",
       "      <td>Sales</td>\n",
       "      <td>New Delhi</td>\n",
       "      <td>4.6</td>\n",
       "    </tr>\n",
       "  </tbody>\n",
       "</table>\n",
       "</div>"
      ],
      "text/plain": [
       "      ID Department     Office  Rating\n",
       "0  U2F26    Finance  New Delhi     3.4\n",
       "1  U2M61  Marketing  New Delhi     3.9\n",
       "2  U1S15      Sales  New Delhi     2.8\n",
       "3  U1H87         HR     Mumbai     2.1\n",
       "4  U1S51      Sales  New Delhi     4.6"
      ]
     },
     "execution_count": 63,
     "metadata": {},
     "output_type": "execute_result"
    }
   ],
   "source": [
    "data.head()"
   ]
  },
  {
   "cell_type": "code",
   "execution_count": 64,
   "id": "bd27a2bc-45ab-49b2-89ea-83a98ee90fb7",
   "metadata": {},
   "outputs": [
    {
     "data": {
      "text/plain": [
       "(533, 4)"
      ]
     },
     "execution_count": 64,
     "metadata": {},
     "output_type": "execute_result"
    }
   ],
   "source": [
    "data.shape"
   ]
  },
  {
   "cell_type": "code",
   "execution_count": 65,
   "id": "f743207e-306f-4be1-9b95-1d3372228394",
   "metadata": {},
   "outputs": [],
   "source": [
    "# Add a column named Training \n",
    "# and assign the value as Yes if the employee rating is less than or equal to 3.5, else No\n",
    "\n",
    "data['Training'] = data.Rating.apply(lambda x: 'Yes' if x<=3.5 else 'No')"
   ]
  },
  {
   "cell_type": "code",
   "execution_count": 66,
   "id": "cd840a07-9a0f-43a1-a554-48a82c42fed0",
   "metadata": {},
   "outputs": [
    {
     "data": {
      "text/html": [
       "<div>\n",
       "<style scoped>\n",
       "    .dataframe tbody tr th:only-of-type {\n",
       "        vertical-align: middle;\n",
       "    }\n",
       "\n",
       "    .dataframe tbody tr th {\n",
       "        vertical-align: top;\n",
       "    }\n",
       "\n",
       "    .dataframe thead th {\n",
       "        text-align: right;\n",
       "    }\n",
       "</style>\n",
       "<table border=\"1\" class=\"dataframe\">\n",
       "  <thead>\n",
       "    <tr style=\"text-align: right;\">\n",
       "      <th></th>\n",
       "      <th>ID</th>\n",
       "      <th>Department</th>\n",
       "      <th>Office</th>\n",
       "      <th>Rating</th>\n",
       "      <th>Training</th>\n",
       "    </tr>\n",
       "  </thead>\n",
       "  <tbody>\n",
       "    <tr>\n",
       "      <th>0</th>\n",
       "      <td>U2F26</td>\n",
       "      <td>Finance</td>\n",
       "      <td>New Delhi</td>\n",
       "      <td>3.4</td>\n",
       "      <td>Yes</td>\n",
       "    </tr>\n",
       "    <tr>\n",
       "      <th>1</th>\n",
       "      <td>U2M61</td>\n",
       "      <td>Marketing</td>\n",
       "      <td>New Delhi</td>\n",
       "      <td>3.9</td>\n",
       "      <td>No</td>\n",
       "    </tr>\n",
       "    <tr>\n",
       "      <th>2</th>\n",
       "      <td>U1S15</td>\n",
       "      <td>Sales</td>\n",
       "      <td>New Delhi</td>\n",
       "      <td>2.8</td>\n",
       "      <td>Yes</td>\n",
       "    </tr>\n",
       "    <tr>\n",
       "      <th>3</th>\n",
       "      <td>U1H87</td>\n",
       "      <td>HR</td>\n",
       "      <td>Mumbai</td>\n",
       "      <td>2.1</td>\n",
       "      <td>Yes</td>\n",
       "    </tr>\n",
       "    <tr>\n",
       "      <th>4</th>\n",
       "      <td>U1S51</td>\n",
       "      <td>Sales</td>\n",
       "      <td>New Delhi</td>\n",
       "      <td>4.6</td>\n",
       "      <td>No</td>\n",
       "    </tr>\n",
       "  </tbody>\n",
       "</table>\n",
       "</div>"
      ],
      "text/plain": [
       "      ID Department     Office  Rating Training\n",
       "0  U2F26    Finance  New Delhi     3.4      Yes\n",
       "1  U2M61  Marketing  New Delhi     3.9       No\n",
       "2  U1S15      Sales  New Delhi     2.8      Yes\n",
       "3  U1H87         HR     Mumbai     2.1      Yes\n",
       "4  U1S51      Sales  New Delhi     4.6       No"
      ]
     },
     "execution_count": 66,
     "metadata": {},
     "output_type": "execute_result"
    }
   ],
   "source": [
    "data.head()"
   ]
  },
  {
   "cell_type": "code",
   "execution_count": 67,
   "id": "f8be0f12-d8e3-4d1c-87e6-2e8e7ee11575",
   "metadata": {},
   "outputs": [
    {
     "data": {
      "text/html": [
       "<div>\n",
       "<style scoped>\n",
       "    .dataframe tbody tr th:only-of-type {\n",
       "        vertical-align: middle;\n",
       "    }\n",
       "\n",
       "    .dataframe tbody tr th {\n",
       "        vertical-align: top;\n",
       "    }\n",
       "\n",
       "    .dataframe thead th {\n",
       "        text-align: right;\n",
       "    }\n",
       "</style>\n",
       "<table border=\"1\" class=\"dataframe\">\n",
       "  <thead>\n",
       "    <tr style=\"text-align: right;\">\n",
       "      <th></th>\n",
       "      <th>ID</th>\n",
       "      <th>Department</th>\n",
       "      <th>Office</th>\n",
       "      <th>Rating</th>\n",
       "      <th>Training</th>\n",
       "    </tr>\n",
       "  </thead>\n",
       "  <tbody>\n",
       "    <tr>\n",
       "      <th>1</th>\n",
       "      <td>U2M61</td>\n",
       "      <td>Marketing</td>\n",
       "      <td>New Delhi</td>\n",
       "      <td>3.9</td>\n",
       "      <td>No</td>\n",
       "    </tr>\n",
       "    <tr>\n",
       "      <th>4</th>\n",
       "      <td>U1S51</td>\n",
       "      <td>Sales</td>\n",
       "      <td>New Delhi</td>\n",
       "      <td>4.6</td>\n",
       "      <td>No</td>\n",
       "    </tr>\n",
       "    <tr>\n",
       "      <th>5</th>\n",
       "      <td>U1H78</td>\n",
       "      <td>HR</td>\n",
       "      <td>New Delhi</td>\n",
       "      <td>3.8</td>\n",
       "      <td>No</td>\n",
       "    </tr>\n",
       "    <tr>\n",
       "      <th>6</th>\n",
       "      <td>U3M65</td>\n",
       "      <td>Marketing</td>\n",
       "      <td>New Delhi</td>\n",
       "      <td>5.0</td>\n",
       "      <td>No</td>\n",
       "    </tr>\n",
       "    <tr>\n",
       "      <th>8</th>\n",
       "      <td>U3S75</td>\n",
       "      <td>Sales</td>\n",
       "      <td>Bangalore</td>\n",
       "      <td>4.3</td>\n",
       "      <td>No</td>\n",
       "    </tr>\n",
       "    <tr>\n",
       "      <th>...</th>\n",
       "      <td>...</td>\n",
       "      <td>...</td>\n",
       "      <td>...</td>\n",
       "      <td>...</td>\n",
       "      <td>...</td>\n",
       "    </tr>\n",
       "    <tr>\n",
       "      <th>520</th>\n",
       "      <td>U1M10</td>\n",
       "      <td>Marketing</td>\n",
       "      <td>Mumbai</td>\n",
       "      <td>3.7</td>\n",
       "      <td>No</td>\n",
       "    </tr>\n",
       "    <tr>\n",
       "      <th>523</th>\n",
       "      <td>U3F46</td>\n",
       "      <td>Finance</td>\n",
       "      <td>New Delhi</td>\n",
       "      <td>3.6</td>\n",
       "      <td>No</td>\n",
       "    </tr>\n",
       "    <tr>\n",
       "      <th>524</th>\n",
       "      <td>U1M31</td>\n",
       "      <td>Marketing</td>\n",
       "      <td>New Delhi</td>\n",
       "      <td>4.6</td>\n",
       "      <td>No</td>\n",
       "    </tr>\n",
       "    <tr>\n",
       "      <th>526</th>\n",
       "      <td>U2S35</td>\n",
       "      <td>Sales</td>\n",
       "      <td>Mumbai</td>\n",
       "      <td>4.9</td>\n",
       "      <td>No</td>\n",
       "    </tr>\n",
       "    <tr>\n",
       "      <th>528</th>\n",
       "      <td>U3S44</td>\n",
       "      <td>Sales</td>\n",
       "      <td>New Delhi</td>\n",
       "      <td>4.8</td>\n",
       "      <td>No</td>\n",
       "    </tr>\n",
       "  </tbody>\n",
       "</table>\n",
       "<p>270 rows × 5 columns</p>\n",
       "</div>"
      ],
      "text/plain": [
       "        ID Department     Office  Rating Training\n",
       "1    U2M61  Marketing  New Delhi     3.9       No\n",
       "4    U1S51      Sales  New Delhi     4.6       No\n",
       "5    U1H78         HR  New Delhi     3.8       No\n",
       "6    U3M65  Marketing  New Delhi     5.0       No\n",
       "8    U3S75      Sales  Bangalore     4.3       No\n",
       "..     ...        ...        ...     ...      ...\n",
       "520  U1M10  Marketing     Mumbai     3.7       No\n",
       "523  U3F46    Finance  New Delhi     3.6       No\n",
       "524  U1M31  Marketing  New Delhi     4.6       No\n",
       "526  U2S35      Sales     Mumbai     4.9       No\n",
       "528  U3S44      Sales  New Delhi     4.8       No\n",
       "\n",
       "[270 rows x 5 columns]"
      ]
     },
     "execution_count": 67,
     "metadata": {},
     "output_type": "execute_result"
    }
   ],
   "source": [
    "data[data['Training'] == 'No']"
   ]
  },
  {
   "cell_type": "code",
   "execution_count": 68,
   "id": "abce6eb3-67e5-4922-b5c8-100ca9533ea9",
   "metadata": {},
   "outputs": [
    {
     "data": {
      "text/plain": [
       "array(['Finance', 'Marketing', 'Sales', 'HR'], dtype=object)"
      ]
     },
     "execution_count": 68,
     "metadata": {},
     "output_type": "execute_result"
    }
   ],
   "source": [
    "data['Department'].unique()"
   ]
  },
  {
   "cell_type": "code",
   "execution_count": 69,
   "id": "1e9b52a9-6953-4914-8550-41bf62c638c9",
   "metadata": {},
   "outputs": [
    {
     "data": {
      "text/plain": [
       "134"
      ]
     },
     "execution_count": 69,
     "metadata": {},
     "output_type": "execute_result"
    }
   ],
   "source": [
    "finance_total = len(data[data['Department'] == 'Finance'])\n",
    "finance_total"
   ]
  },
  {
   "cell_type": "code",
   "execution_count": 70,
   "id": "ce28dd8a-d645-4dd1-b142-3020093dd8ac",
   "metadata": {},
   "outputs": [
    {
     "data": {
      "text/plain": [
       "67"
      ]
     },
     "execution_count": 70,
     "metadata": {},
     "output_type": "execute_result"
    }
   ],
   "source": [
    "finance_no_training = len(data[(data['Department'] == 'Finance') & (data['Training'] == 'Yes')])\n",
    "finance_no_training"
   ]
  },
  {
   "cell_type": "code",
   "execution_count": 71,
   "id": "c7fa621c-b55f-48e3-8daf-6b79350496ec",
   "metadata": {},
   "outputs": [
    {
     "data": {
      "text/plain": [
       "50.0"
      ]
     },
     "execution_count": 71,
     "metadata": {},
     "output_type": "execute_result"
    }
   ],
   "source": [
    "(finance_no_training/finance_total)*100"
   ]
  },
  {
   "cell_type": "code",
   "execution_count": 72,
   "id": "75db46a8-baad-4c4b-8cc3-0d694f840f6f",
   "metadata": {},
   "outputs": [],
   "source": [
    "marketing_total = len(data[data['Department'] == 'Marketing'])"
   ]
  },
  {
   "cell_type": "code",
   "execution_count": 73,
   "id": "7f5f7ab8-22bf-402e-aceb-781a05256900",
   "metadata": {},
   "outputs": [
    {
     "data": {
      "text/plain": [
       "74"
      ]
     },
     "execution_count": 73,
     "metadata": {},
     "output_type": "execute_result"
    }
   ],
   "source": [
    "marketing_no_training = len(data[(data['Department'] == 'Marketing') & (data['Training'] == 'Yes')])\n",
    "marketing_no_training"
   ]
  },
  {
   "cell_type": "code",
   "execution_count": 74,
   "id": "c7b4c67a-05ab-40a0-bb58-0ecc5b46ec67",
   "metadata": {},
   "outputs": [
    {
     "data": {
      "text/plain": [
       "53.62318840579711"
      ]
     },
     "execution_count": 74,
     "metadata": {},
     "output_type": "execute_result"
    }
   ],
   "source": [
    "(marketing_no_training/marketing_total)*100"
   ]
  },
  {
   "cell_type": "code",
   "execution_count": 75,
   "id": "84e80160-1730-48c4-8778-84787e45001e",
   "metadata": {},
   "outputs": [
    {
     "data": {
      "text/plain": [
       "130"
      ]
     },
     "execution_count": 75,
     "metadata": {},
     "output_type": "execute_result"
    }
   ],
   "source": [
    "sales_total = len(data[data['Department'] == 'Sales'])\n",
    "sales_total"
   ]
  },
  {
   "cell_type": "code",
   "execution_count": 76,
   "id": "6f228829-0cd8-44b0-b546-2faf7c084074",
   "metadata": {},
   "outputs": [
    {
     "data": {
      "text/plain": [
       "66"
      ]
     },
     "execution_count": 76,
     "metadata": {},
     "output_type": "execute_result"
    }
   ],
   "source": [
    "sales_no_training = len(data[(data['Department'] == 'Sales') & (data['Training'] == 'Yes')])\n",
    "sales_no_training"
   ]
  },
  {
   "cell_type": "code",
   "execution_count": 77,
   "id": "04e6cf32-e392-4250-a3a2-8241d5c05c76",
   "metadata": {},
   "outputs": [
    {
     "data": {
      "text/plain": [
       "50.76923076923077"
      ]
     },
     "execution_count": 77,
     "metadata": {},
     "output_type": "execute_result"
    }
   ],
   "source": [
    "(sales_no_training/sales_total)*100"
   ]
  },
  {
   "cell_type": "code",
   "execution_count": 78,
   "id": "ee0d9ea3-2470-43b5-b854-1a9d6b579449",
   "metadata": {},
   "outputs": [
    {
     "data": {
      "text/plain": [
       "131"
      ]
     },
     "execution_count": 78,
     "metadata": {},
     "output_type": "execute_result"
    }
   ],
   "source": [
    "hr_total = len(data[data['Department'] == 'HR'])\n",
    "hr_total"
   ]
  },
  {
   "cell_type": "code",
   "execution_count": 79,
   "id": "f3235073-60bb-4800-81ee-263cb8aa656b",
   "metadata": {},
   "outputs": [
    {
     "data": {
      "text/plain": [
       "56"
      ]
     },
     "execution_count": 79,
     "metadata": {},
     "output_type": "execute_result"
    }
   ],
   "source": [
    "hr_no_training = len(data[(data['Department'] == 'HR') & (data['Training'] == 'Yes')])\n",
    "hr_no_training"
   ]
  },
  {
   "cell_type": "code",
   "execution_count": 55,
   "id": "cdb08891-c060-40ca-a85b-8b646d7733bc",
   "metadata": {},
   "outputs": [
    {
     "data": {
      "text/plain": [
       "42.74809160305343"
      ]
     },
     "execution_count": 55,
     "metadata": {},
     "output_type": "execute_result"
    }
   ],
   "source": [
    "(hr_no_training/hr_total)*100"
   ]
  },
  {
   "cell_type": "code",
   "execution_count": 105,
   "id": "529f4104-ff6c-47c1-8a96-b10028809555",
   "metadata": {},
   "outputs": [
    {
     "data": {
      "text/html": [
       "<div>\n",
       "<style scoped>\n",
       "    .dataframe tbody tr th:only-of-type {\n",
       "        vertical-align: middle;\n",
       "    }\n",
       "\n",
       "    .dataframe tbody tr th {\n",
       "        vertical-align: top;\n",
       "    }\n",
       "\n",
       "    .dataframe thead th {\n",
       "        text-align: right;\n",
       "    }\n",
       "</style>\n",
       "<table border=\"1\" class=\"dataframe\">\n",
       "  <thead>\n",
       "    <tr style=\"text-align: right;\">\n",
       "      <th></th>\n",
       "      <th>ID</th>\n",
       "      <th>Office</th>\n",
       "      <th>Rating</th>\n",
       "      <th>Training</th>\n",
       "    </tr>\n",
       "    <tr>\n",
       "      <th>Department</th>\n",
       "      <th></th>\n",
       "      <th></th>\n",
       "      <th></th>\n",
       "      <th></th>\n",
       "    </tr>\n",
       "  </thead>\n",
       "  <tbody>\n",
       "    <tr>\n",
       "      <th>Finance</th>\n",
       "      <td>U3F53</td>\n",
       "      <td>Bangalore</td>\n",
       "      <td>3.2</td>\n",
       "      <td>Yes</td>\n",
       "    </tr>\n",
       "    <tr>\n",
       "      <th>HR</th>\n",
       "      <td>U3H91</td>\n",
       "      <td>New Delhi</td>\n",
       "      <td>3.1</td>\n",
       "      <td>Yes</td>\n",
       "    </tr>\n",
       "    <tr>\n",
       "      <th>Marketing</th>\n",
       "      <td>U2M11</td>\n",
       "      <td>Bangalore</td>\n",
       "      <td>2.5</td>\n",
       "      <td>Yes</td>\n",
       "    </tr>\n",
       "    <tr>\n",
       "      <th>Sales</th>\n",
       "      <td>U3S28</td>\n",
       "      <td>New Delhi</td>\n",
       "      <td>2.9</td>\n",
       "      <td>Yes</td>\n",
       "    </tr>\n",
       "  </tbody>\n",
       "</table>\n",
       "</div>"
      ],
      "text/plain": [
       "               ID     Office  Rating Training\n",
       "Department                                   \n",
       "Finance     U3F53  Bangalore     3.2      Yes\n",
       "HR          U3H91  New Delhi     3.1      Yes\n",
       "Marketing   U2M11  Bangalore     2.5      Yes\n",
       "Sales       U3S28  New Delhi     2.9      Yes"
      ]
     },
     "execution_count": 105,
     "metadata": {},
     "output_type": "execute_result"
    }
   ],
   "source": [
    "df = data.groupby(by = ['Department'])\n",
    "\n",
    "df.last()"
   ]
  },
  {
   "cell_type": "code",
   "execution_count": 107,
   "id": "a94e7278-252a-4423-9baa-aeedf733f5cd",
   "metadata": {},
   "outputs": [
    {
     "data": {
      "text/plain": [
       "pandas.core.groupby.generic.DataFrameGroupBy"
      ]
     },
     "execution_count": 107,
     "metadata": {},
     "output_type": "execute_result"
    }
   ],
   "source": [
    "type(df)"
   ]
  },
  {
   "cell_type": "code",
   "execution_count": 108,
   "id": "f0c854cc-68c5-441a-abb8-1169f9db7f93",
   "metadata": {},
   "outputs": [
    {
     "name": "stderr",
     "output_type": "stream",
     "text": [
      "/var/folders/c2/l2r3q7m5127fsd7cnclhntrm0000gn/T/ipykernel_53079/2733480141.py:1: FutureWarning: When grouping with a length-1 list-like, you will need to pass a length-1 tuple to get_group in a future version of pandas. Pass `(name,)` instead of `name` to silence this warning.\n",
      "  type(df.get_group('Finance'))\n"
     ]
    },
    {
     "data": {
      "text/plain": [
       "pandas.core.frame.DataFrame"
      ]
     },
     "execution_count": 108,
     "metadata": {},
     "output_type": "execute_result"
    }
   ],
   "source": [
    "type(df.get_group('Finance'))"
   ]
  },
  {
   "cell_type": "code",
   "execution_count": 117,
   "id": "538fc3d9-d798-458e-8337-496bcb34f442",
   "metadata": {
    "scrolled": true
   },
   "outputs": [],
   "source": [
    "# Solve the above using group by\n",
    "\n",
    "\n",
    "def percent_training(data):\n",
    "    dept_percent = {}\n",
    "    for i in data['Department'].unique():\n",
    "        df = data.groupby(by = ['Department']).get_group(i)\n",
    "        total = len(df[df['Department'] == i])\n",
    "        no_training = len(df[(df['Department'] == i) & (df['Training'] == 'Yes')])\n",
    "        percent = (no_training/total) * 100\n",
    "        dept_percent[i] = percent\n",
    "    return dept_percent\n",
    "\n"
   ]
  },
  {
   "cell_type": "code",
   "execution_count": 118,
   "id": "7a12168a-8538-48ca-a496-dbc395742f92",
   "metadata": {},
   "outputs": [
    {
     "name": "stderr",
     "output_type": "stream",
     "text": [
      "/var/folders/c2/l2r3q7m5127fsd7cnclhntrm0000gn/T/ipykernel_53079/3197518391.py:7: FutureWarning: When grouping with a length-1 list-like, you will need to pass a length-1 tuple to get_group in a future version of pandas. Pass `(name,)` instead of `name` to silence this warning.\n",
      "  df = data.groupby(by = ['Department']).get_group(i)\n",
      "/var/folders/c2/l2r3q7m5127fsd7cnclhntrm0000gn/T/ipykernel_53079/3197518391.py:7: FutureWarning: When grouping with a length-1 list-like, you will need to pass a length-1 tuple to get_group in a future version of pandas. Pass `(name,)` instead of `name` to silence this warning.\n",
      "  df = data.groupby(by = ['Department']).get_group(i)\n",
      "/var/folders/c2/l2r3q7m5127fsd7cnclhntrm0000gn/T/ipykernel_53079/3197518391.py:7: FutureWarning: When grouping with a length-1 list-like, you will need to pass a length-1 tuple to get_group in a future version of pandas. Pass `(name,)` instead of `name` to silence this warning.\n",
      "  df = data.groupby(by = ['Department']).get_group(i)\n",
      "/var/folders/c2/l2r3q7m5127fsd7cnclhntrm0000gn/T/ipykernel_53079/3197518391.py:7: FutureWarning: When grouping with a length-1 list-like, you will need to pass a length-1 tuple to get_group in a future version of pandas. Pass `(name,)` instead of `name` to silence this warning.\n",
      "  df = data.groupby(by = ['Department']).get_group(i)\n"
     ]
    },
    {
     "data": {
      "text/plain": [
       "{'Finance': 50.0,\n",
       " 'Marketing': 53.62318840579711,\n",
       " 'Sales': 50.76923076923077,\n",
       " 'HR': 42.74809160305343}"
      ]
     },
     "execution_count": 118,
     "metadata": {},
     "output_type": "execute_result"
    }
   ],
   "source": [
    "percent_training(data)"
   ]
  },
  {
   "cell_type": "code",
   "execution_count": null,
   "id": "7b82be27-45a4-4f96-b51d-f11144f0c801",
   "metadata": {},
   "outputs": [],
   "source": []
  }
 ],
 "metadata": {
  "kernelspec": {
   "display_name": "Python 3 (ipykernel)",
   "language": "python",
   "name": "python3"
  },
  "language_info": {
   "codemirror_mode": {
    "name": "ipython",
    "version": 3
   },
   "file_extension": ".py",
   "mimetype": "text/x-python",
   "name": "python",
   "nbconvert_exporter": "python",
   "pygments_lexer": "ipython3",
   "version": "3.12.1"
  }
 },
 "nbformat": 4,
 "nbformat_minor": 5
}
