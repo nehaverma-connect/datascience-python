{
 "cells": [
  {
   "cell_type": "code",
   "execution_count": 1,
   "id": "6cad5e59-b4db-4489-9552-c1fdefccf9cc",
   "metadata": {},
   "outputs": [
    {
     "name": "stdout",
     "output_type": "stream",
     "text": [
      "True\n"
     ]
    }
   ],
   "source": [
    "print(9>2)"
   ]
  },
  {
   "cell_type": "code",
   "execution_count": 2,
   "id": "9ffee417-f2e3-47cc-9c58-613e86877c94",
   "metadata": {},
   "outputs": [
    {
     "name": "stdout",
     "output_type": "stream",
     "text": [
      "False\n"
     ]
    }
   ],
   "source": [
    "print(8<2)"
   ]
  },
  {
   "cell_type": "code",
   "execution_count": 3,
   "id": "3eb77fce-7d90-4e96-a1c6-feaefa93dbce",
   "metadata": {},
   "outputs": [
    {
     "name": "stdout",
     "output_type": "stream",
     "text": [
      "True\n"
     ]
    }
   ],
   "source": [
    "print(10==10)"
   ]
  },
  {
   "cell_type": "code",
   "execution_count": 4,
   "id": "e0a0de38-dca1-492c-a376-12afd8fdc076",
   "metadata": {},
   "outputs": [
    {
     "name": "stdout",
     "output_type": "stream",
     "text": [
      "False\n"
     ]
    }
   ],
   "source": [
    "print(10 != 10)"
   ]
  },
  {
   "cell_type": "code",
   "execution_count": 5,
   "id": "1fde1375-06f7-4e11-8615-ed09c525b5ff",
   "metadata": {},
   "outputs": [
    {
     "name": "stdout",
     "output_type": "stream",
     "text": [
      "True\n"
     ]
    }
   ],
   "source": [
    "print((100>50) and (500>250))"
   ]
  },
  {
   "cell_type": "code",
   "execution_count": 6,
   "id": "ecbd9b1b-42ed-47b0-afe8-778deac15f10",
   "metadata": {},
   "outputs": [
    {
     "name": "stdout",
     "output_type": "stream",
     "text": [
      "False\n"
     ]
    }
   ],
   "source": [
    "print((100>50) and (500>2500))"
   ]
  },
  {
   "cell_type": "code",
   "execution_count": 7,
   "id": "f37d05b7-8b3a-47d5-9181-eb3eee3ea602",
   "metadata": {},
   "outputs": [
    {
     "name": "stdout",
     "output_type": "stream",
     "text": [
      "True\n"
     ]
    }
   ],
   "source": [
    "print((100>50) or (500>2500))"
   ]
  },
  {
   "cell_type": "code",
   "execution_count": 11,
   "id": "a132ac63-e6c0-4683-9233-db1a7ce14271",
   "metadata": {},
   "outputs": [
    {
     "name": "stdout",
     "output_type": "stream",
     "text": [
      "True\n"
     ]
    }
   ],
   "source": [
    "print((100>500) or (500>250))"
   ]
  },
  {
   "cell_type": "code",
   "execution_count": 12,
   "id": "3242c67a-ad43-4da3-9ed5-4be6d09c7720",
   "metadata": {},
   "outputs": [
    {
     "name": "stdout",
     "output_type": "stream",
     "text": [
      "False\n"
     ]
    }
   ],
   "source": [
    "print(not((100>500) or (500>250)))"
   ]
  },
  {
   "cell_type": "code",
   "execution_count": 16,
   "id": "c80782f5-40f0-4b2f-9ae7-316a96db510f",
   "metadata": {},
   "outputs": [
    {
     "name": "stdin",
     "output_type": "stream",
     "text": [
      "Enter the temp in Farenheit -  12\n"
     ]
    },
    {
     "name": "stdout",
     "output_type": "stream",
     "text": [
      "It is hot!\n"
     ]
    }
   ],
   "source": [
    "input_temp =input('Enter the temp in Farenheit - ')\n",
    "\n",
    "temp = (float(input_temp)-32)/(5/9)\n",
    "if  temp> 30:\n",
    "    print('It is cool!')\n",
    "else:\n",
    "    print('It is hot!')"
   ]
  },
  {
   "cell_type": "code",
   "execution_count": 21,
   "id": "c3b6d038-a453-4a23-b1e9-c59aac43f0fa",
   "metadata": {},
   "outputs": [
    {
     "name": "stdin",
     "output_type": "stream",
     "text": [
      "Enter a character -  12\n"
     ]
    },
    {
     "name": "stdout",
     "output_type": "stream",
     "text": [
      "Invalid input! Please enter a character\n"
     ]
    }
   ],
   "source": [
    "input_char = input('Enter a character - ')\n",
    "vowels = 'AEIOUaeiou'\n",
    "\n",
    "if len(input_char) >1:\n",
    "    print('Invalid input! Please enter a character') \n",
    "elif input_char in vowels:\n",
    "    print('Vowel!')\n",
    "else:\n",
    "    print('Consonant!')"
   ]
  },
  {
   "cell_type": "code",
   "execution_count": 22,
   "id": "fd5d4acc-962a-4244-a71c-ec1938628d83",
   "metadata": {},
   "outputs": [
    {
     "name": "stdin",
     "output_type": "stream",
     "text": [
      "Enter a number -  45\n"
     ]
    },
    {
     "name": "stdout",
     "output_type": "stream",
     "text": [
      "Odd!\n"
     ]
    }
   ],
   "source": [
    "input_integer = int(input('Enter a number - '))\n",
    "if input_integer%2 ==0:\n",
    "    print('Even!')\n",
    "else:\n",
    "    print('Odd!')"
   ]
  },
  {
   "cell_type": "code",
   "execution_count": null,
   "id": "7af68d37-a164-4526-a9b2-8a8868dec897",
   "metadata": {},
   "outputs": [],
   "source": []
  }
 ],
 "metadata": {
  "kernelspec": {
   "display_name": "Python 3 (ipykernel)",
   "language": "python",
   "name": "python3"
  },
  "language_info": {
   "codemirror_mode": {
    "name": "ipython",
    "version": 3
   },
   "file_extension": ".py",
   "mimetype": "text/x-python",
   "name": "python",
   "nbconvert_exporter": "python",
   "pygments_lexer": "ipython3",
   "version": "3.12.1"
  }
 },
 "nbformat": 4,
 "nbformat_minor": 5
}
