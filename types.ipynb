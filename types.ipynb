{
 "cells": [
  {
   "cell_type": "markdown",
   "id": "7901817b-5d43-4348-ae36-2a5bf2bad0dd",
   "metadata": {},
   "source": [
    "## Types"
   ]
  },
  {
   "cell_type": "code",
   "execution_count": 39,
   "id": "95ec9f99-2d23-4f43-8333-e2347a4c97fb",
   "metadata": {},
   "outputs": [
    {
     "data": {
      "text/plain": [
       "int"
      ]
     },
     "execution_count": 39,
     "metadata": {},
     "output_type": "execute_result"
    }
   ],
   "source": [
    "# int type\n",
    "type(11)"
   ]
  },
  {
   "cell_type": "code",
   "execution_count": 2,
   "id": "fbcd6fcd-24c1-428b-95a8-3a4480ff8bb3",
   "metadata": {},
   "outputs": [
    {
     "data": {
      "text/plain": [
       "float"
      ]
     },
     "execution_count": 2,
     "metadata": {},
     "output_type": "execute_result"
    }
   ],
   "source": [
    "# float type\n",
    "type(12.0)"
   ]
  },
  {
   "cell_type": "code",
   "execution_count": 6,
   "id": "5d791556-0f38-4a9c-8de7-26e159ca628c",
   "metadata": {},
   "outputs": [
    {
     "ename": "NameError",
     "evalue": "name 'Hello' is not defined",
     "output_type": "error",
     "traceback": [
      "\u001b[0;31m---------------------------------------------------------------------------\u001b[0m",
      "\u001b[0;31mNameError\u001b[0m                                 Traceback (most recent call last)",
      "Cell \u001b[0;32mIn[6], line 1\u001b[0m\n\u001b[0;32m----> 1\u001b[0m \u001b[38;5;28mtype\u001b[39m(\u001b[43mHello\u001b[49m)\n",
      "\u001b[0;31mNameError\u001b[0m: name 'Hello' is not defined"
     ]
    }
   ],
   "source": [
    "# Error as string should be within single, double or tripple quotes\n",
    "type(Hello)"
   ]
  },
  {
   "cell_type": "code",
   "execution_count": 19,
   "id": "fc742339-9751-430c-9742-e8d3a73d0264",
   "metadata": {},
   "outputs": [
    {
     "data": {
      "text/plain": [
       "str"
      ]
     },
     "execution_count": 19,
     "metadata": {},
     "output_type": "execute_result"
    }
   ],
   "source": [
    "# string type\n",
    "type(\"Hello\")"
   ]
  },
  {
   "cell_type": "code",
   "execution_count": 20,
   "id": "3f727cff-6f98-45a0-88bd-8fa677bc1048",
   "metadata": {},
   "outputs": [
    {
     "data": {
      "text/plain": [
       "bool"
      ]
     },
     "execution_count": 20,
     "metadata": {},
     "output_type": "execute_result"
    }
   ],
   "source": [
    "# boolean type True\n",
    "type(True)"
   ]
  },
  {
   "cell_type": "code",
   "execution_count": 23,
   "id": "bcdc0c8e-dc40-4062-ba26-cada9ee82418",
   "metadata": {},
   "outputs": [
    {
     "ename": "NameError",
     "evalue": "name 'true' is not defined",
     "output_type": "error",
     "traceback": [
      "\u001b[0;31m---------------------------------------------------------------------------\u001b[0m",
      "\u001b[0;31mNameError\u001b[0m                                 Traceback (most recent call last)",
      "Cell \u001b[0;32mIn[23], line 2\u001b[0m\n\u001b[1;32m      1\u001b[0m \u001b[38;5;66;03m# Error as boolean takes upper case T or F for True & False respectively\u001b[39;00m\n\u001b[0;32m----> 2\u001b[0m \u001b[38;5;28mtype\u001b[39m(\u001b[43mtrue\u001b[49m)\n",
      "\u001b[0;31mNameError\u001b[0m: name 'true' is not defined"
     ]
    }
   ],
   "source": [
    "# Error as boolean takes upper case T or F for True & False respectively\n",
    "type(true)"
   ]
  },
  {
   "cell_type": "code",
   "execution_count": 22,
   "id": "553dff2b-e2ae-4c56-aa18-2723d2bc9d29",
   "metadata": {},
   "outputs": [
    {
     "data": {
      "text/plain": [
       "bool"
      ]
     },
     "execution_count": 22,
     "metadata": {},
     "output_type": "execute_result"
    }
   ],
   "source": [
    "# boolean type False\n",
    "type(False)"
   ]
  },
  {
   "cell_type": "code",
   "execution_count": 49,
   "id": "78b0912e-d025-4016-a5b5-caf5f8d16328",
   "metadata": {},
   "outputs": [
    {
     "data": {
      "text/plain": [
       "float"
      ]
     },
     "execution_count": 49,
     "metadata": {},
     "output_type": "execute_result"
    }
   ],
   "source": [
    "# / gives float results as it is float division\n",
    "type(6/2)"
   ]
  },
  {
   "cell_type": "code",
   "execution_count": 50,
   "id": "18aad6ed-b583-4cde-92a8-3b1ef7cedd33",
   "metadata": {},
   "outputs": [
    {
     "data": {
      "text/plain": [
       "int"
      ]
     },
     "execution_count": 50,
     "metadata": {},
     "output_type": "execute_result"
    }
   ],
   "source": [
    "# // give int results as it is integer division\n",
    "type(6//2)"
   ]
  },
  {
   "cell_type": "code",
   "execution_count": 51,
   "id": "e1e0f055-d6df-433b-bd96-989b37975758",
   "metadata": {},
   "outputs": [
    {
     "data": {
      "text/plain": [
       "int"
      ]
     },
     "execution_count": 51,
     "metadata": {},
     "output_type": "execute_result"
    }
   ],
   "source": [
    "# Will result in integer division\n",
    "type(5//2)"
   ]
  },
  {
   "cell_type": "code",
   "execution_count": 52,
   "id": "5fa4f01e-f45c-4629-9d64-2847818dbb42",
   "metadata": {},
   "outputs": [
    {
     "data": {
      "text/plain": [
       "bool"
      ]
     },
     "execution_count": 52,
     "metadata": {},
     "output_type": "execute_result"
    }
   ],
   "source": [
    "# bool type\n",
    "type(\"hello\"==\"world\")"
   ]
  },
  {
   "cell_type": "markdown",
   "id": "f92fadd5-791f-4b28-af93-8bad9cd3d313",
   "metadata": {},
   "source": [
    "## Type Conversions / Type Casting"
   ]
  },
  {
   "cell_type": "code",
   "execution_count": 10,
   "id": "929b7c4f-fbf5-476e-862c-a743b6ae1531",
   "metadata": {},
   "outputs": [
    {
     "data": {
      "text/plain": [
       "1.0"
      ]
     },
     "execution_count": 10,
     "metadata": {},
     "output_type": "execute_result"
    }
   ],
   "source": [
    "# int to float\n",
    "float(1) "
   ]
  },
  {
   "cell_type": "code",
   "execution_count": 13,
   "id": "ae8217f9-3cd4-4dbe-bd6f-b2091e33cc91",
   "metadata": {},
   "outputs": [
    {
     "data": {
      "text/plain": [
       "2"
      ]
     },
     "execution_count": 13,
     "metadata": {},
     "output_type": "execute_result"
    }
   ],
   "source": [
    "# float to int\n",
    "int(2.9) # Takes the floor value"
   ]
  },
  {
   "cell_type": "code",
   "execution_count": 14,
   "id": "a93f3e7e-fe8a-4f95-b368-1ee83bea8926",
   "metadata": {},
   "outputs": [
    {
     "data": {
      "text/plain": [
       "1"
      ]
     },
     "execution_count": 14,
     "metadata": {},
     "output_type": "execute_result"
    }
   ],
   "source": [
    "# str to int\n",
    "int(\"1\")"
   ]
  },
  {
   "cell_type": "code",
   "execution_count": 15,
   "id": "ffa97077-f6c2-4b67-a83c-9dc1cad5d9ef",
   "metadata": {},
   "outputs": [
    {
     "data": {
      "text/plain": [
       "2.5"
      ]
     },
     "execution_count": 15,
     "metadata": {},
     "output_type": "execute_result"
    }
   ],
   "source": [
    "# str to float\n",
    "float(\"2.5\")"
   ]
  },
  {
   "cell_type": "code",
   "execution_count": 16,
   "id": "568c6a66-1852-464f-87ed-2308be086f62",
   "metadata": {},
   "outputs": [
    {
     "ename": "ValueError",
     "evalue": "could not convert string to float: 'C2'",
     "output_type": "error",
     "traceback": [
      "\u001b[0;31m---------------------------------------------------------------------------\u001b[0m",
      "\u001b[0;31mValueError\u001b[0m                                Traceback (most recent call last)",
      "Cell \u001b[0;32mIn[16], line 1\u001b[0m\n\u001b[0;32m----> 1\u001b[0m \u001b[38;5;28;43mfloat\u001b[39;49m\u001b[43m(\u001b[49m\u001b[38;5;124;43m\"\u001b[39;49m\u001b[38;5;124;43mC2\u001b[39;49m\u001b[38;5;124;43m\"\u001b[39;49m\u001b[43m)\u001b[49m\n",
      "\u001b[0;31mValueError\u001b[0m: could not convert string to float: 'C2'"
     ]
    }
   ],
   "source": [
    "# str to float - error as it has string value concatenated\n",
    "float(\"C2\")"
   ]
  },
  {
   "cell_type": "code",
   "execution_count": 17,
   "id": "604178e1-d196-474b-a263-18f34d63b8d9",
   "metadata": {},
   "outputs": [
    {
     "data": {
      "text/plain": [
       "'4.5'"
      ]
     },
     "execution_count": 17,
     "metadata": {},
     "output_type": "execute_result"
    }
   ],
   "source": [
    "# float to str\n",
    "str(4.5)"
   ]
  },
  {
   "cell_type": "code",
   "execution_count": 18,
   "id": "e4396e10-cf38-455c-8447-ef3d8b719c6a",
   "metadata": {},
   "outputs": [
    {
     "data": {
      "text/plain": [
       "'6'"
      ]
     },
     "execution_count": 18,
     "metadata": {},
     "output_type": "execute_result"
    }
   ],
   "source": [
    "# int to str\n",
    "str(6)"
   ]
  },
  {
   "cell_type": "code",
   "execution_count": 30,
   "id": "fc4de4ee-4bcc-487e-862a-819eef4be01e",
   "metadata": {},
   "outputs": [
    {
     "data": {
      "text/plain": [
       "True"
      ]
     },
     "execution_count": 30,
     "metadata": {},
     "output_type": "execute_result"
    }
   ],
   "source": [
    "# int to bool\n",
    "bool(1)"
   ]
  },
  {
   "cell_type": "code",
   "execution_count": 31,
   "id": "c7d9feeb-4a44-4c73-b44a-f7e18a6b268b",
   "metadata": {},
   "outputs": [
    {
     "data": {
      "text/plain": [
       "False"
      ]
     },
     "execution_count": 31,
     "metadata": {},
     "output_type": "execute_result"
    }
   ],
   "source": [
    "# int to bool\n",
    "bool(0)"
   ]
  },
  {
   "cell_type": "code",
   "execution_count": 32,
   "id": "38406946-5ee9-4ff2-9bb2-45f66ba7f0b9",
   "metadata": {},
   "outputs": [
    {
     "data": {
      "text/plain": [
       "True"
      ]
     },
     "execution_count": 32,
     "metadata": {},
     "output_type": "execute_result"
    }
   ],
   "source": [
    "# int to bool\n",
    "bool(-1)"
   ]
  },
  {
   "cell_type": "code",
   "execution_count": 33,
   "id": "7dca6c41-febf-4bc2-ac43-26f5ea69b406",
   "metadata": {},
   "outputs": [
    {
     "data": {
      "text/plain": [
       "'True'"
      ]
     },
     "execution_count": 33,
     "metadata": {},
     "output_type": "execute_result"
    }
   ],
   "source": [
    "# bool to str\n",
    "str(True)"
   ]
  },
  {
   "cell_type": "code",
   "execution_count": 36,
   "id": "2d4ac8a8-abec-474f-8e91-349d9aefd77e",
   "metadata": {},
   "outputs": [
    {
     "data": {
      "text/plain": [
       "0.0"
      ]
     },
     "execution_count": 36,
     "metadata": {},
     "output_type": "execute_result"
    }
   ],
   "source": [
    "# bool to float\n",
    "float(False)"
   ]
  },
  {
   "cell_type": "code",
   "execution_count": 37,
   "id": "f6e970c9-fe5e-4a92-835a-c698199f445a",
   "metadata": {},
   "outputs": [
    {
     "data": {
      "text/plain": [
       "1"
      ]
     },
     "execution_count": 37,
     "metadata": {},
     "output_type": "execute_result"
    }
   ],
   "source": [
    "# bool to int\n",
    "int(True)"
   ]
  },
  {
   "cell_type": "markdown",
   "id": "d0e3495b-9f58-4353-a392-74cf1e496203",
   "metadata": {},
   "source": [
    "# System Information"
   ]
  },
  {
   "cell_type": "code",
   "execution_count": 41,
   "id": "e8dd8643-aa0f-4bc2-bb01-ae7036f8f978",
   "metadata": {},
   "outputs": [
    {
     "name": "stdout",
     "output_type": "stream",
     "text": [
      "3.12.1 | packaged by Anaconda, Inc. | (main, Jan 19 2024, 09:52:31) [Clang 14.0.6 ]\n"
     ]
    }
   ],
   "source": [
    "import sys\n",
    "print(sys.version)"
   ]
  },
  {
   "cell_type": "code",
   "execution_count": 42,
   "id": "263c3644-495f-4805-93ef-6b79c04cf28a",
   "metadata": {},
   "outputs": [
    {
     "data": {
      "text/plain": [
       "sys.float_info(max=1.7976931348623157e+308, max_exp=1024, max_10_exp=308, min=2.2250738585072014e-308, min_exp=-1021, min_10_exp=-307, dig=15, mant_dig=53, epsilon=2.220446049250313e-16, radix=2, rounds=1)"
      ]
     },
     "execution_count": 42,
     "metadata": {},
     "output_type": "execute_result"
    }
   ],
   "source": [
    "sys.float_info"
   ]
  },
  {
   "cell_type": "code",
   "execution_count": 43,
   "id": "4b3c6849-ec2d-4bd5-9569-0b232db25d61",
   "metadata": {},
   "outputs": [
    {
     "data": {
      "text/plain": [
       "sys.int_info(bits_per_digit=30, sizeof_digit=4, default_max_str_digits=4300, str_digits_check_threshold=640)"
      ]
     },
     "execution_count": 43,
     "metadata": {},
     "output_type": "execute_result"
    }
   ],
   "source": [
    "sys.int_info"
   ]
  },
  {
   "cell_type": "code",
   "execution_count": 48,
   "id": "1cbf01af-21e5-4b71-8c7a-e02a8cbba52e",
   "metadata": {},
   "outputs": [
    {
     "ename": "AttributeError",
     "evalue": "module 'sys' has no attribute 'str_info'",
     "output_type": "error",
     "traceback": [
      "\u001b[0;31m---------------------------------------------------------------------------\u001b[0m",
      "\u001b[0;31mAttributeError\u001b[0m                            Traceback (most recent call last)",
      "Cell \u001b[0;32mIn[48], line 1\u001b[0m\n\u001b[0;32m----> 1\u001b[0m \u001b[43msys\u001b[49m\u001b[38;5;241;43m.\u001b[39;49m\u001b[43mstr_info\u001b[49m\n",
      "\u001b[0;31mAttributeError\u001b[0m: module 'sys' has no attribute 'str_info'"
     ]
    }
   ],
   "source": [
    "sys.str_info"
   ]
  },
  {
   "cell_type": "code",
   "execution_count": null,
   "id": "6e69c413-c1e0-4771-b704-d12a8a0e33d6",
   "metadata": {},
   "outputs": [],
   "source": []
  }
 ],
 "metadata": {
  "kernelspec": {
   "display_name": "Python 3 (ipykernel)",
   "language": "python",
   "name": "python3"
  },
  "language_info": {
   "codemirror_mode": {
    "name": "ipython",
    "version": 3
   },
   "file_extension": ".py",
   "mimetype": "text/x-python",
   "name": "python",
   "nbconvert_exporter": "python",
   "pygments_lexer": "ipython3",
   "version": "3.12.1"
  }
 },
 "nbformat": 4,
 "nbformat_minor": 5
}
