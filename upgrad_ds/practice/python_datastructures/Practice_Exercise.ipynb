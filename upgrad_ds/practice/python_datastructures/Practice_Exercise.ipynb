{
 "cells": [
  {
   "cell_type": "markdown",
   "id": "e38c177f-1e7f-46b3-a95b-9026392300d9",
   "metadata": {},
   "source": [
    "# Problem1\n",
    "\n",
    "Remove SPSS from the input list and add SPARK in its place"
   ]
  },
  {
   "cell_type": "code",
   "execution_count": 3,
   "id": "19cf6596-31cd-4663-8e25-ca8f2c282540",
   "metadata": {},
   "outputs": [
    {
     "name": "stdout",
     "output_type": "stream",
     "text": [
      "['SAS', 'R', 'PYTHON', 'SPSS']\n"
     ]
    }
   ],
   "source": [
    "input_list=['SAS', 'R', 'PYTHON', 'SPSS']\n",
    "print(input_list)"
   ]
  },
  {
   "cell_type": "code",
   "execution_count": 4,
   "id": "9e39a8e7-22d8-4aff-a2a6-90284046b26d",
   "metadata": {},
   "outputs": [],
   "source": [
    "if 'SPSS' in input_list:\n",
    "    input_list.remove('SPSS')\n",
    "    input_list.append('SPARK')"
   ]
  },
  {
   "cell_type": "code",
   "execution_count": 5,
   "id": "2e8db170-4791-49fc-82f7-d7891d7f3e48",
   "metadata": {},
   "outputs": [
    {
     "name": "stdout",
     "output_type": "stream",
     "text": [
      "['SAS', 'R', 'PYTHON', 'SPARK']\n"
     ]
    }
   ],
   "source": [
    "print(input_list)"
   ]
  },
  {
   "cell_type": "markdown",
   "id": "e7658ae1-71b9-422d-8b3c-fbe9595d19b4",
   "metadata": {},
   "source": [
    "# Problem2\n",
    "Convert a list ['Pythons syntax is easy to learn', 'Pythons syntax is very clear'] to a string using ‘&’. "
   ]
  },
  {
   "cell_type": "code",
   "execution_count": 10,
   "id": "b7687e0c-7ba2-4ab0-a855-6e8737c12975",
   "metadata": {},
   "outputs": [
    {
     "name": "stdout",
     "output_type": "stream",
     "text": [
      "['Pythons syntax is easy to learn', 'Pythons syntax is very clear']\n"
     ]
    }
   ],
   "source": [
    "input_list = ['Pythons syntax is easy to learn', 'Pythons syntax is very clear']\n",
    "\n",
    "print(input_list)"
   ]
  },
  {
   "cell_type": "code",
   "execution_count": 16,
   "id": "fe17d913-4e91-40f8-918c-11cd4b6f856f",
   "metadata": {},
   "outputs": [
    {
     "name": "stdout",
     "output_type": "stream",
     "text": [
      "Pythons syntax is easy to learn & Pythons syntax is very clear\n"
     ]
    }
   ],
   "source": [
    "string_list = \" & \".join(input_list)\n",
    "print(string_list)"
   ]
  },
  {
   "cell_type": "markdown",
   "id": "57e2f3ec-38c0-49d4-a8b5-806c07533a48",
   "metadata": {},
   "source": [
    "# Problem3\n",
    "\n",
    "Split the string input_str = 'Kumar_Ravi_003' to the person's second name, first name and unique customer code. In this example, second_name= 'Kumar', first_name= 'Ravi', customer_code = '003'.\n",
    "\n",
    "\n",
    "A sample output of the input 'Kumar_Ravi_003' is:\n",
    "\n",
    "Ravi\n",
    "Kumar\n",
    "003\n",
    "\n",
    "Note that you need to print in the order first name, last name and customer code."
   ]
  },
  {
   "cell_type": "code",
   "execution_count": 20,
   "id": "cdba4c81-4f40-4867-9d9a-ebcbc6c83a99",
   "metadata": {},
   "outputs": [],
   "source": [
    "input_str = 'Kumar_Ravi_003'\n",
    "\n",
    "input_list = input_str.split(\"_\")"
   ]
  },
  {
   "cell_type": "code",
   "execution_count": 21,
   "id": "2b5ea1af-ee11-4592-9d86-1dc2342ef6e7",
   "metadata": {},
   "outputs": [
    {
     "name": "stdout",
     "output_type": "stream",
     "text": [
      "['Kumar', 'Ravi', '003']\n"
     ]
    }
   ],
   "source": [
    "print(input_list)"
   ]
  },
  {
   "cell_type": "code",
   "execution_count": 22,
   "id": "d79ce784-1b1d-421f-8138-6c3a4113405c",
   "metadata": {},
   "outputs": [
    {
     "name": "stdout",
     "output_type": "stream",
     "text": [
      "Ravi\n",
      "Kumar\n",
      "003\n"
     ]
    }
   ],
   "source": [
    "first_name = input_list[1]\n",
    "second_name = input_list[0]\n",
    "customer_code = input_list[2]\n",
    "print(first_name)\n",
    "print(second_name)\n",
    "print(customer_code)"
   ]
  },
  {
   "cell_type": "markdown",
   "id": "9a6dbb3b-9be8-4b6f-8a43-2483a4230160",
   "metadata": {},
   "source": [
    "# Problem4\n",
    "\n",
    "Add the element ‘Python’ to a tuple input_tuple = ('Monty Python', 'British', 1969). Since tuples are immutable, one way to do this is to convert the tuple to a list, add the element, and convert it back to a tuple.\n",
    "\n",
    "**Sample Input:**\n",
    "('Monty Python', 'British', 1969)\n",
    "\n",
    "**Sample Output:**\n",
    "('Monty Python', 'British', 1969, 'Python')"
   ]
  },
  {
   "cell_type": "code",
   "execution_count": 1,
   "id": "1e4b3e72-42f3-4731-95a1-f37cd1550945",
   "metadata": {},
   "outputs": [],
   "source": [
    "input_tuple = ('Monty Python', 'British', 1969)"
   ]
  },
  {
   "cell_type": "code",
   "execution_count": 5,
   "id": "e041ad86-09a7-4139-84a7-381eba7019d8",
   "metadata": {},
   "outputs": [],
   "source": [
    "tuple2 = input_tuple[:] + ('Python',)"
   ]
  },
  {
   "cell_type": "code",
   "execution_count": 6,
   "id": "1e790a9e-2d9e-491e-a4dd-cc48957b29ad",
   "metadata": {},
   "outputs": [
    {
     "data": {
      "text/plain": [
       "('Monty Python', 'British', 1969, 'Python')"
      ]
     },
     "execution_count": 6,
     "metadata": {},
     "output_type": "execute_result"
    }
   ],
   "source": [
    "tuple2"
   ]
  },
  {
   "cell_type": "markdown",
   "id": "aeb2baca-c4cb-4a98-a2c8-0a672d4f028a",
   "metadata": {},
   "source": [
    "# Problem5\n",
    "\n",
    "Let’s say you have two lists A and B. Identify the elements which are common in the two lists A and B and return them in a sorted manner. For example \n",
    "\n",
    "**Sample Input :**\n",
    "<br>\n",
    "A = [5, 1, 3, 4, 4, 5, 6, 7] <br>\n",
    "B = [3, 3, 5, 5, 1 ,7 ,2]\n",
    "\n",
    "\n",
    "**Sample Output:**\n",
    "<br>\n",
    "[1,3,5,7]\n",
    "\n"
   ]
  },
  {
   "cell_type": "code",
   "execution_count": 11,
   "id": "481ee198-8d76-4efd-8fb3-7cd9dcaa1b63",
   "metadata": {},
   "outputs": [
    {
     "name": "stdout",
     "output_type": "stream",
     "text": [
      "[1, 3, 5, 7]\n"
     ]
    }
   ],
   "source": [
    "list_1 = [5, 1, 3, 4, 4, 5, 6, 7]\n",
    "list_2 = [3, 3, 5, 5, 1 ,7 ,2]\n",
    "\n",
    "common_elements = set(list_1).intersection(set(list_2))\n",
    "answer = sorted(common_elements)\n",
    "\n",
    "print(answer)"
   ]
  },
  {
   "cell_type": "markdown",
   "id": "3cac6347-7526-43c1-8d33-24020442f464",
   "metadata": {},
   "source": [
    "# Problem 6\n",
    "\n",
    "Write code to fetch the profession of the employee with Employee id - 104 from an employee input given in the form of a dictionary where key represent employ id and values represent the name, age, and profession (in the same order).\n",
    "\n",
    "**Sample input:**\n",
    "<br>\n",
    "Employee_data = { 101:['Shiva', 24, 'Content Strategist'] ,102:['Udit',25,'Content Strategist'], 103:['Sonam', 28,'Sr Manager'], 104:['Ansari',29,'Product Lead' ],105:['Huzefa',32,'Project Manager' ]}\n",
    "\n",
    "**Sample output:**\n",
    "<br>\n",
    "'Product Lead'\n",
    "\n",
    "\n",
    "Note: Assume that employee data would be available in the data provided to you "
   ]
  },
  {
   "cell_type": "code",
   "execution_count": 12,
   "id": "c79297cb-4ad9-44ca-96fa-d4644351ec91",
   "metadata": {},
   "outputs": [],
   "source": [
    "Employee_data = { 101:['Shiva', 24, 'Content Strategist'] ,102:['Udit',25,'Content Strategist'], 103:['Sonam', 28,'Sr Manager'], 104:['Ansari',29,'Product Lead' ],105:['Huzefa',32,'Project Manager' ]}"
   ]
  },
  {
   "cell_type": "code",
   "execution_count": 13,
   "id": "17200519-1be8-4ed4-aabb-bcb7bb74745c",
   "metadata": {},
   "outputs": [
    {
     "data": {
      "text/plain": [
       "{101: ['Shiva', 24, 'Content Strategist'],\n",
       " 102: ['Udit', 25, 'Content Strategist'],\n",
       " 103: ['Sonam', 28, 'Sr Manager'],\n",
       " 104: ['Ansari', 29, 'Product Lead'],\n",
       " 105: ['Huzefa', 32, 'Project Manager']}"
      ]
     },
     "execution_count": 13,
     "metadata": {},
     "output_type": "execute_result"
    }
   ],
   "source": [
    "Employee_data"
   ]
  },
  {
   "cell_type": "code",
   "execution_count": 15,
   "id": "87be74bc-72ed-4d79-8e86-f308a09bdc76",
   "metadata": {},
   "outputs": [
    {
     "data": {
      "text/plain": [
       "'Product Lead'"
      ]
     },
     "execution_count": 15,
     "metadata": {},
     "output_type": "execute_result"
    }
   ],
   "source": [
    "Employee_data[104][2]"
   ]
  },
  {
   "cell_type": "code",
   "execution_count": 16,
   "id": "b8491035-c612-443a-adf9-53debdc8fa0e",
   "metadata": {},
   "outputs": [],
   "source": [
    "d = {}"
   ]
  },
  {
   "cell_type": "code",
   "execution_count": 17,
   "id": "ef1f7786-0b05-4f76-935e-19c7dfc7ff16",
   "metadata": {},
   "outputs": [
    {
     "data": {
      "text/plain": [
       "dict"
      ]
     },
     "execution_count": 17,
     "metadata": {},
     "output_type": "execute_result"
    }
   ],
   "source": [
    "type(d)"
   ]
  },
  {
   "cell_type": "code",
   "execution_count": null,
   "id": "de8eca09-082b-4014-8602-15bab0c6b79b",
   "metadata": {},
   "outputs": [],
   "source": []
  }
 ],
 "metadata": {
  "kernelspec": {
   "display_name": "Python 3 (ipykernel)",
   "language": "python",
   "name": "python3"
  },
  "language_info": {
   "codemirror_mode": {
    "name": "ipython",
    "version": 3
   },
   "file_extension": ".py",
   "mimetype": "text/x-python",
   "name": "python",
   "nbconvert_exporter": "python",
   "pygments_lexer": "ipython3",
   "version": "3.12.1"
  }
 },
 "nbformat": 4,
 "nbformat_minor": 5
}
