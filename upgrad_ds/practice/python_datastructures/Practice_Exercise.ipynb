{
 "cells": [
  {
   "cell_type": "markdown",
   "id": "e38c177f-1e7f-46b3-a95b-9026392300d9",
   "metadata": {},
   "source": [
    "# Problem1\n",
    "\n",
    "Remove SPSS from the input list and add SPARK in its place"
   ]
  },
  {
   "cell_type": "code",
   "execution_count": 3,
   "id": "19cf6596-31cd-4663-8e25-ca8f2c282540",
   "metadata": {},
   "outputs": [
    {
     "name": "stdout",
     "output_type": "stream",
     "text": [
      "['SAS', 'R', 'PYTHON', 'SPSS']\n"
     ]
    }
   ],
   "source": [
    "input_list=['SAS', 'R', 'PYTHON', 'SPSS']\n",
    "print(input_list)"
   ]
  },
  {
   "cell_type": "code",
   "execution_count": 4,
   "id": "9e39a8e7-22d8-4aff-a2a6-90284046b26d",
   "metadata": {},
   "outputs": [],
   "source": [
    "if 'SPSS' in input_list:\n",
    "    input_list.remove('SPSS')\n",
    "    input_list.append('SPARK')"
   ]
  },
  {
   "cell_type": "code",
   "execution_count": 5,
   "id": "2e8db170-4791-49fc-82f7-d7891d7f3e48",
   "metadata": {},
   "outputs": [
    {
     "name": "stdout",
     "output_type": "stream",
     "text": [
      "['SAS', 'R', 'PYTHON', 'SPARK']\n"
     ]
    }
   ],
   "source": [
    "print(input_list)"
   ]
  },
  {
   "cell_type": "markdown",
   "id": "e7658ae1-71b9-422d-8b3c-fbe9595d19b4",
   "metadata": {},
   "source": [
    "# Problem2\n",
    "Convert a list ['Pythons syntax is easy to learn', 'Pythons syntax is very clear'] to a string using ‘&’. "
   ]
  },
  {
   "cell_type": "code",
   "execution_count": 10,
   "id": "b7687e0c-7ba2-4ab0-a855-6e8737c12975",
   "metadata": {},
   "outputs": [
    {
     "name": "stdout",
     "output_type": "stream",
     "text": [
      "['Pythons syntax is easy to learn', 'Pythons syntax is very clear']\n"
     ]
    }
   ],
   "source": [
    "input_list = ['Pythons syntax is easy to learn', 'Pythons syntax is very clear']\n",
    "\n",
    "print(input_list)"
   ]
  },
  {
   "cell_type": "code",
   "execution_count": 16,
   "id": "fe17d913-4e91-40f8-918c-11cd4b6f856f",
   "metadata": {},
   "outputs": [
    {
     "name": "stdout",
     "output_type": "stream",
     "text": [
      "Pythons syntax is easy to learn & Pythons syntax is very clear\n"
     ]
    }
   ],
   "source": [
    "string_list = \" & \".join(input_list)\n",
    "print(string_list)"
   ]
  },
  {
   "cell_type": "markdown",
   "id": "57e2f3ec-38c0-49d4-a8b5-806c07533a48",
   "metadata": {},
   "source": [
    "# Problem3\n",
    "\n",
    "Split the string input_str = 'Kumar_Ravi_003' to the person's second name, first name and unique customer code. In this example, second_name= 'Kumar', first_name= 'Ravi', customer_code = '003'.\n",
    "\n",
    "\n",
    "A sample output of the input 'Kumar_Ravi_003' is:\n",
    "\n",
    "Ravi\n",
    "Kumar\n",
    "003\n",
    "\n",
    "Note that you need to print in the order first name, last name and customer code."
   ]
  },
  {
   "cell_type": "code",
   "execution_count": 20,
   "id": "cdba4c81-4f40-4867-9d9a-ebcbc6c83a99",
   "metadata": {},
   "outputs": [],
   "source": [
    "input_str = 'Kumar_Ravi_003'\n",
    "\n",
    "input_list = input_str.split(\"_\")"
   ]
  },
  {
   "cell_type": "code",
   "execution_count": 21,
   "id": "2b5ea1af-ee11-4592-9d86-1dc2342ef6e7",
   "metadata": {},
   "outputs": [
    {
     "name": "stdout",
     "output_type": "stream",
     "text": [
      "['Kumar', 'Ravi', '003']\n"
     ]
    }
   ],
   "source": [
    "print(input_list)"
   ]
  },
  {
   "cell_type": "code",
   "execution_count": 22,
   "id": "d79ce784-1b1d-421f-8138-6c3a4113405c",
   "metadata": {},
   "outputs": [
    {
     "name": "stdout",
     "output_type": "stream",
     "text": [
      "Ravi\n",
      "Kumar\n",
      "003\n"
     ]
    }
   ],
   "source": [
    "first_name = input_list[1]\n",
    "second_name = input_list[0]\n",
    "customer_code = input_list[2]\n",
    "print(first_name)\n",
    "print(second_name)\n",
    "print(customer_code)"
   ]
  },
  {
   "cell_type": "code",
   "execution_count": null,
   "id": "7d9cc7ce-81c3-4aa9-991d-1f0dbfbf76a7",
   "metadata": {},
   "outputs": [],
   "source": []
  }
 ],
 "metadata": {
  "kernelspec": {
   "display_name": "Python 3 (ipykernel)",
   "language": "python",
   "name": "python3"
  },
  "language_info": {
   "codemirror_mode": {
    "name": "ipython",
    "version": 3
   },
   "file_extension": ".py",
   "mimetype": "text/x-python",
   "name": "python",
   "nbconvert_exporter": "python",
   "pygments_lexer": "ipython3",
   "version": "3.12.1"
  }
 },
 "nbformat": 4,
 "nbformat_minor": 5
}
