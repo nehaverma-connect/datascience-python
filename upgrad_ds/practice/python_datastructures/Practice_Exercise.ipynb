{
 "cells": [
  {
   "cell_type": "markdown",
   "id": "e38c177f-1e7f-46b3-a95b-9026392300d9",
   "metadata": {},
   "source": [
    "# Problem1\n",
    "\n",
    "Remove SPSS from the input list and add SPARK in its place"
   ]
  },
  {
   "cell_type": "code",
   "execution_count": 3,
   "id": "19cf6596-31cd-4663-8e25-ca8f2c282540",
   "metadata": {},
   "outputs": [
    {
     "name": "stdout",
     "output_type": "stream",
     "text": [
      "['SAS', 'R', 'PYTHON', 'SPSS']\n"
     ]
    }
   ],
   "source": [
    "input_list=['SAS', 'R', 'PYTHON', 'SPSS']\n",
    "print(input_list)"
   ]
  },
  {
   "cell_type": "code",
   "execution_count": 4,
   "id": "9e39a8e7-22d8-4aff-a2a6-90284046b26d",
   "metadata": {},
   "outputs": [],
   "source": [
    "if 'SPSS' in input_list:\n",
    "    input_list.remove('SPSS')\n",
    "    input_list.append('SPARK')"
   ]
  },
  {
   "cell_type": "code",
   "execution_count": 5,
   "id": "2e8db170-4791-49fc-82f7-d7891d7f3e48",
   "metadata": {},
   "outputs": [
    {
     "name": "stdout",
     "output_type": "stream",
     "text": [
      "['SAS', 'R', 'PYTHON', 'SPARK']\n"
     ]
    }
   ],
   "source": [
    "print(input_list)"
   ]
  },
  {
   "cell_type": "markdown",
   "id": "e7658ae1-71b9-422d-8b3c-fbe9595d19b4",
   "metadata": {},
   "source": [
    "# Problem2\n",
    "Convert a list ['Pythons syntax is easy to learn', 'Pythons syntax is very clear'] to a string using ‘&’. "
   ]
  },
  {
   "cell_type": "code",
   "execution_count": 10,
   "id": "b7687e0c-7ba2-4ab0-a855-6e8737c12975",
   "metadata": {},
   "outputs": [
    {
     "name": "stdout",
     "output_type": "stream",
     "text": [
      "['Pythons syntax is easy to learn', 'Pythons syntax is very clear']\n"
     ]
    }
   ],
   "source": [
    "input_list = ['Pythons syntax is easy to learn', 'Pythons syntax is very clear']\n",
    "\n",
    "print(input_list)"
   ]
  },
  {
   "cell_type": "code",
   "execution_count": 16,
   "id": "fe17d913-4e91-40f8-918c-11cd4b6f856f",
   "metadata": {},
   "outputs": [
    {
     "name": "stdout",
     "output_type": "stream",
     "text": [
      "Pythons syntax is easy to learn & Pythons syntax is very clear\n"
     ]
    }
   ],
   "source": [
    "string_list = \" & \".join(input_list)\n",
    "print(string_list)"
   ]
  },
  {
   "cell_type": "markdown",
   "id": "57e2f3ec-38c0-49d4-a8b5-806c07533a48",
   "metadata": {},
   "source": [
    "# Problem3\n",
    "\n",
    "Split the string input_str = 'Kumar_Ravi_003' to the person's second name, first name and unique customer code. In this example, second_name= 'Kumar', first_name= 'Ravi', customer_code = '003'.\n",
    "\n",
    "\n",
    "A sample output of the input 'Kumar_Ravi_003' is:\n",
    "\n",
    "Ravi\n",
    "Kumar\n",
    "003\n",
    "\n",
    "Note that you need to print in the order first name, last name and customer code."
   ]
  },
  {
   "cell_type": "code",
   "execution_count": 20,
   "id": "cdba4c81-4f40-4867-9d9a-ebcbc6c83a99",
   "metadata": {},
   "outputs": [],
   "source": [
    "input_str = 'Kumar_Ravi_003'\n",
    "\n",
    "input_list = input_str.split(\"_\")"
   ]
  },
  {
   "cell_type": "code",
   "execution_count": 21,
   "id": "2b5ea1af-ee11-4592-9d86-1dc2342ef6e7",
   "metadata": {},
   "outputs": [
    {
     "name": "stdout",
     "output_type": "stream",
     "text": [
      "['Kumar', 'Ravi', '003']\n"
     ]
    }
   ],
   "source": [
    "print(input_list)"
   ]
  },
  {
   "cell_type": "code",
   "execution_count": 22,
   "id": "d79ce784-1b1d-421f-8138-6c3a4113405c",
   "metadata": {},
   "outputs": [
    {
     "name": "stdout",
     "output_type": "stream",
     "text": [
      "Ravi\n",
      "Kumar\n",
      "003\n"
     ]
    }
   ],
   "source": [
    "first_name = input_list[1]\n",
    "second_name = input_list[0]\n",
    "customer_code = input_list[2]\n",
    "print(first_name)\n",
    "print(second_name)\n",
    "print(customer_code)"
   ]
  },
  {
   "cell_type": "markdown",
   "id": "9a6dbb3b-9be8-4b6f-8a43-2483a4230160",
   "metadata": {},
   "source": [
    "# Problem4\n",
    "\n",
    "Add the element ‘Python’ to a tuple input_tuple = ('Monty Python', 'British', 1969). Since tuples are immutable, one way to do this is to convert the tuple to a list, add the element, and convert it back to a tuple.\n",
    "\n",
    "**Sample Input:**\n",
    "('Monty Python', 'British', 1969)\n",
    "\n",
    "**Sample Output:**\n",
    "('Monty Python', 'British', 1969, 'Python')"
   ]
  },
  {
   "cell_type": "code",
   "execution_count": 1,
   "id": "1e4b3e72-42f3-4731-95a1-f37cd1550945",
   "metadata": {},
   "outputs": [],
   "source": [
    "input_tuple = ('Monty Python', 'British', 1969)"
   ]
  },
  {
   "cell_type": "code",
   "execution_count": 5,
   "id": "e041ad86-09a7-4139-84a7-381eba7019d8",
   "metadata": {},
   "outputs": [],
   "source": [
    "tuple2 = input_tuple[:] + ('Python',)"
   ]
  },
  {
   "cell_type": "code",
   "execution_count": 6,
   "id": "1e790a9e-2d9e-491e-a4dd-cc48957b29ad",
   "metadata": {},
   "outputs": [
    {
     "data": {
      "text/plain": [
       "('Monty Python', 'British', 1969, 'Python')"
      ]
     },
     "execution_count": 6,
     "metadata": {},
     "output_type": "execute_result"
    }
   ],
   "source": [
    "tuple2"
   ]
  },
  {
   "cell_type": "markdown",
   "id": "aeb2baca-c4cb-4a98-a2c8-0a672d4f028a",
   "metadata": {},
   "source": [
    "# Problem5\n",
    "\n",
    "Let’s say you have two lists A and B. Identify the elements which are common in the two lists A and B and return them in a sorted manner. For example \n",
    "\n",
    "**Sample Input :**\n",
    "<br>\n",
    "A = [5, 1, 3, 4, 4, 5, 6, 7] <br>\n",
    "B = [3, 3, 5, 5, 1 ,7 ,2]\n",
    "\n",
    "\n",
    "**Sample Output:**\n",
    "<br>\n",
    "[1,3,5,7]\n",
    "\n"
   ]
  },
  {
   "cell_type": "code",
   "execution_count": 11,
   "id": "481ee198-8d76-4efd-8fb3-7cd9dcaa1b63",
   "metadata": {},
   "outputs": [
    {
     "name": "stdout",
     "output_type": "stream",
     "text": [
      "[1, 3, 5, 7]\n"
     ]
    }
   ],
   "source": [
    "list_1 = [5, 1, 3, 4, 4, 5, 6, 7]\n",
    "list_2 = [3, 3, 5, 5, 1 ,7 ,2]\n",
    "\n",
    "common_elements = set(list_1).intersection(set(list_2))\n",
    "answer = sorted(common_elements)\n",
    "\n",
    "print(answer)"
   ]
  },
  {
   "cell_type": "markdown",
   "id": "3cac6347-7526-43c1-8d33-24020442f464",
   "metadata": {},
   "source": [
    "# Problem 6\n",
    "\n",
    "Write code to fetch the profession of the employee with Employee id - 104 from an employee input given in the form of a dictionary where key represent employ id and values represent the name, age, and profession (in the same order).\n",
    "\n",
    "**Sample input:**\n",
    "<br>\n",
    "Employee_data = { 101:['Shiva', 24, 'Content Strategist'] ,102:['Udit',25,'Content Strategist'], 103:['Sonam', 28,'Sr Manager'], 104:['Ansari',29,'Product Lead' ],105:['Huzefa',32,'Project Manager' ]}\n",
    "\n",
    "**Sample output:**\n",
    "<br>\n",
    "'Product Lead'\n",
    "\n",
    "\n",
    "Note: Assume that employee data would be available in the data provided to you "
   ]
  },
  {
   "cell_type": "code",
   "execution_count": 12,
   "id": "c79297cb-4ad9-44ca-96fa-d4644351ec91",
   "metadata": {},
   "outputs": [],
   "source": [
    "Employee_data = { 101:['Shiva', 24, 'Content Strategist'] ,102:['Udit',25,'Content Strategist'], 103:['Sonam', 28,'Sr Manager'], 104:['Ansari',29,'Product Lead' ],105:['Huzefa',32,'Project Manager' ]}"
   ]
  },
  {
   "cell_type": "code",
   "execution_count": 13,
   "id": "17200519-1be8-4ed4-aabb-bcb7bb74745c",
   "metadata": {},
   "outputs": [
    {
     "data": {
      "text/plain": [
       "{101: ['Shiva', 24, 'Content Strategist'],\n",
       " 102: ['Udit', 25, 'Content Strategist'],\n",
       " 103: ['Sonam', 28, 'Sr Manager'],\n",
       " 104: ['Ansari', 29, 'Product Lead'],\n",
       " 105: ['Huzefa', 32, 'Project Manager']}"
      ]
     },
     "execution_count": 13,
     "metadata": {},
     "output_type": "execute_result"
    }
   ],
   "source": [
    "Employee_data"
   ]
  },
  {
   "cell_type": "code",
   "execution_count": 15,
   "id": "87be74bc-72ed-4d79-8e86-f308a09bdc76",
   "metadata": {},
   "outputs": [
    {
     "data": {
      "text/plain": [
       "'Product Lead'"
      ]
     },
     "execution_count": 15,
     "metadata": {},
     "output_type": "execute_result"
    }
   ],
   "source": [
    "Employee_data[104][2]"
   ]
  },
  {
   "cell_type": "code",
   "execution_count": 16,
   "id": "b8491035-c612-443a-adf9-53debdc8fa0e",
   "metadata": {},
   "outputs": [],
   "source": [
    "d = {}"
   ]
  },
  {
   "cell_type": "code",
   "execution_count": 17,
   "id": "ef1f7786-0b05-4f76-935e-19c7dfc7ff16",
   "metadata": {},
   "outputs": [
    {
     "data": {
      "text/plain": [
       "dict"
      ]
     },
     "execution_count": 17,
     "metadata": {},
     "output_type": "execute_result"
    }
   ],
   "source": [
    "type(d)"
   ]
  },
  {
   "cell_type": "markdown",
   "id": "2c8dfcc9-3966-4100-81e9-c5e7e252422a",
   "metadata": {},
   "source": [
    "# Problem 7\n",
    "\n",
    "List sum\n",
    "\n",
    "Description\n",
    "Suppose you want to know the total score of the Indian cricket team in a given match. To do so, your task is to find the sum of all the scores of the Indian team players. The scores are provided as a list, with each element as an individual score of the players. Also, there is a condition that if the number of elements in the list is more than 11, then it is an invalid input and the output should be -1.\n",
    "\n",
    "--------------------------------------------------------------------------------------------\n",
    "Input - List\n",
    "\n",
    "Output - An integer\n",
    "\n",
    "--------------------------------------------------------------------------------------------\n",
    "Sample Input : [11, 13, 101, 14, 33, 141]\n",
    "\n",
    "Sample Output : 313\n",
    "\n",
    "---------------------------------------------------------------------------------------------\n",
    "Sample Input : [11, 13, 101, 14, 33, 141, 12, 144, 54, 67, 8, 11]\n",
    "\n",
    "Sample Output : -1\n",
    "\n",
    "---------------------------------------------------------------------------------------------\n",
    "Sample Input : [100, 80, 30, 10, 0, 1, 2, 0]\n",
    "\n",
    "Sample Output : 223"
   ]
  },
  {
   "cell_type": "code",
   "execution_count": 7,
   "id": "a4026ea1-0054-49c0-9485-234cff5f81bc",
   "metadata": {},
   "outputs": [
    {
     "name": "stdout",
     "output_type": "stream",
     "text": [
      "313\n"
     ]
    }
   ],
   "source": [
    "from functools import reduce\n",
    "\n",
    "input_str = '[11, 13, 101, 14, 33, 141]'\n",
    "\n",
    "input_str = input_str.strip('[]')\n",
    "\n",
    "input_list = input_str.split(',')\n",
    "\n",
    "\n",
    "if len(input_list) > 11:\n",
    "    print('-1')\n",
    "else:\n",
    "    print(reduce(lambda x,y:int(x)+int(y),input_list))"
   ]
  },
  {
   "cell_type": "markdown",
   "id": "977bded3-cbbb-48a0-bd86-91cfa3b11cc7",
   "metadata": {},
   "source": [
    "# Problem 8\n",
    "\n",
    "Length of list elements\n",
    "\n",
    "Description\n",
    "Given a list of strings, write a program to find the number of strings whose length is greater than or equal to K, where K is a positive integer.\n",
    "\n",
    "Input - List of strings and an integer\n",
    "\n",
    "Output - Integer\n",
    "\n",
    "--------------------------------------------------------------------------------\n",
    "Sample Input :\n",
    "\n",
    "[Mumbai, Hyderabad, Calicut, Chennai]\n",
    "\n",
    "9\n",
    "\n",
    "Sample Output: 1\n",
    "\n",
    "-------------------------------------------------------------------------------\n",
    "\n",
    "Sample Input :\n",
    "\n",
    "[Datascience, Data Analyst, Programmer, Manager]\n",
    "\n",
    "  8\n",
    "\n",
    "Sample Output : 3"
   ]
  },
  {
   "cell_type": "code",
   "execution_count": 16,
   "id": "157b9cf6-afd0-4960-9a0d-e5cc4c08b12c",
   "metadata": {},
   "outputs": [
    {
     "name": "stdout",
     "output_type": "stream",
     "text": [
      "1\n"
     ]
    }
   ],
   "source": [
    "input_str = '[Mumbai, Hyderabad, Calicut, Chennai]'\n",
    "k = 9\n",
    "input_str = input_str.strip('[]')\n",
    "\n",
    "input_list = input_str.split(',')\n",
    "\n",
    "ans = list(map(lambda x: len(x) >= k ,input_list)).count(True)\n",
    "\n",
    "print(ans)\n"
   ]
  },
  {
   "cell_type": "markdown",
   "id": "e54d622e-34eb-48a0-b6f0-c411046871e6",
   "metadata": {},
   "source": [
    "# Problem 9\n",
    "\n",
    "Increment list elements\n",
    "\n",
    "Description\n",
    "Given a list of strings, increment the value of the numeric strings by 'k’. \n",
    "\n",
    "Hint: The function isdigit() may be useful here.\n",
    "\n",
    "---------------------------------------------------------------------------------------------\n",
    "Input - A list in the first line and an integer in the second line\n",
    "\n",
    "Output - A list\n",
    "\n",
    "---------------------------------------------------------------------------------------------\n",
    "\n",
    "Sample Input :\n",
    "\n",
    "['Python', '123', 'Data']\n",
    "\n",
    "4\n",
    "\n",
    "\n",
    "Sample Output : ['Python', '127', 'Data']\n",
    "\n",
    "---------------------------------------------------------------------------------------------\n",
    "\n",
    "Sample Input :\n",
    "\n",
    "['upGrad', '1991', 'Mumbai']\n",
    "\n",
    "0\n",
    "\n",
    "Sample Output : ['upGrad', '1991', 'Mumbai']\n",
    "\n",
    "---------------------------------------------------------------------------------------------\n",
    "\n",
    "Sample Input :\n",
    "\n",
    "['Data Science', '100', '10']\n",
    "\n",
    "10\n",
    "\n",
    "Sample Output : ['Data Science', '110', '20']"
   ]
  },
  {
   "cell_type": "code",
   "execution_count": 23,
   "id": "b99c9630-f4eb-4927-bf51-2db57d7837e6",
   "metadata": {},
   "outputs": [
    {
     "name": "stdout",
     "output_type": "stream",
     "text": [
      "['Data Science', '110', '20']\n"
     ]
    }
   ],
   "source": [
    "input_list = ['Data Science', '100', '10']\n",
    "\n",
    "K = 10\n",
    "\n",
    "result = list(map(lambda x: str(int(x)+K) if x.isdigit() else x , input_list))\n",
    "\n",
    "print(result)"
   ]
  },
  {
   "cell_type": "markdown",
   "id": "a3d0826a-427e-4199-813a-7ca86482becd",
   "metadata": {},
   "source": [
    "# Problem 10\n",
    "\n",
    "Slicing a list\n",
    "\n",
    "Description\n",
    "Given a list of strings and an integer K, write a python code to print all the elements from the K th position till the end of the list.\n",
    "\n",
    "\n",
    "\n",
    "Note: Assume that K (a positive integer) will always be less than or equal to the length of the list\n",
    "\n",
    "\n",
    "Input - A list of strings in the first line and an integer in the second line of the input.\n",
    "\n",
    "Output - A list\n",
    "\n",
    "\n",
    "\n",
    "--------------------------------------------------------------------------------------------------------\n",
    "\n",
    "\n",
    "\n",
    "Sample Input :\n",
    "\n",
    "['Mumbai', 'Delhi', 'Australia', 'Nigeria', 'USA', 'London', 'Canada']\n",
    "\n",
    "2\n",
    "\n",
    "\n",
    "\n",
    "Sample Output : ['Delhi', 'Australia', 'Nigeria', 'USA', 'London', 'Canada']\n",
    "\n",
    "\n",
    "\n",
    "--------------------------------------------------------------------------------------------------------\n",
    "\n",
    "\n",
    "\n",
    "Sample Input :\n",
    "\n",
    "['Chennai', 'Vizag', 'Austria', 'Germany', 'Japan']\n",
    "\n",
    "3\n",
    "\n",
    "\n",
    "\n",
    "Sample Output : ['Austria', 'Germany', 'Japan']\n",
    "\n"
   ]
  },
  {
   "cell_type": "code",
   "execution_count": 1,
   "id": "114ad280-078a-4ef2-a8d6-ac941a1695ae",
   "metadata": {},
   "outputs": [
    {
     "name": "stdin",
     "output_type": "stream",
     "text": [
      " ['Mumbai', 'Delhi', 'Australia', 'Nigeria', 'USA', 'London', 'Canada']\n",
      " 2\n"
     ]
    },
    {
     "name": "stdout",
     "output_type": "stream",
     "text": [
      "['Delhi', 'Australia', 'Nigeria', 'USA', 'London', 'Canada']\n"
     ]
    }
   ],
   "source": [
    "import ast\n",
    "\n",
    "input_list = ast.literal_eval(input())\n",
    "k = int(input())\n",
    "\n",
    "print(input_list[k-1:])"
   ]
  },
  {
   "cell_type": "markdown",
   "id": "3739bcb9-6658-4c59-ac26-f24412863772",
   "metadata": {},
   "source": [
    "# Problem 11\n",
    "\n",
    "Substring with maximum uppercase characters\n",
    "\n",
    "Description\n",
    "Given a string, write a Python program to find the largest substring of uppercase characters and print the length of that substring. Check the sample inputs and outputs for a better understanding.\n",
    "\n",
    "\n",
    "\n",
    "---------------------------------------------------------------------------------------------------\n",
    "\n",
    "Input - String\n",
    "\n",
    "Output - String\n",
    "\n",
    "---------------------------------------------------------------------------------------------------\n",
    "\n",
    "\n",
    "\n",
    "Sample Input - I lovE PRogrAMMING\n",
    "\n",
    "Sample Output - 6\n",
    "\n",
    "\n",
    "\n",
    "Explanation - AMMING is the largest substring with all characters in uppercase continuously \n",
    "\n",
    "\n",
    "\n",
    "-----------------------------------------------------------------------------------------------------\n",
    "\n",
    "Sample Input - MuMbaI is in MAHArashTRA\n",
    "\n",
    "Sample Output - 4\n",
    "\n",
    "\n",
    "\n",
    "Explanation - MAHA is the largest substring with all characters in uppercase continuously.\n",
    "\n",
    "\n",
    "\n",
    "---------------------------------------------------------------------------------------------------\n",
    "\n",
    "Sample Input - India WOn the WOrLD CUP\n",
    "\n",
    "Sample Output - 3\n",
    "\n",
    "\n",
    "\n",
    "Explanation - CUP is the largest substring with all characters in uppercase continuously."
   ]
  },
  {
   "cell_type": "code",
   "execution_count": 6,
   "id": "96a0262c-2914-4a17-829c-78809aec3b3a",
   "metadata": {},
   "outputs": [
    {
     "name": "stdin",
     "output_type": "stream",
     "text": [
      "Enter a sentence with mix of upper and lower case -  I lovE PROGRAmming PYTHON\n"
     ]
    },
    {
     "name": "stdout",
     "output_type": "stream",
     "text": [
      "6\n"
     ]
    }
   ],
   "source": [
    "input_str = input('Enter a sentence with mix of upper and lower case - ')\n",
    "\n",
    "count = 0\n",
    "prev_count = 0\n",
    "for char in input_str:\n",
    "    if ord(char)>=ord('A') and ord(char)<=ord('Z'):\n",
    "        count = count+1\n",
    "    else:\n",
    "        if count > prev_count:\n",
    "            prev_count = count\n",
    "        count = 0\n",
    "\n",
    "if count > prev_count:\n",
    "    print(count)\n",
    "else:\n",
    "    print(prev_count)\n",
    "    "
   ]
  },
  {
   "cell_type": "markdown",
   "id": "8134c8aa-e918-419e-b30d-8d3a48db6f82",
   "metadata": {},
   "source": [
    "# Problem 12\n",
    "\n",
    "Sorting list of tuples\n",
    "\n",
    "Description\n",
    "A class of students attempt an exam in two parts: ‘Aptitude’ and ‘Physics'. The marks of all the students are stored as a list of tuples, and each student’s marks (in Aptitude and Physics) are stored in each tuple. Your task is to write a Python program to sort the list of tuples in decreasing order of the Physics scores of the students.\n",
    "\n",
    "\n",
    "\n",
    "Note - Marks of both the subjects are ranged between 1-100, and no two students have scored the same marks in Physics.\n",
    "\n",
    "\n",
    "\n",
    "---------------------------------------------------------------------------------------------------\n",
    "\n",
    "Input - List of tuples\n",
    "\n",
    "Output - List of tuples\n",
    "\n",
    "\n",
    "\n",
    "---------------------------------------------------------------------------------------------------\n",
    "\n",
    "\n",
    "\n",
    "Sample Input - [(45,77), (88,87), (67,98), (33,31)]\n",
    "\n",
    "\n",
    "\n",
    "In (45,77), which is the first element in the list, 45 and 77 are the scores of a student in aptitude and physics respectively.\n",
    "\n",
    "\n",
    "\n",
    "Sample Output - [ (67,98), (88,87), (45,77),(33,31)]\n",
    "\n",
    "\n",
    "\n",
    "---------------------------------------------------------------------------------------------------\n",
    "\n",
    "\n",
    "\n",
    "Sample Input - [(45,23), (45,88), (45,98), (45,44)]\n",
    "\n",
    "\n",
    "\n",
    "Sample Output - [ (45,98), (45,88), (45,44),(45,23)]\n",
    "\n",
    "\n",
    "\n",
    "---------------------------------------------------------------------------------------------------\n",
    "\n",
    "\n",
    "\n",
    "Sample Input - [(55,77), (34,90), (67,100), (90,0)]\n",
    "\n",
    "\n",
    "\n",
    "Sample Output - [ (67,100), (34,90), (55,77),(90,0)]"
   ]
  },
  {
   "cell_type": "code",
   "execution_count": 14,
   "id": "f4d63c2a-3601-429e-89f2-f2729901bb9d",
   "metadata": {},
   "outputs": [
    {
     "name": "stdin",
     "output_type": "stream",
     "text": [
      "Enter the (aptitude,physics) marks of all the students -  [(45,77), (88,87), (67,98), (33,31)]\n"
     ]
    },
    {
     "name": "stdout",
     "output_type": "stream",
     "text": [
      "[(67, 98), (88, 87), (45, 77), (33, 31)]\n"
     ]
    }
   ],
   "source": [
    "import ast\n",
    "input_str = input('Enter the (aptitude,physics) marks of all the students - ')\n",
    "\n",
    "marks = ast.literal_eval(input_str)\n",
    "n = len(marks)\n",
    "\n",
    "for j in range(0,n):\n",
    "    for i in range(0,n-1):\n",
    "        if marks[i][1] < marks[i+1][1]:\n",
    "            temp = marks[i]\n",
    "            marks[i] = marks[i+1]\n",
    "            marks[i+1] = temp\n",
    "\n",
    "print(marks)\n",
    "    "
   ]
  },
  {
   "cell_type": "markdown",
   "id": "6fb38427-ac26-4b1a-b88a-4f8ee5316e55",
   "metadata": {},
   "source": [
    "# Problem 13\n",
    "\n",
    "Divisibility check\n",
    "\n",
    "Description\n",
    "Given an integer ‘n’, your task is to write a Python code to find whether ‘n’ is divisible by all its digits or not. If they divide the number, then the number ‘n’ is a happy number. Otherwise, it is a sad number.\n",
    "\n",
    "The number ‘n’ may be provided with commas. At first, you have to clean the number (by removing the commas involved) and then check whether the number is happy or sad.\n",
    "\n",
    "\n",
    "---------------------------------------------------------------------------------------------------\n",
    "\n",
    "\n",
    "\n",
    "Input - String\n",
    "\n",
    "Output - String\n",
    "\n",
    "\n",
    "\n",
    "---------------------------------------------------------------------------------------------------\n",
    "\n",
    "Sample Input - 2,128\n",
    "\n",
    "Sample Output - Happy Number\n",
    "\n",
    "\n",
    "\n",
    "---------------------------------------------------------------------------------------------------\n",
    "\n",
    "\n",
    "\n",
    "Sample Input - 256\n",
    "\n",
    "Sample Output - Sad Number\n",
    "\n",
    "\n",
    "\n",
    "---------------------------------------------------------------------------------------------------\n",
    "\n",
    "\n",
    "\n",
    "Sample Input - 1124\n",
    "\n",
    "Sample Output - Happy Number\n",
    "\n",
    "\n",
    "\n",
    "---------------------------------------------------------------------------------------------------"
   ]
  },
  {
   "cell_type": "code",
   "execution_count": 22,
   "id": "8e184cb0-6b2b-48c7-8a35-bcd46d1f23c7",
   "metadata": {},
   "outputs": [
    {
     "name": "stdin",
     "output_type": "stream",
     "text": [
      "Enter a number -  123\n"
     ]
    },
    {
     "name": "stdout",
     "output_type": "stream",
     "text": [
      "Sad Number\n"
     ]
    }
   ],
   "source": [
    "input_str = input('Enter a number - ')\n",
    "\n",
    "input_str = input_str.replace(',','')\n",
    "\n",
    "happy = False\n",
    "\n",
    "for digit in input_str:\n",
    "    if int(input_str) % int(digit) != 0:\n",
    "        happy = False\n",
    "        print('Sad Number')\n",
    "        break\n",
    "    else:\n",
    "        happy = True\n",
    "        continue\n",
    "\n",
    "if happy:\n",
    "    print('Happy Number')"
   ]
  },
  {
   "cell_type": "markdown",
   "id": "cb3049ba-296a-46c1-837a-82d6bcf72f6b",
   "metadata": {},
   "source": [
    "# Problem 14\n",
    "\n",
    "Updating the dictionary keys\n",
    "\n",
    "Description\n",
    "You are provided with a dictionary containing the names of different football clubs as keys and the name of the main player of the corresponding team as values. When the main player of a team retires, one of their teammates steps up to fill in their role as the main player.\n",
    "\n",
    "\n",
    "You’re also provided with a list which contains the names of the football clubs for which the current main players are retiring and the names of the corresponding new main player. Your task is to update the values in the original dictionary with the names of the new main players.\n",
    "\n",
    "\n",
    "\n",
    "------------------------------------------------------------------------------------------------------\n",
    "\n",
    "\n",
    "\n",
    "Input - The input consists of a dictionary with different football clubs' names and their main player. In the next line, you will be provided with a list of the new players who have taken up the main roles.\n",
    "\n",
    "\n",
    "\n",
    "Output - Dictionary\n",
    "\n",
    "\n",
    "\n",
    "---------------------------------------------------------------------------------------------------\n",
    "\n",
    "\n",
    "\n",
    "Sample Input :\n",
    "\n",
    "{Barcelona:’Messi’ , ‘Real Madrid’: ‘Benzema’, ‘PSG’: ‘Neymar’ }\n",
    "\n",
    "[[‘Barcelona’, ‘Griezmann’], [‘PSG’, ‘Ramos’]]\n",
    "\n",
    "\n",
    "\n",
    "Sample Output: {Barcelona:‘Griezmann’, ‘Real Madrid’: ‘Benzema’, ‘PSG’: ‘Ramos’}\n",
    "\n",
    "\n",
    "\n",
    "---------------------------------------------------------------------------------------------------\n",
    "\n",
    "\n",
    "\n",
    "Sample Input:\n",
    "\n",
    "{Liverpool:’A’, ‘Real Madrid’: ‘B’, ‘Chelsea’: ‘C’ }\n",
    "\n",
    "[[Liverpool, ‘R’]]\n",
    "\n",
    "\n",
    "\n",
    "Sample Output: {Liverpool:’R’, ‘Real Madrid’: ‘B’, ‘Chelsea’: ‘C’ }\n",
    "\n",
    "\n",
    "\n",
    "\n",
    "\n",
    "---------------------------------------------------------------------------------------------------\n",
    "\n",
    "\n",
    "\n",
    "Sample Input :\n",
    "\n",
    " {Atletico Madrid : ’D’ , ‘Juventus’: ‘B’, ‘Chelsea’: ‘C’ }\n",
    "\n",
    "[[‘Juventus’, ‘G’], [‘Chelsea’, ‘H’]]\n",
    "\n",
    "\n",
    "\n",
    "Sample Output: {Atletico Madrid : ’D’, ‘Juventus’: ‘G’, ‘Chelsea’: ‘H’ }"
   ]
  },
  {
   "cell_type": "code",
   "execution_count": 11,
   "id": "1bd3aca8-d05b-49a5-a3c9-00283901f83d",
   "metadata": {},
   "outputs": [
    {
     "name": "stdin",
     "output_type": "stream",
     "text": [
      " {'Barcelona':'Messi' , 'Real Madrid': 'Benzema', 'PSG': 'Neymar'}\n",
      " [['Barcelona', 'Griezmann'], ['PSG', 'Ramos']]\n"
     ]
    },
    {
     "name": "stdout",
     "output_type": "stream",
     "text": [
      "{'Barcelona': 'Griezmann', 'Real Madrid': 'Benzema', 'PSG': 'Ramos'}\n"
     ]
    }
   ],
   "source": [
    "import ast\n",
    "\n",
    "#reading the input dictionary\n",
    "input_dictionary = input() #{'Barcelona':'Messi' , 'Real Madrid': 'Benzema', 'PSG': 'Neymar'}\n",
    "\n",
    "convert_dictionary = ast.literal_eval(input_dictionary)\n",
    "\n",
    "#reading the input list\n",
    "input_list = input() #[['Barcelona', 'Griezmann'], ['PSG', 'Ramos']]\n",
    "convert_list = ast.literal_eval(input_list)\n",
    "\n",
    "for element in convert_list:\n",
    "    if element[0] in convert_dictionary:\n",
    "        convert_dictionary[element[0]] = element[1]\n",
    "\n",
    "print(convert_dictionary)"
   ]
  },
  {
   "cell_type": "markdown",
   "id": "01e580cc-06ef-4b3a-ac3e-7b8b0ec0ff67",
   "metadata": {},
   "source": [
    "# Problem 15\n",
    "\n",
    "List average\n",
    "\n",
    "Description\n",
    "Suppose you are working as a Marketing Lead in a company and you want to recruit new employees in your team (which already consists of 10 members) to carry out the company’s major project. You select the employees based on five parameters: A, B, C, D and E. The value of each parameter is represented on a scale of 1 to 10. The present average value of these parameters for your team is given to you in a list (in the same order). You recruit a person only if their scores do not reduce the average score of more than two parameters of your team. If they are recruited, print the output as ‘Selected’. If not, print the output as ‘Rejected’.\n",
    "\n",
    "\n",
    "\n",
    "--------------------------------------------------------------------------------------------------\n",
    "\n",
    "\n",
    "\n",
    "Input - Two lists, where the first list is the average scores of the team in the five parameters, and the second list is the scores of the new employee in all the five parameters. The parameter order is the same for both the lists, which is A, B, C, D and E.\n",
    "\n",
    "\n",
    "\n",
    "Output - String\n",
    "\n",
    "\n",
    "\n",
    "--------------------------------------------------------------------------------------------------\n",
    "\n",
    "\n",
    "\n",
    "Sample Input - [‘8’, ‘4’, ‘6’, ‘9’, ‘7’]\n",
    "\n",
    "  [‘1’, ‘1.1’, ‘1.2’, ‘1.2’, ‘2.3’]\n",
    "\n",
    "\n",
    "\n",
    "\n",
    "Sample Output - Rejected\n",
    "\n",
    "\n",
    "\n",
    "--------------------------------------------------------------------------------------------------\n",
    "\n",
    "\n",
    "\n",
    "Sample Input - [‘10’, ‘5’, ‘6’, ‘9’, ‘7’]\n",
    "\n",
    "  [‘10’, ‘ 9.8’, ‘7.2’, ‘1.66’, ‘4.3’]\n",
    "\n",
    "\n",
    "\n",
    "\n",
    "Sample Output - Selected\n",
    "\n",
    "\n",
    "\n",
    "--------------------------------------------------------------------------------------------------\n",
    "\n",
    "\n",
    "\n",
    "Sample Input - [‘8’, ‘5.66’, ‘6.5’, ‘10’, ‘10’]\n",
    "\n",
    "  [‘7’, ‘ 10’, ‘6’, ‘7’, ‘9’]\n",
    "\n",
    "\n",
    "\n",
    "\n",
    "Sample Output - Rejected"
   ]
  },
  {
   "cell_type": "code",
   "execution_count": 14,
   "id": "69658269-c932-473e-b2d6-f4d05b38fcea",
   "metadata": {},
   "outputs": [
    {
     "name": "stdin",
     "output_type": "stream",
     "text": [
      " ['10', '5', '6', '9', '7']\n",
      " ['10', '9.8', '7.2', '1.66', '4.3']\n"
     ]
    },
    {
     "name": "stdout",
     "output_type": "stream",
     "text": [
      "Selected\n"
     ]
    }
   ],
   "source": [
    "import ast\n",
    "\n",
    "team_param = ast.literal_eval(input()) # ['10', '5', '6', '9', '7']\n",
    "emp_param = ast.literal_eval(input()) # ['10', '9.8', '7.2', '1.66', '4.3']\n",
    "\n",
    "team_emp_param = []\n",
    "count = 0\n",
    "\n",
    "selected = True\n",
    "\n",
    "for i in range(0,5):\n",
    "    if count>2:\n",
    "        selected = False\n",
    "        break\n",
    "    else:\n",
    "        team_emp_param.append(((float(team_param[i]) * 10) + float(emp_param[i]))/11)\n",
    "        if team_emp_param[i] < float(team_param[i]):\n",
    "            count = count+1\n",
    "\n",
    "if selected:\n",
    "    print('Selected')\n",
    "else:\n",
    "    print('Rejected')"
   ]
  },
  {
   "cell_type": "markdown",
   "id": "72238562-4f8e-4e0f-b1dc-24edbbf28d71",
   "metadata": {},
   "source": [
    "# Problem 16\n",
    "\n",
    "Merge dictionaries\n",
    "\n",
    "Description\n",
    "Write a python code to merge two dictionaries into a single dictionary.\n",
    "\n",
    "\n",
    "\n",
    "--------------------------------------------------------------------------------------------------\n",
    "\n",
    "\n",
    "\n",
    "Input: Two dictionaries, one in each line\n",
    "\n",
    "\n",
    "\n",
    "Output: A Dictionary\n",
    "\n",
    "\n",
    "\n",
    "--------------------------------------------------------------------------------------------------\n",
    "\n",
    "\n",
    "\n",
    "Sample Input :\n",
    "\n",
    "{'a': 10, 'b': 8}\n",
    "\n",
    "{'d': 6, 'c': 4}\n",
    "\n",
    "\n",
    "\n",
    "Sample Output : {'c': 4, 'a': 10, 'b': 8, 'd': 6}\n",
    "\n",
    "\n",
    "\n",
    "--------------------------------------------------------------------------------------------------\n",
    "\n",
    "\n",
    "\n",
    "Sample Input :\n",
    "\n",
    "{'a': 110, 'b': 88}\n",
    "\n",
    "{'d': 62, 'c': 44}\n",
    "\n",
    "\n",
    "\n",
    "Sample Output : {'a': 110, 'b': 88, 'd': 62, 'c': 44}"
   ]
  },
  {
   "cell_type": "code",
   "execution_count": 19,
   "id": "31af1265-86f6-4a21-8073-21b1876b63ed",
   "metadata": {},
   "outputs": [
    {
     "name": "stdin",
     "output_type": "stream",
     "text": [
      " {'a': 10, 'b': 8}\n",
      " {'d': 6, 'c': 4}\n"
     ]
    },
    {
     "name": "stdout",
     "output_type": "stream",
     "text": [
      "{'a': 10, 'b': 8, 'd': 6, 'c': 4}\n"
     ]
    }
   ],
   "source": [
    "input_dict1 =  ast.literal_eval(input())\n",
    "\n",
    "input_dict2 =  ast.literal_eval(input())\n",
    "\n",
    "input_dict1.update(input_dict2)\n",
    "\n",
    "print(input_dict1)"
   ]
  },
  {
   "cell_type": "code",
   "execution_count": 20,
   "id": "9610d236-2c08-4f86-8b02-64a9f0877498",
   "metadata": {},
   "outputs": [
    {
     "name": "stdin",
     "output_type": "stream",
     "text": [
      " {'a': 10, 'b': 8}\n",
      "  {'d': 6, 'c': 4}\n"
     ]
    },
    {
     "name": "stdout",
     "output_type": "stream",
     "text": [
      "{'a': 10, 'b': 8, 'd': 6, 'c': 4}\n"
     ]
    }
   ],
   "source": [
    "# Another Solution\n",
    "\n",
    "input_dict1 =  ast.literal_eval(input())\n",
    "\n",
    "input_dict2 =  ast.literal_eval(input())\n",
    "\n",
    "result = {**input_dict1, **input_dict2}\n",
    "\n",
    "print(result)"
   ]
  },
  {
   "cell_type": "code",
   "execution_count": 26,
   "id": "4c8d513c-f0c1-4e80-9175-8f306e252c3e",
   "metadata": {},
   "outputs": [
    {
     "name": "stdout",
     "output_type": "stream",
     "text": [
      "[0, -1, -2, 2, 2]\n"
     ]
    }
   ],
   "source": [
    "l=(1, -2, -3, 4, 5)\n",
    "def f1(x):\n",
    "    return x//2\n",
    "m1=map(f1, l)\n",
    "print(list(m1))"
   ]
  },
  {
   "cell_type": "code",
   "execution_count": null,
   "id": "7cc13307-23e8-4027-ae86-1d05eb562ecf",
   "metadata": {},
   "outputs": [],
   "source": []
  }
 ],
 "metadata": {
  "kernelspec": {
   "display_name": "Python 3 (ipykernel)",
   "language": "python",
   "name": "python3"
  },
  "language_info": {
   "codemirror_mode": {
    "name": "ipython",
    "version": 3
   },
   "file_extension": ".py",
   "mimetype": "text/x-python",
   "name": "python",
   "nbconvert_exporter": "python",
   "pygments_lexer": "ipython3",
   "version": "3.12.1"
  }
 },
 "nbformat": 4,
 "nbformat_minor": 5
}
