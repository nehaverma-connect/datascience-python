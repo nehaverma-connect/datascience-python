{
 "cells": [
  {
   "cell_type": "markdown",
   "metadata": {
    "id": "YqOWrZ2gmNLh"
   },
   "source": [
    "# Problem Statement: Temperature Data set\n",
    "This is the data of hourly temperature readings for seven consecutive days(Mon-Sun) for a particular week in Seattle, and the objective is to extract relevant information from the dataset using functional programming in Python."
   ]
  },
  {
   "cell_type": "code",
   "execution_count": 2,
   "metadata": {
    "id": "cDOZyCPwlwHW"
   },
   "outputs": [],
   "source": [
    "# Hourly temperature data for a week in Kelvin\n",
    "temp_list = [\n",
    "            [281.72, 281.72, 281.71, 281.70, 281.69, 281.69, 281.68, 281.67, 281.66, 281.66, 281.65, 281.64, 281.63, 281.63, 281.62, 282.71, 285.05, 287.97, 290.61, 292.06, 293.68, 295.32, 295.18, 296.11],\n",
    "            [295.24, 294.38, 292.28, 291.12, 289.93, 287.87, 287.14, 286.54, 286.16, 285.31, 284.30, 283.96, 283.60, 283.23, 283.50, 284.57, 285.64, 286.71, 287.42, 288.61, 289.13, 289.41, 289.18, 288.95],\n",
    "            [288.79, 287.47, 286.01, 284.85, 283.91, 283.31, 283.07, 283.15, 282.51, 281.98, 281.49, 281.14, 280.59, 279.65, 279.15, 279.72, 282.40, 284.72, 286.03, 287.19, 288.68, 289.56, 290.05, 289.98],\n",
    "            [289.60, 288.40, 286.38, 285.56, 284.45, 283.92, 283.25, 282.59, 281.92, 281.78, 281.63, 281.08, 280.64, 281.14, 280.08, 280.70, 282.98, 284.62, 286.61, 287.45, 289.22, 290.21, 289.94, 290.01],\n",
    "            [289.85, 288.82, 287.60, 285.82, 284.58, 284.12, 283.63, 282.98, 282.68, 282.38, 281.77, 281.47, 281.06, 280.55, 280.65, 281.00, 283.49, 286.17, 287.58, 289.49, 292.11, 292.85, 292.69, 292.85],\n",
    "            [292.05, 290.34, 288.05, 286.46, 285.37, 285.04, 284.38, 283.73, 283.07, 282.87, 280.77, 280.32, 280.01, 279.77, 279.54, 279.63, 282.48, 287.17, 289.47, 291.63, 293.42, 293.95, 294.78, 294.10],\n",
    "            [293.62, 291.88, 290.03, 288.43, 287.15, 286.78, 286.32, 285.17, 283.78, 282.96, 282.93, 281.96, 282.02, 281.26, 280.25, 281.01, 283.15, 286.49, 289.87, 291.42, 292.46, 293.35, 294.32, 294.85],         \n",
    "             ]"
   ]
  },
  {
   "cell_type": "markdown",
   "metadata": {
    "id": "wURODaJAGInd"
   },
   "source": [
    "**Task:**\n",
    "- Convert temperatures from Kelvin to Celsius scale\n",
    "- Convert temperatures from Celsius to Fahrenheit scale\n",
    "\n",
    "**Use:**\n",
    "- For loops\n",
    "- List comprehensions\n",
    "- lambda + map/filter/reduce"
   ]
  },
  {
   "cell_type": "code",
   "execution_count": 4,
   "metadata": {},
   "outputs": [
    {
     "name": "stdout",
     "output_type": "stream",
     "text": [
      "[281.72, 281.72, 281.71, 281.7, 281.69, 281.69, 281.68, 281.67, 281.66, 281.66, 281.65, 281.64, 281.63, 281.63, 281.62, 282.71, 285.05, 287.97, 290.61, 292.06, 293.68, 295.32, 295.18, 296.11]\n"
     ]
    }
   ],
   "source": [
    "temp_list_Monday = temp_list[0]\n",
    "\n",
    "print(temp_list_Monday)"
   ]
  },
  {
   "cell_type": "code",
   "execution_count": 12,
   "metadata": {
    "scrolled": true
   },
   "outputs": [
    {
     "name": "stdout",
     "output_type": "stream",
     "text": [
      "[8.57, 8.57, 8.56, 8.55, 8.54, 8.54, 8.53, 8.52, 8.51, 8.51, 8.5, 8.49, 8.48, 8.48, 8.47, 9.56, 11.9, 14.82, 17.46, 18.91, 20.53, 22.17, 22.03, 22.96]\n"
     ]
    }
   ],
   "source": [
    "# For loop\n",
    "\n",
    "temp_list_Monday_C = []\n",
    "\n",
    "for temp_K in temp_list_Monday:\n",
    "    temp_list_Monday_C.append(round(temp_K - 273.15,2))\n",
    "    \n",
    "print(temp_list_Monday_C)"
   ]
  },
  {
   "cell_type": "code",
   "execution_count": 13,
   "metadata": {
    "scrolled": true
   },
   "outputs": [
    {
     "name": "stdout",
     "output_type": "stream",
     "text": [
      "[8.57, 8.57, 8.56, 8.55, 8.54, 8.54, 8.53, 8.52, 8.51, 8.51, 8.5, 8.49, 8.48, 8.48, 8.47, 9.56, 11.9, 14.82, 17.46, 18.91, 20.53, 22.17, 22.03, 22.96]\n"
     ]
    }
   ],
   "source": [
    "# List comprehension\n",
    "\n",
    "temp_list_Monday_C = [round(temp_K - 273.15,2) for temp_K in temp_list_Monday]\n",
    "\n",
    "print(temp_list_Monday_C)"
   ]
  },
  {
   "cell_type": "code",
   "execution_count": 11,
   "metadata": {
    "scrolled": true
   },
   "outputs": [
    {
     "name": "stdout",
     "output_type": "stream",
     "text": [
      "[8.57, 8.57, 8.56, 8.55, 8.54, 8.54, 8.53, 8.52, 8.51, 8.51, 8.5, 8.49, 8.48, 8.48, 8.47, 9.56, 11.9, 14.82, 17.46, 18.91, 20.53, 22.17, 22.03, 22.96]\n"
     ]
    }
   ],
   "source": [
    "# Lambda + Map\n",
    "\n",
    "temp_list_Monday_C = list(map(lambda temp_K: round(temp_K - 273.15,2), temp_list_Monday))\n",
    "\n",
    "print(temp_list_Monday_C)"
   ]
  },
  {
   "cell_type": "markdown",
   "metadata": {},
   "source": [
    "**Task:**\n",
    "- Convert temperatures from Kelvin to Celsius scale\n",
    "- Convert temperatures from Celsius to Fahrenheit scale\n",
    "\n",
    "**Use:**\n",
    "- For loops\n",
    "- List comprehensions\n",
    "- lambda + map/filter/reduce"
   ]
  },
  {
   "cell_type": "code",
   "execution_count": 17,
   "metadata": {},
   "outputs": [],
   "source": [
    "# Hourly temperature data for a week in Kelvin\n",
    "temp_list_overall = [\n",
    "            [281.72, 281.72, 281.71, 281.70, 281.69, 281.69, 281.68, 281.67, 281.66, 281.66, 281.65, 281.64, 281.63, 281.63, 281.62, 282.71, 285.05, 287.97, 290.61, 292.06, 293.68, 295.32, 295.18, 296.11],\n",
    "            [295.24, 294.38, 292.28, 291.12, 289.93, 287.87, 287.14, 286.54, 286.16, 285.31, 284.30, 283.96, 283.60, 283.23, 283.50, 284.57, 285.64, 286.71, 287.42, 288.61, 289.13, 289.41, 289.18, 288.95],\n",
    "            [288.79, 287.47, 286.01, 284.85, 283.91, 283.31, 283.07, 283.15, 282.51, 281.98, 281.49, 281.14, 280.59, 279.65, 279.15, 279.72, 282.40, 284.72, 286.03, 287.19, 288.68, 289.56, 290.05, 289.98],\n",
    "            [289.60, 288.40, 286.38, 285.56, 284.45, 283.92, 283.25, 282.59, 281.92, 281.78, 281.63, 281.08, 280.64, 281.14, 280.08, 280.70, 282.98, 284.62, 286.61, 287.45, 289.22, 290.21, 289.94, 290.01],\n",
    "            [289.85, 288.82, 287.60, 285.82, 284.58, 284.12, 283.63, 282.98, 282.68, 282.38, 281.77, 281.47, 281.06, 280.55, 280.65, 281.00, 283.49, 286.17, 287.58, 289.49, 292.11, 292.85, 292.69, 292.85],\n",
    "            [292.05, 290.34, 288.05, 286.46, 285.37, 285.04, 284.38, 283.73, 283.07, 282.87, 280.77, 280.32, 280.01, 279.77, 279.54, 279.63, 282.48, 287.17, 289.47, 291.63, 293.42, 293.95, 294.78, 294.10],\n",
    "            [293.62, 291.88, 290.03, 288.43, 287.15, 286.78, 286.32, 285.17, 283.78, 282.96, 282.93, 281.96, 282.02, 281.26, 280.25, 281.01, 283.15, 286.49, 289.87, 291.42, 292.46, 293.35, 294.32, 294.85],         \n",
    "             ]"
   ]
  },
  {
   "cell_type": "code",
   "execution_count": 18,
   "metadata": {},
   "outputs": [
    {
     "name": "stdout",
     "output_type": "stream",
     "text": [
      "[[8.57, 8.57, 8.56, 8.55, 8.54, 8.54, 8.53, 8.52, 8.51, 8.51, 8.5, 8.49, 8.48, 8.48, 8.47, 9.56, 11.9, 14.82, 17.46, 18.91, 20.53, 22.17, 22.03, 22.96], [22.09, 21.23, 19.13, 17.97, 16.78, 14.72, 13.99, 13.39, 13.01, 12.16, 11.15, 10.81, 10.45, 10.08, 10.35, 11.42, 12.49, 13.56, 14.27, 15.46, 15.98, 16.26, 16.03, 15.8], [15.64, 14.32, 12.86, 11.7, 10.76, 10.16, 9.92, 10.0, 9.36, 8.83, 8.34, 7.99, 7.44, 6.5, 6.0, 6.57, 9.25, 11.57, 12.88, 14.04, 15.53, 16.41, 16.9, 16.83], [16.45, 15.25, 13.23, 12.41, 11.3, 10.77, 10.1, 9.44, 8.77, 8.63, 8.48, 7.93, 7.49, 7.99, 6.93, 7.55, 9.83, 11.47, 13.46, 14.3, 16.07, 17.06, 16.79, 16.86], [16.7, 15.67, 14.45, 12.67, 11.43, 10.97, 10.48, 9.83, 9.53, 9.23, 8.62, 8.32, 7.91, 7.4, 7.5, 7.85, 10.34, 13.02, 14.43, 16.34, 18.96, 19.7, 19.54, 19.7], [18.9, 17.19, 14.9, 13.31, 12.22, 11.89, 11.23, 10.58, 9.92, 9.72, 7.62, 7.17, 6.86, 6.62, 6.39, 6.48, 9.33, 14.02, 16.32, 18.48, 20.27, 20.8, 21.63, 20.95], [20.47, 18.73, 16.88, 15.28, 14.0, 13.63, 13.17, 12.02, 10.63, 9.81, 9.78, 8.81, 8.87, 8.11, 7.1, 7.86, 10.0, 13.34, 16.72, 18.27, 19.31, 20.2, 21.17, 21.7]]\n"
     ]
    }
   ],
   "source": [
    "temp_list_overall_C = []\n",
    "\n",
    "for temp_list_day in temp_list_overall:\n",
    "    temp_list_overall_C.append([round(temp_K - 273.15,2) for temp_K in temp_list_day])\n",
    "\n",
    "print(temp_list_overall_C)"
   ]
  },
  {
   "cell_type": "code",
   "execution_count": 20,
   "metadata": {},
   "outputs": [
    {
     "name": "stdout",
     "output_type": "stream",
     "text": [
      "[[8.57, 8.57, 8.56, 8.55, 8.54, 8.54, 8.53, 8.52, 8.51, 8.51, 8.5, 8.49, 8.48, 8.48, 8.47, 9.56, 11.9, 14.82, 17.46, 18.91, 20.53, 22.17, 22.03, 22.96], [22.09, 21.23, 19.13, 17.97, 16.78, 14.72, 13.99, 13.39, 13.01, 12.16, 11.15, 10.81, 10.45, 10.08, 10.35, 11.42, 12.49, 13.56, 14.27, 15.46, 15.98, 16.26, 16.03, 15.8], [15.64, 14.32, 12.86, 11.7, 10.76, 10.16, 9.92, 10.0, 9.36, 8.83, 8.34, 7.99, 7.44, 6.5, 6.0, 6.57, 9.25, 11.57, 12.88, 14.04, 15.53, 16.41, 16.9, 16.83], [16.45, 15.25, 13.23, 12.41, 11.3, 10.77, 10.1, 9.44, 8.77, 8.63, 8.48, 7.93, 7.49, 7.99, 6.93, 7.55, 9.83, 11.47, 13.46, 14.3, 16.07, 17.06, 16.79, 16.86], [16.7, 15.67, 14.45, 12.67, 11.43, 10.97, 10.48, 9.83, 9.53, 9.23, 8.62, 8.32, 7.91, 7.4, 7.5, 7.85, 10.34, 13.02, 14.43, 16.34, 18.96, 19.7, 19.54, 19.7], [18.9, 17.19, 14.9, 13.31, 12.22, 11.89, 11.23, 10.58, 9.92, 9.72, 7.62, 7.17, 6.86, 6.62, 6.39, 6.48, 9.33, 14.02, 16.32, 18.48, 20.27, 20.8, 21.63, 20.95], [20.47, 18.73, 16.88, 15.28, 14.0, 13.63, 13.17, 12.02, 10.63, 9.81, 9.78, 8.81, 8.87, 8.11, 7.1, 7.86, 10.0, 13.34, 16.72, 18.27, 19.31, 20.2, 21.17, 21.7]]\n"
     ]
    }
   ],
   "source": [
    "temp_list_overall_C = [[round(temp_K - 273.15,2) for temp_K in temp_list_day]\n",
    "                       for temp_list_day in temp_list_overall]\n",
    "\n",
    "print(temp_list_overall_C)"
   ]
  },
  {
   "cell_type": "markdown",
   "metadata": {
    "id": "Yc1RbE-pn6qT"
   },
   "source": [
    "Converting temperatures from Celsius to Fahrenheit scale using 'for' loop"
   ]
  },
  {
   "cell_type": "code",
   "execution_count": 21,
   "metadata": {
    "colab": {
     "base_uri": "https://localhost:8080/"
    },
    "id": "RC8mUjWsVZ5T",
    "outputId": "0fd2acb6-3c97-4cab-c112-c9ca1b8723df"
   },
   "outputs": [
    {
     "name": "stdout",
     "output_type": "stream",
     "text": [
      "[[47.43, 47.43, 47.41, 47.39, 47.37, 47.37, 47.35, 47.34, 47.32, 47.32, 47.3, 47.28, 47.26, 47.26, 47.25, 49.21, 53.42, 58.68, 63.43, 66.04, 68.95, 71.91, 71.65, 73.33], [71.76, 70.21, 66.43, 64.35, 62.2, 58.5, 57.18, 56.1, 55.42, 53.89, 52.07, 51.46, 50.81, 50.14, 50.63, 52.56, 54.48, 56.41, 57.69, 59.83, 60.76, 61.27, 60.85, 60.44], [60.15, 57.78, 55.15, 53.06, 51.37, 50.29, 49.86, 50.0, 48.85, 47.89, 47.01, 46.38, 45.39, 43.7, 42.8, 43.83, 48.65, 52.83, 55.18, 57.27, 59.95, 61.54, 62.42, 62.29], [61.61, 59.45, 55.81, 54.34, 52.34, 51.39, 50.18, 48.99, 47.79, 47.53, 47.26, 46.27, 45.48, 46.38, 44.47, 45.59, 49.69, 52.65, 56.23, 57.74, 60.93, 62.71, 62.22, 62.35], [62.06, 60.21, 58.01, 54.81, 52.57, 51.75, 50.86, 49.69, 49.15, 48.61, 47.52, 46.98, 46.24, 45.32, 45.5, 46.13, 50.61, 55.44, 57.97, 61.41, 66.13, 67.46, 67.17, 67.46], [66.02, 62.94, 58.82, 55.96, 54.0, 53.4, 52.21, 51.04, 49.86, 49.5, 45.72, 44.91, 44.35, 43.92, 43.5, 43.66, 48.79, 57.24, 61.38, 65.26, 68.49, 69.44, 70.93, 69.71], [68.85, 65.71, 62.38, 59.5, 57.2, 56.53, 55.71, 53.64, 51.13, 49.66, 49.6, 47.86, 47.97, 46.6, 44.78, 46.15, 50.0, 56.01, 62.1, 64.89, 66.76, 68.36, 70.11, 71.06]]\n"
     ]
    }
   ],
   "source": [
    "temp_f = []\n",
    "for day in temp_list_overall_C:\n",
    "    temp_f.append([round((temp * 9/5) + 32, 2) for temp in day])\n",
    "\n",
    "print(temp_f)"
   ]
  },
  {
   "cell_type": "markdown",
   "metadata": {
    "id": "0Xi7-tgxhPBX"
   },
   "source": [
    "Converting temperatures from Celsius to Fahrenheit scale using 'map' and 'lambda' functions"
   ]
  },
  {
   "cell_type": "code",
   "execution_count": 24,
   "metadata": {
    "id": "oXtU6czk9a4Z"
   },
   "outputs": [
    {
     "name": "stdout",
     "output_type": "stream",
     "text": [
      "[[47.43, 47.43, 47.41, 47.39, 47.37, 47.37, 47.35, 47.34, 47.32, 47.32, 47.3, 47.28, 47.26, 47.26, 47.25, 49.21, 53.42, 58.68, 63.43, 66.04, 68.95, 71.91, 71.65, 73.33], [71.76, 70.21, 66.43, 64.35, 62.2, 58.5, 57.18, 56.1, 55.42, 53.89, 52.07, 51.46, 50.81, 50.14, 50.63, 52.56, 54.48, 56.41, 57.69, 59.83, 60.76, 61.27, 60.85, 60.44], [60.15, 57.78, 55.15, 53.06, 51.37, 50.29, 49.86, 50.0, 48.85, 47.89, 47.01, 46.38, 45.39, 43.7, 42.8, 43.83, 48.65, 52.83, 55.18, 57.27, 59.95, 61.54, 62.42, 62.29], [61.61, 59.45, 55.81, 54.34, 52.34, 51.39, 50.18, 48.99, 47.79, 47.53, 47.26, 46.27, 45.48, 46.38, 44.47, 45.59, 49.69, 52.65, 56.23, 57.74, 60.93, 62.71, 62.22, 62.35], [62.06, 60.21, 58.01, 54.81, 52.57, 51.75, 50.86, 49.69, 49.15, 48.61, 47.52, 46.98, 46.24, 45.32, 45.5, 46.13, 50.61, 55.44, 57.97, 61.41, 66.13, 67.46, 67.17, 67.46], [66.02, 62.94, 58.82, 55.96, 54.0, 53.4, 52.21, 51.04, 49.86, 49.5, 45.72, 44.91, 44.35, 43.92, 43.5, 43.66, 48.79, 57.24, 61.38, 65.26, 68.49, 69.44, 70.93, 69.71], [68.85, 65.71, 62.38, 59.5, 57.2, 56.53, 55.71, 53.64, 51.13, 49.66, 49.6, 47.86, 47.97, 46.6, 44.78, 46.15, 50.0, 56.01, 62.1, 64.89, 66.76, 68.36, 70.11, 71.06]]\n"
     ]
    }
   ],
   "source": [
    "# Applying lambda funcions \n",
    "temp_f = list(map(lambda day: list(map(lambda temp: round((temp * 9/5) + 32, 2)\n",
    "                                       , day))\n",
    "                  , temp_list_overall_C))\n",
    "\n",
    "print(temp_f)"
   ]
  },
  {
   "cell_type": "markdown",
   "metadata": {
    "id": "dhGy_VDaqech"
   },
   "source": [
    "Temperature for the 3rd day at the 7th hour"
   ]
  },
  {
   "cell_type": "code",
   "execution_count": 26,
   "metadata": {
    "colab": {
     "base_uri": "https://localhost:8080/"
    },
    "id": "1T9irdsbnCMN",
    "outputId": "3e44b6d4-6b4f-4c7e-cb31-a4604a333ca0"
   },
   "outputs": [
    {
     "data": {
      "text/plain": [
       "9.92"
      ]
     },
     "execution_count": 26,
     "metadata": {},
     "output_type": "execute_result"
    }
   ],
   "source": [
    "temp_list_overall_C[2][6]"
   ]
  },
  {
   "cell_type": "markdown",
   "metadata": {
    "id": "S0GJUjK9qrVm"
   },
   "source": [
    "Highest temp on each day"
   ]
  },
  {
   "cell_type": "code",
   "execution_count": 29,
   "metadata": {
    "colab": {
     "base_uri": "https://localhost:8080/"
    },
    "id": "LypxVu2IWb4Z",
    "outputId": "43edcb6b-e105-4492-f7ed-4ec6e76b81f6"
   },
   "outputs": [
    {
     "data": {
      "text/plain": [
       "16.9"
      ]
     },
     "execution_count": 29,
     "metadata": {},
     "output_type": "execute_result"
    }
   ],
   "source": [
    "# Maximum temperature on the third day \n",
    "highest_temp = max(temp_list_overall_C[2])\n",
    "highest_temp"
   ]
  },
  {
   "cell_type": "markdown",
   "metadata": {
    "id": "_bCELMksGy_l"
   },
   "source": [
    "Average temperature for each day of the week"
   ]
  },
  {
   "cell_type": "code",
   "execution_count": 52,
   "metadata": {},
   "outputs": [],
   "source": [
    "#print(temp_c)"
   ]
  },
  {
   "cell_type": "code",
   "execution_count": 36,
   "metadata": {},
   "outputs": [
    {
     "data": {
      "text/plain": [
       "[12.01, 14.52, 11.24, 11.61, 12.52, 13.03, 13.99]"
      ]
     },
     "execution_count": 36,
     "metadata": {},
     "output_type": "execute_result"
    }
   ],
   "source": [
    "# Using for loops\n",
    "avg_temps_by_day = []\n",
    "\n",
    "for temp_c_by_day in temp_list_overall_C:\n",
    "    avg_temps_by_day.append(round(sum(temp_c_by_day)/len(temp_c_by_day),2))\n",
    "\n",
    "avg_temps_by_day"
   ]
  },
  {
   "cell_type": "code",
   "execution_count": 37,
   "metadata": {
    "colab": {
     "base_uri": "https://localhost:8080/"
    },
    "id": "MtsvE3mzWyLz",
    "outputId": "50c54b7d-f4bf-4cf4-d4d5-7e58c81efa7a"
   },
   "outputs": [
    {
     "data": {
      "text/plain": [
       "[12.01, 14.52, 11.24, 11.61, 12.52, 13.03, 13.99]"
      ]
     },
     "execution_count": 37,
     "metadata": {},
     "output_type": "execute_result"
    }
   ],
   "source": [
    "# Using list comprehension\n",
    "\n",
    "avg_temps_by_day = [round(sum(temp_c_by_day)/len(temp_c_by_day),2) for temp_c_by_day in temp_list_overall_C]\n",
    "avg_temps_by_day"
   ]
  },
  {
   "cell_type": "code",
   "execution_count": 34,
   "metadata": {
    "colab": {
     "base_uri": "https://localhost:8080/"
    },
    "id": "Wazo438-A-xY",
    "outputId": "81df7a7a-f1f6-4692-98c2-06071060a4de"
   },
   "outputs": [
    {
     "data": {
      "text/plain": [
       "[12.01, 14.52, 11.24, 11.61, 12.52, 13.03, 13.99]"
      ]
     },
     "execution_count": 34,
     "metadata": {},
     "output_type": "execute_result"
    }
   ],
   "source": [
    "# Using reduce function\n",
    "from functools import reduce\n",
    "\n",
    "avg_temps_by_day = [round(reduce(lambda x, y: x+y, temp_c_by_day)/len(temp_c_by_day),2)\n",
    "                    for temp_c_by_day in temp_list_overall_C]\n",
    "avg_temps_by_day"
   ]
  },
  {
   "cell_type": "markdown",
   "metadata": {
    "id": "pZs60dkrVeEY"
   },
   "source": [
    "Create a list that contains only the temperatures that are above 22 degrees Celsius.\n",
    "\n",
    "Find the number of days for which the temperature was above 22 degrees Celsius."
   ]
  },
  {
   "cell_type": "code",
   "execution_count": 43,
   "metadata": {},
   "outputs": [
    {
     "name": "stdout",
     "output_type": "stream",
     "text": [
      "[22.17, 22.03, 22.96, 22.09]\n",
      "Number of hours for which the temperature was above 22 degrees Celsius is: 4\n"
     ]
    }
   ],
   "source": [
    "# Using for loops and if conditions\n",
    "\n",
    "temps_above_22 = []\n",
    "\n",
    "for temp_c_by_day in temp_list_overall_C:\n",
    "    for temp in temp_c_by_day:\n",
    "        if temp > 22:\n",
    "            temps_above_22.append(temp)\n",
    "\n",
    "print(temps_above_22)\n",
    "print(\"Number of hours for which the temperature was above 22 degrees Celsius is: {}\".format(len(temps_above_22)))"
   ]
  },
  {
   "cell_type": "code",
   "execution_count": 44,
   "metadata": {},
   "outputs": [
    {
     "name": "stdout",
     "output_type": "stream",
     "text": [
      "[22.17, 22.03, 22.96, 22.09]\n",
      "Number of hours for which the temperature was above 22 degrees Celsius is: 4\n"
     ]
    }
   ],
   "source": [
    "# Using list comprehensions\n",
    "\n",
    "temps_above_22 = [temp for temp_c_by_day in temp_list_overall_C for temp in temp_c_by_day if temp > 22]\n",
    "\n",
    "print(temps_above_22)\n",
    "print(\"Number of hours for which the temperature was above 22 degrees Celsius is: {}\".format(len(temps_above_22)))"
   ]
  },
  {
   "cell_type": "code",
   "execution_count": 45,
   "metadata": {},
   "outputs": [
    {
     "name": "stdout",
     "output_type": "stream",
     "text": [
      "[22.17, 22.03, 22.96, 22.09]\n",
      "Number of hours for which the temperature was above 22 degrees Celsius is: 4\n"
     ]
    }
   ],
   "source": [
    "# Using filter\n",
    "temps_above_22 = list(filter(lambda x: x > 22, [temp for day in temp_list_overall_C for temp in day]))\n",
    "\n",
    "print(temps_above_22)\n",
    "print(\"Number of hours for which the temperature was above 22 degrees Celsius is: {}\".format(len(temps_above_22)))"
   ]
  },
  {
   "cell_type": "markdown",
   "metadata": {},
   "source": [
    "Define a function that finds:\n",
    "- The number of days for which the temperature was above X degrees Celsius\n",
    "- Where X is a function input"
   ]
  },
  {
   "cell_type": "code",
   "execution_count": 49,
   "metadata": {},
   "outputs": [
    {
     "data": {
      "text/plain": [
       "14"
      ]
     },
     "execution_count": 49,
     "metadata": {},
     "output_type": "execute_result"
    }
   ],
   "source": [
    "def num_hours_above_X(X):\n",
    "    return len([temp for temp_c_by_day in temp_list_overall_C for temp in temp_c_by_day if temp > X])\n",
    "\n",
    "num_hours_above_X(20)"
   ]
  },
  {
   "cell_type": "markdown",
   "metadata": {},
   "source": [
    "Deriving num_hours when the temperature was between 10 and 25 degree Celsius"
   ]
  },
  {
   "cell_type": "code",
   "execution_count": 50,
   "metadata": {},
   "outputs": [
    {
     "data": {
      "text/plain": [
       "105"
      ]
     },
     "execution_count": 50,
     "metadata": {},
     "output_type": "execute_result"
    }
   ],
   "source": [
    "len([temp for temp_c_by_day in temp_list_overall_C for temp in temp_c_by_day if temp > 10 and temp < 25])"
   ]
  },
  {
   "cell_type": "markdown",
   "metadata": {},
   "source": [
    "Use a function to find the num_hours when the temperature was between X and Y degree Celcius"
   ]
  },
  {
   "cell_type": "code",
   "execution_count": 52,
   "metadata": {},
   "outputs": [
    {
     "data": {
      "text/plain": [
       "91"
      ]
     },
     "execution_count": 52,
     "metadata": {},
     "output_type": "execute_result"
    }
   ],
   "source": [
    "def num_hours_between_X_Y(X,Y):\n",
    "    return(len([temp for temp_c_by_day in temp_list_overall_C for temp in temp_c_by_day\n",
    "                if temp > X and temp < Y]))\n",
    "\n",
    "num_hours_between_X_Y(10, 20)"
   ]
  },
  {
   "cell_type": "markdown",
   "metadata": {},
   "source": [
    "Was the temp ever recorded as exactly X deg C for any hour on day Y?"
   ]
  },
  {
   "cell_type": "code",
   "execution_count": 54,
   "metadata": {},
   "outputs": [],
   "source": [
    "day_no = 3 #0,1,2,3, ....\n",
    "deg_c = 11\n",
    "\n",
    "# round all values to zero decimal points before checking"
   ]
  },
  {
   "cell_type": "code",
   "execution_count": 55,
   "metadata": {},
   "outputs": [
    {
     "data": {
      "text/plain": [
       "True"
      ]
     },
     "execution_count": 55,
     "metadata": {},
     "output_type": "execute_result"
    }
   ],
   "source": [
    "def is_temp_recorded_at(deg_c, day_no):\n",
    "    return (deg_c in [round(temp) for temp in temp_list_overall_C[day_no]])\n",
    "\n",
    "is_temp_recorded_at(deg_c = 21, day_no = 1)"
   ]
  },
  {
   "cell_type": "code",
   "execution_count": null,
   "metadata": {},
   "outputs": [],
   "source": []
  },
  {
   "cell_type": "code",
   "execution_count": 57,
   "metadata": {
    "colab": {
     "base_uri": "https://localhost:8080/"
    },
    "id": "Q88hGwJIv3z4",
    "outputId": "878413ed-9b02-4153-a96f-410f422e7dd1"
   },
   "outputs": [
    {
     "data": {
      "text/plain": [
       "(2, 22)"
      ]
     },
     "execution_count": 57,
     "metadata": {},
     "output_type": "execute_result"
    }
   ],
   "source": [
    "# [Optional] \n",
    "# Hour at which the temperature was maximum on the third day\n",
    "def find_in_list_of_list(temp_c, char):\n",
    "    for sub_list in temp_c:\n",
    "        if char in sub_list:\n",
    "            return (temp_c.index(sub_list), sub_list.index(char))\n",
    "    raise ValueError(\"'{char}' is not in list\".format(char = char))\n",
    "\n",
    "\n",
    "find_in_list_of_list(temp_list_overall_C, highest_temp)\n"
   ]
  },
  {
   "cell_type": "code",
   "execution_count": 58,
   "metadata": {
    "colab": {
     "base_uri": "https://localhost:8080/"
    },
    "id": "qID6-3nwqfLs",
    "outputId": "ad387065-20a1-454d-c332-c4c1697761e8"
   },
   "outputs": [
    {
     "name": "stdout",
     "output_type": "stream",
     "text": [
      "Day 1: Highest temperature is 22.96 degrees Celsius\n",
      "Day 2: Highest temperature is 22.09 degrees Celsius\n",
      "Day 3: Highest temperature is 16.9 degrees Celsius\n",
      "Day 4: Highest temperature is 17.06 degrees Celsius\n",
      "Day 5: Highest temperature is 19.7 degrees Celsius\n",
      "Day 6: Highest temperature is 21.63 degrees Celsius\n",
      "Day 7: Highest temperature is 21.7 degrees Celsius\n"
     ]
    }
   ],
   "source": [
    "# Iterate over each day's temperature data\n",
    "for day, temp in enumerate(temp_list_overall_C):\n",
    "    # Find the highest temperature for the day\n",
    "    highest_temp = max(temp)\n",
    "    # Print the highest temperature and the day number\n",
    "    print(\"Day {0}: Highest temperature is {1} degrees Celsius\".format(day+1, highest_temp))"
   ]
  },
  {
   "cell_type": "markdown",
   "metadata": {
    "id": "DxnBtOj5v008"
   },
   "source": [
    "Hour of highest temp"
   ]
  },
  {
   "cell_type": "code",
   "execution_count": 59,
   "metadata": {
    "colab": {
     "base_uri": "https://localhost:8080/"
    },
    "id": "SeXtBt7csUX7",
    "outputId": "4371d1ab-8d00-414e-f15a-3c889732c31b"
   },
   "outputs": [
    {
     "name": "stdout",
     "output_type": "stream",
     "text": [
      "The highest temperature is 22.96 at hour 23\n"
     ]
    }
   ],
   "source": [
    "for day in temp_list_overall_C:\n",
    "    for i, temp in enumerate(day):\n",
    "        if temp > highest_temp:\n",
    "            highest_temp = temp\n",
    "            hour_of_highest_temp = i\n",
    "\n",
    "print(\"The highest temperature is {0} at hour {1}\".format(highest_temp, hour_of_highest_temp))"
   ]
  },
  {
   "cell_type": "markdown",
   "metadata": {
    "id": "xtt6hGjJ6TtX"
   },
   "source": [
    "Using a function to derive the num_hours when the temperature was between X-1 and X+1 degree Celcius"
   ]
  },
  {
   "cell_type": "code",
   "execution_count": 61,
   "metadata": {
    "id": "6NEpbseMORIe"
   },
   "outputs": [],
   "source": [
    "def num_hours_around_X(X):\n",
    "    num_hours = 0\n",
    "    for week in temp_list_overall_C:\n",
    "        for temp in week:\n",
    "            if temp > X-1 and temp < X+1:\n",
    "                num_hours += 1\n",
    "    return num_hours"
   ]
  },
  {
   "cell_type": "code",
   "execution_count": null,
   "metadata": {
    "colab": {
     "base_uri": "https://localhost:8080/"
    },
    "id": "_J4pYfDry1Ln",
    "outputId": "c91e538d-ec1d-4180-a46f-10d076dbb716"
   },
   "outputs": [],
   "source": [
    "num_hours_around_X(20)"
   ]
  },
  {
   "cell_type": "markdown",
   "metadata": {
    "id": "AeAvv0EODbkB"
   },
   "source": [
    "Recall the user_list that you used in the previous session to create user_id for a user. Let's now use the same list to find user_id for all users using loops."
   ]
  },
  {
   "cell_type": "code",
   "execution_count": 62,
   "metadata": {
    "colab": {
     "base_uri": "https://localhost:8080/"
    },
    "id": "KvBF181lfK0d",
    "outputId": "e7ec4648-955d-4815-d6e9-0d30ef52e968"
   },
   "outputs": [
    {
     "name": "stdout",
     "output_type": "stream",
     "text": [
      "['AK196558', 'EL198340', 'PK199429', 'BK197251', 'BW199429']\n"
     ]
    }
   ],
   "source": [
    "User_list = [['Alice Kim', 'Eric Lee', 'Paul Kim', 'Ben Kim', 'Brian Wu'], \n",
    "             [1965, 1983, 1994, 1972, 1994],\n",
    "             [58, 40, 29, 51, 29]]\n",
    "\n",
    "User_id_list = []\n",
    "\n",
    "# Loop through each name in the first sub-list of User_list\n",
    "for i in range(len(User_list[0])):\n",
    "    # Split the name into first and last name\n",
    "    first_name, last_name = User_list[0][i].split()\n",
    "    # Get the year of birth and age for the current user\n",
    "    YOB = User_list[1][i]\n",
    "    age = User_list[2][i]\n",
    "    # Create the User ID using the first letter of the first name, the last name, the year of birth, and the age\n",
    "    user_id = first_name[0] + last_name[0] + str(YOB) + str(age)\n",
    "    # Add the User ID to the User_id_list\n",
    "    User_id_list.append(user_id)\n",
    "\n",
    "# Print the user IDs\n",
    "print(User_id_list)\n"
   ]
  },
  {
   "cell_type": "code",
   "execution_count": null,
   "metadata": {},
   "outputs": [],
   "source": []
  }
 ],
 "metadata": {
  "colab": {
   "provenance": []
  },
  "kernelspec": {
   "display_name": "Python 3 (ipykernel)",
   "language": "python",
   "name": "python3"
  },
  "language_info": {
   "codemirror_mode": {
    "name": "ipython",
    "version": 3
   },
   "file_extension": ".py",
   "mimetype": "text/x-python",
   "name": "python",
   "nbconvert_exporter": "python",
   "pygments_lexer": "ipython3",
   "version": "3.12.1"
  }
 },
 "nbformat": 4,
 "nbformat_minor": 4
}
