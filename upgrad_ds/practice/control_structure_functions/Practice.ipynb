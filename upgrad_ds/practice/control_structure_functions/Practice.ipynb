{
 "cells": [
  {
   "cell_type": "markdown",
   "id": "dbab266b-5bef-4b51-acb4-e647369e609a",
   "metadata": {},
   "source": [
    "# Problem1\n",
    "\n",
    "Write a code to check if the string in input_str starts with a vowel or not. Print capital YES or NO.\n",
    "\n",
    "For example, if input_str = 'analytics' then, your output should print 'YES'.\n",
    "\n",
    "**Sample Input:**\n",
    "alpha\n",
    "\n",
    "**Sample Output:**\n",
    "YES"
   ]
  },
  {
   "cell_type": "code",
   "execution_count": 51,
   "id": "6bd4158a-dd58-44cd-adf8-c841fba5a594",
   "metadata": {},
   "outputs": [
    {
     "name": "stdin",
     "output_type": "stream",
     "text": [
      "Enter a string -  an\n"
     ]
    },
    {
     "name": "stdout",
     "output_type": "stream",
     "text": [
      "YES\n"
     ]
    }
   ],
   "source": [
    "input_str = input(\"Enter a string - \")\n",
    "\n",
    "if input_str.startswith('A') or input_str.startswith('a') or input_str.startswith('E') or input_str.startswith('e') or input_str.startswith('I') or input_str.startswith('i') or input_str.startswith('O') or input_str.startswith('o') or input_str.startswith('U') or input_str.startswith('u'):\n",
    "    print('YES')\n",
    "else:\n",
    "    print('NO')"
   ]
  },
  {
   "cell_type": "markdown",
   "id": "d2c22c7e-2987-471a-9a68-4e3d900df06a",
   "metadata": {},
   "source": [
    "# Problem2\n",
    "\n",
    "You are given a list of string elements and asked to return a list which contains each element of the string in title case or in other words first character of the string would be in upper case and remaining all characters in lower case\n",
    "\n",
    "**Sample Input:**\n",
    "['VARMA', 'raj', 'Gupta', 'SaNdeeP']\n",
    "\n",
    "\n",
    "**Sample Output**\n",
    "['Varma', 'Raj', 'Gupta', 'Sandeep']\n"
   ]
  },
  {
   "cell_type": "code",
   "execution_count": 7,
   "id": "fc862451-d83e-4f2d-83b7-58b1e3177ab2",
   "metadata": {},
   "outputs": [
    {
     "data": {
      "text/plain": [
       "['Varma', 'Raj', 'Gupta', 'Sandeep']"
      ]
     },
     "execution_count": 7,
     "metadata": {},
     "output_type": "execute_result"
    }
   ],
   "source": [
    "input_list = ['VARMA', 'raj', 'Gupta', 'SaNdeeP']\n",
    "output_list = []\n",
    "\n",
    "for element in input_list:\n",
    "    output_list.append(element.capitalize())\n",
    "\n",
    "output_list"
   ]
  },
  {
   "cell_type": "markdown",
   "id": "0636989d-ccc3-4eae-a89c-7963663256e9",
   "metadata": {},
   "source": [
    "# Problem3\n",
    "\n",
    "You are given an integer 'n' as the input. Create a list comprehension containing the squares of the integers from 1 till n^2 (including 1 and n), and print the list. \n",
    "\n",
    "For example, if the input is 4, the output should be a list as follows:\n",
    "\n",
    "[1, 4, 9, 16]\n",
    "\n",
    "The input integer 'n' is stored in the variable 'n'. "
   ]
  },
  {
   "cell_type": "code",
   "execution_count": 20,
   "id": "c0a91ee6-6222-49d9-9c5d-72086f9d6b88",
   "metadata": {},
   "outputs": [
    {
     "data": {
      "text/plain": [
       "[1, 4, 9, 16]"
      ]
     },
     "execution_count": 20,
     "metadata": {},
     "output_type": "execute_result"
    }
   ],
   "source": [
    "n = 4\n",
    "\n",
    "list_squares = [element**2 for element in range(1,n+1)]\n",
    "list_squares"
   ]
  },
  {
   "cell_type": "markdown",
   "id": "a60712e5-781a-4ec7-983d-1d07990f1bdd",
   "metadata": {},
   "source": [
    "# Problem4\n",
    "\n",
    "Extract the words that start with a vowel from a list input_list=[wood, old, apple, big, item, euphoria] using list comprehensions.\n",
    "\n",
    "**Sample Input:**\n",
    "['wood','old','apple','big','item','euphoria']\n",
    "\n",
    "**Sample Output:**\n",
    "['old', 'apple', 'item', 'euphoria']"
   ]
  },
  {
   "cell_type": "code",
   "execution_count": 23,
   "id": "91c1a044-9d2f-4ec7-9116-e5fd816ed0e0",
   "metadata": {},
   "outputs": [
    {
     "data": {
      "text/plain": [
       "['old', 'apple', 'item', 'euphoria']"
      ]
     },
     "execution_count": 23,
     "metadata": {},
     "output_type": "execute_result"
    }
   ],
   "source": [
    "input_list = ['wood','old','apple','big','item','euphoria']\n",
    "\n",
    "vowels = ('a','e','i','o','u','A','E','I','O','U')\n",
    "\n",
    "list_vowels = [word for word in input_list if word.startswith(vowels)]\n",
    "list_vowels"
   ]
  },
  {
   "cell_type": "markdown",
   "id": "d7f03753-363c-4224-ab1a-91692909dad0",
   "metadata": {},
   "source": [
    "# Problem5\n",
    "\n",
    "Create a function squared(), which takes x and y as arguments and returns the x**y value. For e.g., if x = 2 and y = 3 , then the output is 8.\n",
    "\n",
    "**Sample Input:**\n",
    "['6','7']\n",
    "\n",
    "**Sample Output:**\n",
    "279936"
   ]
  },
  {
   "cell_type": "code",
   "execution_count": 24,
   "id": "7fb7dbde-02fd-413f-8fcc-0e50b9386c09",
   "metadata": {},
   "outputs": [],
   "source": [
    "def squared(x,y):\n",
    "    result = x**y\n",
    "    return result"
   ]
  },
  {
   "cell_type": "code",
   "execution_count": 25,
   "id": "aa11b81d-b712-4083-90d4-bdff5d08103e",
   "metadata": {},
   "outputs": [
    {
     "data": {
      "text/plain": [
       "8"
      ]
     },
     "execution_count": 25,
     "metadata": {},
     "output_type": "execute_result"
    }
   ],
   "source": [
    "squared(2,3)"
   ]
  },
  {
   "cell_type": "code",
   "execution_count": 31,
   "id": "d1e1fee2-fdd5-416a-8145-ae127f1502b6",
   "metadata": {},
   "outputs": [
    {
     "data": {
      "text/plain": [
       "279936"
      ]
     },
     "execution_count": 31,
     "metadata": {},
     "output_type": "execute_result"
    }
   ],
   "source": [
    "squared(6,7)"
   ]
  },
  {
   "cell_type": "markdown",
   "id": "0b56f67f-01e9-4bb5-92ce-606e1e2786e5",
   "metadata": {},
   "source": [
    "# Problem6\n",
    "\n",
    "Create a lambda function 'greater', which takes two arguments x and y and return x if x>y otherwise y.\n",
    "\n",
    "If x = 2 and y= 3, then the output should be 3.\n",
    "\n",
    "**Sample Input:**\n",
    "['9','3']\n",
    "\n",
    "**Sample Output:**\n",
    "9\n"
   ]
  },
  {
   "cell_type": "code",
   "execution_count": 37,
   "id": "f06f11d5-3b68-4468-a192-c16d005662f0",
   "metadata": {},
   "outputs": [],
   "source": [
    "greater = lambda x,y=3: x if x>y else y"
   ]
  },
  {
   "cell_type": "code",
   "execution_count": 38,
   "id": "b684d949-5e40-47b0-b8ff-181c3873130b",
   "metadata": {},
   "outputs": [
    {
     "data": {
      "text/plain": [
       "9"
      ]
     },
     "execution_count": 38,
     "metadata": {},
     "output_type": "execute_result"
    }
   ],
   "source": [
    "greater(9,3)"
   ]
  },
  {
   "cell_type": "code",
   "execution_count": 39,
   "id": "06ccc783-6697-4175-9a13-0b770cd286a6",
   "metadata": {},
   "outputs": [
    {
     "data": {
      "text/plain": [
       "<function __main__.<lambda>(x, y=3)>"
      ]
     },
     "execution_count": 39,
     "metadata": {},
     "output_type": "execute_result"
    }
   ],
   "source": [
    "greater"
   ]
  },
  {
   "cell_type": "code",
   "execution_count": 41,
   "id": "00c04f45-96aa-4602-8ce4-35f2977dedb7",
   "metadata": {},
   "outputs": [
    {
     "data": {
      "text/plain": [
       "10"
      ]
     },
     "execution_count": 41,
     "metadata": {},
     "output_type": "execute_result"
    }
   ],
   "source": [
    "greater(10)"
   ]
  },
  {
   "cell_type": "markdown",
   "id": "8ae7f9aa-e915-456e-84eb-1fbb4b74ee97",
   "metadata": {},
   "source": [
    "# Problem 6\n",
    "\n",
    "Using the function Map, count the number of words that start with ‘S’ in input_list.\n",
    "\n",
    "**Sample Input:**\n",
    "['Santa Cruz','Santa fe','Mumbai','Delhi']\n",
    "\n",
    "**Sample Output:**\n",
    "2"
   ]
  },
  {
   "cell_type": "code",
   "execution_count": 8,
   "id": "219069cb-84a4-4ca3-aa2d-b347b856e17c",
   "metadata": {},
   "outputs": [
    {
     "data": {
      "text/plain": [
       "2"
      ]
     },
     "execution_count": 8,
     "metadata": {},
     "output_type": "execute_result"
    }
   ],
   "source": [
    "input_list = ['Santa Cruz','Santa fe','Mumbai','Delhi']\n",
    "\n",
    "count = list(map(lambda word: word.startswith('S'),input_list)).count(True)\n",
    "\n",
    "count"
   ]
  },
  {
   "cell_type": "code",
   "execution_count": 9,
   "id": "bddffc50-8229-446c-859f-a270af51fab5",
   "metadata": {},
   "outputs": [
    {
     "data": {
      "text/plain": [
       "2"
      ]
     },
     "execution_count": 9,
     "metadata": {},
     "output_type": "execute_result"
    }
   ],
   "source": [
    "# Alternative solution\n",
    "\n",
    "input_list = ['Santa Cruz','Santa fe','Mumbai','Delhi']\n",
    "\n",
    "count = len(list(filter(lambda word: word.startswith('S'),input_list)))\n",
    "\n",
    "count"
   ]
  },
  {
   "cell_type": "markdown",
   "id": "91636cce-73d9-4dc3-ae99-f0d8148f4fc8",
   "metadata": {},
   "source": [
    "# Problem 7\n",
    "\n",
    "Create a list ‘name’ consisting of the combination of the first name and the second name from list 1 and 2 respectively. \n",
    "\n",
    "For e.g. if the input list is:\n",
    "[ ['Ankur', 'Avik', 'Kiran', 'Nitin'], ['Narang', 'Sarkar', 'R', 'Sareen']]\n",
    "\n",
    "the output list should be the list:\n",
    "['Ankur Narang', 'Avik Sarkar', 'Kiran R', 'Nitin Sareen']\n",
    "\n",
    "Note: Add a space between first name and last name."
   ]
  },
  {
   "cell_type": "code",
   "execution_count": 11,
   "id": "6292e022-affb-4e62-8557-5e48df675d13",
   "metadata": {},
   "outputs": [
    {
     "data": {
      "text/plain": [
       "['Ankur Narang', 'Avik Sarkar', 'Kiran R', 'Nitin Sareen']"
      ]
     },
     "execution_count": 11,
     "metadata": {},
     "output_type": "execute_result"
    }
   ],
   "source": [
    "input_list = [ ['Ankur', 'Avik', 'Kiran', 'Nitin'], ['Narang', 'Sarkar', 'R', 'Sareen']]\n",
    "\n",
    "first_name = input_list[0]\n",
    "last_name = input_list[1]\n",
    "\n",
    "name = [firstName+' '+lastName for firstName,lastName in zip(first_name,last_name)]\n",
    "\n",
    "name\n",
    "    "
   ]
  },
  {
   "cell_type": "code",
   "execution_count": 13,
   "id": "c8135a6a-ffc4-49d7-beae-b0184c7fa3d6",
   "metadata": {},
   "outputs": [
    {
     "data": {
      "text/plain": [
       "['Ankur Narang', 'Avik Narang', 'Kiran Narang', 'Nitin Narang']"
      ]
     },
     "execution_count": 13,
     "metadata": {},
     "output_type": "execute_result"
    }
   ],
   "source": [
    "# Another Solution\n",
    "\n",
    "input_list = [ ['Ankur', 'Avik', 'Kiran', 'Nitin'], ['Narang', 'Sarkar', 'R', 'Sareen']]\n",
    "\n",
    "first_name = input_list[0]\n",
    "last_name = input_list[1]\n",
    "\n",
    "full_name = []\n",
    "\n",
    "for firstName in first_name:\n",
    "    for lastName in last_name:\n",
    "        full_name.append(firstName+' '+lastName)\n",
    "        break\n",
    "\n",
    "full_name\n",
    "        "
   ]
  },
  {
   "cell_type": "code",
   "execution_count": 2,
   "id": "11a9d617-5f7a-468c-b9d8-65dc2a71c942",
   "metadata": {},
   "outputs": [
    {
     "name": "stdout",
     "output_type": "stream",
     "text": [
      "['Ankur Narang', 'Avik Sarkar', 'Kiran R', 'Nitin Sareen']\n"
     ]
    }
   ],
   "source": [
    "# Another Solution\n",
    "input_list = [ ['Ankur', 'Avik', 'Kiran', 'Nitin'], ['Narang', 'Sarkar', 'R', 'Sareen']]\n",
    "\n",
    "first_name = input_list[0]\n",
    "last_name = input_list[1]\n",
    "\n",
    "full_name = list(map(lambda firstName, lastName: firstName + ' ' + lastName , first_name,last_name))\n",
    "\n",
    "print(full_name)"
   ]
  },
  {
   "cell_type": "markdown",
   "id": "eba03c33-aa85-4c7a-81c9-c3fcda69d241",
   "metadata": {},
   "source": [
    "# Problem 8\n",
    "\n",
    "Extract a list of numbers that are multiples of 5 from a list of integers named input_list.\n",
    "\n",
    "**Sample Input:**\n",
    "[1, 2, 3, 4, 5, 6, 7, 8, 9, 10, 11, 12, 13, 14, 15, 16, 17, 18, 19, 20, 21, 22, 23, 24, 25, 26, 27, 28, 29, 30, 31, 32, 33, 34, 35, 36, 37, 38, 39, 40, 41, 42, 43, 44, 45, 46, 47, 48, 49, 50]\n",
    "\n",
    "\n",
    "**Sample Output:**\n",
    "[5, 10, 15, 20, 25, 30, 35, 40, 45, 50]"
   ]
  },
  {
   "cell_type": "code",
   "execution_count": 15,
   "id": "f601c98c-c76d-48cd-bea3-4903618757f2",
   "metadata": {},
   "outputs": [
    {
     "data": {
      "text/plain": [
       "[5, 10, 15, 20, 25, 30, 35, 40, 45, 50]"
      ]
     },
     "execution_count": 15,
     "metadata": {},
     "output_type": "execute_result"
    }
   ],
   "source": [
    "input_list = [1, 2, 3, 4, 5, 6, 7, 8, 9, 10, 11, 12, 13, 14, 15, 16, 17, 18, 19, 20, 21, 22, 23, 24, 25, 26, 27, 28, 29, 30, 31, 32, 33, 34, 35, 36, 37, 38, 39, 40, 41, 42, 43, 44, 45, 46, 47, 48, 49, 50]\n",
    "\n",
    "list_multiple_5 = list(filter(lambda num: num%5==0, input_list))\n",
    "\n",
    "list_multiple_5"
   ]
  },
  {
   "cell_type": "code",
   "execution_count": 18,
   "id": "7183427b-0c9f-407f-86fa-53a52f49844f",
   "metadata": {},
   "outputs": [
    {
     "data": {
      "text/plain": [
       "[5, 10, 15, 20, 25, 30, 35, 40, 45, 50]"
      ]
     },
     "execution_count": 18,
     "metadata": {},
     "output_type": "execute_result"
    }
   ],
   "source": [
    "# Alternative Solution\n",
    "\n",
    "input_list = [1, 2, 3, 4, 5, 6, 7, 8, 9, 10, 11, 12, 13, 14, 15, 16, 17, 18, 19, 20, 21, 22, 23, 24, 25, 26, 27, 28, 29, 30, 31, 32, 33, 34, 35, 36, 37, 38, 39, 40, 41, 42, 43, 44, 45, 46, 47, 48, 49, 50]\n",
    "\n",
    "list_multiple_5 = [num for num in input_list if num%5==0]\n",
    "\n",
    "list_multiple_5\n"
   ]
  },
  {
   "cell_type": "markdown",
   "id": "8cf9e4c8-632a-4a76-a909-ef46a86d4caa",
   "metadata": {},
   "source": [
    "# Problem 9\n",
    "\n",
    "You are given a list of strings such as input_list = ['hdjk', 'salsap', 'sherpa'].\n",
    "\n",
    "Extract a list of names that start with an ‘s’ and end with a ‘p’ (both 's' and 'p' are lowercase) in input_list.\n",
    "\n",
    "**Sample Input:**\n",
    "['soap','sharp','shy','silent','ship','summer','sheep']\n",
    "\n",
    "**Sample Output:**\n",
    "['soap', 'sharp', 'ship', 'sheep']"
   ]
  },
  {
   "cell_type": "code",
   "execution_count": 21,
   "id": "ab479523-44da-4071-ad53-310b1d83f278",
   "metadata": {},
   "outputs": [
    {
     "data": {
      "text/plain": [
       "['soap', 'sharp', 'ship', 'sheep']"
      ]
     },
     "execution_count": 21,
     "metadata": {},
     "output_type": "execute_result"
    }
   ],
   "source": [
    "input_list = ['soap','sharp','shy','silent','ship','summer','sheep']\n",
    "\n",
    "list_sp = [word for word in input_list if word.lower().startswith('s') and word.lower().endswith('p')]\n",
    "\n",
    "list_sp"
   ]
  },
  {
   "cell_type": "code",
   "execution_count": 23,
   "id": "29978c47-e521-4800-8ec2-7b7900ea70f3",
   "metadata": {},
   "outputs": [
    {
     "data": {
      "text/plain": [
       "['soap', 'sharp', 'ship', 'sheep']"
      ]
     },
     "execution_count": 23,
     "metadata": {},
     "output_type": "execute_result"
    }
   ],
   "source": [
    "#Alternative approach\n",
    "\n",
    "input_list = ['soap','sharp','shy','silent','ship','summer','sheep']\n",
    "\n",
    "list_sp = list(filter(lambda word: word.lower().startswith('s') and word.lower().endswith('p') , input_list))\n",
    "\n",
    "list_sp"
   ]
  },
  {
   "cell_type": "markdown",
   "id": "f7c479d6-fa98-41a3-918b-f4bfd2c936d2",
   "metadata": {},
   "source": [
    "# Problem 10\n",
    "\n",
    "Using the Reduce function, concatenate a list of words in input_list, and print the output as a string.\n",
    "\n",
    "If input_list = ['I','Love','Python'], the output should be the string 'I Love Python'.\n",
    "\n",
    "**Sample Input:**\n",
    "['All','you','have','to','fear','is','fear','itself']\n",
    "\n",
    "**Sample Output:**\n",
    "All you have to fear is fear itself"
   ]
  },
  {
   "cell_type": "code",
   "execution_count": 25,
   "id": "52060326-b798-4ee4-ab6e-cba86c6c5795",
   "metadata": {},
   "outputs": [
    {
     "data": {
      "text/plain": [
       "'All you have to fear is fear itself'"
      ]
     },
     "execution_count": 25,
     "metadata": {},
     "output_type": "execute_result"
    }
   ],
   "source": [
    "from functools import reduce\n",
    "\n",
    "input_list = ['All','you','have','to','fear','is','fear','itself']\n",
    "\n",
    "sentence = reduce(lambda x,y: x+' '+y, input_list)\n",
    "\n",
    "sentence"
   ]
  },
  {
   "cell_type": "markdown",
   "id": "54af7922-45a9-4c5e-80a3-26551844526b",
   "metadata": {},
   "source": [
    "# Problem 11\n",
    "\n",
    "You are given a list of numbers such as input_list = [31, 63, 76, 89]. Find and print the largest number in input_list using the reduce() function.\n",
    "\n",
    "**Sample Input:**\n",
    "[65,76,87,23,12,90,99]\n",
    "\n",
    "**Sample Output:**\n",
    "99"
   ]
  },
  {
   "cell_type": "code",
   "execution_count": 30,
   "id": "38dae04b-b488-44d0-873e-f2cb14af96b3",
   "metadata": {},
   "outputs": [
    {
     "data": {
      "text/plain": [
       "99"
      ]
     },
     "execution_count": 30,
     "metadata": {},
     "output_type": "execute_result"
    }
   ],
   "source": [
    "from functools import reduce\n",
    "\n",
    "input_list = [65,76,87,23,12,90,99]\n",
    "\n",
    "largest_num = reduce(lambda x,y: x if x>y else y,input_list)\n",
    "\n",
    "largest_num"
   ]
  },
  {
   "cell_type": "code",
   "execution_count": null,
   "id": "f5b30bc4-b3b5-46a1-9990-977c456ac875",
   "metadata": {},
   "outputs": [],
   "source": []
  }
 ],
 "metadata": {
  "kernelspec": {
   "display_name": "Python 3 (ipykernel)",
   "language": "python",
   "name": "python3"
  },
  "language_info": {
   "codemirror_mode": {
    "name": "ipython",
    "version": 3
   },
   "file_extension": ".py",
   "mimetype": "text/x-python",
   "name": "python",
   "nbconvert_exporter": "python",
   "pygments_lexer": "ipython3",
   "version": "3.12.1"
  }
 },
 "nbformat": 4,
 "nbformat_minor": 5
}
