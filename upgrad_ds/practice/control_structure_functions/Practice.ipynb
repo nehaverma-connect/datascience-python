{
 "cells": [
  {
   "cell_type": "markdown",
   "id": "dbab266b-5bef-4b51-acb4-e647369e609a",
   "metadata": {},
   "source": [
    "# Problem1\n",
    "\n",
    "Write a code to check if the string in input_str starts with a vowel or not. Print capital YES or NO.\n",
    "\n",
    "For example, if input_str = 'analytics' then, your output should print 'YES'.\n",
    "\n",
    "**Sample Input:**\n",
    "alpha\n",
    "\n",
    "**Sample Output:**\n",
    "YES"
   ]
  },
  {
   "cell_type": "code",
   "execution_count": 51,
   "id": "6bd4158a-dd58-44cd-adf8-c841fba5a594",
   "metadata": {},
   "outputs": [
    {
     "name": "stdin",
     "output_type": "stream",
     "text": [
      "Enter a string -  an\n"
     ]
    },
    {
     "name": "stdout",
     "output_type": "stream",
     "text": [
      "YES\n"
     ]
    }
   ],
   "source": [
    "input_str = input(\"Enter a string - \")\n",
    "\n",
    "if input_str.startswith('A') or input_str.startswith('a') or input_str.startswith('E') or input_str.startswith('e') or input_str.startswith('I') or input_str.startswith('i') or input_str.startswith('O') or input_str.startswith('o') or input_str.startswith('U') or input_str.startswith('u'):\n",
    "    print('YES')\n",
    "else:\n",
    "    print('NO')"
   ]
  },
  {
   "cell_type": "markdown",
   "id": "d2c22c7e-2987-471a-9a68-4e3d900df06a",
   "metadata": {},
   "source": [
    "# Problem2\n",
    "\n",
    "You are given a list of string elements and asked to return a list which contains each element of the string in title case or in other words first character of the string would be in upper case and remaining all characters in lower case\n",
    "\n",
    "**Sample Input:**\n",
    "['VARMA', 'raj', 'Gupta', 'SaNdeeP']\n",
    "\n",
    "\n",
    "**Sample Output**\n",
    "['Varma', 'Raj', 'Gupta', 'Sandeep']\n"
   ]
  },
  {
   "cell_type": "code",
   "execution_count": 7,
   "id": "fc862451-d83e-4f2d-83b7-58b1e3177ab2",
   "metadata": {},
   "outputs": [
    {
     "data": {
      "text/plain": [
       "['Varma', 'Raj', 'Gupta', 'Sandeep']"
      ]
     },
     "execution_count": 7,
     "metadata": {},
     "output_type": "execute_result"
    }
   ],
   "source": [
    "input_list = ['VARMA', 'raj', 'Gupta', 'SaNdeeP']\n",
    "output_list = []\n",
    "\n",
    "for element in input_list:\n",
    "    output_list.append(element.capitalize())\n",
    "\n",
    "output_list"
   ]
  },
  {
   "cell_type": "markdown",
   "id": "0636989d-ccc3-4eae-a89c-7963663256e9",
   "metadata": {},
   "source": [
    "# Problem3\n",
    "\n",
    "You are given an integer 'n' as the input. Create a list comprehension containing the squares of the integers from 1 till n^2 (including 1 and n), and print the list. \n",
    "\n",
    "For example, if the input is 4, the output should be a list as follows:\n",
    "\n",
    "[1, 4, 9, 16]\n",
    "\n",
    "The input integer 'n' is stored in the variable 'n'. "
   ]
  },
  {
   "cell_type": "code",
   "execution_count": 20,
   "id": "c0a91ee6-6222-49d9-9c5d-72086f9d6b88",
   "metadata": {},
   "outputs": [
    {
     "data": {
      "text/plain": [
       "[1, 4, 9, 16]"
      ]
     },
     "execution_count": 20,
     "metadata": {},
     "output_type": "execute_result"
    }
   ],
   "source": [
    "n = 4\n",
    "\n",
    "list_squares = [element**2 for element in range(1,n+1)]\n",
    "list_squares"
   ]
  },
  {
   "cell_type": "markdown",
   "id": "a60712e5-781a-4ec7-983d-1d07990f1bdd",
   "metadata": {},
   "source": [
    "# Problem4\n",
    "\n",
    "Extract the words that start with a vowel from a list input_list=[wood, old, apple, big, item, euphoria] using list comprehensions.\n",
    "\n",
    "**Sample Input:**\n",
    "['wood','old','apple','big','item','euphoria']\n",
    "\n",
    "**Sample Output:**\n",
    "['old', 'apple', 'item', 'euphoria']"
   ]
  },
  {
   "cell_type": "code",
   "execution_count": 23,
   "id": "91c1a044-9d2f-4ec7-9116-e5fd816ed0e0",
   "metadata": {},
   "outputs": [
    {
     "data": {
      "text/plain": [
       "['old', 'apple', 'item', 'euphoria']"
      ]
     },
     "execution_count": 23,
     "metadata": {},
     "output_type": "execute_result"
    }
   ],
   "source": [
    "input_list = ['wood','old','apple','big','item','euphoria']\n",
    "\n",
    "vowels = ('a','e','i','o','u','A','E','I','O','U')\n",
    "\n",
    "list_vowels = [word for word in input_list if word.startswith(vowels)]\n",
    "list_vowels"
   ]
  },
  {
   "cell_type": "markdown",
   "id": "d7f03753-363c-4224-ab1a-91692909dad0",
   "metadata": {},
   "source": [
    "# Problem5\n",
    "\n",
    "Create a function squared(), which takes x and y as arguments and returns the x**y value. For e.g., if x = 2 and y = 3 , then the output is 8.\n",
    "\n",
    "**Sample Input:**\n",
    "['6','7']\n",
    "\n",
    "**Sample Output:**\n",
    "279936"
   ]
  },
  {
   "cell_type": "code",
   "execution_count": 24,
   "id": "7fb7dbde-02fd-413f-8fcc-0e50b9386c09",
   "metadata": {},
   "outputs": [],
   "source": [
    "def squared(x,y):\n",
    "    result = x**y\n",
    "    return result"
   ]
  },
  {
   "cell_type": "code",
   "execution_count": 25,
   "id": "aa11b81d-b712-4083-90d4-bdff5d08103e",
   "metadata": {},
   "outputs": [
    {
     "data": {
      "text/plain": [
       "8"
      ]
     },
     "execution_count": 25,
     "metadata": {},
     "output_type": "execute_result"
    }
   ],
   "source": [
    "squared(2,3)"
   ]
  },
  {
   "cell_type": "code",
   "execution_count": 31,
   "id": "d1e1fee2-fdd5-416a-8145-ae127f1502b6",
   "metadata": {},
   "outputs": [
    {
     "data": {
      "text/plain": [
       "279936"
      ]
     },
     "execution_count": 31,
     "metadata": {},
     "output_type": "execute_result"
    }
   ],
   "source": [
    "squared(6,7)"
   ]
  },
  {
   "cell_type": "markdown",
   "id": "0b56f67f-01e9-4bb5-92ce-606e1e2786e5",
   "metadata": {},
   "source": [
    "# Problem6\n",
    "\n",
    "Create a lambda function 'greater', which takes two arguments x and y and return x if x>y otherwise y.\n",
    "\n",
    "If x = 2 and y= 3, then the output should be 3.\n",
    "\n",
    "**Sample Input:**\n",
    "['9','3']\n",
    "\n",
    "**Sample Output:**\n",
    "9\n"
   ]
  },
  {
   "cell_type": "code",
   "execution_count": 37,
   "id": "f06f11d5-3b68-4468-a192-c16d005662f0",
   "metadata": {},
   "outputs": [],
   "source": [
    "greater = lambda x,y=3: x if x>y else y"
   ]
  },
  {
   "cell_type": "code",
   "execution_count": 38,
   "id": "b684d949-5e40-47b0-b8ff-181c3873130b",
   "metadata": {},
   "outputs": [
    {
     "data": {
      "text/plain": [
       "9"
      ]
     },
     "execution_count": 38,
     "metadata": {},
     "output_type": "execute_result"
    }
   ],
   "source": [
    "greater(9,3)"
   ]
  },
  {
   "cell_type": "code",
   "execution_count": 39,
   "id": "06ccc783-6697-4175-9a13-0b770cd286a6",
   "metadata": {},
   "outputs": [
    {
     "data": {
      "text/plain": [
       "<function __main__.<lambda>(x, y=3)>"
      ]
     },
     "execution_count": 39,
     "metadata": {},
     "output_type": "execute_result"
    }
   ],
   "source": [
    "greater"
   ]
  },
  {
   "cell_type": "code",
   "execution_count": 41,
   "id": "00c04f45-96aa-4602-8ce4-35f2977dedb7",
   "metadata": {},
   "outputs": [
    {
     "data": {
      "text/plain": [
       "10"
      ]
     },
     "execution_count": 41,
     "metadata": {},
     "output_type": "execute_result"
    }
   ],
   "source": [
    "greater(10)"
   ]
  },
  {
   "cell_type": "markdown",
   "id": "8ae7f9aa-e915-456e-84eb-1fbb4b74ee97",
   "metadata": {},
   "source": [
    "# Problem 6\n",
    "\n",
    "Using the function Map, count the number of words that start with ‘S’ in input_list.\n",
    "\n",
    "**Sample Input:**\n",
    "['Santa Cruz','Santa fe','Mumbai','Delhi']\n",
    "\n",
    "**Sample Output:**\n",
    "2"
   ]
  },
  {
   "cell_type": "code",
   "execution_count": 8,
   "id": "219069cb-84a4-4ca3-aa2d-b347b856e17c",
   "metadata": {},
   "outputs": [
    {
     "data": {
      "text/plain": [
       "2"
      ]
     },
     "execution_count": 8,
     "metadata": {},
     "output_type": "execute_result"
    }
   ],
   "source": [
    "input_list = ['Santa Cruz','Santa fe','Mumbai','Delhi']\n",
    "\n",
    "count = list(map(lambda word: word.startswith('S'),input_list)).count(True)\n",
    "\n",
    "count"
   ]
  },
  {
   "cell_type": "code",
   "execution_count": 9,
   "id": "bddffc50-8229-446c-859f-a270af51fab5",
   "metadata": {},
   "outputs": [
    {
     "data": {
      "text/plain": [
       "2"
      ]
     },
     "execution_count": 9,
     "metadata": {},
     "output_type": "execute_result"
    }
   ],
   "source": [
    "# Alternative solution\n",
    "\n",
    "input_list = ['Santa Cruz','Santa fe','Mumbai','Delhi']\n",
    "\n",
    "count = len(list(filter(lambda word: word.startswith('S'),input_list)))\n",
    "\n",
    "count"
   ]
  },
  {
   "cell_type": "markdown",
   "id": "91636cce-73d9-4dc3-ae99-f0d8148f4fc8",
   "metadata": {},
   "source": [
    "# Problem 7\n",
    "\n",
    "Create a list ‘name’ consisting of the combination of the first name and the second name from list 1 and 2 respectively. \n",
    "\n",
    "For e.g. if the input list is:\n",
    "[ ['Ankur', 'Avik', 'Kiran', 'Nitin'], ['Narang', 'Sarkar', 'R', 'Sareen']]\n",
    "\n",
    "the output list should be the list:\n",
    "['Ankur Narang', 'Avik Sarkar', 'Kiran R', 'Nitin Sareen']\n",
    "\n",
    "Note: Add a space between first name and last name."
   ]
  },
  {
   "cell_type": "code",
   "execution_count": 11,
   "id": "6292e022-affb-4e62-8557-5e48df675d13",
   "metadata": {},
   "outputs": [
    {
     "data": {
      "text/plain": [
       "['Ankur Narang', 'Avik Sarkar', 'Kiran R', 'Nitin Sareen']"
      ]
     },
     "execution_count": 11,
     "metadata": {},
     "output_type": "execute_result"
    }
   ],
   "source": [
    "input_list = [ ['Ankur', 'Avik', 'Kiran', 'Nitin'], ['Narang', 'Sarkar', 'R', 'Sareen']]\n",
    "\n",
    "first_name = input_list[0]\n",
    "last_name = input_list[1]\n",
    "\n",
    "name = [firstName+' '+lastName for firstName,lastName in zip(first_name,last_name)]\n",
    "\n",
    "name\n",
    "    "
   ]
  },
  {
   "cell_type": "code",
   "execution_count": 13,
   "id": "c8135a6a-ffc4-49d7-beae-b0184c7fa3d6",
   "metadata": {},
   "outputs": [
    {
     "data": {
      "text/plain": [
       "['Ankur Narang', 'Avik Narang', 'Kiran Narang', 'Nitin Narang']"
      ]
     },
     "execution_count": 13,
     "metadata": {},
     "output_type": "execute_result"
    }
   ],
   "source": [
    "# Another Solution\n",
    "\n",
    "input_list = [ ['Ankur', 'Avik', 'Kiran', 'Nitin'], ['Narang', 'Sarkar', 'R', 'Sareen']]\n",
    "\n",
    "first_name = input_list[0]\n",
    "last_name = input_list[1]\n",
    "\n",
    "full_name = []\n",
    "\n",
    "for firstName in first_name:\n",
    "    for lastName in last_name:\n",
    "        full_name.append(firstName+' '+lastName)\n",
    "        break\n",
    "\n",
    "full_name\n",
    "        "
   ]
  },
  {
   "cell_type": "code",
   "execution_count": 2,
   "id": "11a9d617-5f7a-468c-b9d8-65dc2a71c942",
   "metadata": {},
   "outputs": [
    {
     "name": "stdout",
     "output_type": "stream",
     "text": [
      "['Ankur Narang', 'Avik Sarkar', 'Kiran R', 'Nitin Sareen']\n"
     ]
    }
   ],
   "source": [
    "# Another Solution\n",
    "input_list = [ ['Ankur', 'Avik', 'Kiran', 'Nitin'], ['Narang', 'Sarkar', 'R', 'Sareen']]\n",
    "\n",
    "first_name = input_list[0]\n",
    "last_name = input_list[1]\n",
    "\n",
    "full_name = list(map(lambda firstName, lastName: firstName + ' ' + lastName , first_name,last_name))\n",
    "\n",
    "print(full_name)"
   ]
  },
  {
   "cell_type": "markdown",
   "id": "eba03c33-aa85-4c7a-81c9-c3fcda69d241",
   "metadata": {},
   "source": [
    "# Problem 8\n",
    "\n",
    "Extract a list of numbers that are multiples of 5 from a list of integers named input_list.\n",
    "\n",
    "**Sample Input:**\n",
    "[1, 2, 3, 4, 5, 6, 7, 8, 9, 10, 11, 12, 13, 14, 15, 16, 17, 18, 19, 20, 21, 22, 23, 24, 25, 26, 27, 28, 29, 30, 31, 32, 33, 34, 35, 36, 37, 38, 39, 40, 41, 42, 43, 44, 45, 46, 47, 48, 49, 50]\n",
    "\n",
    "\n",
    "**Sample Output:**\n",
    "[5, 10, 15, 20, 25, 30, 35, 40, 45, 50]"
   ]
  },
  {
   "cell_type": "code",
   "execution_count": 15,
   "id": "f601c98c-c76d-48cd-bea3-4903618757f2",
   "metadata": {},
   "outputs": [
    {
     "data": {
      "text/plain": [
       "[5, 10, 15, 20, 25, 30, 35, 40, 45, 50]"
      ]
     },
     "execution_count": 15,
     "metadata": {},
     "output_type": "execute_result"
    }
   ],
   "source": [
    "input_list = [1, 2, 3, 4, 5, 6, 7, 8, 9, 10, 11, 12, 13, 14, 15, 16, 17, 18, 19, 20, 21, 22, 23, 24, 25, 26, 27, 28, 29, 30, 31, 32, 33, 34, 35, 36, 37, 38, 39, 40, 41, 42, 43, 44, 45, 46, 47, 48, 49, 50]\n",
    "\n",
    "list_multiple_5 = list(filter(lambda num: num%5==0, input_list))\n",
    "\n",
    "list_multiple_5"
   ]
  },
  {
   "cell_type": "code",
   "execution_count": 18,
   "id": "7183427b-0c9f-407f-86fa-53a52f49844f",
   "metadata": {},
   "outputs": [
    {
     "data": {
      "text/plain": [
       "[5, 10, 15, 20, 25, 30, 35, 40, 45, 50]"
      ]
     },
     "execution_count": 18,
     "metadata": {},
     "output_type": "execute_result"
    }
   ],
   "source": [
    "# Alternative Solution\n",
    "\n",
    "input_list = [1, 2, 3, 4, 5, 6, 7, 8, 9, 10, 11, 12, 13, 14, 15, 16, 17, 18, 19, 20, 21, 22, 23, 24, 25, 26, 27, 28, 29, 30, 31, 32, 33, 34, 35, 36, 37, 38, 39, 40, 41, 42, 43, 44, 45, 46, 47, 48, 49, 50]\n",
    "\n",
    "list_multiple_5 = [num for num in input_list if num%5==0]\n",
    "\n",
    "list_multiple_5\n"
   ]
  },
  {
   "cell_type": "markdown",
   "id": "8cf9e4c8-632a-4a76-a909-ef46a86d4caa",
   "metadata": {},
   "source": [
    "# Problem 9\n",
    "\n",
    "You are given a list of strings such as input_list = ['hdjk', 'salsap', 'sherpa'].\n",
    "\n",
    "Extract a list of names that start with an ‘s’ and end with a ‘p’ (both 's' and 'p' are lowercase) in input_list.\n",
    "\n",
    "**Sample Input:**\n",
    "['soap','sharp','shy','silent','ship','summer','sheep']\n",
    "\n",
    "**Sample Output:**\n",
    "['soap', 'sharp', 'ship', 'sheep']"
   ]
  },
  {
   "cell_type": "code",
   "execution_count": 21,
   "id": "ab479523-44da-4071-ad53-310b1d83f278",
   "metadata": {},
   "outputs": [
    {
     "data": {
      "text/plain": [
       "['soap', 'sharp', 'ship', 'sheep']"
      ]
     },
     "execution_count": 21,
     "metadata": {},
     "output_type": "execute_result"
    }
   ],
   "source": [
    "input_list = ['soap','sharp','shy','silent','ship','summer','sheep']\n",
    "\n",
    "list_sp = [word for word in input_list if word.lower().startswith('s') and word.lower().endswith('p')]\n",
    "\n",
    "list_sp"
   ]
  },
  {
   "cell_type": "code",
   "execution_count": 23,
   "id": "29978c47-e521-4800-8ec2-7b7900ea70f3",
   "metadata": {},
   "outputs": [
    {
     "data": {
      "text/plain": [
       "['soap', 'sharp', 'ship', 'sheep']"
      ]
     },
     "execution_count": 23,
     "metadata": {},
     "output_type": "execute_result"
    }
   ],
   "source": [
    "#Alternative approach\n",
    "\n",
    "input_list = ['soap','sharp','shy','silent','ship','summer','sheep']\n",
    "\n",
    "list_sp = list(filter(lambda word: word.lower().startswith('s') and word.lower().endswith('p') , input_list))\n",
    "\n",
    "list_sp"
   ]
  },
  {
   "cell_type": "markdown",
   "id": "f7c479d6-fa98-41a3-918b-f4bfd2c936d2",
   "metadata": {},
   "source": [
    "# Problem 10\n",
    "\n",
    "Using the Reduce function, concatenate a list of words in input_list, and print the output as a string.\n",
    "\n",
    "If input_list = ['I','Love','Python'], the output should be the string 'I Love Python'.\n",
    "\n",
    "**Sample Input:**\n",
    "['All','you','have','to','fear','is','fear','itself']\n",
    "\n",
    "**Sample Output:**\n",
    "All you have to fear is fear itself"
   ]
  },
  {
   "cell_type": "code",
   "execution_count": 25,
   "id": "52060326-b798-4ee4-ab6e-cba86c6c5795",
   "metadata": {},
   "outputs": [
    {
     "data": {
      "text/plain": [
       "'All you have to fear is fear itself'"
      ]
     },
     "execution_count": 25,
     "metadata": {},
     "output_type": "execute_result"
    }
   ],
   "source": [
    "from functools import reduce\n",
    "\n",
    "input_list = ['All','you','have','to','fear','is','fear','itself']\n",
    "\n",
    "sentence = reduce(lambda x,y: x+' '+y, input_list)\n",
    "\n",
    "sentence"
   ]
  },
  {
   "cell_type": "markdown",
   "id": "54af7922-45a9-4c5e-80a3-26551844526b",
   "metadata": {},
   "source": [
    "# Problem 11\n",
    "\n",
    "You are given a list of numbers such as input_list = [31, 63, 76, 89]. Find and print the largest number in input_list using the reduce() function.\n",
    "\n",
    "**Sample Input:**\n",
    "[65,76,87,23,12,90,99]\n",
    "\n",
    "**Sample Output:**\n",
    "99"
   ]
  },
  {
   "cell_type": "code",
   "execution_count": 30,
   "id": "38dae04b-b488-44d0-873e-f2cb14af96b3",
   "metadata": {},
   "outputs": [
    {
     "data": {
      "text/plain": [
       "99"
      ]
     },
     "execution_count": 30,
     "metadata": {},
     "output_type": "execute_result"
    }
   ],
   "source": [
    "from functools import reduce\n",
    "\n",
    "input_list = [65,76,87,23,12,90,99]\n",
    "\n",
    "largest_num = reduce(lambda x,y: x if x>y else y,input_list)\n",
    "\n",
    "largest_num"
   ]
  },
  {
   "cell_type": "markdown",
   "id": "ed31d8a7-036e-4a88-80fc-1cf3c2a5b0f1",
   "metadata": {},
   "source": [
    "# Problem 12\n",
    "\n",
    "Even numbers in a list\n",
    "\n",
    "Description\n",
    "Given a list of integers, write a python code to find all the even numbers present in the list.\n",
    "\n",
    "\n",
    "\n",
    "Note: Try using lambda and filter functions to solve the problem.\n",
    "\n",
    "\n",
    "\n",
    "Input: A list of integers\n",
    "\n",
    "Output: A list of integers\n",
    "\n",
    "\n",
    "\n",
    "----------------------------------------------------------------------\n",
    "\n",
    "\n",
    "\n",
    "Sample input: [5, 7, 22, 97, 54, 62, 77, 23, 73, 61] \n",
    "\n",
    "Sample output: [22, 54, 62]\n",
    "\n",
    "\n",
    "\n",
    "----------------------------------------------------------------------\n",
    "\n",
    "\n",
    "\n",
    "Sample input: [500, 789, 2112, 9097, 5894, 9062, 8977, 1223, 773, 600]\n",
    "\n",
    "Sample output: [500, 2112, 5894, 9062, 600]\n",
    "\n",
    "\n",
    "\n",
    "----------------------------------------------------------------------"
   ]
  },
  {
   "cell_type": "code",
   "execution_count": 5,
   "id": "ae176e3d-655b-4bce-abe2-e35422e76fdb",
   "metadata": {},
   "outputs": [
    {
     "name": "stdin",
     "output_type": "stream",
     "text": [
      " [5, 7, 22, 97, 54, 62, 77, 23, 73, 61]\n"
     ]
    },
    {
     "name": "stdout",
     "output_type": "stream",
     "text": [
      "[22, 54, 62]\n"
     ]
    }
   ],
   "source": [
    "import ast\n",
    "\n",
    "input_list = ast.literal_eval(input())\n",
    "\n",
    "even_list = list(filter(lambda x: x%2==0, input_list))\n",
    "\n",
    "print(even_list)"
   ]
  },
  {
   "cell_type": "markdown",
   "id": "451bbc66-5292-4ebc-aa28-721d2f10715e",
   "metadata": {},
   "source": [
    "# Problem 13\n",
    "\n",
    "Triple the list elements\n",
    "\n",
    "Description\n",
    "Given a list of integers, write a python code to triple all the values in the list.\n",
    "\n",
    "\n",
    "\n",
    "Note: Try using lambda and map functions to solve the problem.\n",
    "\n",
    "\n",
    "\n",
    "Input: A list of integers\n",
    "\n",
    "Output: A list of integers\n",
    "\n",
    "\n",
    "\n",
    "----------------------------------------------------------------------\n",
    "\n",
    "\n",
    "\n",
    "Sample input: [5, 7, 22, 97, 54, 62, 77, 23, 73, 61]\n",
    "\n",
    "Output: [15, 21, 66, 291, 162, 186, 231, 69, 219, 183]\n",
    "\n",
    "\n",
    "\n",
    "----------------------------------------------------------------------\n",
    "\n",
    "\n",
    "\n",
    "Sample input: [15, 71, 2, 9, 5, 6, 11, 3, 7, 6]\n",
    "\n",
    "Output: [45, 213, 6, 27, 15, 18, 33, 9, 21, 18]\n",
    "\n",
    "\n",
    "\n",
    "----------------------------------------------------------------------"
   ]
  },
  {
   "cell_type": "code",
   "execution_count": 6,
   "id": "0b294155-d87a-453a-9dbc-e7706ad1f1d8",
   "metadata": {},
   "outputs": [
    {
     "name": "stdin",
     "output_type": "stream",
     "text": [
      " [5, 7, 22, 97, 54, 62, 77, 23, 73, 61]\n"
     ]
    },
    {
     "name": "stdout",
     "output_type": "stream",
     "text": [
      "[15, 21, 66, 291, 162, 186, 231, 69, 219, 183]\n"
     ]
    }
   ],
   "source": [
    "import ast\n",
    "\n",
    "input_list = ast.literal_eval(input())\n",
    "\n",
    "triple_list = list(map(lambda x: x*3, input_list))\n",
    "\n",
    "print(triple_list)"
   ]
  },
  {
   "cell_type": "markdown",
   "id": "980140b1-4772-4861-b610-f8f8b815ecab",
   "metadata": {},
   "source": [
    "# Problem 14\n",
    "\n",
    "Encrypt elements in a list\n",
    "\n",
    "Description\n",
    "A company stores the names of their employees in a list. They want to encrypt the names so that no one can read them and the data stays safe. One of the steps in encrypting is to reverse each name in the list and convert them to uppercase and your task is to write a Python code to execute the same.\n",
    "\n",
    "\n",
    "\n",
    "Note: Use lambda and map functions.\n",
    "\n",
    "\n",
    "\n",
    "Input: A list of names\n",
    "\n",
    "Output: A list of encrypted names\n",
    "\n",
    "\n",
    "\n",
    "----------------------------------------------------------------------\n",
    "\n",
    "\n",
    "\n",
    "Sample input: ['Ronaldo', 'Cristiano', 'Rakesh', 'Ronak']\n",
    "\n",
    "Sample output: ['ODLANOR', 'ONAITSIRC', 'HSEKAR', 'KANOR']\n",
    "\n",
    "\n",
    "\n",
    "----------------------------------------------------------------------\n",
    "\n",
    "\n",
    "\n",
    "Sample input: ['Abhay', 'Aravind', 'Desilva', 'Darpan']\n",
    "\n",
    "Sample output: ['YAHBA', 'DNIVARA', 'AVLISED', 'NAPRAD']\n",
    "\n",
    "\n",
    "\n",
    "----------------------------------------------------------------------"
   ]
  },
  {
   "cell_type": "code",
   "execution_count": 7,
   "id": "837544fc-b2ee-453d-8284-9dec6ba9c5b8",
   "metadata": {},
   "outputs": [
    {
     "name": "stdin",
     "output_type": "stream",
     "text": [
      " ['Ronaldo', 'Cristiano', 'Rakesh', 'Ronak']\n"
     ]
    },
    {
     "name": "stdout",
     "output_type": "stream",
     "text": [
      "['ODLANOR', 'ONAITSIRC', 'HSEKAR', 'KANOR']\n"
     ]
    }
   ],
   "source": [
    "import ast\n",
    "\n",
    "input_list = ast.literal_eval(input())\n",
    "\n",
    "encrypt_list = list(map(lambda name: name[::-1].upper(), input_list))\n",
    "\n",
    "print(encrypt_list)"
   ]
  },
  {
   "cell_type": "markdown",
   "id": "0589a0e3-3aa2-4547-98db-f29258d5c889",
   "metadata": {},
   "source": [
    "# Problem 15\n",
    "\n",
    "Sorting a dictionary\n",
    "\n",
    "Description\n",
    "Given is a list consisting of dictionary elements. Each dictionary contains the name of a student as a first item and his/her corresponding rank as the second item. Your task is to write a Python program to print the list (dictionary elements) in a sorted ascending order according to student ranks. In case the rank of two or more students are the same, then sort them in ascending order (alphabetically) according to their names.\n",
    "\n",
    "\n",
    "\n",
    "Note: Use the sorted() function to solve the question.\n",
    "\n",
    "\n",
    "\n",
    "Input: Dictionary\n",
    "\n",
    "Output: Dictionary\n",
    "\n",
    "\n",
    "\n",
    "----------------------------------------------------------------------\n",
    "\n",
    "\n",
    "\n",
    "Sample input: [{ \"name\" : \"Arpit\", \"rank\" : 20}, { \"name\" : \"Manjeet\", \"rank\" : 20 },{ \"name\" : \"Aravind\" , \"rank\" : 19 }]\n",
    "\n",
    "Sample output: [{ \"name\" : \"Aravind\" , \"rank\" : 19 }, { \"name\" : \"Arpit\", \"rank\" : 20}, { \"name\" : \"Manjeet\", \"rank\" : 20 },\n",
    "\n",
    "]\n",
    "\n",
    "\n",
    "\n",
    "----------------------------------------------------------------------\n",
    "\n",
    "\n",
    "\n",
    "Sample input: [{ \"name\" : \"Mohan\", \"rank\" : 2}, { \"name\" : \"Mandeep\", \"rank\" : 2 },\n",
    "\n",
    "{ \"name\" : \"Merut\" , \"rank\" : 2 }]\n",
    "\n",
    "\n",
    "\n",
    "Sample output: [{'name': 'Mandeep', 'rank': 2}, {'name': 'Merut', 'rank': 2}, {'name': 'Mohan', 'rank': 2}]\n",
    "\n",
    "\n",
    "\n",
    "----------------------------------------------------------------------"
   ]
  },
  {
   "cell_type": "code",
   "execution_count": 15,
   "id": "6fd24155-1177-4213-8894-c51a25b8eccc",
   "metadata": {
    "scrolled": true
   },
   "outputs": [
    {
     "name": "stdin",
     "output_type": "stream",
     "text": [
      " [{ \"name\" : \"Mohan\", \"rank\" : 2}, { \"name\" : \"Mandeep\", \"rank\" : 2 },  { \"name\" : \"Merut\" , \"rank\" : 2 }]\n"
     ]
    },
    {
     "name": "stdout",
     "output_type": "stream",
     "text": [
      "[{'name': 'Mandeep', 'rank': 2}, {'name': 'Merut', 'rank': 2}, {'name': 'Mohan', 'rank': 2}]\n"
     ]
    }
   ],
   "source": [
    "import ast\n",
    "\n",
    "input_students = ast.literal_eval(input())\n",
    "\n",
    "print(sorted(input_students, key = lambda student: (student['rank'], student['name'])))"
   ]
  },
  {
   "cell_type": "markdown",
   "id": "a9ed617b-a221-4477-8b1d-1bab5a664b70",
   "metadata": {},
   "source": [
    "# Problem 16\n",
    "\n",
    "Intersection of lists\n",
    "\n",
    "Description\n",
    "In ‘ABC’ university, company ‘XYZ’ conducted three rounds of interviews to recruit students. Those students who passed all the rounds were selected. The company released the results for each round in a separate list. Your task is to write a Python code to display the list of the students who passed all the three rounds.\n",
    "\n",
    "\n",
    "\n",
    "Note: a. Name of the person can be given in uppercase or lowercase.\n",
    "\n",
    "\n",
    "\n",
    " b. Print the names in lowercase in the output.\n",
    "\n",
    "\n",
    "\n",
    "Input: List\n",
    "\n",
    "List\n",
    "\n",
    "List\n",
    "\n",
    "\n",
    "\n",
    "Output: List\n",
    "\n",
    "\n",
    "\n",
    "----------------------------------------------------------------------\n",
    "\n",
    "\n",
    "\n",
    "Sample input: ['Arkam', 'Bairstow', 'Cairy', 'Darpan'] \n",
    "\n",
    " ['ARKAM', 'Bairstow', 'Cairy', 'Darpan', 'Dhoni', 'Sachin']\n",
    "\n",
    " ['arkam', 'bairstow', 'Cheteshwar', 'Dinesh']\n",
    "\n",
    "        \n",
    "\n",
    "Sample output: ['arkam', 'bairstow']\n",
    "\n",
    "\n",
    "\n",
    "----------------------------------------------------------------------\n",
    "\n",
    "\n",
    "\n",
    "Sample input: ['Pranay', 'Aditya', 'Deepesh', 'Sandesh']\n",
    "\n",
    "['Pranoy', 'Surya', 'Cairy', 'Vignesh', 'ADITYA', 'SANDesh']\n",
    "\n",
    "['Vardhan', 'Shailesh', 'aditya', 'sandesh']\n",
    "\n",
    "        \n",
    "\n",
    "Sample output: ['aditya', 'sandesh']\n",
    "\n",
    "\n",
    "\n",
    "----------------------------------------------------------------------\n",
    "\n",
    "Sample input: ['Siddharth', 'Gaurav', 'Prasad', 'Kuldeep', 'karna']\n",
    "\n",
    "['siddharth', 'Gaurav', 'Prasad', 'Kuldeep', 'karna']\n",
    "\n",
    "['Siddharth', 'gaurav', 'PRASAD', 'KuLDEEp', 'KARNA']\n",
    "\n",
    "\n",
    "\n",
    "Sample output: ['siddharth', 'gaurav', 'prasad', 'kuldeep', 'karna']"
   ]
  },
  {
   "cell_type": "code",
   "execution_count": 1,
   "id": "96f1c0b6-0f92-45d7-afc2-ada27a19e3f0",
   "metadata": {},
   "outputs": [
    {
     "name": "stdin",
     "output_type": "stream",
     "text": [
      " ['Pranay', 'Aditya', 'Deepesh', 'Sandesh']\n",
      " ['Pranoy', 'Surya', 'Cairy', 'Vignesh', 'ADITYA', 'SANDesh']\n",
      " ['Vardhan', 'Shailesh', 'aditya', 'sandesh']\n"
     ]
    },
    {
     "name": "stdout",
     "output_type": "stream",
     "text": [
      "['aditya', 'sandesh']\n"
     ]
    }
   ],
   "source": [
    "import ast\n",
    "\n",
    "round1 = ast.literal_eval(input()) #['Pranay', 'Aditya', 'Deepesh', 'Sandesh']\n",
    "\n",
    "round2 = ast.literal_eval(input()) #['Pranoy', 'Surya', 'Cairy', 'Vignesh', 'ADITYA', 'SANDesh']\n",
    "\n",
    "round3 = ast.literal_eval(input()) #['Vardhan', 'Shailesh', 'aditya', 'sandesh']\n",
    "\n",
    "round1_selected = list(map(lambda x: x.lower(),round1))\n",
    "\n",
    "round2_selected = list(map(lambda x: x.lower(),round2))\n",
    "\n",
    "round3_selected = list(map(lambda x: x.lower(),round3))\n",
    "\n",
    "result = [x for x in round1_selected if x in round1_selected and x in round2_selected and x in round3_selected]\n",
    "\n",
    "print(list(result))"
   ]
  },
  {
   "cell_type": "markdown",
   "id": "9530974b-d191-4c5c-ad7f-5dab85b61f34",
   "metadata": {},
   "source": [
    "# Problem 17\n",
    "\n",
    "Sorting a list of dictionary elements\n",
    "\n",
    "Description\n",
    "A teacher decided to divide the class into groups to conduct fun activities. Each group had one or more members in it. The data is provided in the form of a list with dictionary elements. The key and value in each dictionary correspond to the student’s roll number and his/her name.\n",
    "\n",
    "\n",
    "\n",
    "In case the length of two or more dictionaries are the same, then the dictionary that occurs first in the input list will also appear first among the other dictionaries of the same length.\n",
    "\n",
    "\n",
    "\n",
    "Your task is to write a Python program to sort the list in descending order with respect to the group strength.﻿\n",
    "\n",
    "\n",
    "\n",
    "Note: Use lambda and sorted functions to solve the question.\n",
    "\n",
    "\n",
    "\n",
    "Input: List\n",
    "\n",
    "Output: List\n",
    "\n",
    "\n",
    "\n",
    "----------------------------------------------------------------------\n",
    "\n",
    "\n",
    "\n",
    "Sample input: [{4: 'Viking', 9: 'Happy', 10: 'Tony', 2: 'Rogers'}, {12: 'Vikram', 19: 'Vipan'}, {3: 'Kohli'}, {1: 'Ronaldo', 29: 'Harish', 7: 'Ganesh'}]\n",
    "\n",
    "\n",
    "\n",
    "Sample output: [{4: 'Viking', 9: 'Happy', 10: 'Tony', 2: 'Rogers'}, {1: 'Ronaldo', 29: 'Harish', 7: 'Ganesh'}, {12: 'Vikram', 19: 'Vipan'}, {3: 'Kohli'}]\n",
    "\n",
    "\n",
    "\n",
    "----------------------------------------------------------------------\n",
    "\n",
    "\n",
    "\n",
    "Sample input: [{14: 'Darpan', 19: 'Harry', 10: 'Julia'}, {12: 'Ethan', 19: 'Rogers'}, {3: 'Kohli', 1: 'Neymar', 29: 'Sachin', 7: 'Ramesh'}]\n",
    "\n",
    "\n",
    "\n",
    "Sample output: [{3: 'Kohli', 1: 'Neymar', 29: 'Sachin', 7: 'Ramesh'}, {14: 'Darpan', 19: 'Harry', 10: 'Julia'}, {12: 'Ethan', 19: 'Rogers'}]\n",
    "\n",
    "\n",
    "\n",
    "----------------------------------------------------------------------"
   ]
  },
  {
   "cell_type": "code",
   "execution_count": 20,
   "id": "ea6fbe08-e390-4a0c-9611-8d4acf8d2546",
   "metadata": {},
   "outputs": [
    {
     "name": "stdin",
     "output_type": "stream",
     "text": [
      " [{4: 'Viking', 9: 'Happy', 10: 'Tony', 2: 'Rogers'}, {12: 'Vikram', 19: 'Vipan'}, {3: 'Kohli'}, {1: 'Ronaldo', 29: 'Harish', 7: 'Ganesh'}]\n"
     ]
    },
    {
     "name": "stdout",
     "output_type": "stream",
     "text": [
      "[{4: 'Viking', 9: 'Happy', 10: 'Tony', 2: 'Rogers'}, {1: 'Ronaldo', 29: 'Harish', 7: 'Ganesh'}, {12: 'Vikram', 19: 'Vipan'}, {3: 'Kohli'}]\n"
     ]
    }
   ],
   "source": [
    "import ast\n",
    "\n",
    "input_group = ast.literal_eval(input())\n",
    "\n",
    "print(sorted(input_group, key=lambda group:len(group), reverse=True))"
   ]
  },
  {
   "cell_type": "code",
   "execution_count": null,
   "id": "246378a2-c9cf-4973-8970-5c37686bb93a",
   "metadata": {},
   "outputs": [],
   "source": []
  }
 ],
 "metadata": {
  "kernelspec": {
   "display_name": "Python 3 (ipykernel)",
   "language": "python",
   "name": "python3"
  },
  "language_info": {
   "codemirror_mode": {
    "name": "ipython",
    "version": 3
   },
   "file_extension": ".py",
   "mimetype": "text/x-python",
   "name": "python",
   "nbconvert_exporter": "python",
   "pygments_lexer": "ipython3",
   "version": "3.12.1"
  }
 },
 "nbformat": 4,
 "nbformat_minor": 5
}
