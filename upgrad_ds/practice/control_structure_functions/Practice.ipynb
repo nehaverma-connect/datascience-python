{
 "cells": [
  {
   "cell_type": "markdown",
   "id": "dbab266b-5bef-4b51-acb4-e647369e609a",
   "metadata": {},
   "source": [
    "# Problem1\n",
    "\n",
    "Write a code to check if the string in input_str starts with a vowel or not. Print capital YES or NO.\n",
    "\n",
    "For example, if input_str = 'analytics' then, your output should print 'YES'.\n",
    "\n",
    "**Sample Input:**\n",
    "alpha\n",
    "\n",
    "**Sample Output:**\n",
    "YES"
   ]
  },
  {
   "cell_type": "code",
   "execution_count": 51,
   "id": "6bd4158a-dd58-44cd-adf8-c841fba5a594",
   "metadata": {},
   "outputs": [
    {
     "name": "stdin",
     "output_type": "stream",
     "text": [
      "Enter a string -  an\n"
     ]
    },
    {
     "name": "stdout",
     "output_type": "stream",
     "text": [
      "YES\n"
     ]
    }
   ],
   "source": [
    "input_str = input(\"Enter a string - \")\n",
    "\n",
    "if input_str.startswith('A') or input_str.startswith('a') or input_str.startswith('E') or input_str.startswith('e') or input_str.startswith('I') or input_str.startswith('i') or input_str.startswith('O') or input_str.startswith('o') or input_str.startswith('U') or input_str.startswith('u'):\n",
    "    print('YES')\n",
    "else:\n",
    "    print('NO')"
   ]
  },
  {
   "cell_type": "markdown",
   "id": "d2c22c7e-2987-471a-9a68-4e3d900df06a",
   "metadata": {},
   "source": [
    "# Problem2\n",
    "\n",
    "You are given a list of string elements and asked to return a list which contains each element of the string in title case or in other words first character of the string would be in upper case and remaining all characters in lower case\n",
    "\n",
    "**Sample Input:**\n",
    "['VARMA', 'raj', 'Gupta', 'SaNdeeP']\n",
    "\n",
    "\n",
    "**Sample Output**\n",
    "['Varma', 'Raj', 'Gupta', 'Sandeep']\n"
   ]
  },
  {
   "cell_type": "code",
   "execution_count": 7,
   "id": "fc862451-d83e-4f2d-83b7-58b1e3177ab2",
   "metadata": {},
   "outputs": [
    {
     "data": {
      "text/plain": [
       "['Varma', 'Raj', 'Gupta', 'Sandeep']"
      ]
     },
     "execution_count": 7,
     "metadata": {},
     "output_type": "execute_result"
    }
   ],
   "source": [
    "input_list = ['VARMA', 'raj', 'Gupta', 'SaNdeeP']\n",
    "output_list = []\n",
    "\n",
    "for element in input_list:\n",
    "    output_list.append(element.capitalize())\n",
    "\n",
    "output_list"
   ]
  },
  {
   "cell_type": "markdown",
   "id": "0636989d-ccc3-4eae-a89c-7963663256e9",
   "metadata": {},
   "source": [
    "# Problem3\n",
    "\n",
    "You are given an integer 'n' as the input. Create a list comprehension containing the squares of the integers from 1 till n^2 (including 1 and n), and print the list. \n",
    "\n",
    "For example, if the input is 4, the output should be a list as follows:\n",
    "\n",
    "[1, 4, 9, 16]\n",
    "\n",
    "The input integer 'n' is stored in the variable 'n'. "
   ]
  },
  {
   "cell_type": "code",
   "execution_count": 20,
   "id": "c0a91ee6-6222-49d9-9c5d-72086f9d6b88",
   "metadata": {},
   "outputs": [
    {
     "data": {
      "text/plain": [
       "[1, 4, 9, 16]"
      ]
     },
     "execution_count": 20,
     "metadata": {},
     "output_type": "execute_result"
    }
   ],
   "source": [
    "n = 4\n",
    "\n",
    "list_squares = [element**2 for element in range(1,n+1)]\n",
    "list_squares"
   ]
  },
  {
   "cell_type": "markdown",
   "id": "a60712e5-781a-4ec7-983d-1d07990f1bdd",
   "metadata": {},
   "source": [
    "# Problem4\n",
    "\n",
    "Extract the words that start with a vowel from a list input_list=[wood, old, apple, big, item, euphoria] using list comprehensions.\n",
    "\n",
    "**Sample Input:**\n",
    "['wood','old','apple','big','item','euphoria']\n",
    "\n",
    "**Sample Output:**\n",
    "['old', 'apple', 'item', 'euphoria']"
   ]
  },
  {
   "cell_type": "code",
   "execution_count": 23,
   "id": "91c1a044-9d2f-4ec7-9116-e5fd816ed0e0",
   "metadata": {},
   "outputs": [
    {
     "data": {
      "text/plain": [
       "['old', 'apple', 'item', 'euphoria']"
      ]
     },
     "execution_count": 23,
     "metadata": {},
     "output_type": "execute_result"
    }
   ],
   "source": [
    "input_list = ['wood','old','apple','big','item','euphoria']\n",
    "\n",
    "vowels = ('a','e','i','o','u','A','E','I','O','U')\n",
    "\n",
    "list_vowels = [word for word in input_list if word.startswith(vowels)]\n",
    "list_vowels"
   ]
  },
  {
   "cell_type": "markdown",
   "id": "d7f03753-363c-4224-ab1a-91692909dad0",
   "metadata": {},
   "source": [
    "# Problem5\n",
    "\n",
    "Create a function squared(), which takes x and y as arguments and returns the x**y value. For e.g., if x = 2 and y = 3 , then the output is 8.\n",
    "\n",
    "**Sample Input:**\n",
    "['6','7']\n",
    "\n",
    "**Sample Output:**\n",
    "279936"
   ]
  },
  {
   "cell_type": "code",
   "execution_count": 24,
   "id": "7fb7dbde-02fd-413f-8fcc-0e50b9386c09",
   "metadata": {},
   "outputs": [],
   "source": [
    "def squared(x,y):\n",
    "    result = x**y\n",
    "    return result"
   ]
  },
  {
   "cell_type": "code",
   "execution_count": 25,
   "id": "aa11b81d-b712-4083-90d4-bdff5d08103e",
   "metadata": {},
   "outputs": [
    {
     "data": {
      "text/plain": [
       "8"
      ]
     },
     "execution_count": 25,
     "metadata": {},
     "output_type": "execute_result"
    }
   ],
   "source": [
    "squared(2,3)"
   ]
  },
  {
   "cell_type": "code",
   "execution_count": 31,
   "id": "d1e1fee2-fdd5-416a-8145-ae127f1502b6",
   "metadata": {},
   "outputs": [
    {
     "data": {
      "text/plain": [
       "279936"
      ]
     },
     "execution_count": 31,
     "metadata": {},
     "output_type": "execute_result"
    }
   ],
   "source": [
    "squared(6,7)"
   ]
  },
  {
   "cell_type": "markdown",
   "id": "0b56f67f-01e9-4bb5-92ce-606e1e2786e5",
   "metadata": {},
   "source": [
    "# Problem6\n",
    "\n",
    "Create a lambda function 'greater', which takes two arguments x and y and return x if x>y otherwise y.\n",
    "\n",
    "If x = 2 and y= 3, then the output should be 3.\n",
    "\n",
    "**Sample Input:**\n",
    "['9','3']\n",
    "\n",
    "**Sample Output:**\n",
    "9\n"
   ]
  },
  {
   "cell_type": "code",
   "execution_count": 37,
   "id": "f06f11d5-3b68-4468-a192-c16d005662f0",
   "metadata": {},
   "outputs": [],
   "source": [
    "greater = lambda x,y=3: x if x>y else y"
   ]
  },
  {
   "cell_type": "code",
   "execution_count": 38,
   "id": "b684d949-5e40-47b0-b8ff-181c3873130b",
   "metadata": {},
   "outputs": [
    {
     "data": {
      "text/plain": [
       "9"
      ]
     },
     "execution_count": 38,
     "metadata": {},
     "output_type": "execute_result"
    }
   ],
   "source": [
    "greater(9,3)"
   ]
  },
  {
   "cell_type": "code",
   "execution_count": 39,
   "id": "06ccc783-6697-4175-9a13-0b770cd286a6",
   "metadata": {},
   "outputs": [
    {
     "data": {
      "text/plain": [
       "<function __main__.<lambda>(x, y=3)>"
      ]
     },
     "execution_count": 39,
     "metadata": {},
     "output_type": "execute_result"
    }
   ],
   "source": [
    "greater"
   ]
  },
  {
   "cell_type": "code",
   "execution_count": 41,
   "id": "00c04f45-96aa-4602-8ce4-35f2977dedb7",
   "metadata": {},
   "outputs": [
    {
     "data": {
      "text/plain": [
       "10"
      ]
     },
     "execution_count": 41,
     "metadata": {},
     "output_type": "execute_result"
    }
   ],
   "source": [
    "greater(10)"
   ]
  },
  {
   "cell_type": "code",
   "execution_count": null,
   "id": "8217d960-bd66-45ea-94da-25c93c26f428",
   "metadata": {},
   "outputs": [],
   "source": []
  }
 ],
 "metadata": {
  "kernelspec": {
   "display_name": "Python 3 (ipykernel)",
   "language": "python",
   "name": "python3"
  },
  "language_info": {
   "codemirror_mode": {
    "name": "ipython",
    "version": 3
   },
   "file_extension": ".py",
   "mimetype": "text/x-python",
   "name": "python",
   "nbconvert_exporter": "python",
   "pygments_lexer": "ipython3",
   "version": "3.12.1"
  }
 },
 "nbformat": 4,
 "nbformat_minor": 5
}
