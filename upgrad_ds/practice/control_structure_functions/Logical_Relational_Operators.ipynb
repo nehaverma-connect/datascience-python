{
 "cells": [
  {
   "cell_type": "code",
   "execution_count": 6,
   "id": "c12ddf12-c4af-4bbf-ae19-3a9c55060ae1",
   "metadata": {},
   "outputs": [
    {
     "name": "stdout",
     "output_type": "stream",
     "text": [
      "Lesser!\n"
     ]
    }
   ],
   "source": [
    "x = 5\n",
    "y = 10\n",
    "\n",
    "a = 4\n",
    "b = 1\n",
    "\n",
    "if x>y and a>b:\n",
    "    print('Greater!')\n",
    "else:\n",
    "    print('Lesser!')"
   ]
  },
  {
   "cell_type": "code",
   "execution_count": 7,
   "id": "6f11178b-4c3b-4b9c-83cf-bad6643cc353",
   "metadata": {},
   "outputs": [
    {
     "name": "stdout",
     "output_type": "stream",
     "text": [
      "0\n"
     ]
    }
   ],
   "source": [
    "print(10 & 4)"
   ]
  },
  {
   "cell_type": "code",
   "execution_count": 8,
   "id": "0f19618c-0a40-42b1-a391-8c563960de76",
   "metadata": {},
   "outputs": [
    {
     "name": "stdout",
     "output_type": "stream",
     "text": [
      "5\n"
     ]
    }
   ],
   "source": [
    "print(5 & 7)"
   ]
  },
  {
   "cell_type": "code",
   "execution_count": 11,
   "id": "2f19c499-dbc8-49d0-a129-c8365de922a9",
   "metadata": {},
   "outputs": [
    {
     "name": "stdout",
     "output_type": "stream",
     "text": [
      "Yes\n"
     ]
    }
   ],
   "source": [
    "X = 1001\n",
    "if (X > 1000 and X < 1100):\n",
    "    print('Yes')\n",
    "else:\n",
    "    print('No')"
   ]
  },
  {
   "cell_type": "code",
   "execution_count": null,
   "id": "3d26f270-2afc-4745-9ee8-7eefef9a574a",
   "metadata": {},
   "outputs": [],
   "source": []
  }
 ],
 "metadata": {
  "kernelspec": {
   "display_name": "Python 3 (ipykernel)",
   "language": "python",
   "name": "python3"
  },
  "language_info": {
   "codemirror_mode": {
    "name": "ipython",
    "version": 3
   },
   "file_extension": ".py",
   "mimetype": "text/x-python",
   "name": "python",
   "nbconvert_exporter": "python",
   "pygments_lexer": "ipython3",
   "version": "3.12.1"
  }
 },
 "nbformat": 4,
 "nbformat_minor": 5
}
