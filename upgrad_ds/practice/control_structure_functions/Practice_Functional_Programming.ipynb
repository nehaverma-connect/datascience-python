{
 "cells": [
  {
   "cell_type": "markdown",
   "metadata": {
    "colab_type": "text",
    "id": "oHccLE5Adigd"
   },
   "source": [
    "# Control Structures"
   ]
  },
  {
   "cell_type": "markdown",
   "metadata": {
    "colab_type": "text",
    "id": "qp1r-3XTdigg"
   },
   "source": [
    "### Question \n",
    "\n",
    "\n",
    "A word is said to belong to the red team if it has the letter r in it.\n",
    "Write an 'if' statement to check whether the given word belongs to the red team or not.\n"
   ]
  },
  {
   "cell_type": "code",
   "execution_count": 4,
   "metadata": {
    "colab": {},
    "colab_type": "code",
    "id": "dKtFKt-Rdigi",
    "outputId": "be7c23b4-de2f-46dd-c04b-57eefb207b3c"
   },
   "outputs": [
    {
     "name": "stdin",
     "output_type": "stream",
     "text": [
      "Enter a word -  nj\n"
     ]
    },
    {
     "name": "stdout",
     "output_type": "stream",
     "text": [
      "The word nj doesn't belong to red team!\n"
     ]
    }
   ],
   "source": [
    "# write code here\n",
    "input_string = input('Enter a word - ')\n",
    "\n",
    "input_string = input_string.lower()\n",
    "\n",
    "if 'r' in input_string:\n",
    "    print(f'The word {input_string} belongs to red team!')\n",
    "else:\n",
    "    print(f\"The word {input_string} doesn't belong to red team!\")"
   ]
  },
  {
   "cell_type": "code",
   "execution_count": 7,
   "metadata": {},
   "outputs": [
    {
     "name": "stdout",
     "output_type": "stream",
     "text": [
      "The word cater belongs to red team!\n"
     ]
    }
   ],
   "source": [
    "input_string = 'cater'\n",
    "\n",
    "is_red_team = lambda word: print(f'The word {word} belongs to red team!') if 'r' in word.lower() else print(f\"The word {word} doesn't belong to red team!\")\n",
    "\n",
    "is_red_team(input_string)"
   ]
  },
  {
   "cell_type": "markdown",
   "metadata": {
    "colab_type": "text",
    "id": "IWcRXMZRdigp"
   },
   "source": [
    "### Question \n",
    "\n",
    "In continuation to previous example, if the word has the letter 'b', it belongs to the blue team. And if the word has both 'r' and 'b' then first letter gets a precedence. And if the word does not have the letter 'r' or 'b', it does not belong to any team. \n",
    "######Example: (word,output)                \n",
    "*   rabbit = red team\n",
    "*   brand =  blue team\n",
    "*   dog   =  no team\n",
    "\n",
    "\n",
    "Write a condition for this decision. \n"
   ]
  },
  {
   "cell_type": "code",
   "execution_count": 14,
   "metadata": {
    "colab": {},
    "colab_type": "code",
    "id": "YsuN3HUcdigr",
    "outputId": "6489f091-cf54-4c3c-ab4d-4f961356860e"
   },
   "outputs": [
    {
     "name": "stdin",
     "output_type": "stream",
     "text": [
      "Enter a word -  dig\n"
     ]
    },
    {
     "name": "stdout",
     "output_type": "stream",
     "text": [
      "No Team!\n"
     ]
    }
   ],
   "source": [
    "# write code here \n",
    "\n",
    "input_word = input(\"Enter a word - \")\n",
    "\n",
    "red_team = False\n",
    "blue_team = False\n",
    "no_team = False\n",
    "\n",
    "if 'r' in input_word and 'b' in input_word:\n",
    "    if input_word.index('r') < input_word.index('b'):\n",
    "        red_team = True\n",
    "    else:\n",
    "        blue_team = True\n",
    "elif 'r' in input_word:\n",
    "    red_team = True\n",
    "elif 'b' in input_word:\n",
    "    blue_team = True\n",
    "else:\n",
    "    no_team = True\n",
    "\n",
    "\n",
    "if red_team:\n",
    "    print('Red Team!')\n",
    "elif blue_team:\n",
    "    print('Blue Team!')\n",
    "else:\n",
    "    print('No Team!')\n",
    "# you might want to consider if statement inside a for loop"
   ]
  },
  {
   "cell_type": "markdown",
   "metadata": {
    "colab_type": "text",
    "id": "H6pFkWTjdig0"
   },
   "source": [
    "### Question \n",
    "\n",
    "Write a program to print all the numbers which are divisible by 17 between 1 and a given number 'n'. "
   ]
  },
  {
   "cell_type": "code",
   "execution_count": 19,
   "metadata": {
    "colab": {},
    "colab_type": "code",
    "id": "Fs4AaO-wdig1",
    "outputId": "8c008e24-75d6-41a2-988e-771fb0d84ec4"
   },
   "outputs": [
    {
     "name": "stdout",
     "output_type": "stream",
     "text": [
      "[17, 34, 51, 68, 85]\n"
     ]
    }
   ],
   "source": [
    "def divisible_by_17(n):\n",
    "    num_divisible_17 = [x for x in range(1,n) if x%17==0]\n",
    "    return num_divisible_17\n",
    "\n",
    "print(divisible_by_17(100))\n"
   ]
  },
  {
   "cell_type": "markdown",
   "metadata": {
    "colab_type": "text",
    "id": "0YmgmJr0dig7"
   },
   "source": [
    "### Question\n",
    "\n",
    "Write a program to add 13 to all the elements of a given numeric list. \n",
    "######Example - \n",
    "* Input list = [1,5,27] \n",
    "* Output list = [14,18,40]"
   ]
  },
  {
   "cell_type": "code",
   "execution_count": 36,
   "metadata": {
    "colab": {},
    "colab_type": "code",
    "id": "Sc9YRB7gdig8",
    "outputId": "eddb0ff1-5134-4c9e-b07c-0f1e75a312e9"
   },
   "outputs": [
    {
     "name": "stdout",
     "output_type": "stream",
     "text": [
      "[19, 111, 47, 58, 77, 20, 15, 18, 91, 103, 337, 124, 670, 451]\n"
     ]
    }
   ],
   "source": [
    "sample_list = [6, 98, 34, 45, 64, 7, 2, 5, 78, 90, 324, 111, 657, 438]\n",
    "\n",
    "# Write solution code here\n",
    "output_list = list(map(lambda x: x+13,sample_list))\n",
    "\n",
    "print(output_list)"
   ]
  },
  {
   "cell_type": "markdown",
   "metadata": {
    "colab_type": "text",
    "id": "Ab9mZZGedihF"
   },
   "source": [
    "### Question\n",
    "\n",
    "In continuation to the example above, execute the same operation on the same sample list using list comprihension."
   ]
  },
  {
   "cell_type": "code",
   "execution_count": 34,
   "metadata": {
    "colab": {},
    "colab_type": "code",
    "id": "DfkYlSQxdihG",
    "outputId": "7dc9cd8c-365e-4b8c-f9a2-59ea773784f9"
   },
   "outputs": [
    {
     "name": "stdout",
     "output_type": "stream",
     "text": [
      "[19, 111, 47, 58, 77, 20, 15, 18, 91, 103, 337, 124, 670, 451]\n"
     ]
    }
   ],
   "source": [
    "sample_list = [6, 98, 34, 45, 64, 7, 2, 5, 78, 90, 324, 111, 657, 438]\n",
    "\n",
    "# Write solution code here\n",
    "output_list = [x+13 for x in sample_list]\n",
    "\n",
    "print(output_list)"
   ]
  },
  {
   "cell_type": "markdown",
   "metadata": {
    "colab_type": "text",
    "id": "3Y8sulULdihN"
   },
   "source": [
    "### Question \n",
    "This question has two tasks:\n",
    "* Task 1 - Find the factors of all the numbers in a given list. \n",
    "* Task 2 - Add the numbers and their factors to a dictionary where the key will be the numbers from the list, and the values will be the factors of the respective number. \n",
    "\n",
    "Example - \n",
    "##### Sample output :\n",
    "#####{6: [1, 2, 3, 6],\n",
    "98: [1, 2, 7, 14, 49, 98],\n",
    "##### 34: [1, 2, 17, 34],}"
   ]
  },
  {
   "cell_type": "code",
   "execution_count": 46,
   "metadata": {
    "colab": {},
    "colab_type": "code",
    "id": "HYZcnkcMdihO",
    "outputId": "d6705fc6-88c0-4c44-d710-f6b28a109ddf"
   },
   "outputs": [
    {
     "data": {
      "text/plain": [
       "{6: [1, 2, 3, 6],\n",
       " 98: [1, 2, 7, 14, 49, 98],\n",
       " 34: [1, 2, 17, 34],\n",
       " 45: [1, 3, 5, 9, 15, 45],\n",
       " 64: [1, 2, 4, 8, 16, 32, 64],\n",
       " 7: [1, 7],\n",
       " 2: [1, 2],\n",
       " 5: [1, 5],\n",
       " 78: [1, 2, 3, 6, 13, 26, 39, 78],\n",
       " 90: [1, 2, 3, 5, 6, 9, 10, 15, 18, 30, 45, 90],\n",
       " 324: [1, 2, 3, 4, 6, 9, 12, 18, 27, 36, 54, 81, 108, 162, 324],\n",
       " 111: [1, 3, 37, 111],\n",
       " 657: [1, 3, 9, 73, 219, 657],\n",
       " 438: [1, 2, 3, 6, 73, 146, 219, 438]}"
      ]
     },
     "execution_count": 46,
     "metadata": {},
     "output_type": "execute_result"
    }
   ],
   "source": [
    "#sample_list = [6]\n",
    "sample_list = [6, 98, 34, 45, 64, 7, 2, 5, 78, 90, 324, 111, 657, 438]\n",
    "\n",
    "dict_factor = {}\n",
    "factor_list = []\n",
    "\n",
    "# write code here \n",
    "for element in sample_list:\n",
    "    factor_list = []\n",
    "    for factor in range(1,element+1):\n",
    "        if element%factor == 0:\n",
    "            factor_list.append(factor)\n",
    "            dict_factor.update({element:factor_list})\n",
    "\n",
    "dict_factor"
   ]
  },
  {
   "cell_type": "markdown",
   "metadata": {
    "colab_type": "text",
    "id": "a4ii6VRodihT"
   },
   "source": [
    "### Question \n",
    "\n",
    "Count the total number of unique characters in a given sentence. \n",
    "#####Example - \n",
    "* Input - 'total'\n",
    "* Output  - 'o', 'a', 'l'"
   ]
  },
  {
   "cell_type": "code",
   "execution_count": 49,
   "metadata": {
    "colab": {},
    "colab_type": "code",
    "id": "LZP7Dis7dihU",
    "outputId": "0f2a2a63-b4ad-402c-cd9f-96b3322031fb"
   },
   "outputs": [
    {
     "name": "stdout",
     "output_type": "stream",
     "text": [
      "['P', 'a', 'c', 'k', 'm', 'y', 'b', 'x', 'w', 't', 'h', 'f', 'v', 'd', 'z', 'n', 'l', 'q', 'r', 'j', 'g', 's']\n"
     ]
    }
   ],
   "source": [
    "sample_sentence = \"Pack my box with five dozen liquor jugs\"\n",
    " \n",
    "# write code here \n",
    "list_unique = []\n",
    "\n",
    "for char in sample_sentence:\n",
    "    if sample_sentence.count(char) == 1:\n",
    "        list_unique.append(char)\n",
    "\n",
    "print(list_unique)"
   ]
  },
  {
   "cell_type": "markdown",
   "metadata": {
    "colab_type": "text",
    "id": "yZcGvRkJdihY"
   },
   "source": [
    "### Question \n",
    "\n",
    "Write a calculator application using functions, which will ask for the users input such as - arithmetic operation, number1, number 2, and return the output post applying the arithmetic operator\n",
    "\n",
    "#####Example - \n",
    "\n",
    "\n",
    "```\n",
    "def calc(operation, x,y):\n",
    "    if operation == \"add\":\n",
    "        return x+y\n",
    "```\n",
    "\n"
   ]
  },
  {
   "cell_type": "code",
   "execution_count": 51,
   "metadata": {
    "colab": {},
    "colab_type": "code",
    "id": "-z3qD-7odihY"
   },
   "outputs": [
    {
     "name": "stdout",
     "output_type": "stream",
     "text": [
      "Enter the operation you want to execute\n"
     ]
    },
    {
     "name": "stdin",
     "output_type": "stream",
     "text": [
      "The available operations are 'add', 'subs', 'multi', 'div'  add\n",
      "Enter the first number 23\n",
      "Enter the second number 2\n"
     ]
    },
    {
     "name": "stdout",
     "output_type": "stream",
     "text": [
      "Answer is  25\n"
     ]
    }
   ],
   "source": [
    "# use functions to write this code\n",
    "def calc(operation, number1, number2):\n",
    "    if operation == \"add\":\n",
    "        return x+y\n",
    "    if operation == \"subs\":\n",
    "        return x-y\n",
    "    if operation == \"multi\":\n",
    "        return x*y\n",
    "    if operation == \"div\":\n",
    "        return x/y\n",
    "    else:\n",
    "        print(\"Enter a valid operation\")\n",
    "        return None\n",
    "\n",
    "print (\"Enter the operation you want to execute\")\n",
    "oper = input(\"The available operations are 'add', 'subs', 'multi', 'div' \" )\n",
    "x = int (input (\"Enter the first number\"))\n",
    "y = int (input (\"Enter the second number\"))\n",
    "\n",
    "print(\"Answer is \", calc(oper, x, y))"
   ]
  },
  {
   "cell_type": "markdown",
   "metadata": {
    "colab_type": "text",
    "id": "mbmuzRQxdihc"
   },
   "source": [
    "### Question \n",
    "\n",
    "Write a code to ask the user to input three numbers and then print the largest one among the three. "
   ]
  },
  {
   "cell_type": "code",
   "execution_count": 52,
   "metadata": {
    "colab": {},
    "colab_type": "code",
    "id": "7zsJv1_-dihd",
    "outputId": "5e677bf1-6cb2-4394-ceff-c2017c2814b5"
   },
   "outputs": [
    {
     "name": "stdin",
     "output_type": "stream",
     "text": [
      "Enter three numbers : 23 45 76\n"
     ]
    },
    {
     "name": "stdout",
     "output_type": "stream",
     "text": [
      "23 45 76\n",
      "The largest number is  76\n"
     ]
    }
   ],
   "source": [
    "# You might want to use nested if statements \n",
    "num = input(\"Enter three numbers :\")\n",
    "\n",
    "num_list = num.split()\n",
    "\n",
    "a = int(num_list[0])\n",
    "b = int(num_list[1])\n",
    "c = int(num_list[2])\n",
    "\n",
    "print (a,b,c)\n",
    "\n",
    "if a>b: \n",
    "    if a>c:\n",
    "        print (\"The largest number is \", a)\n",
    "    else: \n",
    "        print (\"The largest number is \", c)\n",
    "else:\n",
    "    if b>c:\n",
    "        print (\"The largest number is \", b)\n",
    "    else: \n",
    "        print (\"The largest number is \", c)"
   ]
  },
  {
   "cell_type": "markdown",
   "metadata": {
    "colab_type": "text",
    "id": "I5v7ARWPdihi"
   },
   "source": [
    "### Question\n",
    "\n",
    "Check whether a number is perfect or not. \n",
    "\n",
    "A perfect number is a number that is sum of all of its positive divisors (excluding itself).\n",
    "For more info refer to this link - https://www.geeksforgeeks.org/perfect-number/"
   ]
  },
  {
   "cell_type": "code",
   "execution_count": 32,
   "metadata": {
    "colab": {},
    "colab_type": "code",
    "id": "L3CXSHwPdihj",
    "outputId": "088bbad4-9ee4-42d2-f12e-c73d79a26f00"
   },
   "outputs": [
    {
     "name": "stdin",
     "output_type": "stream",
     "text": [
      "Enter a number - 27\n"
     ]
    },
    {
     "name": "stdout",
     "output_type": "stream",
     "text": [
      "Not Perfect Number!\n"
     ]
    }
   ],
   "source": [
    "number = int(input('Enter a number -'))\n",
    "\n",
    "perfect =  True\n",
    "sum_divisiors = 0\n",
    "for i in range(1,number):\n",
    "    if number%i == 0:\n",
    "        sum_divisiors = sum_divisiors + i\n",
    "\n",
    "if sum_divisiors == number:\n",
    "    print('Perfect Number!')\n",
    "else:\n",
    "    print('Not Perfect Number!')\n"
   ]
  },
  {
   "cell_type": "markdown",
   "metadata": {
    "colab_type": "text",
    "id": "Wa6HOu8Adihr"
   },
   "source": [
    "### Question \n",
    "\n",
    "Add the elements in the two given lists using map and lambda functions"
   ]
  },
  {
   "cell_type": "code",
   "execution_count": 24,
   "metadata": {
    "colab": {},
    "colab_type": "code",
    "id": "bJMyQdIwdihs"
   },
   "outputs": [
    {
     "name": "stdout",
     "output_type": "stream",
     "text": [
      "[15, 20, 17, 18]\n"
     ]
    }
   ],
   "source": [
    "list1 = [5, 8, 9, 12]\n",
    "list2 = [10, 12, 8, 6]\n",
    "\n",
    "# write code here \n",
    "result = list(map(lambda x,y: x+y, list1,list2))\n",
    "print(result)"
   ]
  },
  {
   "cell_type": "markdown",
   "metadata": {
    "colab_type": "text",
    "id": "u1POTJjedihw"
   },
   "source": [
    "### Question \n",
    "\n",
    "Write a code to find the factorial of a number using reduce function. \n",
    "#####Example -\n",
    " 5!= 5 * 4 * 3 * 2 * 1=120."
   ]
  },
  {
   "cell_type": "code",
   "execution_count": 20,
   "metadata": {
    "colab": {},
    "colab_type": "code",
    "id": "BKxpeFbFdihx",
    "outputId": "f3a39752-aa16-4904-f5b4-d82c5950fed3"
   },
   "outputs": [
    {
     "name": "stdout",
     "output_type": "stream",
     "text": [
      "120\n"
     ]
    }
   ],
   "source": [
    "from functools import reduce\n",
    "\n",
    "factorial = reduce(lambda x,y: x*y, range(1,6))\n",
    "\n",
    "print(factorial)"
   ]
  },
  {
   "cell_type": "code",
   "execution_count": null,
   "metadata": {},
   "outputs": [],
   "source": []
  }
 ],
 "metadata": {
  "colab": {
   "collapsed_sections": [],
   "name": "Session 3 Practice questions (2).ipynb",
   "provenance": []
  },
  "kernelspec": {
   "display_name": "Python 3 (ipykernel)",
   "language": "python",
   "name": "python3"
  },
  "language_info": {
   "codemirror_mode": {
    "name": "ipython",
    "version": 3
   },
   "file_extension": ".py",
   "mimetype": "text/x-python",
   "name": "python",
   "nbconvert_exporter": "python",
   "pygments_lexer": "ipython3",
   "version": "3.12.1"
  }
 },
 "nbformat": 4,
 "nbformat_minor": 4
}
