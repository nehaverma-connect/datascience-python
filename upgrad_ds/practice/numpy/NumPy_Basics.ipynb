{
 "cells": [
  {
   "cell_type": "markdown",
   "id": "9f18e96b-552e-43c6-85fb-355d5dcf5253",
   "metadata": {},
   "source": [
    "# Numpy vs Lists"
   ]
  },
  {
   "cell_type": "code",
   "execution_count": 7,
   "id": "793c9282-8c41-47a2-983b-46b9b7e34125",
   "metadata": {},
   "outputs": [],
   "source": [
    "heights = [74,75,72,72,71] # in inches"
   ]
  },
  {
   "cell_type": "code",
   "execution_count": 8,
   "id": "6fc35644-4d46-4c2a-b7f9-0a39fc1bdde2",
   "metadata": {},
   "outputs": [
    {
     "data": {
      "text/plain": [
       "[74, 75, 72, 72, 71]"
      ]
     },
     "execution_count": 8,
     "metadata": {},
     "output_type": "execute_result"
    }
   ],
   "source": [
    "heights"
   ]
  },
  {
   "cell_type": "code",
   "execution_count": 9,
   "id": "c65d3749-0784-4799-ba80-1d9bbd079937",
   "metadata": {},
   "outputs": [
    {
     "ename": "TypeError",
     "evalue": "can't multiply sequence by non-int of type 'float'",
     "output_type": "error",
     "traceback": [
      "\u001b[0;31m---------------------------------------------------------------------------\u001b[0m",
      "\u001b[0;31mTypeError\u001b[0m                                 Traceback (most recent call last)",
      "Cell \u001b[0;32mIn[9], line 1\u001b[0m\n\u001b[0;32m----> 1\u001b[0m \u001b[43mheights\u001b[49m\u001b[43m \u001b[49m\u001b[38;5;241;43m*\u001b[39;49m\u001b[43m \u001b[49m\u001b[38;5;241;43m2.54\u001b[39;49m \u001b[38;5;66;03m# convert heights to cm\u001b[39;00m\n",
      "\u001b[0;31mTypeError\u001b[0m: can't multiply sequence by non-int of type 'float'"
     ]
    }
   ],
   "source": [
    "heights * 2.54 # convert heights to cm"
   ]
  },
  {
   "cell_type": "code",
   "execution_count": 10,
   "id": "8f30d83b-f43a-4e2c-8cd2-0d4dcc55e441",
   "metadata": {},
   "outputs": [],
   "source": [
    "import numpy as np"
   ]
  },
  {
   "cell_type": "code",
   "execution_count": 11,
   "id": "a591b0cc-d3b4-4a27-9e7e-2cd3809798d6",
   "metadata": {},
   "outputs": [],
   "source": [
    "np_heights = np.array([74,75,72,72,71])"
   ]
  },
  {
   "cell_type": "code",
   "execution_count": 12,
   "id": "210340e8-0b12-4e16-a0e6-19a8fa008c64",
   "metadata": {},
   "outputs": [
    {
     "data": {
      "text/plain": [
       "array([74, 75, 72, 72, 71])"
      ]
     },
     "execution_count": 12,
     "metadata": {},
     "output_type": "execute_result"
    }
   ],
   "source": [
    "np_heights"
   ]
  },
  {
   "cell_type": "code",
   "execution_count": 13,
   "id": "7e2b55c0-1431-4d0a-ac2e-b16b82398d1a",
   "metadata": {},
   "outputs": [
    {
     "data": {
      "text/plain": [
       "numpy.ndarray"
      ]
     },
     "execution_count": 13,
     "metadata": {},
     "output_type": "execute_result"
    }
   ],
   "source": [
    "type(np_heights)"
   ]
  },
  {
   "cell_type": "code",
   "execution_count": 14,
   "id": "8622b7cc-aeb6-4dd5-ad6f-6ce32ffeaace",
   "metadata": {},
   "outputs": [
    {
     "data": {
      "text/plain": [
       "array([187.96, 190.5 , 182.88, 182.88, 180.34])"
      ]
     },
     "execution_count": 14,
     "metadata": {},
     "output_type": "execute_result"
    }
   ],
   "source": [
    "np_heights * 2.54"
   ]
  },
  {
   "cell_type": "code",
   "execution_count": null,
   "id": "0132a387-0633-462a-9b5d-6f158ed639ef",
   "metadata": {},
   "outputs": [],
   "source": []
  },
  {
   "cell_type": "markdown",
   "id": "f483c803-5809-4a05-8f12-587bed0c1d40",
   "metadata": {},
   "source": [
    "# Numpy Methods and Operations"
   ]
  },
  {
   "cell_type": "code",
   "execution_count": 17,
   "id": "8cd79381-9b29-4fc0-a769-7919006e5496",
   "metadata": {},
   "outputs": [
    {
     "data": {
      "text/plain": [
       "[1, 2, 3, 4, 5, 6]"
      ]
     },
     "execution_count": 17,
     "metadata": {},
    