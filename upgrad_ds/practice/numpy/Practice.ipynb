{
 "cells": [
  {
   "cell_type": "markdown",
   "id": "aad90f4d-c6db-4bd6-9a21-404de7899e2b",
   "metadata": {},
   "source": [
    "# Problem 1\n",
    "\n",
    "Extracting Elements from Array\n",
    "\n",
    "Description\n",
    "From a given array, extract all the elements which are greater than 'm' and less than 'n'. Note: 'm' and 'n' are integer values provided as input.\n",
    "\n",
    "\n",
    "\n",
    "Input format:\n",
    "\n",
    "A list of integers on line one\n",
    "\n",
    "Integer 'm' on line two\n",
    "\n",
    "Integer 'n' on line three\n",
    "\n",
    "\n",
    "\n",
    "Output format:\n",
    "\n",
    "1-D array containing integers greater than 'm' and smaller than 'n'.\n",
    "\n",
    "\n",
    "\n",
    "\n",
    "\n",
    "Sample input:\n",
    "\n",
    "[ 1, 5, 9, 12, 15, 7, 12, 9 ] (array)\n",
    "\n",
    "6 (m)\n",
    "\n",
    "12 (n)\n",
    "\n",
    "\n",
    "\n",
    "Sample output:\n",
    "\n",
    "[ 9 7 9 ]\n",
    "\n",
    "\n",
    "\n",
    "\n",
    "\n",
    "Sample input:\n",
    "\n",
    "[ 1, 5, 9, 12, 15, 7, 12, 9 ]\n",
    "\n",
    "12\n",
    "\n",
    "6\n",
    "\n",
    "\n",
    "\n",
    "Sample output:\n",
    "\n",
    "[ ]"
   ]
  },
  {
   "cell_type": "code",
   "execution_count": 13,
   "id": "b6c2fd9e-9308-47e2-a82b-c8cf5c796b6e",
   "metadata": {},
   "outputs": [
    {
     "name": "stdin",
     "output_type": "stream",
     "text": [
      " [ 1, 5, 9, 12, 15, 7, 12, 9 ] \n",
      " 6\n",
      " 12\n"
     ]
    },
    {
     "name": "stdout",
     "output_type": "stream",
     "text": [
      "[9 7 9]\n"
     ]
    }
   ],
   "source": [
    "import numpy as np\n",
    "import ast\n",
    "\n",
    "input_list = ast.literal_eval(input())\n",
    "m = int(input())\n",
    "n = int(input())\n",
    "\n",
    "array_1 = np.array(input_list)\n",
    "\n",
    "final_array = array_1[ (array_1 > m) & (array_1 <n)]\n",
    "print(final_array)"
   ]
  },
  {
   "cell_type": "code",
   "execution_count": 17,
   "id": "c8534491-5359-4420-88dd-6de2eea71442",
   "metadata": {},
   "outputs": [
    {
     "name": "stdin",
     "output_type": "stream",
     "text": [
      " [ 1, 5, 9, 12, 15, 7, 12, 9 ] \n",
      " 6\n",
      " 12\n"
     ]
    },
    {
     "name": "stdout",
     "output_type": "stream",
     "text": [
      "[9 7 9]\n"
     ]
    }
   ],
   "source": [
    "# Another Solution\n",
    "\n",
    "import numpy as np\n",
    "import ast\n",
    "\n",
    "input_list = ast.literal_eval(input())\n",
    "m = int(input())\n",
    "n = int(input())\n",
    "\n",
    "array_1 = np.array(input_list)\n",
    "\n",
    "print(array_1[np.logical_and(array_1>m, array_1<n)])"
   ]
  },
  {
   "cell_type": "markdown",
   "id": "10029b0e-62a5-43a5-8169-17723c189766",
   "metadata": {},
   "source": [
    "# Problem 2\n",
    "\n",
    "Border Rows and Columns\n",
    "\n",
    "Description\n",
    "\n",
    "Extract all the border rows and columns from a 2-D array.\n",
    "\n",
    "Format:\n",
    "\n",
    "Input: A 2-D Python list\n",
    "\n",
    "Output: Four NumPy arrays - First column of the input array, first row of the input array, last column of the input array, last row of the input array respectively.\n",
    "\n",
    "Example:\n",
    "Input 1:\n",
    "[[11,12,13