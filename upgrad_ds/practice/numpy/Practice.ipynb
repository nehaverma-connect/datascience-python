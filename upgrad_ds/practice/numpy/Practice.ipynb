{
 "cells": [
  {
   "cell_type": "markdown",
   "id": "aad90f4d-c6db-4bd6-9a21-404de7899e2b",
   "metadata": {},
   "source": [
    "# Problem 1\n",
    "\n",
    "Extracting Elements from Array\n",
    "\n",
    "Description\n",
    "From a given array, extract all the elements which are greater than 'm' and less than 'n'. Note: 'm' and 'n' are integer values provided as input.\n",
    "\n",
    "\n",
    "\n",
    "Input format:\n",
    "\n",
    "A list of integers on line one\n",
    "\n",
    "Integer 'm' on line two\n",
    "\n",
    "Integer 'n' on line three\n",
    "\n",
    "\n",
    "\n",
    "Output format:\n",
    "\n",
    "1-D array containing integers greater than 'm' and smaller than 'n'.\n",
    "\n",
    "\n",
    "\n",
    "\n",
    "\n",
    "Sample input:\n",
    "\n",
    "[ 1, 5, 9, 12, 15, 7, 12, 9 ] (array)\n",
    "\n",
    "6 (m)\n",
    "\n",
    "12 (n)\n",
    "\n",
    "\n",
    "\n",
    "Sample output:\n",
    "\n",
    "[ 9 7 9 ]\n",
    "\n",
    "\n",
    "\n",
    "\n",
    "\n",
    "Sample input:\n",
    "\n",
    "[ 1, 5, 9, 12, 15, 7, 12, 9 ]\n",
    "\n",
    "12\n",
    "\n",
    "6\n",
    "\n",
    "\n",
    "\n",
    "Sample output:\n",
    "\n",
    "[ ]"
   ]
  },
  {
   "cell_type": "code",
   "execution_count": 13,
   "id": "b6c2fd9e-9308-47e2-a82b-c8cf5c796b6e",
   "metadata": {},
   "outputs": [
    {
     "name": "stdin",
     "output_type": "stream",
     "text": [
      " [ 1, 5, 9, 12, 15, 7, 12, 9 ] \n",
      " 6\n",
      " 12\n"
     ]
    },
    {
     "name": "stdout",
     "output_type": "stream",
     "text": [
      "[9 7 9]\n"
     ]
    }
   ],
   "source": [
    "import numpy as np\n",
    "import ast\n",
    "\n",
    "input_list = ast.literal_eval(input())\n",
    "m = int(input())\n",
    "n = int(input())\n",
    "\n",
    "array_1 = np.array(input_list)\n",
    "\n",
    "final_array = array_1[ (array_1 > m) & (array_1 <n)]\n",
    "print(final_array)"
   ]
  },
  {
   "cell_type": "code",
   "execution_count": 17,
   "id": "c8534491-5359-4420-88dd-6de2eea71442",
   "metadata": {},
   "outputs": [
    {
     "name": "stdin",
     "output_type": "stream",
     "text": [
      " [ 1, 5, 9, 12, 15, 7, 12, 9 ] \n",
      " 6\n",
      " 12\n"
     ]
    },
    {
     "name": "stdout",
     "output_type": "stream",
     "text": [
      "[9 7 9]\n"
     ]
    }
   ],
   "source": [
    "# Another Solution\n",
    "\n",
    "import numpy as np\n",
    "import ast\n",
    "\n",
    "input_list = ast.literal_eval(input())\n",
    "m = int(input())\n",
    "n = int(input())\n",
    "\n",
    "array_1 = np.array(input_list)\n",
    "\n",
    "print(array_1[np.logical_and(array_1>m, array_1<n)])"
   ]
  },
  {
   "cell_type": "markdown",
   "id": "10029b0e-62a5-43a5-8169-17723c189766",
   "metadata": {},
   "source": [
    "# Problem 2\n",
    "\n",
    "Border Rows and Columns\n",
    "\n",
    "Description\n",
    "\n",
    "Extract all the border rows and columns from a 2-D array.\n",
    "\n",
    "Format:\n",
    "\n",
    "Input: A 2-D Python list\n",
    "\n",
    "Output: Four NumPy arrays - First column of the input array, first row of the input array, last column of the input array, last row of the input array respectively.\n",
    "\n",
    "Example:\n",
    "Input 1:\n",
    "[[11,12,13,14],\n",
    " [21,22,23,24],\n",
    " [31,32,33,34]]\n",
    "\n",
    "Output 1:\n",
    "[11 21 31]\n",
    "[11 12 13 14]\n",
    "[14 24 34]\n",
    "[31 32 33 34]"
   ]
  },
  {
   "cell_type": "code",
   "execution_count": 9,
   "id": "6e30d3bb-6a5a-498c-b76f-d56a00a2295e",
   "metadata": {},
   "outputs": [
    {
     "name": "stdin",
     "output_type": "stream",
     "text": [
      " [[11,12,13,14], [21,22,23,24], [31,32,33,34]]\n"
     ]
    },
    {
     "name": "stdout",
     "output_type": "stream",
     "text": [
      "[11 21 31]\n",
      "[11 12 13 14]\n",
      "[14 24 34]\n",
      "[31 32 33 34]\n"
     ]
    }
   ],
   "source": [
    "import ast,sys, numpy as np\n",
    "\n",
    "input_list = ast.literal_eval(input())\n",
    "\n",
    "array_2d = np.array(input_list)\n",
    "\n",
    "col_first = array_2d[:,0]\n",
    "row_first = array_2d[0]\n",
    "col_last = array_2d[:,-1]\n",
    "row_last = array_2d[-1]\n",
    "\n",
    "print(col_first)\n",
    "print(row_first)\n",
    "print(col_last)\n",
    "print(row_last)"
   ]
  },
  {
   "cell_type": "markdown",
   "id": "97325551-89ce-4b18-b7c9-f044879dd953",
   "metadata": {},
   "source": [
    "# Problem 3\n",
    "\n",
    "Create border array\n",
    "\n",
    "Description\n",
    "\n",
    "Given a single integer n, create an (n x n) 2D array with 1 on the border and 0 on the inside.\n",
    "\n",
    "Note: Make sure the array is of type int.\n",
    "\n",
    "Example:\n",
    "\n",
    "Input 1:\n",
    "4\n",
    "\n",
    "Output 1:\n",
    "[[1 1 1 1]\n",
    "[1 0 0 1]\n",
    "[1 0 0 1]\n",
    "[1 1 1 1]]\n",
    "\n",
    "Input 2:\n",
    "2\n",
    "\n",
    "Output 2:\n",
    "[[1 1] \n",
    " [1 1]] "
   ]
  },
  {
   "cell_type": "code",
   "execution_count": 11,
   "id": "e08e0cbb-6cd7-4232-9838-d7b62049ded5",
   "metadata": {},
   "outputs": [
    {
     "name": "stdin",
     "output_type": "stream",
     "text": [
      " 6\n"
     ]
    },
    {
     "name": "stdout",
     "output_type": "stream",
     "text": [
      "[[1 1 1 1 1 1]\n",
      " [1 0 0 0 0 1]\n",
      " [1 0 0 0 0 1]\n",
      " [1 0 0 0 0 1]\n",
      " [1 0 0 0 0 1]\n",
      " [1 1 1 1 1 1]]\n"
     ]
    }
   ],
   "source": [
    "import numpy as np\n",
    "\n",
    "n = int(input())\n",
    "\n",
    "border_arr = np.ones([n,n],dtype=int)\n",
    "border_arr[1:-1,1:-1] = 0\n",
    "print(border_arr)"
   ]
  },
  {
   "cell_type": "markdown",
   "id": "3c23f335-442b-4423-8e57-2e827f02fb0b",
   "metadata": {},
   "source": [
    "# Problem 4\n",
    "\n",
    "Stacking arrays\n",
    "\n",
    "Description\n",
    "\n",
    "Merge the three arrays provided to you to form a one 4x4 array.\n",
    "\n",
    "[Hint: Check the function np.transpose() in the 'Manipulating Arrays' notebook provided.]\n",
    "\n",
    "\n",
    "\n",
    "Input:\n",
    "\n",
    "Array 1: 3*3\n",
    "\n",
    "[[7, 13, 14],\n",
    "\n",
    "[18, 10, 17],\n",
    "\n",
    "[11, 12, 19]]\n",
    "\n",
    "\n",
    "\n",
    "Array 2: 1-D array\n",
    "\n",
    "[16, 6, 1]\n",
    "\n",
    "\n",
    "\n",
    "Array 3: 1*4 array\n",
    "\n",
    "[[5, 8, 4, 3]]\n",
    "\n",
    "\n",
    "\n",
    "Output:\n",
    "\n",
    "[[7 13 14 5]\n",
    "\n",
    "[18 10 17 8]\n",
    "\n",
    "[11 12 19 4]\n",
    "\n",
    "[16 6 1 3]]"
   ]
  },
  {
   "cell_type": "code",
   "execution_count": 10,
   "id": "5b25d6d0-7dea-4b96-91d4-d555a43d73f7",
   "metadata": {},
   "outputs": [
    {
     "name": "stdin",
     "output_type": "stream",
     "text": [
      " [[7, 13, 14],  [18, 10, 17],  [11, 12, 19]]\n",
      " [16, 6, 1]\n",
      " [[5, 8, 4, 3]]\n"
     ]
    },
    {
     "name": "stdout",
     "output_type": "stream",
     "text": [
      "[[ 7 13 14  5]\n",
      " [18 10 17  8]\n",
      " [11 12 19  4]\n",
      " [16  6  1  3]]\n"
     ]
    }
   ],
   "source": [
    "import ast\n",
    "\n",
    "list_1 = ast.literal_eval(input())\n",
    "list_2 = ast.literal_eval(input())\n",
    "list_3 = ast.literal_eval(input())\n",
    "\n",
    "# Import NumPy\n",
    "import numpy as np\n",
    "\n",
    "# Write your code here\n",
    "\n",
    "list_12 = np.vstack([np.array(list_1),np.array(list_2)])\n",
    "final_array = np.hstack([list_12, np.array(list_3).transpose()])\n",
    "\n",
    "print(final_array)"
   ]
  },
  {
   "cell_type": "markdown",
   "id": "0774e270-6aaf-47b8-b63d-e02d7778abe7",
   "metadata": {},
   "source": [
    "# Problem 5\n",
    "\n",
    "Print Z\n",
    "\n",
    "Description\n",
    "\n",
    "Given a single positive integer 'n' greater than 2, create a NumPy array of size (n x n) will all zeros and ones such that the ones make a shape like 'Z'.\n",
    "\n",
    "Examples:\n",
    "\n",
    "Input 1:\n",
    "\n",
    "3\n",
    "\n",
    "Output 1:\n",
    "\n",
    "[[1 1 1]\n",
    " [0 1 0]\n",
    " [1 1 1]]\n",
    "\n",
    "Input 2:\n",
    "\n",
    "5\n",
    "\n",
    "Output 1:\n",
    "\n",
    "[[1 1 1 1 1]\n",
    " [0 0 0 1 0]\n",
    " [0 0 1 0 0]\n",
    " [0 1 0 0 0]\n",
    " [1 1 1 1 1]]\n",
    "\n",
    "Explanation: Notice that the 1s in the array make a shape like 'Z'."
   ]
  },
  {
   "cell_type": "code",
   "execution_count": 20,
   "id": "48fc1e44-976c-4199-9595-5793881f5d0e",
   "metadata": {},
   "outputs": [
    {
     "name": "stdin",
     "output_type": "stream",
     "text": [
      " 7\n"
     ]
    },
    {
     "data": {
      "text/plain": [
       "array([[1, 1, 1, 1, 1, 1, 1],\n",
       "       [0, 0, 0, 0, 0, 1, 0],\n",
       "       [0, 0, 0, 0, 1, 0, 0],\n",
       "       [0, 0, 0, 1, 0, 0, 0],\n",
       "       [0, 0, 1, 0, 0, 0, 0],\n",
       "       [0, 1, 0, 0, 0, 0, 0],\n",
       "       [1, 1, 1, 1, 1, 1, 1]])"
      ]
     },
     "execution_count": 20,
     "metadata": {},
     "output_type": "execute_result"
    }
   ],
   "source": [
    "import numpy as np\n",
    "\n",
    "n = int(input())\n",
    "\n",
    "zero_arr = np.zeros((n,n),dtype=int)\n",
    "zero_arr[0,:] = 1\n",
    "zero_arr[-1,:] = 1\n",
    "\n",
    "for i in range(1,n):\n",
    "    zero_arr[i,-i-1] = 1\n",
    "\n",
    "print(zero_arr)"
   ]
  },
  {
   "cell_type": "markdown",
   "id": "eb7bb07e-2567-4867-a6a9-70a82b567b29",
   "metadata": {},
   "source": [
    "# Problem 6\n",
    "\n",
    "Sort by Column\n",
    "\n",
    "Description\n",
    "\n",
    "Given a 2D NumPy array, sort it by the 1st column. Print the final sorted array as a NumPy array only.\n",
    "\n",
    "Note: If two values in the 1st column are equal then the column in which the 2nd column value is lesser should come first. If the value in the second column is also the same then go to the third value and so on.\n",
    "\n",
    "Example:\n",
    "\n",
    "Input 1:\n",
    "\n",
    "[[9 3 2]\n",
    " [4 0 1]\n",
    " [5 8 6]]\n",
    "\n",
    "Output 2:\n",
    "\n",
    "[[4 0 1]\n",
    " [5 8 6]\n",
    " [9 3 2]]\n",
    "\n",
    "Input 2:\n",
    "\n",
    "[[9 3 2]\n",
    " [4 0 1]\n",
    " [9 8 6]]\n",
    "\n",
    "Output 2:\n",
    "\n",
    "[[4 0 1]\n",
    " [9 3 2]\n",
    " [9 8 6]]\n",
    "\n",
    "Explanation:\n",
    "\n",
    "Example 1: Notice that the values in the first column are sorted. Also notice that the whole row should be moved and not just the individual values in the first column. For example, the row with the smallest value, i.e. 4 was moved as a whole. \n",
    "\n",
    "Example 2: Since this time the first row contains two 9s, the row in which the value in the second column is lesser came first."
   ]
  },
  {
   "cell_type": "code",
   "execution_count": 17,
   "id": "20f15f61-1328-4a25-bb84-7f23f4538276",
   "metadata": {},
   "outputs": [
    {
     "name": "stdin",
     "output_type": "stream",
     "text": [
      " [[9,3,2],[4,0,1],[5,8,6]]\n"
     ]
    },
    {
     "name": "stdout",
     "output_type": "stream",
     "text": [
      "[[4 0 1]\n",
      " [5 8 6]\n",
      " [9 3 2]]\n"
     ]
    }
   ],
   "source": [
    "import ast, numpy as np\n",
    "\n",
    "input_list = ast.literal_eval(input()) # [[9,3,2],[4,0,1],[5,8,6]]\n",
    "\n",
    "input_arr = np.array(input_list)\n",
    "\n",
    "for i in range(len(input_arr[0, :])):\n",
    "    input_arr = input_arr[input_arr[:,-1-i].argsort()]\n",
    "    \n",
    "print(input_arr)"
   ]
  },
  {
   "cell_type": "code",
   "execution_count": 6,
   "id": "fcbf9ed3-f4f4-490c-9381-1bca8e5269c1",
   "metadata": {},
   "outputs": [
    {
     "name": "stdout",
     "output_type": "stream",
     "text": [
      "[('Alice', 25, 170) ('Charlie', 35, 175) ('Dan', 40, 175)\n",
      " ('Eeyore', 25, 180) ('Bob', 30, 180)]\n"
     ]
    }
   ],
   "source": [
    "#Another sorting example\n",
    "\n",
    "import numpy as np\n",
    "\n",
    "datatype = [('name', 'U7'), ('age', int), ('height', int)]\n",
    "people = [\n",
    "    ('Alice', 25, 170), \n",
    "    ('Bob', 30, 180), \n",
    "    ('Charlie', 35, 175),\n",
    "    ('Dan', 40, 175),\n",
    "    ('Eeyore', 25, 180)\n",
    "]\n",
    "array = np.array(people, dtype = datatype)\n",
    "\n",
    "# sort the people array on the basis of height\n",
    "# if heights are equal, sort people on the basis of age\n",
    "array2 = np.sort(array, order = ('height', 'age'))\n",
    "\n",
    "print(array2)"
   ]
  }
 ],
 "metadata": {
  "kernelspec": {
   "display_name": "Python 3 (ipykernel)",
   "language": "python",
   "name": "python3"
  },
  "language_info": {
   "codemirror_mode": {
    "name": "ipython",
    "version": 3
   },
   "file_extension": ".py",
   "mimetype": "text/x-python",
   "name": "python",
   "nbconvert_exporter": "python",
   "pygments_lexer": "ipython3",
   "version": "3.12.1"
  }
 },
 "nbformat": 4,
 "nbformat_minor": 5
}
