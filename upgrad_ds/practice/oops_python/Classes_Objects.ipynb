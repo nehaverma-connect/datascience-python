{
 "cells": [
  {
   "cell_type": "markdown",
   "metadata": {},
   "source": [
    "<h1 style = \"color : Blue\"> i. Creating Classes and Objects </h1>"
   ]
  },
  {
   "cell_type": "markdown",
   "metadata": {},
   "source": [
    "<h2 style = \"color : Brown\">Defining a class</h2>\n",
    "\n",
    "- length and breadth as attributes\n",
    "- __init__() - constructor of class\n",
    "- self parameter - refers to the newly created instance of the class.  \n",
    "- attributes length and breadth are associated with self-keyword to identify them as instance variables"
   ]
  },
  {
   "cell_type": "code",
   "execution_count": 6,
   "metadata": {},
   "outputs": [],
   "source": [
    "class Rectangle :\n",
    "    def __init__(self):\n",
    "        self.length = 10\n",
    "        self.breadth = 5"
   ]
  },
  {
   "cell_type": "markdown",
   "metadata": {},
   "source": [
    "- create the object by calling name of the class followed by parenthesis. \n",
    "- print the values using dot operator"
   ]
  },
  {
   "cell_type": "code",
   "execution_count": 7,
   "metadata": {},
   "outputs": [
    {
     "name": "stdout",
     "output_type": "stream",
     "text": [
      "Length =  10 \n",
      "Breadth =  5\n"
     ]
    }
   ],
   "source": [
    "rect = Rectangle()\n",
    "print(\"Length = \",rect.length, \"\\nBreadth = \" ,rect.breadth)"
   ]
  },
  {
   "cell_type": "code",
   "execution_count": 8,
   "metadata": {},
   "outputs": [],
   "source": [
    "class Dog:\n",
    "    def __init__(self):\n",
    "        self.name = \"scooby\"\n",
    "        self.type = \"friendly\""
   ]
  },
  {
   "cell_type": "code",
   "execution_count": 5,
   "metadata": {},
   "outputs": [
    {
     "name": "stdout",
     "output_type": "stream",
     "text": [
      "scooby friendly\n"
     ]
    }
   ],
   "source": [
    "lab = Dog()\n",
    "print(lab.name + ' ' + lab.type)"
   ]
  },
  {
   "cell_type": "markdown",
   "metadata": {},
   "source": [
    "<h2 style = \"color : Brown\">Parametrised Constructor</h2>\n",
    "\n",
    "- parametrised constructor - dynamically assign the attribute values during object creation"
   ]
  },
  {
   "cell_type": "code",
   "execution_count": 9,
   "metadata": {},
   "outputs": [
    {
     "name": "stdout",
     "output_type": "stream",
     "text": [
      "Length =  10 \n",
      "Breadth =  5\n"
     ]
    }
   ],
   "source": [
    "class Rectangle :\n",
    "    def __init__(self, length, breadth):\n",
    "        self.length = length\n",
    "        self.breadth = breadth\n",
    "        \n",
    "rect = Rectangle(10, 5)\n",
    "print(\"Length = \",rect.length, \"\\nBreadth = \" ,rect.breadth)"
   ]
  },
  {
   "cell_type": "code",
   "execution_count": 23,
   "metadata": {},
   "outputs": [
    {
     "name": "stdout",
     "output_type": "stream",
     "text": [
      "Scooby Not Friendly\n"
     ]
    }
   ],
   "source": [
    "class Dog:\n",
    "    def __init__(self,name,typeOfDog='Friendly'):\n",
    "        self.name = name\n",
    "        self.typeOfDog = typeOfDog\n",
    "\n",
    "lab = Dog('Scooby','Not Friendly')\n",
    "print(lab.name + ' ' + lab.typeOfDog)"
   ]
  },
  {
   "cell_type": "code",
   "execution_count": 25,
   "metadata": {},
   "outputs": [
    {
     "name": "stdout",
     "output_type": "stream",
     "text": [
      "Employee -  Ram 29 1234\n"
     ]
    },
    {
     "data": {
      "text/plain": [
       "__main__.Employee"
      ]
     },
     "execution_count": 25,
     "metadata": {},
     "output_type": "execute_result"
    }
   ],
   "source": [
    "class Employee:\n",
    "    def __init__(self,name,age,eid):\n",
    "        self.name = name\n",
    "        self.age = age\n",
    "        self.eid = eid\n",
    "\n",
    "se = Employee('Ram', 29, '1234')\n",
    "print(\"Employee - \",se.name, se.age,se.eid)\n",
    "\n",
    "type(se)"
   ]
  },
  {
   "cell_type": "code",
   "execution_count": null,
   "metadata": {},
   "outputs": [],
   "source": []
  },
  {
   "cell_type": "markdown",
   "metadata": {},
   "source": [
    "<h1 style = \"color : Blue\">ii. Class Variable and Instance variables "
   ]
  },
  {
   "cell_type": "code",
   "execution_count": 27,
   "metadata": {},
   "outputs": [],
   "source": [
    "class Student :\n",
    "    teacher = 'Mrs.Jones' #class variable\n",
    "    Room ='103A' #class variable\n",
    "    \n",
    "    def __init__(self, name, age, fav_sub):\n",
    "        self.name = name #instance_variable\n",
    "        self.age = age #instance_variable\n",
    "        self.fav_sub = fav_sub #instance_variable"
   ]
  },
  {
   "cell_type": "code",
   "execution_count": 28,
   "metadata": {},
   "outputs": [],
   "source": [
    "tom = Student('Tom',15,'Math')"
   ]
  },
  {
   "cell_type": "code",
   "execution_count": 29,
   "metadata": {},
   "outputs": [
    {
     "name": "stdout",
     "output_type": "stream",
     "text": [
      "Mrs.Jones Math\n"
     ]
    }
   ],
   "source": [
    "print(tom.teacher, tom.fav_sub)"
   ]
  },
  {
   "cell_type": "code",
   "execution_count": 30,
   "metadata": {},
   "outputs": [
    {
     "name": "stdout",
     "output_type": "stream",
     "text": [
      "Mrs.Jones 16\n"
     ]
    }
   ],
   "source": [
    "susan = Student('Susan', 16, 'English')\n",
    "print(susan.teacher, susan.age)"
   ]
  },
  {
   "cell_type": "code",
   "execution_count": 33,
   "metadata": {},
   "outputs": [],
   "source": [
    "Student.teacher = 'Mr.David'"
   ]
  },
  {
   "cell_type": "code",
   "execution_count": 36,
   "metadata": {},
   "outputs": [
    {
     "name": "stdout",
     "output_type": "stream",
     "text": [
      "Mr.David Math\n"
     ]
    }
   ],
   "source": [
    "print(tom.teacher, tom.fav_sub)"
   ]
  },
  {
   "cell_type": "code",
   "execution_count": 44,
   "metadata": {},
   "outputs": [],
   "source": [
    "susan.name = 'Susan Pattrick'"
   ]
  },
  {
   "cell_type": "code",
   "execution_count": 58,
   "metadata": {},
   "outputs": [
    {
     "name": "stdout",
     "output_type": "stream",
     "text": [
      "Susan Pattrick\n"
     ]
    }
   ],
   "source": [
    "print(susan.name)"
   ]
  },
  {
   "cell_type": "markdown",
   "metadata": {},
   "source": [
    "<h2 style = \"color : Brown\"> Significance of self:</h2>\n",
    "\n",
    "- The attributes length and breadth are associated with an instance.\n",
    "- Self makes sure that each instance refers to its own copy of attributes"
   ]
  },
  {
   "cell_type": "code",
   "execution_count": 59,
   "metadata": {},
   "outputs": [
    {
     "name": "stdout",
     "output_type": "stream",
     "text": [
      "Length =  10 \n",
      "Breadth =  5\n"
     ]
    }
   ],
   "source": [
    "class Rectangle :\n",
    "    def __init__(self, length, breadth):\n",
    "        self.length = length\n",
    "        self.breadth = breadth\n",
    "\n",
    "    def calculate_area(self):\n",
    "         return self.length * self.breadth\n",
    "        \n",
    "rect = Rectangle(10, 5)\n",
    "print(\"Length = \",rect.length, \"\\nBreadth = \" ,rect.breadth)"
   ]
  },
  {
   "cell_type": "code",
   "execution_count": 60,
   "metadata": {},
   "outputs": [
    {
     "name": "stdout",
     "output_type": "stream",
     "text": [
      "Length =  15 \n",
      "Breadth =  8 \n",
      "Area =  120\n"
     ]
    }
   ],
   "source": [
    "new_rect = Rectangle(15, 8)\n",
    "print(\"Length = \",new_rect.length, \"\\nBreadth = \" ,new_rect.breadth, \"\\nArea = \", new_rect.calculate_area())"
   ]
  },
  {
   "cell_type": "code",
   "execution_count": 61,
   "metadata": {},
   "outputs": [
    {
     "name": "stdout",
     "output_type": "stream",
     "text": [
      "Length =  10 \n",
      "Breadth =  5 \n",
      "Area =  50\n"
     ]
    }
   ],
   "source": [
    "print(\"Length = \",rect.length, \"\\nBreadth = \" ,rect.breadth, \"\\nArea = \", rect.calculate_area())"
   ]
  },
  {
   "cell_type": "markdown",
   "metadata": {},
   "source": [
    "<h1 style = \"color : Blue\">iv. Class Method and Static Method"
   ]
  },
  {
   "cell_type": "code",
   "execution_count": 69,
   "metadata": {},
   "outputs": [
    {
     "name": "stdout",
     "output_type": "stream",
     "text": [
      "78.5\n",
      "3.1436\n",
      "This is circle's static method\n"
     ]
    }
   ],
   "source": [
    "class Circle :\n",
    "    pi = 3.14\n",
    "    def __init__(self, radius):\n",
    "        self.radius = radius\n",
    "        \n",
    "    # Instance Method   \n",
    "    def calculate_area(self):\n",
    "        return Circle.pi * (self.radius**2)\n",
    "    \n",
    "    # Class Method - I cannot access - radius\n",
    "    @classmethod\n",
    "    def access_pi(cls):\n",
    "        pi = 3.1436\n",
    "        return pi\n",
    "        \n",
    "    # Static Method -  I cannot access - pi and radius\n",
    "    @staticmethod\n",
    "    def circle_static_method():\n",
    "        print(\"This is circle's static method\")\n",
    "        \n",
    "cir = Circle(5)\n",
    "\n",
    "# Calling methods \n",
    "\n",
    "print(cir.calculate_area())\n",
    "\n",
    "print(Circle.access_pi())\n",
    "\n",
    "Circle.circle_static_method()"
   ]
  },
  {
   "cell_type": "markdown",
   "metadata": {},
   "source": [
    "<h1 style = \"color : Blue\">v. Inheritance and Overriding"
   ]
  },
  {
   "cell_type": "code",
   "execution_count": 77,
   "metadata": {},
   "outputs": [],
   "source": [
    "class Shape :\n",
    "    \n",
    "    def set_color(self, color):\n",
    "        self.color = color\n",
    "        \n",
    "    def calculate_area(self):\n",
    "        pass\n",
    "        \n",
    "    def color_the_shape(self):\n",
    "        color_price = {\"red\" : 10, \"blue\" : 15, \"green\" : 5}\n",
    "        return self.calculate_area() * color_price[self.color]"
   ]
  },
  {
   "cell_type": "code",
   "execution_count": 78,
   "metadata": {},
   "outputs": [],
   "source": [
    "class Circle(Shape) :\n",
    "    pi = 3.14\n",
    "    def __init__(self, radius):\n",
    "        self.radius = radius\n",
    "        \n",
    "    # overriding\n",
    "    def calculate_area(self):\n",
    "        return Circle.pi * (self.radius**2)"
   ]
  },
  {
   "cell_type": "code",
   "execution_count": 79,
   "metadata": {},
   "outputs": [
    {
     "name": "stdout",
     "output_type": "stream",
     "text": [
      "Circle with radius = 5 when colored red costs $ 785.0\n"
     ]
    }
   ],
   "source": [
    "c = Circle(5)\n",
    "c.set_color(\"red\")\n",
    "print(\"Circle with radius =\",c.radius ,\"when colored\", c.color,\"costs $\",c.color_the_shape())"
   ]
  },
  {
   "cell_type": "code",
   "execution_count": 80,
   "metadata": {},
   "outputs": [],
   "source": [
    "class Rectangle(Shape) :\n",
    "    def __init__(self, length, breadth):\n",
    "        self.length = length\n",
    "        self.breadth = breadth\n",
    "        \n",
    "     # Overriding user defined method   \n",
    "    def calculate_area(self):\n",
    "        return self.length * self.breadth\n",
    "    \n",
    "    # Overriding python default method\n",
    "    def __str__(self):\n",
    "        return \"area of rectangle = \" + str(self.calculate_area())"
   ]
  },
  {
   "cell_type": "code",
   "execution_count": 81,
   "metadata": {},
   "outputs": [
    {
     "name": "stdout",
     "output_type": "stream",
     "text": [
      "Rectangle with length = 5  and breadth =  10 when colored blue costs $ 750\n"
     ]
    }
   ],
   "source": [
    "r = Rectangle(5, 10)\n",
    "r.set_color(\"blue\")\n",
    "print(\"Rectangle with length =\",r.length ,\" and breadth = \",r.breadth ,\"when colored\", r.color,\"costs $\",r.color_the_shape())"
   ]
  },
  {
   "cell_type": "code",
   "execution_count": 82,
   "metadata": {},
   "outputs": [
    {
     "name": "stdout",
     "output_type": "stream",
     "text": [
      "area of rectangle = 50\n"
     ]
    }
   ],
   "source": [
    "print(r)"
   ]
  },
  {
   "cell_type": "code",
   "execution_count": null,
   "metadata": {},
   "outputs": [],
   "source": []
  },
  {
   "cell_type": "code",
   "execution_count": null,
   "metadata": {},
   "outputs": [],
   "source": []
  }
 ],
 "metadata": {
  "kernelspec": {
   "display_name": "Python 3 (ipykernel)",
   "language": "python",
   "name": "python3"
  },
  "language_info": {
   "codemirror_mode": {
    "name": "ipython",
    "version": 3
   },
   "file_extension": ".py",
   "mimetype": "text/x-python",
   "name": "python",
   "nbconvert_exporter": "python",
   "pygments_lexer": "ipython3",
   "version": "3.12.1"
  }
 },
 "nbformat": 4,
 "nbformat_minor": 4
}
