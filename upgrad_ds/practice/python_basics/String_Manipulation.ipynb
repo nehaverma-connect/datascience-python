{
 "cells": [
  {
   "attachments": {},
   "cell_type": "markdown",
   "metadata": {
    "id": "ZstrsgRYu7u_"
   },
   "source": [
    "# Session 1: Basics of Python"
   ]
  },
  {
   "attachments": {},
   "cell_type": "markdown",
   "metadata": {
    "id": "82Pyd7UySXrK"
   },
   "source": [
    "# Problem Statement\n",
    "\n",
    "A software company is developing a new user management system that contains information about their:\n",
    "- `name` - The name of the user\n",
    "- `date of birth` - The date of birth of the user\n",
    "- `age` - The age of the user\n",
    "- `subscription status` - The subscription status is represented by a boolean value, where \"True\" indicates an active subscription and \"False\" indicates an inactive subscription.\n",
    "\n",
    "As a business analyst, your task is to use these details and extract useful information from them, using basic Python operations.\n",
    "\n",
    "---\n",
    "\n"
   ]
  },
  {
   "attachments": {},
   "cell_type": "markdown",
   "metadata": {
    "id": "3UsLTZqd1bBS"
   },
   "source": [
    "The company wants to generate user IDs from the user's name, age, year of birth, and subscription status by using string formatting to generate the user IDs."
   ]
  },
  {
   "cell_type": "code",
   "execution_count": 35,
   "metadata": {
    "id": "7RL0W3mm5i14"
   },
   "outputs": [],
   "source": [
    "# User details on name, year of birth and age\n",
    "name = 'Alice Kim'\n",
    "yob\t= 1965\t\n",
    "age\t= 58"
   ]
  },
  {
   "cell_type": "code",
   "execution_count": 36,
   "metadata": {
    "id": "M8S-OyEoH80v"
   },
   "outputs": [
    {
     "name": "stdout",
     "output_type": "stream",
     "text": [
      "The user_id for the user Alice Kim with year of birth 1965 and age 58 is Alice Kim196558\n",
      "\n",
      "The user_id for the user Alice Kim with year of birth 1965 and age 58 is Alice Kim196558\n"
     ]
    }
   ],
   "source": [
    "# Extract user id using string formatting - user's name + yob + age without any whitespaces\n",
    "user_id = f'{name}{yob}{age}'\n",
    "print(f'The user_id for the user {name} with year of birth {yob} and age {age} is {user_id}')\n",
    "print('\\nThe user_id for the user {} with year of birth {} and age {} is {}'.format(name,yob,age,user_id))"
   ]
  },
  {
   "cell_type": "code",
   "execution_count": 37,
   "metadata": {
    "id": "M8S-OyEoH80v"
   },
   "outputs": [
    {
     "name": "stdout",
     "output_type": "stream",
     "text": [
      "\n",
      "The user_id for the user Alice Kim with year of birth 1965 and age 58 is Alice_Kim196558\n"
     ]
    }
   ],
   "source": [
    "# Remove space and add an underscore in the name and use that as the id\n",
    "user_id = name.replace(\" \",\"_\") + str(yob) + str(age)\n",
    "print('\\nThe user_id for the user {} with year of birth {} and age {} is {}'.format(name,yob,age,user_id))"
   ]
  },
  {
   "attachments": {},
   "cell_type": "markdown",
   "metadata": {
    "id": "9a4SJLMO4n4V"
   },
   "source": [
    "The company needs to validate the length of user names to ensure none of the users' names are neither too long nor too short."
   ]
  },
  {
   "cell_type": "code",
   "execution_count": 38,
   "metadata": {
    "id": "lE6cdI37mxWT"
   },
   "outputs": [
    {
     "data": {
      "text/plain": [
       "9"
      ]
     },
     "execution_count": 38,
     "metadata": {},
     "output_type": "execute_result"
    }
   ],
   "source": [
    "# Find the length of the name\n",
    "len(name)"
   ]
  },
  {
   "cell_type": "code",
   "execution_count": 39,
   "metadata": {
    "id": "PYZTQ_HzH-a-"
   },
   "outputs": [
    {
     "name": "stdout",
     "output_type": "stream",
     "text": [
      "AK196558\n"
     ]
    }
   ],
   "source": [
    "## Extract fixed length user_ids using only the first letter of the first name and the last name.\n",
    "user_id = name[0]+name.split()[1][0]+str(yob)+str(age)\n",
    "print(user_id)"
   ]
  },
  {
   "attachments": {},
   "cell_type": "markdown",
   "metadata": {
    "id": "ff3yxIpX4OLE"
   },
   "source": [
    "The company needs to split user-provided full names into separate first and last name fields. The full name strings may contain leading or trailing whitespace, as well as mixed case text. The company wants to ensure that the first and last names are accurately extracted from the full name strings, while also handling any formatting inconsistencies."
   ]
  },
  {
   "cell_type": "code",
   "execution_count": 44,
   "metadata": {
    "id": "m6TOmiUF44oX"
   },
   "outputs": [
    {
     "name": "stdout",
     "output_type": "stream",
     "text": [
      "First Name: alice\n",
      "Last Name: kim\n"
     ]
    }
   ],
   "source": [
    "full_name = \"   Alice Kim  \"\n",
    "\n",
    "# Trim whitespace and lowercase text\n",
    "full_name = full_name.strip().lower()\n",
    "\n",
    "# Split full name into first and last name\n",
    "first_name, last_name = full_name.split()[0], full_name.split()[1]\n",
    "\n",
    "print(\"First Name:\", first_name)\n",
    "print(\"Last Name:\", last_name)"
   ]
  },
  {
   "attachments": {},
   "cell_type": "markdown",
   "metadata": {
    "id": "-CILyMsvZwA3"
   },
   "source": [
    "Write a Python program to extract the month value from the \"DOB\"."
   ]
  },
  {
   "cell_type": "code",
   "execution_count": 48,
   "metadata": {
    "id": "iYj5r-WRqfv4"
   },
   "outputs": [
    {
     "name": "stdout",
     "output_type": "stream",
     "text": [
      "Month: 05\n"
     ]
    }
   ],
   "source": [
    "# Slice string date to obtain month value\n",
    "date_string = \"23-05-1965\"\n",
    "\n",
    "# Use string slicing to extract the month value\n",
    "month = date_string[3:5]\n",
    "\n",
    "print(\"Month:\", month)"
   ]
  },
  {
   "cell_type": "code",
   "execution_count": null,
   "metadata": {},
   "outputs": [],
   "source": []
  }
 ],
 "metadata": {
  "colab": {
   "provenance": []
  },
  "kernelspec": {
   "display_name": "Python 3 (ipykernel)",
   "language": "python",
   "name": "python3"
  },
  "language_info": {
   "codemirror_mode": {
    "name": "ipython",
    "version": 3
   },
   "file_extension": ".py",
   "mimetype": "text/x-python",
   "name": "python",
   "nbconvert_exporter": "python",
   "pygments_lexer": "ipython3",
   "version": "3.12.1"
  }
 },
 "nbformat": 4,
 "nbformat_minor": 4
}
