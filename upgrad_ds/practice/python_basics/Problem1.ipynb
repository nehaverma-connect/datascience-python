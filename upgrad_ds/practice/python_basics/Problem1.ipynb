{
 "cells": [
  {
   "cell_type": "markdown",
   "id": "156e8647-fa27-4c5f-bc2e-92ac38f35bd9",
   "metadata": {},
   "source": [
    "# Practice 1"
   ]
  },
  {
   "cell_type": "code",
   "execution_count": 7,
   "id": "1fe08a03-5bc6-42a4-ba88-8121c1477190",
   "metadata": {},
   "outputs": [
    {
     "name": "stdout",
     "output_type": "stream",
     "text": [
      "bandra,mumbai\n"
     ]
    }
   ],
   "source": [
    "# Input Sample = bmaunmdbraai\n",
    "\n",
    "input_str = 'bmaunmdbraai'\n",
    "\n",
    "message1 = input_str[::2]\n",
    "message1 = message1.rstrip('#')\n",
    "\n",
    "message2 = input_str[1::2]\n",
    "message2 = message2.rstrip('#')\n",
    "\n",
    "print(message1+\",\"+message2)"
   ]
  },
  {
   "cell_type": "code",
   "execution_count": null,
   "id": "b22fa4d0-a6b5-40cd-9427-806b338501ba",
   "metadata": {},
   "outputs": [],
   "source": []
  }
 ],
 "metadata": {
  "kernelspec": {
   "display_name": "Python 3 (ipykernel)",
   "language": "python",
   "name": "python3"
  },
  "language_info": {
   "codemirror_mode": {
    "name": "ipython",
    "version": 3
   },
   "file_extension": ".py",
   "mimetype": "text/x-python",
   "name": "python",
   "nbconvert_exporter": "python",
   "pygments_lexer": "ipython3",
   "version": "3.12.1"
  }
 },
 "nbformat": 4,
 "nbformat_minor": 5
}
