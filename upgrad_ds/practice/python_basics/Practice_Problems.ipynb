{
 "cells": [
  {
   "cell_type": "markdown",
   "id": "156e8647-fa27-4c5f-bc2e-92ac38f35bd9",
   "metadata": {},
   "source": [
    "# Problem 1\n",
    "\n",
    "In a certain encrypted message which has information about the location(area, city), the characters are jumbled such that first character of the first word is followed by the first character of the second word, then it is followed by second character of the first word and so on\n",
    "\n",
    "\n",
    "\n",
    "In other words, let’s say the location is bandra,mumbai\n",
    "\n",
    "\n",
    "\n",
    "The encrypted message says ‘bmaunmdbraai’.\n",
    "\n",
    "\n",
    "\n",
    "**Sample Input:**\n",
    "\n",
    "bmaunmdbraai\n",
    "\n",
    "\n",
    "\n",
    "**Sample Output:**\n",
    "\n",
    "bandra,mumbai\n",
    "\n",
    "\n",
    "\n",
    "Let’s say the size or length of the two words wouldn’t match then the smaller word is appended with # and then encrypted in the above format."
   ]
  },
  {
   "cell_type": "code",
   "execution_count": 7,
   "id": "1fe08a03-5bc6-42a4-ba88-8121c1477190",
   "metadata": {},
   "outputs": [
    {
     "name": "stdout",
     "output_type": "stream",
     "text": [
      "bandra,mumbai\n"
     ]
    }
   ],
   "source": [
    "# Input Sample = bmaunmdbraai\n",
    "\n",
    "input_str = 'bmaunmdbraai'\n",
    "\n",
    "message1 = input_str[::2]\n",
    "message1 = message1.rstrip('#')\n",
    "\n",
    "message2 = input_str[1::2]\n",
    "message2 = message2.rstrip('#')\n",
    "\n",
    "print(message1+\",\"+message2)"
   ]
  },
  {
   "cell_type": "markdown",
   "id": "33492b6d-5433-4fd2-a0af-5859dae07361",
   "metadata": {},
   "source": [
    "# Problem 2\n",
    "\n",
    "Digit or Alphabet\n",
    "\n",
    "Description\n",
    "\n",
    "Write a program to display whether the input is a digit or a letter of the alphabet.\n",
    "\n",
    "----------------------------------------------------------------------\n",
    "\n",
    "Input:\n",
    "\n",
    "A digit or a letter of the alphabet\n",
    "\n",
    "Output:\n",
    "\n",
    "Displays whether the given output is an integer or a letter of the alphabet\n",
    "\n",
    "----------------------------------------------------------------------\n",
    "Sample input:\n",
    "1\n",
    "\n",
    "Sample output:\n",
    "Integer\n",
    "\n",
    "----------------------------------------------------------------------\n",
    "Sample input:\n",
    "b\n",
    "\n",
    "Sample output:\n",
    "Alphabet\n"
   ]
  },
  {
   "cell_type": "code",
   "execution_count": 1,
   "id": "332729fd-f15b-44c4-8eac-838731a51de1",
   "metadata": {},
   "outputs": [
    {
     "name": "stdin",
     "output_type": "stream",
     "text": [
      "Enter a character - 3\n"
     ]
    },
    {
     "name": "stdout",
     "output_type": "stream",
     "text": [
      "Integer\n"
     ]
    }
   ],
   "source": [
    "inp=input('Enter a character -')\n",
    "\n",
    "if inp.isdigit():\n",
    "    print('Integer')\n",
    "elif inp.isalpha():\n",
    "    print('Alphabet')\n",
    "else:\n",
    "    print('Invalid Input')"
   ]
  },
  {
   "cell_type": "markdown",
   "id": "94d830b4-c932-4916-aca6-d40c2532b78e",
   "metadata": {},
   "source": [
    "# Problem 3\n",
    "\n",
    "ASCII values\n",
    "\n",
    "Description\n",
    "Write a program to accept a character and display its next and previous character. \n",
    "\n",
    "Hint: Make use of Ascii values here.\n",
    "\n",
    "----------------------------------------------------------------------\n",
    "\n",
    "Input:\n",
    "A character\n",
    "\n",
    "Output:\n",
    "Previous character and the next character of the given character\n",
    "\n",
    "----------------------------------------------------------------------\n",
    "\n",
    "Sample input:\n",
    "D\n",
    "\n",
    "Sample output:\n",
    "C\n",
    "E\n",
    "\n",
    "----------------------------------------------------------------------\n",
    "\n",
    "Sample input:\n",
    "8\n",
    "\n",
    "Sample output:\n",
    "7\n",
    "9\n",
    "\n",
    "----------------------------------------------------------------------\n",
    "\n",
    "Sample input:\n",
    "@\n",
    "\n",
    "Sample Output: \n",
    "?\n",
    "A"
   ]
  },
  {
   "cell_type": "code",
   "execution_count": 5,
   "id": "cb352cec-8f23-43ae-addb-68f14bdbe62c",
   "metadata": {},
   "outputs": [
    {
     "name": "stdin",
     "output_type": "stream",
     "text": [
      "Enter a character -  @\n"
     ]
    },
    {
     "name": "stdout",
     "output_type": "stream",
     "text": [
      "?\n",
      "A\n"
     ]
    }
   ],
   "source": [
    "input_char = input('Enter a character - ')\n",
    "\n",
    "#Write your code here\n",
    "print(chr(ord(input_char)-1)) # ord method converts character to ascii value and chr method converts ascii to character\n",
    "print(chr(ord(input_char)+1))"
   ]
  },
  {
   "cell_type": "markdown",
   "id": "bf7301c1-3341-449f-abef-9c68509c4c2b",
   "metadata": {},
   "source": [
    "# Problem 4\n",
    "\n",
    "No Vowels\n",
    "\n",
    "Description\n",
    "Write a program to accept a string from the user, delete all vowels from the string and display the result. \n",
    "\n",
    "----------------------------------------------------------------------\n",
    "\n",
    "Input:\n",
    "A string\n",
    "\n",
    "Output:\n",
    "A string with vowels removed\n",
    "\n",
    "----------------------------------------------------------------------\n",
    "Sample input:\n",
    "Upgrad\n",
    "\n",
    "Sample output:\n",
    "pgrd\n",
    "\n",
    "----------------------------------------------------------------------\n",
    "Sample input:\n",
    "Python Programming\n",
    "\n",
    "Sample output:\n",
    "Pythn Prgrmmng"
   ]
  },
  {
   "cell_type": "code",
   "execution_count": 13,
   "id": "9734ef46-3c6b-40ec-b9e6-a37c168be163",
   "metadata": {},
   "outputs": [
    {
     "name": "stdout",
     "output_type": "stream",
     "text": [
      "Pythn Prgrmmng\n"
     ]
    }
   ],
   "source": [
    "input_str = 'Python Programming'#input('Enter a string - ')\n",
    "\n",
    "vowels = ('A','E','I','O','U','a','e','i','o','u')\n",
    "result = [char for char in input_str if char not in vowels]\n",
    "print(''.join(result))"
   ]
  },
  {
   "cell_type": "markdown",
   "id": "de6c2e9d-4c70-485b-b5dd-b1f2d977d4fd",
   "metadata": {},
   "source": [
    "# Problem 5\n",
    "\n",
    "Valid triangle\n",
    "\n",
    "Description\n",
    "Write a program to accept three sides of a triangle as the input and print whether the triangle is valid or not.\n",
    "\n",
    "(A triangle is valid if the sum of any two sides is greater than the third side.)\n",
    "\n",
    "----------------------------------------------------------------------\n",
    "Input:\n",
    "Three sides of a triangle separated by a space\n",
    "\n",
    "Output:\n",
    "Whether the given triangle is \"Valid\" or \"Invalid\"\n",
    "\n",
    "----------------------------------------------------------------------\n",
    "Sample input:\n",
    "3 4 5\n",
    "\n",
    "Sample output:\n",
    "Valid\n",
    "\n",
    "----------------------------------------------------------------------\n",
    "Sample input:\n",
    "1 4 5\n",
    "\n",
    "Sample output:\n",
    "Invalid"
   ]
  },
  {
   "cell_type": "code",
   "execution_count": 17,
   "id": "53d909fa-76c4-4ae7-83fb-87634d9217a5",
   "metadata": {},
   "outputs": [
    {
     "name": "stdin",
     "output_type": "stream",
     "text": [
      "Enter the sides of a triangle -  145\n"
     ]
    },
    {
     "name": "stdout",
     "output_type": "stream",
     "text": [
      "Invalid\n"
     ]
    }
   ],
   "source": [
    "input_str = input('Enter the sides of a triangle - ')\n",
    "\n",
    "x = int(input_str[0])\n",
    "y = int(input_str[1])\n",
    "z = int(input_str[2])\n",
    "\n",
    "if (x+y)>z and (y+z)>x and (x+z)>y:\n",
    "    print('Valid')\n",
    "else:\n",
    "    print('Invalid')"
   ]
  },
  {
   "cell_type": "markdown",
   "id": "6aa50338-8353-4a67-8a34-d5cb0391022d",
   "metadata": {},
   "source": [
    "# Problem 6\n",
    "\n",
    "Multiplication Table\n",
    "\n",
    "Description\n",
    "Write a program to display the multiplication table of a given number.\n",
    "\n",
    "----------------------------------------------------------------------\n",
    "\n",
    "Input:\n",
    "A positive integer\n",
    "\n",
    "Output:\n",
    "Multiplication table\n",
    "\n",
    "----------------------------------------------------------------------\n",
    "Sample input:\n",
    "5\n",
    "\n",
    "Sample output:\n",
    "\n",
    "5 * 1 = 5\n",
    "\n",
    "5 * 2 = 10\n",
    "\n",
    "5 * 3 = 15\n",
    "\n",
    "5 * 4 = 20\n",
    "\n",
    "5 * 5 = 25\n",
    "\n",
    "5 * 6 = 30\n",
    "\n",
    "5 * 7 = 35\n",
    "\n",
    "5 * 8 = 40\n",
    "\n",
    "5 * 9 = 45\n",
    "\n",
    "5 * 10 = 50"
   ]
  },
  {
   "cell_type": "code",
   "execution_count": 21,
   "id": "dd5b2564-7b10-404c-9efb-1d62135eb945",
   "metadata": {},
   "outputs": [
    {
     "name": "stdin",
     "output_type": "stream",
     "text": [
      "Enter a positive number -  5\n"
     ]
    },
    {
     "name": "stdout",
     "output_type": "stream",
     "text": [
      "5 * 1 = 5\n",
      "5 * 2 = 10\n",
      "5 * 3 = 15\n",
      "5 * 4 = 20\n",
      "5 * 5 = 25\n",
      "5 * 6 = 30\n",
      "5 * 7 = 35\n",
      "5 * 8 = 40\n",
      "5 * 9 = 45\n",
      "5 * 10 = 50\n"
     ]
    }
   ],
   "source": [
    "input_num = int(input('Enter a positive number - '))\n",
    "\n",
    "for i in range(1,11):\n",
    "    print(str(input_num) + ' * ' + str(i) + ' = '+str(input_num*i))"
   ]
  },
  {
   "cell_type": "markdown",
   "id": "7372c291-700f-4a17-ac7a-e5d5880c7c54",
   "metadata": {},
   "source": [
    "# Problem 7\n",
    "\n",
    "Character frequency\n",
    "\n",
    "Description\n",
    "Write a program to accept a string value from the user and accept a char value from the user and find out the total occurrence of the char value in the string value. Note that the count is not case-sensitive\n",
    "\n",
    "----------------------------------------------------------------------\n",
    "Input:\n",
    "A string and a character whose occurrence is to be found\n",
    "\n",
    "Output:\n",
    "An integer\n",
    "\n",
    "----------------------------------------------------------------------\n",
    "Sample input:\n",
    "\n",
    "Python Programming\n",
    "\n",
    "P\n",
    "\n",
    "Sample output:\n",
    "2\n",
    "\n",
    "----------------------------------------------------------------------\n",
    "\n",
    "Sample input:\n",
    "\n",
    "This is my first program\n",
    "\n",
    "t\n",
    "\n",
    "Sample output:\n",
    "\n",
    "2"
   ]
  },
  {
   "cell_type": "code",
   "execution_count": 23,
   "id": "c55451ee-5525-403a-ae19-5b4b43e545b7",
   "metadata": {},
   "outputs": [
    {
     "name": "stdin",
     "output_type": "stream",
     "text": [
      "Enter a string -  This is my first program\n",
      "Enter a char- t\n"
     ]
    },
    {
     "name": "stdout",
     "output_type": "stream",
     "text": [
      "2\n"
     ]
    }
   ],
   "source": [
    "input_str = input('Enter a string - ')\n",
    "input_char = input('Enter a char-')\n",
    "\n",
    "print(input_str.lower().count(input_char.lower()))"
   ]
  },
  {
   "cell_type": "markdown",
   "id": "fc2df0b8-a004-4232-8663-456b67b9ae3e",
   "metadata": {},
   "source": [
    "# Problem 8\n",
    "\n",
    "Sum of digits\n",
    "\n",
    "Description\n",
    "Write a program to calculate the sum of the digits of a given number \n",
    "\n",
    "----------------------------------------------------------------------\n",
    "Input:\n",
    "An n digit number\n",
    "\n",
    "Output:\n",
    "Sum of the digits\n",
    "\n",
    "----------------------------------------------------------------------\n",
    "\n",
    "Sample input:\n",
    "\n",
    "983\n",
    "\n",
    "Sample output:\n",
    "\n",
    "20\n",
    "\n",
    "----------------------------------------------------------------------\n",
    "\n",
    "Sample input:\n",
    "\n",
    "5241\n",
    "\n",
    "Sample output:\n",
    "\n",
    "12"
   ]
  },
  {
   "cell_type": "code",
   "execution_count": 24,
   "id": "759b309e-8f72-4886-a228-b257f822f81b",
   "metadata": {},
   "outputs": [
    {
     "name": "stdin",
     "output_type": "stream",
     "text": [
      "Enter an n digit number -  983\n"
     ]
    },
    {
     "name": "stdout",
     "output_type": "stream",
     "text": [
      "20\n"
     ]
    }
   ],
   "source": [
    "from functools import reduce\n",
    "input_num = input('Enter an n digit number - ')\n",
    "\n",
    "sum_num = reduce(lambda x,y: int(x)+int(y),input_num)\n",
    "print(sum_num)"
   ]
  },
  {
   "cell_type": "code",
   "execution_count": 25,
   "id": "00442c15-a68f-4d9f-8bfd-e5f3ba7e7c36",
   "metadata": {},
   "outputs": [
    {
     "name": "stdin",
     "output_type": "stream",
     "text": [
      "Enter an n digit number -  5421\n"
     ]
    },
    {
     "name": "stdout",
     "output_type": "stream",
     "text": [
      "12\n"
     ]
    }
   ],
   "source": [
    "# Another Solution\n",
    "input_num = input('Enter an n digit number - ')\n",
    "sum_num = 0\n",
    "\n",
    "for num in input_num:\n",
    "    sum_num = sum_num + int(num)\n",
    "\n",
    "print(sum_num)\n"
   ]
  },
  {
   "cell_type": "code",
   "execution_count": 31,
   "id": "d19c4f48-749b-4d11-ae54-8bf69cd347e4",
   "metadata": {},
   "outputs": [
    {
     "name": "stdin",
     "output_type": "stream",
     "text": [
      "Enter an n digit number -  983\n"
     ]
    },
    {
     "name": "stdout",
     "output_type": "stream",
     "text": [
      "20\n"
     ]
    }
   ],
   "source": [
    "# Consider the number is integer\n",
    "\n",
    "input_num = int(input('Enter an n digit number - '))\n",
    "\n",
    "sum_num = 0\n",
    "\n",
    "while input_num>0:\n",
    "    remainder = input_num % 10\n",
    "    input_num = input_num // 10\n",
    "    sum_num = sum_num + remainder\n",
    "\n",
    "print(sum_num)"
   ]
  },
  {
   "cell_type": "markdown",
   "id": "ee0d29e2-77af-4a24-aff9-d3ef0a7f80fe",
   "metadata": {},
   "source": [
    "# Problem 9\n",
    "\n",
    "Count the digits\n",
    "\n",
    "Description\n",
    "Write a program to accept a number from the user and count the zeros, odd digits and non-zero even digits from the entered number.\n",
    "\n",
    "----------------------------------------------------------------------\n",
    "Input:\n",
    "A positive integer of n digits\n",
    "\n",
    "Output:\n",
    "Three integers representing the occurrences of zeros, odd digits and non-zero even digits from the entered number.\n",
    "\n",
    "----------------------------------------------------------------------\n",
    "Sample input:\n",
    "1030\n",
    "\n",
    "Sample output:\n",
    "\n",
    "Number of odd digits: 2\n",
    "\n",
    "Number of non-zero even digits: 0\n",
    "\n",
    "Number of zeros: 2"
   ]
  },
  {
   "cell_type": "code",
   "execution_count": 36,
   "id": "95551d89-8b26-4d4b-90fb-b86325d27a88",
   "metadata": {},
   "outputs": [
    {
     "name": "stdin",
     "output_type": "stream",
     "text": [
      "Enter a positive integer of n digits -  3080\n"
     ]
    },
    {
     "name": "stdout",
     "output_type": "stream",
     "text": [
      "Number of odd digits: 1\n",
      "Number of non-zero even digits: 1\n",
      "Number of zeros: 2\n"
     ]
    }
   ],
   "source": [
    "input_number =  input('Enter a positive integer of n digits - ')\n",
    "\n",
    "even_num = ('2','4','6','8')\n",
    "odd_num = ('1','3','5','7','9')\n",
    "\n",
    "odd_count = list(map(lambda x: x in odd_num, input_number)).count(True)\n",
    "even_count = list(map(lambda x: x in even_num, input_number)).count(True)\n",
    "zero_count = input_number.count('0')\n",
    "\n",
    "print('Number of odd digits:',odd_count)\n",
    "print('Number of non-zero even digits:', even_count)\n",
    "print('Number of zeros:',zero_count)\n"
   ]
  },
  {
   "cell_type": "code",
   "execution_count": 38,
   "id": "5a7820cc-553f-4d4a-aab0-264476e8df3a",
   "metadata": {},
   "outputs": [
    {
     "name": "stdin",
     "output_type": "stream",
     "text": [
      "Enter a positive integer of n digits -  3080\n"
     ]
    },
    {
     "name": "stdout",
     "output_type": "stream",
     "text": [
      "Number of odd digits: 1\n",
      "Number of non-zero even digits: 1\n",
      "Number of zeros: 2\n"
     ]
    }
   ],
   "source": [
    "# Another Solution considering the input is number\n",
    "\n",
    "input_number = int(input('Enter a positive integer of n digits - '))\n",
    "\n",
    "odd_count = 0\n",
    "even_count = 0\n",
    "zero_count = 0\n",
    "\n",
    "while input_number>0:\n",
    "    remainder = input_number % 10\n",
    "    input_number = input_number // 10\n",
    "    if remainder == 0:\n",
    "        zero_count = zero_count + 1\n",
    "    elif remainder%2 == 0:\n",
    "        even_count = even_count + 1\n",
    "    else:\n",
    "        odd_count = odd_count + 1\n",
    "\n",
    "print('Number of odd digits:',odd_count)\n",
    "print('Number of non-zero even digits:', even_count)\n",
    "print('Number of zeros:',zero_count)"
   ]
  },
  {
   "cell_type": "markdown",
   "id": "fa1e7029-580b-4a33-bea3-7af5052a2232",
   "metadata": {},
   "source": [
    "# Problem 10\n",
    "\n",
    "String manipulation\n",
    "\n",
    "Description\n",
    "Write a program that takes a string as the input and does the following:\n",
    "\n",
    "    -Removes the numbers, special characters\n",
    "\n",
    "    -Converts uppercase letters to lowercase letters, and vice versa \n",
    "    \n",
    "----------------------------------------------------------------------\n",
    "\n",
    "Input:\n",
    "A string \n",
    "\n",
    "Output:\n",
    "A string with numbers, special characters removed, upper and lower cases swapped\n",
    "\n",
    "----------------------------------------------------------------------\n",
    "\n",
    "Sample input:\n",
    "\n",
    "Programming1234\n",
    "\n",
    "Sample output:\n",
    "\n",
    "pROGRAMMING\n",
    "\n",
    "----------------------------------------------------------------------\n",
    "\n",
    "Sample input:\n",
    "\n",
    "Programming is 100% fun\n",
    "\n",
    "\n",
    "Sample output:\n",
    "\n",
    "pROGRAMMINGISFUN"
   ]
  },
  {
   "cell_type": "code",
   "execution_count": 42,
   "id": "cd7a97f5-9dbd-42a4-8a34-6fe756eab840",
   "metadata": {},
   "outputs": [
    {
     "name": "stdin",
     "output_type": "stream",
     "text": [
      "Enter a string -  Programming is 100% fun\n"
     ]
    },
    {
     "name": "stdout",
     "output_type": "stream",
     "text": [
      "pROGRAMMINGISFUN\n"
     ]
    }
   ],
   "source": [
    "input_str = input('Enter a string - ')\n",
    "result = []\n",
    "\n",
    "for char in input_str:\n",
    "    if ord(char) >= ord('A') and ord(char) <= ord('Z'):\n",
    "        result.append(char.lower())\n",
    "    elif ord(char) >= ord('a') and ord(char) <= ord('z'):\n",
    "        result.append(char.upper())\n",
    "\n",
    "print(''.join(result))\n",
    "            "
   ]
  },
  {
   "cell_type": "code",
   "execution_count": null,
   "id": "46ae3a5d-2e7d-42bc-9ff2-6e7dd2566895",
   "metadata": {},
   "outputs": [],
   "source": []
  }
 ],
 "metadata": {
  "kernelspec": {
   "display_name": "Python 3 (ipykernel)",
   "language": "python",
   "name": "python3"
  },
  "language_info": {
   "codemirror_mode": {
    "name": "ipython",
    "version": 3
   },
   "file_extension": ".py",
   "mimetype": "text/x-python",
   "name": "python",
   "nbconvert_exporter": "python",
   "pygments_lexer": "ipython3",
   "version": "3.12.1"
  }
 },
 "nbformat": 4,
 "nbformat_minor": 5
}
