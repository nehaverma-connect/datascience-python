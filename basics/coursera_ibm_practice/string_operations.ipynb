{
 "cells": [
  {
   "cell_type": "markdown",
   "id": "618dfa1f-9789-41d0-8a90-807a301b2cc8",
   "metadata": {},
   "source": [
    "# String Interpolation\n",
    "Formatting strings"
   ]
  },
  {
   "cell_type": "code",
   "execution_count": 3,
   "id": "cea82913-a151-4f0b-a85e-2d9483f66d39",
   "metadata": {},
   "outputs": [
    {
     "name": "stdout",
     "output_type": "stream",
     "text": [
      "My name is John and I am 30 years old\n"
     ]
    }
   ],
   "source": [
    "# Using (f-strings)\n",
    "name = 'John'\n",
    "age = 30\n",
    "\n",
    "print(f'My name is {name} and I am {age} years old')"
   ]
  },
  {
   "cell_type": "code",
   "execution_count": 4,
   "id": "26f837c2-94b4-4591-a282-d156318c6a9b",
   "metadata": {},
   "outputs": [
    {
     "name": "stdout",
     "output_type": "stream",
     "text": [
      "My name is John and I am 30 years old\n"
     ]
    }
   ],
   "source": [
    "# Another way with format method\n",
    "print('My name is {} and I am {} years old'.format(name,age))"
   ]
  },
  {
   "cell_type": "code",
   "execution_count": 5,
   "id": "9bea10f2-4e92-46c0-9029-66bc5bf819f3",
   "metadata": {},
   "outputs": [
    {
     "name": "stdout",
     "output_type": "stream",
     "text": [
      "My name is John and I am 30 years old\n"
     ]
    }
   ],
   "source": [
    "# Third way to do it is with % operator\n",
    "print('My name is %s and I am %d years old' %(name, age))"
   ]
  },
  {
   "cell_type": "code",
   "execution_count": 6,
   "id": "0393dae6-e6d2-40cf-936c-7f14f7beccc7",
   "metadata": {},
   "outputs": [
    {
     "name": "stdout",
     "output_type": "stream",
     "text": [
      "The sub of x and y is 15\n"
     ]
    }
   ],
   "source": [
    "# Additional Capability of f-strings: able to evaluate expressions inside a curly bracket\n",
    "x = 10\n",
    "y = 5\n",
    "print(f'The sub of x and y is {x+y}')"
   ]
  },
  {
   "cell_type": "code",
   "execution_count": null,
   "id": "10260b3d-176e-4ed5-b2cd-538caebc12d3",
   "metadata": {},
   "outputs": [],
   "source": []
  }
 ],
 "metadata": {
  "kernelspec": {
   "display_name": "Python 3 (ipykernel)",
   "language": "python",
   "name": "python3"
  },
  "language_info": {
   "codemirror_mode": {
    "name": "ipython",
    "version": 3
   },
   "file_extension": ".py",
   "mimetype": "text/x-python",
   "name": "python",
   "nbconvert_exporter": "python",
   "pygments_lexer": "ipython3",
   "version": "3.12.1"
  }
 },
 "nbformat": 4,
 "nbformat_minor": 5
}
