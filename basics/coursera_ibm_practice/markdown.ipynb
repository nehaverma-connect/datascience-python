{
 "cells": [
  {
   "cell_type": "markdown",
   "id": "c47647ba-bf14-461c-b30c-8bf91fe77af7",
   "metadata": {},
   "source": [
    "# Headers in Markdown\n",
    "# H1: This is level 1 heading \n",
    "## H2: This is level 2 heading\n",
    "### H3: This is level 3 heading\n",
    "#### H4: This is level 4 heading\n",
    "##### H5: This is level 5 heading\n",
    "###### H6: This is level 6 heading"
   ]
  },
  {
   "cell_type": "markdown",
   "id": "7f997659-6528-47ca-8e1f-9e4a1af3f294",
   "metadata": {},
   "source": [
    "# Bold in Markdown\n",
    "**This can be done by adding double ** before and after the statement**\n",
    "\n",
    "__Another way is to add double underscore before and after the statement__"
   ]
  },
  {
   "cell_type": "markdown",
   "id": "50321b13-1ba8-496c-b629-62596758b2bf",
   "metadata": {},
   "source": [
    "# Italics in Markdown\n",
    "*This can be done with single * before and after the statement*\n",
    "\n",
    "_Anothe way is to add single underscore before and after the statement_"
   ]
  },
  {
   "cell_type": "markdown",
   "id": "fa9671c7-f5e7-4952-9fc5-bc074d36c11e",
   "metadata": {},
   "source": [
    "# Both Bold and Italic in Mardown\n",
    "***This can be done by adding triple ** before and after the statement***\n",
    "\n",
    "___Another way is to add triple underscore before and after the statement___"
   ]
  },
  {
   "cell_type": "markdown",
   "id": "a916a3b1-87a8-4c02-9eff-3c87bb4c60fe",
   "metadata": {},
   "source": [
    "# Tables in Markdown\n",
    "\n",
    "+ hyphens (----) for column headers\n",
    "+ pipes | to separate each column\n",
    "+ Text on a new line to separate each row\n",
    "\n",
    "| Language | Interested |\n",
    "| -------- | ---------- |\n",
    "| Python   | Yes        |\n",
    "| JAVA     | Yes        |"
   ]
  },
  {
   "cell_type": "markdown",
   "id": "4f4d62fb-9f62-4b33-9b84-74783055a180",
   "metadata": {},
   "source": [
    "# Unordered Lists in Markdown\n",
    "\n",
    "#### First way to do it is with *\n",
    "* Test 1\n",
    "* Test 2\n",
    "\n",
    "#### Second way to do it is with +\n",
    "+ Test 1\n",
    "+ Test 2\n",
    "\n",
    "#### Third way to do it is with -\n",
    "- Test 1\n",
    "- Test 2"
   ]
  },
  {
   "cell_type": "markdown",
   "id": "c7df9050-16ca-4a7c-8be6-ae29d42c5dfe",
   "metadata": {},
   "source": [
    "# Ordered List\n",
    "\n",
    "#### This can be done by adding numbers with (.)\n",
    "\n",
    "1. Test1\n",
    "2. Test2"
   ]
  },
  {
   "cell_type": "markdown",
   "id": "7531a0e2-a129-4a79-9b9e-ec7209508ced",
   "metadata": {},
   "source": [
    "## Link in Markdown\n",
    "[This is SN labs New Launcher](https://cf-courses-data.s3.us.cloud-object-storage.appdomain.cloud/IBMDeveloperSkillsNetwork-DS0105EN-SkillsNetwork/labs/Labs_V4/images/Launcher.png)"
   ]
  },
  {
   "cell_type": "markdown",
   "id": "f5637035-d5e0-431e-9ad1-1737bdf38656",
   "metadata": {},
   "source": [
    "## Hyper link in Markdown\n",
    "<a href =\"https://www.coursera.org/learn/open-source-tools-for-data-science/home/\">Tools For Data Science</a>"
   ]
  },
  {
   "cell_type": "code",
   "execution_count": null,
   "id": "146d753a-9ea2-4c28-977b-12723f9b4160",
   "metadata": {},
   "outputs": [],
   "source": []
  }
 ],
 "metadata": {
  "kernelspec": {
   "display_name": "Python 3 (ipykernel)",
   "language": "python",
   "name": "python3"
  },
  "language_info": {
   "codemirror_mode": {
    "name": "ipython",
    "version": 3
   },
   "file_extension": ".py",
   "mimetype": "text/x-python",
   "name": "python",
   "nbconvert_exporter": "python",
   "pygments_lexer": "ipython3",
   "version": "3.12.1"
  }
 },
 "nbformat": 4,
 "nbformat_minor": 5
}
