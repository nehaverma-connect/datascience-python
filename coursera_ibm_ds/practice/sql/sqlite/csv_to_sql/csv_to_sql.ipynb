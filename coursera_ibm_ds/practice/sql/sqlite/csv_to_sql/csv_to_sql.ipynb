{
 "cells": [
  {
   "cell_type": "code",
   "execution_count": 60,
   "id": "1be4b850-3485-4021-944b-15abc5faf97e",
   "metadata": {},
   "outputs": [],
   "source": [
    "import pandas\n",
    "df = pandas.read_csv('marks_1.csv',sep='|',header=None)"
   ]
  },
  {
   "cell_type": "code",
   "execution_count": 61,
   "id": "6ad2392c-5735-4188-996c-2265589d5442",
   "metadata": {},
   "outputs": [],
   "source": [
    "df.columns = ['S.No.','Name','Subject','Maximum Marks','Marks Obtained','Percentage']"
   ]
  },
  {
   "cell_type": "code",
   "execution_count": 62,
   "id": "ecd6e2a1-65e8-414d-9a26-1ffab35a0b72",
   "metadata": {},
   "outputs": [
    {
     "data": {
      "text/html": [
       "<div>\n",
       "<style scoped>\n",
       "    .dataframe tbody tr th:only-of-type {\n",
       "        vertical-align: middle;\n",
       "    }\n",
       "\n",
       "    .dataframe tbody tr th {\n",
       "        vertical-align: top;\n",
       "    }\n",
       "\n",
       "    .dataframe thead th {\n",
       "        text-align: right;\n",
       "    }\n",
       "</style>\n",
       "<table border=\"1\" class=\"dataframe\">\n",
       "  <thead>\n",
       "    <tr style=\"text-align: right;\">\n",
       "      <th></th>\n",
       "      <th>S.No.</th>\n",
       "      <th>Name</th>\n",
       "      <th>Subject</th>\n",
       "      <th>Maximum Marks</th>\n",
       "      <th>Marks Obtained</th>\n",
       "      <th>Percentage</th>\n",
       "    </tr>\n",
       "  </thead>\n",
       "  <tbody>\n",
       "    <tr>\n",
       "      <th>0</th>\n",
       "      <td>1</td>\n",
       "      <td>Akshay</td>\n",
       "      <td>Mathematics</td>\n",
       "      <td>50</td>\n",
       "      <td>40</td>\n",
       "      <td>80</td>\n",
       "    </tr>\n",
       "    <tr>\n",
       "      <th>1</th>\n",
       "      <td>2</td>\n",
       "      <td>Mahima</td>\n",
       "      <td>English</td>\n",
       "      <td>40</td>\n",
       "      <td>33</td>\n",
       "      <td>83</td>\n",
       "    </tr>\n",
       "    <tr>\n",
       "      <th>2</th>\n",
       "      <td>3</td>\n",
       "      <td>Vikas</td>\n",
       "      <td>Mathematics</td>\n",
       "      <td>50</td>\n",
       "      <td>42</td>\n",
       "      <td>84</td>\n",
       "    </tr>\n",
       "    <tr>\n",
       "      <th>3</th>\n",
       "      <td>4</td>\n",
       "      <td>Abhinav</td>\n",
       "      <td>English</td>\n",
       "      <td>40</td>\n",
       "      <td>31</td>\n",
       "      <td>78</td>\n",
       "    </tr>\n",
       "    <tr>\n",
       "      <th>4</th>\n",
       "      <td>5</td>\n",
       "      <td>Mahima</td>\n",
       "      <td>Science</td>\n",
       "      <td>50</td>\n",
       "      <td>40</td>\n",
       "      <td>80</td>\n",
       "    </tr>\n",
       "    <tr>\n",
       "      <th>5</th>\n",
       "      <td>6</td>\n",
       "      <td>Akshay</td>\n",
       "      <td>Science</td>\n",
       "      <td>50</td>\n",
       "      <td>49</td>\n",
       "      <td>98</td>\n",
       "    </tr>\n",
       "    <tr>\n",
       "      <th>6</th>\n",
       "      <td>7</td>\n",
       "      <td>Abhinav</td>\n",
       "      <td>Mathematics</td>\n",
       "      <td>50</td>\n",
       "      <td>47</td>\n",
       "      <td>94</td>\n",
       "    </tr>\n",
       "    <tr>\n",
       "      <th>7</th>\n",
       "      <td>8</td>\n",
       "      <td>Vikas</td>\n",
       "      <td>Science</td>\n",
       "      <td>50</td>\n",
       "      <td>40</td>\n",
       "      <td>80</td>\n",
       "    </tr>\n",
       "    <tr>\n",
       "      <th>8</th>\n",
       "      <td>9</td>\n",
       "      <td>Abhinav</td>\n",
       "      <td>Science</td>\n",
       "      <td>50</td>\n",
       "      <td>47</td>\n",
       "      <td>94</td>\n",
       "    </tr>\n",
       "    <tr>\n",
       "      <th>9</th>\n",
       "      <td>10</td>\n",
       "      <td>Vikas</td>\n",
       "      <td>English</td>\n",
       "      <td>40</td>\n",
       "      <td>39</td>\n",
       "      <td>98</td>\n",
       "    </tr>\n",
       "    <tr>\n",
       "      <th>10</th>\n",
       "      <td>11</td>\n",
       "      <td>Akshay</td>\n",
       "      <td>English</td>\n",
       "      <td>40</td>\n",
       "      <td>35</td>\n",
       "      <td>88</td>\n",
       "    </tr>\n",
       "    <tr>\n",
       "      <th>11</th>\n",
       "      <td>12</td>\n",
       "      <td>Mahima</td>\n",
       "      <td>Mathematics</td>\n",
       "      <td>50</td>\n",
       "      <td>43</td>\n",
       "      <td>86</td>\n",
       "    </tr>\n",
       "  </tbody>\n",
       "</table>\n",
       "</div>"
      ],
      "text/plain": [
       "    S.No.     Name      Subject  Maximum Marks  Marks Obtained  Percentage\n",
       "0       1   Akshay  Mathematics             50              40          80\n",
       "1       2   Mahima      English             40              33          83\n",
       "2       3    Vikas  Mathematics             50              42          84\n",
       "3       4  Abhinav      English             40              31          78\n",
       "4       5   Mahima      Science             50              40          80\n",
       "5       6   Akshay      Science             50              49          98\n",
       "6       7  Abhinav  Mathematics             50              47          94\n",
       "7       8    Vikas      Science             50              40          80\n",
       "8       9  Abhinav      Science             50              47          94\n",
       "9      10    Vikas      English             40              39          98\n",
       "10     11   Akshay      English             40              35          88\n",
       "11     12   Mahima  Mathematics             50              43          86"
      ]
     },
     "execution_count": 62,
     "metadata": {},
     "output_type": "execute_result"
    }
   ],
   "source": [
    "df"
   ]
  },
  {
   "cell_type": "code",
   "execution_count": 63,
   "id": "733ccc52-e221-43f2-a9fc-40cc7ee782fd",
   "metadata": {},
   "outputs": [],
   "source": [
    "import sqlite3\n",
    "\n",
    "con = sqlite3.connect(\"marks.db\")\n",
    "cur = con.cursor()"
   ]
  },
  {
   "cell_type": "code",
   "execution_count": 64,
   "id": "58daecd1-0804-45e6-bac8-2d527d71d471",
   "metadata": {},
   "outputs": [],
   "source": [
    "%sql sqlite:///marks.db"
   ]
  },
  {
   "cell_type": "code",
   "execution_count": 65,
   "id": "24250af9-8d45-4be7-a226-fd573dfdf959",
   "metadata": {},
   "outputs": [
    {
     "data": {
      "text/plain": [
       "12"
      ]
     },
     "execution_count": 65,
     "metadata": {},
     "output_type": "execute_result"
    }
   ],
   "source": [
    "df.to_sql(\"marks_data\", con, if_exists='replace', index=False,method=\"multi\")"
   ]
  },
  {
   "cell_type": "code",
   "execution_count": 66,
   "id": "807e010a-eb9f-4a19-b977-eae58801c94c",
   "metadata": {},
   "outputs": [],
   "source": [
    "con.close()"
   ]
  },
  {
   "cell_type": "code",
   "execution_count": 67,
   "id": "1ccfc3da-a4da-4fc3-9cd5-124cf3e6503b",
   "metadata": {},
   "outputs": [
    {
     "name": "stdout",
     "output_type": "stream",
     "text": [
      "The sql extension is already loaded. To reload it, use:\n",
      "  %reload_ext sql\n"
     ]
    }
   ],
   "source": [
    "%load_ext sql"
   ]
  },
  {
   "cell_type": "code",
   "execution_count": 68,
   "id": "59e0d605-eb6d-4ce0-9ca8-02fd35f1d4f3",
   "metadata": {},
   "outputs": [
    {
     "name": "stdout",
     "output_type": "stream",
     "text": [
      " * sqlite:///marks.db\n",
      "Done.\n"
     ]
    },
    {
     "data": {
      "text/html": [
       "<table>\n",
       "    <thead>\n",
       "        <tr>\n",
       "            <th>S.No.</th>\n",
       "            <th>Name</th>\n",
       "            <th>Subject</th>\n",
       "            <th>Maximum Marks</th>\n",
       "            <th>Marks Obtained</th>\n",
       "            <th>Percentage</th>\n",
       "        </tr>\n",
       "    </thead>\n",
       "    <tbody>\n",
       "        <tr>\n",
       "            <td>1</td>\n",
       "            <td>Akshay</td>\n",
       "            <td>Mathematics</td>\n",
       "            <td>50</td>\n",
       "            <td>40</td>\n",
       "            <td>80</td>\n",
       "        </tr>\n",
       "        <tr>\n",
       "            <td>2</td>\n",
       "            <td>Mahima</td>\n",
       "            <td>English</td>\n",
       "            <td>40</td>\n",
       "            <td>33</td>\n",
       "            <td>83</td>\n",
       "        </tr>\n",
       "        <tr>\n",
       "            <td>3</td>\n",
       "            <td>Vikas</td>\n",
       "            <td>Mathematics</td>\n",
       "            <td>50</td>\n",
       "            <td>42</td>\n",
       "            <td>84</td>\n",
       "        </tr>\n",
       "        <tr>\n",
       "            <td>4</td>\n",
       "            <td>Abhinav</td>\n",
       "            <td>English</td>\n",
       "            <td>40</td>\n",
       "            <td>31</td>\n",
       "            <td>78</td>\n",
       "        </tr>\n",
       "        <tr>\n",
       "            <td>5</td>\n",
       "            <td>Mahima</td>\n",
       "            <td>Science</td>\n",
       "            <td>50</td>\n",
       "            <td>40</td>\n",
       "            <td>80</td>\n",
       "        </tr>\n",
       "        <tr>\n",
       "            <td>6</td>\n",
       "            <td>Akshay</td>\n",
       "            <td>Science</td>\n",
       "            <td>50</td>\n",
       "            <td>49</td>\n",
       "            <td>98</td>\n",
       "        </tr>\n",
       "        <tr>\n",
       "            <td>7</td>\n",
       "            <td>Abhinav</td>\n",
       "            <td>Mathematics</td>\n",
       "            <td>50</td>\n",
       "            <td>47</td>\n",
       "            <td>94</td>\n",
       "        </tr>\n",
       "        <tr>\n",
       "            <td>8</td>\n",
       "            <td>Vikas</td>\n",
       "            <td>Science</td>\n",
       "            <td>50</td>\n",
       "            <td>40</td>\n",
       "            <td>80</td>\n",
       "        </tr>\n",
       "        <tr>\n",
       "            <td>9</td>\n",
       "            <td>Abhinav</td>\n",
       "            <td>Science</td>\n",
       "            <td>50</td>\n",
       "            <td>47</td>\n",
       "            <td>94</td>\n",
       "        </tr>\n",
       "        <tr>\n",
       "            <td>10</td>\n",
       "            <td>Vikas</td>\n",
       "            <td>English</td>\n",
       "            <td>40</td>\n",
       "            <td>39</td>\n",
       "            <td>98</td>\n",
       "        </tr>\n",
       "        <tr>\n",
       "            <td>11</td>\n",
       "            <td>Akshay</td>\n",
       "            <td>English</td>\n",
       "            <td>40</td>\n",
       "            <td>35</td>\n",
       "            <td>88</td>\n",
       "        </tr>\n",
       "        <tr>\n",
       "            <td>12</td>\n",
       "            <td>Mahima</td>\n",
       "            <td>Mathematics</td>\n",
       "            <td>50</td>\n",
       "            <td>43</td>\n",
       "            <td>86</td>\n",
       "        </tr>\n",
       "    </tbody>\n",
       "</table>"
      ],
      "text/plain": [
       "[(1, 'Akshay', 'Mathematics', 50, 40, 80),\n",
       " (2, 'Mahima', 'English', 40, 33, 83),\n",
       " (3, 'Vikas', 'Mathematics', 50, 42, 84),\n",
       " (4, 'Abhinav', 'English', 40, 31, 78),\n",
       " (5, 'Mahima', 'Science', 50, 40, 80),\n",
       " (6, 'Akshay', 'Science', 50, 49, 98),\n",
       " (7, 'Abhinav', 'Mathematics', 50, 47, 94),\n",
       " (8, 'Vikas', 'Science', 50, 40, 80),\n",
       " (9, 'Abhinav', 'Science', 50, 47, 94),\n",
       " (10, 'Vikas', 'English', 40, 39, 98),\n",
       " (11, 'Akshay', 'English', 40, 35, 88),\n",
       " (12, 'Mahima', 'Mathematics', 50, 43, 86)]"
      ]
     },
     "execution_count": 68,
     "metadata": {},
     "output_type": "execute_result"
    }
   ],
   "source": [
    "%sql select * from marks_data;"
   ]
  },
  {
   "cell_type": "code",
   "execution_count": 69,
   "id": "64b6f571-f9fc-4c56-8eab-d6d78bb3243f",
   "metadata": {},
   "outputs": [
    {
     "name": "stdout",
     "output_type": "stream",
     "text": [
      " * sqlite:///marks.db\n",
      "Done.\n"
     ]
    },
    {
     "data": {
      "text/html": [
       "<table>\n",
       "    <thead>\n",
       "        <tr>\n",
       "            <th>S.No.</th>\n",
       "            <th>Name</th>\n",
       "            <th>Subject</th>\n",
       "            <th>Maximum Marks</th>\n",
       "            <th>Marks Obtained</th>\n",
       "            <th>Percentage</th>\n",
       "        </tr>\n",
       "    </thead>\n",
       "    <tbody>\n",
       "        <tr>\n",
       "            <td>6</td>\n",
       "            <td>Akshay</td>\n",
       "            <td>Science</td>\n",
       "            <td>50</td>\n",
       "            <td>49</td>\n",
       "            <td>98</td>\n",
       "        </tr>\n",
       "        <tr>\n",
       "            <td>7</td>\n",
       "            <td>Abhinav</td>\n",
       "            <td>Mathematics</td>\n",
       "            <td>50</td>\n",
       "            <td>47</td>\n",
       "            <td>94</td>\n",
       "        </tr>\n",
       "        <tr>\n",
       "            <td>9</td>\n",
       "            <td>Abhinav</td>\n",
       "            <td>Science</td>\n",
       "            <td>50</td>\n",
       "            <td>47</td>\n",
       "            <td>94</td>\n",
       "        </tr>\n",
       "        <tr>\n",
       "            <td>10</td>\n",
       "            <td>Vikas</td>\n",
       "            <td>English</td>\n",
       "            <td>40</td>\n",
       "            <td>39</td>\n",
       "            <td>98</td>\n",
       "        </tr>\n",
       "        <tr>\n",
       "            <td>11</td>\n",
       "            <td>Akshay</td>\n",
       "            <td>English</td>\n",
       "            <td>40</td>\n",
       "            <td>35</td>\n",
       "            <td>88</td>\n",
       "        </tr>\n",
       "        <tr>\n",
       "            <td>12</td>\n",
       "            <td>Mahima</td>\n",
       "            <td>Mathematics</td>\n",
       "            <td>50</td>\n",
       "            <td>43</td>\n",
       "            <td>86</td>\n",
       "        </tr>\n",
       "    </tbody>\n",
       "</table>"
      ],
      "text/plain": [
       "[(6, 'Akshay', 'Science', 50, 49, 98),\n",
       " (7, 'Abhinav', 'Mathematics', 50, 47, 94),\n",
       " (9, 'Abhinav', 'Science', 50, 47, 94),\n",
       " (10, 'Vikas', 'English', 40, 39, 98),\n",
       " (11, 'Akshay', 'English', 40, 35, 88),\n",
       " (12, 'Mahima', 'Mathematics', 50, 43, 86)]"
      ]
     },
     "execution_count": 69,
     "metadata": {},
     "output_type": "execute_result"
    }
   ],
   "source": [
    "%sql select * from marks_data where percentage >85;"
   ]
  },
  {
   "cell_type": "code",
   "execution_count": 77,
   "id": "442047b3-147f-4616-b973-8279e76dc12f",
   "metadata": {},
   "outputs": [
    {
     "name": "stdout",
     "output_type": "stream",
     "text": [
      " * sqlite:///marks.db\n",
      "Done.\n"
     ]
    },
    {
     "data": {
      "text/html": [
       "<table>\n",
       "    <thead>\n",
       "        <tr>\n",
       "            <th>name</th>\n",
       "        </tr>\n",
       "    </thead>\n",
       "    <tbody>\n",
       "        <tr>\n",
       "            <td>marks_data</td>\n",
       "        </tr>\n",
       "    </tbody>\n",
       "</table>"
      ],
      "text/plain": [
       "[('marks_data',)]"
      ]
     },
     "execution_count": 77,
     "metadata": {},
     "output_type": "execute_result"
    }
   ],
   "source": [
    "%%sql\n",
    "\n",
    "select name from sqlite_master where type=\"table\"; -- to get the list of tables in sqlite"
   ]
  },
  {
   "cell_type": "code",
   "execution_count": 79,
   "id": "384c5bfa-8f15-4b6d-b425-87ad17041f77",
   "metadata": {},
   "outputs": [
    {
     "name": "stdout",
     "output_type": "stream",
     "text": [
      " * sqlite:///marks.db\n",
      "Done.\n"
     ]
    },
    {
     "data": {
      "text/html": [
       "<table>\n",
       "    <thead>\n",
       "        <tr>\n",
       "            <th>cid</th>\n",
       "            <th>name</th>\n",
       "            <th>type</th>\n",
       "            <th>notnull</th>\n",
       "            <th>dflt_value</th>\n",
       "            <th>pk</th>\n",
       "        </tr>\n",
       "    </thead>\n",
       "    <tbody>\n",
       "        <tr>\n",
       "            <td>0</td>\n",
       "            <td>S.No.</td>\n",
       "            <td>INTEGER</td>\n",
       "            <td>0</td>\n",
       "            <td>None</td>\n",
       "            <td>0</td>\n",
       "        </tr>\n",
       "        <tr>\n",
       "            <td>1</td>\n",
       "            <td>Name</td>\n",
       "            <td>TEXT</td>\n",
       "            <td>0</td>\n",
       "            <td>None</td>\n",
       "            <td>0</td>\n",
       "        </tr>\n",
       "        <tr>\n",
       "            <td>2</td>\n",
       "            <td>Subject</td>\n",
       "            <td>TEXT</td>\n",
       "            <td>0</td>\n",
       "            <td>None</td>\n",
       "            <td>0</td>\n",
       "        </tr>\n",
       "        <tr>\n",
       "            <td>3</td>\n",
       "            <td>Maximum Marks</td>\n",
       "            <td>INTEGER</td>\n",
       "            <td>0</td>\n",
       "            <td>None</td>\n",
       "            <td>0</td>\n",
       "        </tr>\n",
       "        <tr>\n",
       "            <td>4</td>\n",
       "            <td>Marks Obtained</td>\n",
       "            <td>INTEGER</td>\n",
       "            <td>0</td>\n",
       "            <td>None</td>\n",
       "            <td>0</td>\n",
       "        </tr>\n",
       "        <tr>\n",
       "            <td>5</td>\n",
       "            <td>Percentage</td>\n",
       "            <td>INTEGER</td>\n",
       "            <td>0</td>\n",
       "            <td>None</td>\n",
       "            <td>0</td>\n",
       "        </tr>\n",
       "    </tbody>\n",
       "</table>"
      ],
      "text/plain": [
       "[(0, 'S.No.', 'INTEGER', 0, None, 0),\n",
       " (1, 'Name', 'TEXT', 0, None, 0),\n",
       " (2, 'Subject', 'TEXT', 0, None, 0),\n",
       " (3, 'Maximum Marks', 'INTEGER', 0, None, 0),\n",
       " (4, 'Marks Obtained', 'INTEGER', 0, None, 0),\n",
       " (5, 'Percentage', 'INTEGER', 0, None, 0)]"
      ]
     },
     "execution_count": 79,
     "metadata": {},
     "output_type": "execute_result"
    }
   ],
   "source": [
    "%sql pragma table_info(marks_data) -- to get the list of attributes of the table"
   ]
  },
  {
   "cell_type": "code",
   "execution_count": null,
   "id": "72f240a4-9224-43b6-b95e-048ddb038dd7",
   "metadata": {},
   "outputs": [],
   "source": []
  }
 ],
 "metadata": {
  "kernelspec": {
   "display_name": "Python 3 (ipykernel)",
   "language": "python",
   "name": "python3"
  },
  "language_info": {
   "codemirror_mode": {
    "name": "ipython",
    "version": 3
   },
   "file_extension": ".py",
   "mimetype": "text/x-python",
   "name": "python",
   "nbconvert_exporter": "python",
   "pygments_lexer": "ipython3",
   "version": "3.12.1"
  }
 },
 "nbformat": 4,
 "nbformat_minor": 5
}
