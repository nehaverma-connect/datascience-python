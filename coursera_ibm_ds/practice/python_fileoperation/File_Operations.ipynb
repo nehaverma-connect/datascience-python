{
 "cells": [
  {
   "cell_type": "code",
   "execution_count": 21,
   "id": "f9afc8c4-51ab-4982-8691-bffa7a5bea24",
   "metadata": {},
   "outputs": [],
   "source": [
    "with open('/Users/nehaverma/Documents/Learning/datascience-python/coursera_ibm_ds/practice/python_fileoperation/Example.txt','w') as test_file:\n",
    "    test_file.write(\"Hello! Welcome to the world of Python.\\nWe are also trying our hands on File Operation.\\nWe hope we learn and then dive into the area of AI/ML.\")"
   ]
  },
  {
   "cell_type": "code",
   "execution_count": 32,
   "id": "2ec00515-2c04-4c0e-af7f-9ad15e16df17",
   "metadata": {},
   "outputs": [
    {
     "name": "stdout",
     "output_type": "stream",
     "text": [
      "True\n"
     ]
    }
   ],
   "source": [
    "print(test_file.closed)"
   ]
  },
  {
   "cell_type": "code",
   "execution_count": 23,
   "id": "8398c399-ceb0-4219-8bf7-084de134cb8e",
   "metadata": {},
   "outputs": [],
   "source": [
    "with open('/Users/nehaverma/Documents/Learning/datascience-python/coursera_ibm_ds/practice/python_fileoperation/Example.txt','r') as testFile:\n",
    "    file_content = testFile.readlines()"
   ]
  },
  {
   "cell_type": "code",
   "execution_count": 24,
   "id": "ef05c163-1205-4e3f-a012-9072011a62dc",
   "metadata": {},
   "outputs": [
    {
     "name": "stdout",
     "output_type": "stream",
     "text": [
      "Hello! Welcome to the world of Python.\n",
      "\n"
     ]
    }
   ],
   "source": [
    "print(file_content[0])"
   ]
  },
  {
   "cell_type": "code",
   "execution_count": 25,
   "id": "bb5abd26-35b2-450f-9f44-9abc258e2b0c",
   "metadata": {},
   "outputs": [
    {
     "name": "stdout",
     "output_type": "stream",
     "text": [
      "Hello! Welcome to the world of Python.\n",
      "\n",
      "We are also trying our hands on File Operation.\n",
      "\n",
      "We hope we learn and then dive into the area of AI/ML.\n"
     ]
    }
   ],
   "source": [
    "for line in file_content:\n",
    "    print(line)"
   ]
  },
  {
   "cell_type": "code",
   "execution_count": 26,
   "id": "6d99a5ed-551c-4e1b-9a06-162920f9bf68",
   "metadata": {},
   "outputs": [],
   "source": [
    "with open('/Users/nehaverma/Documents/Learning/datascience-python/coursera_ibm_ds/practice/python_fileoperation/Example.txt','a') as test_file:\n",
    "    test_file.write(\"\\nChecking if append works for file.\\n\")"
   ]
  },
  {
   "cell_type": "code",
   "execution_count": 27,
   "id": "b6b59003-00a7-4a9f-a809-9c01248d3736",
   "metadata": {},
   "outputs": [],
   "source": [
    "with open('/Users/nehaverma/Documents/Learning/datascience-python/coursera_ibm_ds/practice/python_fileoperation/Example.txt','r') as testFile:\n",
    "    file_content = testFile.readlines()"
   ]
  },
  {
   "cell_type": "code",
   "execution_count": 28,
   "id": "a635a632-073a-496a-a2bf-052b5597a795",
   "metadata": {},
   "outputs": [
    {
     "name": "stdout",
     "output_type": "stream",
     "text": [
      "Hello! Welcome to the world of Python.\n",
      "\n",
      "We are also trying our hands on File Operation.\n",
      "\n",
      "We hope we learn and then dive into the area of AI/ML.\n",
      "\n",
      "Checking if append works for file.\n",
      "\n"
     ]
    }
   ],
   "source": [
    "for line in file_content:\n",
    "    print(line)"
   ]
  },
  {
   "cell_type": "code",
   "execution_count": 29,
   "id": "24b516a7-4a6f-4777-af70-eac6850bb080",
   "metadata": {},
   "outputs": [],
   "source": [
    "with open('/Users/nehaverma/Documents/Learning/datascience-python/coursera_ibm_ds/practice/python_fileoperation/Example.txt','r') as testFile:\n",
    "    file_content = testFile.read()"
   ]
  },
  {
   "cell_type": "code",
   "execution_count": 30,
   "id": "a67b2806-353d-42a4-a316-6b9fae009040",
   "metadata": {},
   "outputs": [
    {
     "name": "stdout",
     "output_type": "stream",
     "text": [
      "Hello! Welcome to the world of Python.\n",
      "We are also trying our hands on File Operation.\n",
      "We hope we learn and then dive into the area of AI/ML.\n",
      "Checking if append works for file.\n",
      "\n"
     ]
    }
   ],
   "source": [
    "print(file_content)"
   ]
  },
  {
   "cell_type": "code",
   "execution_count": 31,
   "id": "40ec05b8-e499-445b-8771-cb74c07c0ba9",
   "metadata": {},
   "outputs": [
    {
     "data": {
      "text/plain": [
       "'Hello! Welcome to the world of Python.\\nWe are also trying our hands on File Operation.\\nWe hope we learn and then dive into the area of AI/ML.\\nChecking if append works for file.\\n'"
      ]
     },
     "execution_count": 31,
     "metadata": {},
     "output_type": "execute_result"
    }
   ],
   "source": [
    "file_content"
   ]
  },
  {
   "cell_type": "code",
   "execution_count": null,
   "id": "522d5481-852c-4fb4-8529-7488b73ba540",
   "metadata": {},
   "outputs": [],
   "source": []
  }
 ],
 "metadata": {
  "kernelspec": {
   "display_name": "Python 3 (ipykernel)",
   "language": "python",
   "name": "python3"
  },
  "language_info": {
   "codemirror_mode": {
    "name": "ipython",
    "version": 3
   },
   "file_extension": ".py",
   "mimetype": "text/x-python",
   "name": "python",
   "nbconvert_exporter": "python",
   "pygments_lexer": "ipython3",
   "version": "3.12.1"
  }
 },
 "nbformat": 4,
 "nbformat_minor": 5
}
