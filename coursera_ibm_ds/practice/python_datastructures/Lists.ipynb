{
 "cells": [
  {
   "cell_type": "markdown",
   "id": "e74762be-bece-412b-bee6-4ea43237f0ba",
   "metadata": {},
   "source": [
    "# Lists"
   ]
  },
  {
   "cell_type": "code",
   "execution_count": 64,
   "id": "5ee8ba5e-25f5-4dd5-891a-663833cba942",
   "metadata": {},
   "outputs": [],
   "source": [
    "list1 = ['Ram',25,55.5]"
   ]
  },
  {
   "cell_type": "code",
   "execution_count": 65,
   "id": "63bd6d39-1154-48fb-9a3b-64e6e098a455",
   "metadata": {},
   "outputs": [
    {
     "name": "stdout",
     "output_type": "stream",
     "text": [
      "['Ram', 25, 55.5]\n"
     ]
    }
   ],
   "source": [
    "print(list1)"
   ]
  },
  {
   "cell_type": "code",
   "execution_count": 66,
   "id": "a09b50dc-4e4b-41fb-a2c1-15b707acd723",
   "metadata": {},
   "outputs": [
    {
     "name": "stdout",
     "output_type": "stream",
     "text": [
      "25\n"
     ]
    }
   ],
   "source": [
    "print(list1[1])"
   ]
  },
  {
   "cell_type": "code",
   "execution_count": 67,
   "id": "d1a63ceb-aa3e-4416-9b1b-9247f1e32956",
   "metadata": {},
   "outputs": [
    {
     "name": "stdout",
     "output_type": "stream",
     "text": [
      "3\n"
     ]
    }
   ],
   "source": [
    "print(len(list1))"
   ]
  },
  {
   "cell_type": "markdown",
   "id": "acbf62b9-03e1-4fac-bee1-b333cf805ecb",
   "metadata": {},
   "source": [
    "# List Element Access"
   ]
  },
  {
   "cell_type": "code",
   "execution_count": 68,
   "id": "40e53dd5-4ebf-44e2-847c-d823267cc54f",
   "metadata": {},
   "outputs": [
    {
     "name": "stdout",
     "output_type": "stream",
     "text": [
      "Ram\n"
     ]
    }
   ],
   "source": [
    "print(list1[0])"
   ]
  },
  {
   "cell_type": "code",
   "execution_count": 69,
   "id": "77c3bbd2-835d-49bd-9986-5d22c120a54f",
   "metadata": {},
   "outputs": [
    {
     "name": "stdout",
     "output_type": "stream",
     "text": [
      "55.5\n"
     ]
    }
   ],
   "source": [
    "print(list1[-1])"
   ]
  },
  {
   "cell_type": "code",
   "execution_count": 70,
   "id": "b2db5eda-e8bd-4b61-97d4-2ca8431d3b16",
   "metadata": {},
   "outputs": [
    {
     "name": "stdout",
     "output_type": "stream",
     "text": [
      "Ram\n"
     ]
    }
   ],
   "source": [
    "print(list1[-3])"
   ]
  },
  {
   "cell_type": "markdown",
   "id": "fed78ac0-839e-4cbd-8c65-da0aa8dced27",
   "metadata": {},
   "source": [
    "# Lists are mutable"
   ]
  },
  {
   "cell_type": "code",
   "execution_count": 71,
   "id": "17bee1a0-0b91-44e3-a3ac-683c1f297789",
   "metadata": {},
   "outputs": [],
   "source": [
    "list1[2] = 57.5"
   ]
  },
  {
   "cell_type": "code",
   "execution_count": 72,
   "id": "ded0a4c1-285c-486b-ba53-e396ee3d86e7",
   "metadata": {},
   "outputs": [
    {
     "name": "stdout",
     "output_type": "stream",
     "text": [
      "['Ram', 25, 57.5]\n"
     ]
    }
   ],
   "source": [
    "print(list1)"
   ]
  },
  {
   "cell_type": "code",
   "execution_count": 73,
   "id": "76f7dee3-b4c9-4ed2-bdc9-99673f920ef9",
   "metadata": {},
   "outputs": [
    {
     "name": "stdout",
     "output_type": "stream",
     "text": [
      "['Ram', 25, 57.5]\n",
      "['Ram', 25, 57.5, 'Enginner', 'Enginner']\n"
     ]
    }
   ],
   "source": [
    "print(list1)\n",
    "#list1.extend(\"Enginner\")\n",
    "list1.append(\"Enginner\")\n",
    "list1.append(\"Enginner\")\n",
    "print(list1)"
   ]
  },
  {
   "cell_type": "code",
   "execution_count": 74,
   "id": "a8f6e7e7-9738-456d-a552-2358d5804fd8",
   "metadata": {},
   "outputs": [
    {
     "name": "stdout",
     "output_type": "stream",
     "text": [
      "['Ram', 25, 57.5, 'Enginner']\n"
     ]
    }
   ],
   "source": [
    "list1.pop()\n",
    "print(list1)"
   ]
  },
  {
   "cell_type": "code",
   "execution_count": 75,
   "id": "ea91113b-5df7-491a-85ec-89aebf1e75b5",
   "metadata": {},
   "outputs": [],
   "source": [
    "# Difference between append and extend\n",
    "\n",
    "list1.append([\"BSc\",\"1st Class\"])"
   ]
  },
  {
   "cell_type": "code",
   "execution_count": 76,
   "id": "f459d766-e78b-4839-b401-09448d2d8547",
   "metadata": {},
   "outputs": [
    {
     "name": "stdout",
     "output_type": "stream",
     "text": [
      "['Ram', 25, 57.5, 'Enginner', ['BSc', '1st Class']]\n"
     ]
    }
   ],
   "source": [
    "print(list1)"
   ]
  },
  {
   "cell_type": "code",
   "execution_count": 77,
   "id": "74b40cdf-05f4-42ff-b3c0-7c8e04010000",
   "metadata": {},
   "outputs": [],
   "source": [
    "del(list1[4]) # lists are mutable"
   ]
  },
  {
   "cell_type": "code",
   "execution_count": 78,
   "id": "817556f7-a8f5-4cef-8415-ee6c985b3471",
   "metadata": {},
   "outputs": [
    {
     "name": "stdout",
     "output_type": "stream",
     "text": [
      "['Ram', 25, 57.5, 'Enginner']\n"
     ]
    }
   ],
   "source": [
    "print(list1)"
   ]
  },
  {
   "cell_type": "code",
   "execution_count": 79,
   "id": "ffb7c3c9-5e3d-4054-9b5b-29da0f484fa0",
   "metadata": {},
   "outputs": [
    {
     "name": "stdout",
     "output_type": "stream",
     "text": [
      "['Ram', 25, 57.5, 'Enginner', 'BSc', '1st Class']\n"
     ]
    }
   ],
   "source": [
    "list1.extend([\"BSc\",\"1st Class\"])\n",
    "print(list1)"
   ]
  },
  {
   "cell_type": "markdown",
   "id": "51131bed-b06b-48f1-8ed0-5aa5b6a1202c",
   "metadata": {},
   "source": [
    "# List Clone and Reference"
   ]
  },
  {
   "cell_type": "code",
   "execution_count": 83,
   "id": "d3525558-851e-4a6a-bf7c-ef2887ca3aa5",
   "metadata": {},
   "outputs": [],
   "source": [
    "list2 = list1[:] # Cloning"
   ]
  },
  {
   "cell_type": "code",
   "execution_count": 84,
   "id": "bfd8c341-85cd-4f67-a42d-3a5397b8a9b6",
   "metadata": {},
   "outputs": [
    {
     "name": "stdout",
     "output_type": "stream",
     "text": [
      "['Ram', 25, 57.5, 'Enginner', 'BSc', '1st Class']\n"
     ]
    }
   ],
   "source": [
    "print(list1)"
   ]
  },
  {
   "cell_type": "code",
   "execution_count": 85,
   "id": "930f18c1-a5c6-4df6-af69-d8e11536b018",
   "metadata": {},
   "outputs": [
    {
     "name": "stdout",
     "output_type": "stream",
     "text": [
      "['Ram', 25, 57.5, 'Enginner', 'BSc', '1st Class']\n"
     ]
    }
   ],
   "source": [
    "print(list2)"
   ]
  },
  {
   "cell_type": "code",
   "execution_count": 86,
   "id": "d1205ee1-3722-4ec4-a906-c4be6ec99bdb",
   "metadata": {},
   "outputs": [],
   "source": [
    "list1.append(\"9.5 GPA\")"
   ]
  },
  {
   "cell_type": "code",
   "execution_count": 87,
   "id": "caf22498-1858-43df-9433-867ee243ce2c",
   "metadata": {},
   "outputs": [
    {
     "name": "stdout",
     "output_type": "stream",
     "text": [
      "['Ram', 25, 57.5, 'Enginner', 'BSc', '1st Class', '9.5 GPA']\n",
      "['Ram', 25, 57.5, 'Enginner', 'BSc', '1st Class']\n"
     ]
    }
   ],
   "source": [
    "print(list1)\n",
    "print(list2)"
   ]
  },
  {
   "cell_type": "markdown",
   "id": "b7ca419b-68f3-46b5-bb9c-d336e2d33d57",
   "metadata": {},
   "source": [
    "# Lists can contain even tuples or other data types"
   ]
  },
  {
   "cell_type": "code",
   "execution_count": 15,
   "id": "dd344a92-0610-4e6e-8c32-048a6104f0ba",
   "metadata": {},
   "outputs": [
    {
     "name": "stdout",
     "output_type": "stream",
     "text": [
      "['Ram', 25, 55.5, ('Varthur', 'Bangalore', 560087), 'Student', ['BSc', '2nd Year']]\n"
     ]
    }
   ],
   "source": [
    "list1 = ['Ram',25,55.5,(\"Varthur\",\"Bangalore\",560087),\"Student\",[\"BSc\",\"2nd Year\"]]\n",
    "print(list)"
   ]
  },
  {
   "cell_type": "code",
   "execution_count": 16,
   "id": "f6a47713-25ca-4583-843a-ea3be6ed8872",
   "metadata": {},
   "outputs": [
    {
     "name": "stdout",
     "output_type": "stream",
     "text": [
      "6\n"
     ]
    }
   ],
   "source": [
    "print(len(list1))"
   ]
  },
  {
   "cell_type": "code",
   "execution_count": 17,
   "id": "1408ec07-cbf8-40e0-a430-e7a551d8ed44",
   "metadata": {},
   "outputs": [
    {
     "name": "stdout",
     "output_type": "stream",
     "text": [
      "('Varthur', 'Bangalore', 560087)\n"
     ]
    }
   ],
   "source": [
    "print(list1[3])"
   ]
  },
  {
   "cell_type": "code",
   "execution_count": 18,
   "id": "0a979245-e3ab-42b0-9d34-417835b10fe0",
   "metadata": {},
   "outputs": [
    {
     "name": "stdout",
     "output_type": "stream",
     "text": [
      "['BSc', '2nd Year']\n"
     ]
    }
   ],
   "source": [
    "print(list1[5])"
   ]
  },
  {
   "cell_type": "code",
   "execution_count": 19,
   "id": "39f5294e-88e6-45c0-a05f-e43fb3406e15",
   "metadata": {},
   "outputs": [
    {
     "name": "stdout",
     "output_type": "stream",
     "text": [
      "Bangalore\n"
     ]
    }
   ],
   "source": [
    "print(list1[-3][1])"
   ]
  },
  {
   "cell_type": "markdown",
   "id": "6484cfcb-e258-4422-b58d-4505b7207ca3",
   "metadata": {},
   "source": [
    "# List Slicing"
   ]
  },
  {
   "cell_type": "code",
   "execution_count": 21,
   "id": "8fa3eaf3-73eb-44e2-9f4b-8416053a36a9",
   "metadata": {},
   "outputs": [
    {
     "name": "stdout",
     "output_type": "stream",
     "text": [
      "[('Varthur', 'Bangalore', 560087), 'Student', ['BSc', '2nd Year']]\n"
     ]
    }
   ],
   "source": [
    "print(list1[3:])"
   ]
  },
  {
   "cell_type": "code",
   "execution_count": 22,
   "id": "e661a110-e7c3-43c9-a459-a13773c10637",
   "metadata": {},
   "outputs": [
    {
     "name": "stdout",
     "output_type": "stream",
     "text": [
      "['Ram', 25, 55.5]\n"
     ]
    }
   ],
   "source": [
    "print(list1[-6:-3])"
   ]
  },
  {
   "cell_type": "markdown",
   "id": "b4f50356-32dd-4257-a057-6493037513a8",
   "metadata": {},
   "source": [
    "# List Concatenation"
   ]
  },
  {
   "cell_type": "code",
   "execution_count": 23,
   "id": "c292db01-db7d-4e98-b29e-b4c38db276a9",
   "metadata": {},
   "outputs": [
    {
     "name": "stdout",
     "output_type": "stream",
     "text": [
      "['Neha', 'Verma', 'Engineer', 10]\n"
     ]
    }
   ],
   "source": [
    "list1 = ['Neha','Verma']\n",
    "list2 = ['Engineer',10]\n",
    "\n",
    "result = list1 + list2\n",
    "print(result)"
   ]
  },
  {
   "cell_type": "code",
   "execution_count": 32,
   "id": "865fa01d-9224-42b1-9189-944f2e777e07",
   "metadata": {},
   "outputs": [
    {
     "ename": "TypeError",
     "evalue": "can only concatenate list (not \"str\") to list",
     "output_type": "error",
     "traceback": [
      "\u001b[0;31m---------------------------------------------------------------------------\u001b[0m",
      "\u001b[0;31mTypeError\u001b[0m                                 Traceback (most recent call last)",
      "Cell \u001b[0;32mIn[32], line 4\u001b[0m\n\u001b[1;32m      1\u001b[0m l \u001b[38;5;241m=\u001b[39m [\u001b[38;5;124m\"\u001b[39m\u001b[38;5;124mNeha\u001b[39m\u001b[38;5;124m\"\u001b[39m]\n\u001b[1;32m      2\u001b[0m t \u001b[38;5;241m=\u001b[39m (\u001b[38;5;124m\"\u001b[39m\u001b[38;5;124mVerma\u001b[39m\u001b[38;5;124m\"\u001b[39m)\n\u001b[0;32m----> 4\u001b[0m result \u001b[38;5;241m=\u001b[39m \u001b[43ml\u001b[49m\u001b[43m \u001b[49m\u001b[38;5;241;43m+\u001b[39;49m\u001b[43m \u001b[49m\u001b[43mt\u001b[49m\n\u001b[1;32m      5\u001b[0m \u001b[38;5;28mprint\u001b[39m(result)\n",
      "\u001b[0;31mTypeError\u001b[0m: can only concatenate list (not \"str\") to list"
     ]
    }
   ],
   "source": [
    "l = [\"Neha\"]\n",
    "t = (\"Verma\")\n",
    "\n",
    "result = l + t\n",
    "print(result)"
   ]
  },
  {
   "cell_type": "markdown",
   "id": "9a8af0ca-7e23-4725-9403-d8c8a4d6cbc2",
   "metadata": {},
   "source": [
    "# Converting tuple to list"
   ]
  },
  {
   "cell_type": "code",
   "execution_count": 1,
   "id": "93a854d3-18a3-43c6-88af-b49fcdf94889",
   "metadata": {},
   "outputs": [],
   "source": [
    "tuple1 = (4,4,4,\"rock\")"
   ]
  },
  {
   "cell_type": "code",
   "execution_count": 2,
   "id": "fcb4ce4a-0c00-41eb-9d5b-b291d76149e4",
   "metadata": {},
   "outputs": [
    {
     "name": "stdout",
     "output_type": "stream",
     "text": [
      "(4, 4, 4, 'rock')\n"
     ]
    }
   ],
   "source": [
    "print(tuple1)"
   ]
  },
  {
   "cell_type": "code",
   "execution_count": 5,
   "id": "bc1bc89c-5986-41cc-b353-37d45bda7ed3",
   "metadata": {},
   "outputs": [],
   "source": [
    "x = list(tuple1)"
   ]
  },
  {
   "cell_type": "code",
   "execution_count": 6,
   "id": "8973ad88-994b-4310-91ba-961291cea56c",
   "metadata": {},
   "outputs": [
    {
     "data": {
      "text/plain": [
       "[4, 4, 4, 'rock']"
      ]
     },
     "execution_count": 6,
     "metadata": {},
     "output_type": "execute_result"
    }
   ],
   "source": [
    "x"
   ]
  },
  {
   "cell_type": "code",
   "execution_count": 7,
   "id": "84873479-e7ad-4d45-9dd8-74b0d4810b30",
   "metadata": {},
   "outputs": [
    {
     "name": "stdout",
     "output_type": "stream",
     "text": [
      "[4, 4, 4, 'rock']\n"
     ]
    }
   ],
   "source": [
    "# Using unpacking operator *\n",
    "list1 = [*tuple1]\n",
    "print(list1)"
   ]
  },
  {
   "cell_type": "code",
   "execution_count": 101,
   "id": "a544f4ab-dc4b-4c02-9eac-3563e219cb98",
   "metadata": {},
   "outputs": [
    {
     "name": "stdout",
     "output_type": "stream",
     "text": [
      "[4, 4, 4, 'rock']\n"
     ]
    }
   ],
   "source": [
    "# Another way is List comprehension\n",
    "\n",
    "tuple1 = tuple1 = (4,4,4,\"rock\")\n",
    "\n",
    "list1 = [element for element in tuple1]\n",
    "\n",
    "print(list1)\n"
   ]
  },
  {
   "cell_type": "code",
   "execution_count": 102,
   "id": "84b24a8f-b9f7-4873-bd75-65c92e1ff67b",
   "metadata": {},
   "outputs": [
    {
     "name": "stdout",
     "output_type": "stream",
     "text": [
      "True\n"
     ]
    }
   ],
   "source": [
    "print('rock' in list1)"
   ]
  },
  {
   "cell_type": "markdown",
   "id": "0a392ebd-a20c-4a2b-8b8f-56ac0e58f3fb",
   "metadata": {},
   "source": [
    "# Mathematical Operations\n",
    "\n",
    "sum, min and max\n",
    "\n",
    "These functions can only be applied to int and float type values for both list and tuple"
   ]
  },
  {
   "cell_type": "code",
   "execution_count": 1,
   "id": "832d7f99-4931-47aa-97c8-819f7ee34219",
   "metadata": {},
   "outputs": [],
   "source": [
    "list1 = [1,2,3,4]"
   ]
  },
  {
   "cell_type": "code",
   "execution_count": 2,
   "id": "ae1fa152-8492-42d7-ae1c-3603b6b19030",
   "metadata": {},
   "outputs": [
    {
     "data": {
      "text/plain": [
       "10"
      ]
     },
     "execution_count": 2,
     "metadata": {},
     "output_type": "execute_result"
    }
   ],
   "source": [
    "sum(list1)"
   ]
  },
  {
   "cell_type": "code",
   "execution_count": 3,
   "id": "83e9d901-e853-4978-a8b3-d5e15e8469fb",
   "metadata": {},
   "outputs": [
    {
     "data": {
      "text/plain": [
       "1"
      ]
     },
     "execution_count": 3,
     "metadata": {},
     "output_type": "execute_result"
    }
   ],
   "source": [
    "min(list1)"
   ]
  },
  {
   "cell_type": "code",
   "execution_count": 4,
   "id": "8a47e3b2-71f8-43ee-bec4-6b948fcf2a09",
   "metadata": {},
   "outputs": [
    {
     "data": {
      "text/plain": [
       "4"
      ]
     },
     "execution_count": 4,
     "metadata": {},
     "output_type": "execute_result"
    }
   ],
   "source": [
    "max(list1)"
   ]
  },
  {
   "cell_type": "code",
   "execution_count": 6,
   "id": "5b58538e-7fd9-467b-be9a-fb4e997ec300",
   "metadata": {},
   "outputs": [],
   "source": [
    "list2 = [1,2.5,4]"
   ]
  },
  {
   "cell_type": "code",
   "execution_count": 7,
   "id": "2a79e0bc-a700-442c-8394-0ab1916809f2",
   "metadata": {},
   "outputs": [
    {
     "data": {
      "text/plain": [
       "7.5"
      ]
     },
     "execution_count": 7,
     "metadata": {},
     "output_type": "execute_result"
    }
   ],
   "source": [
    "sum(list2)"
   ]
  },
  {
   "cell_type": "code",
   "execution_count": 8,
   "id": "44071392-5780-4d9e-b292-85bffb1f9139",
   "metadata": {},
   "outputs": [],
   "source": [
    "list3 = [1,2,'ram']"
   ]
  },
  {
   "cell_type": "code",
   "execution_count": 9,
   "id": "c0465e21-80f6-455a-94e9-7b40a6bbbc51",
   "metadata": {},
   "outputs": [
    {
     "ename": "TypeError",
     "evalue": "unsupported operand type(s) for +: 'int' and 'str'",
     "output_type": "error",
     "traceback": [
      "\u001b[0;31m---------------------------------------------------------------------------\u001b[0m",
      "\u001b[0;31mTypeError\u001b[0m                                 Traceback (most recent call last)",
      "Cell \u001b[0;32mIn[9], line 1\u001b[0m\n\u001b[0;32m----> 1\u001b[0m \u001b[38;5;28;43msum\u001b[39;49m\u001b[43m(\u001b[49m\u001b[43mlist3\u001b[49m\u001b[43m)\u001b[49m\n",
      "\u001b[0;31mTypeError\u001b[0m: unsupported operand type(s) for +: 'int' and 'str'"
     ]
    }
   ],
   "source": [
    "sum(list3)"
   ]
  },
  {
   "cell_type": "code",
   "execution_count": 10,
   "id": "b0434d32-3bbd-4386-9b80-e7833667de72",
   "metadata": {},
   "outputs": [],
   "source": [
    "list4 = ['ram','sita']"
   ]
  },
  {
   "cell_type": "code",
   "execution_count": 11,
   "id": "247da6ba-47ce-4bc6-8cf6-422f86b77ada",
   "metadata": {},
   "outputs": [
    {
     "ename": "TypeError",
     "evalue": "unsupported operand type(s) for +: 'int' and 'str'",
     "output_type": "error",
     "traceback": [
      "\u001b[0;31m---------------------------------------------------------------------------\u001b[0m",
      "\u001b[0;31mTypeError\u001b[0m                                 Traceback (most recent call last)",
      "Cell \u001b[0;32mIn[11], line 1\u001b[0m\n\u001b[0;32m----> 1\u001b[0m \u001b[38;5;28;43msum\u001b[39;49m\u001b[43m(\u001b[49m\u001b[43mlist4\u001b[49m\u001b[43m)\u001b[49m\n",
      "\u001b[0;31mTypeError\u001b[0m: unsupported operand type(s) for +: 'int' and 'str'"
     ]
    }
   ],
   "source": [
    "sum(list4)"
   ]
  },
  {
   "cell_type": "markdown",
   "id": "2b32862d-71d1-4a7b-b3d9-f813d948268c",
   "metadata": {},
   "source": [
    "# Sorting"
   ]
  },
  {
   "cell_type": "code",
   "execution_count": 13,
   "id": "1695bec9-4874-489d-97df-7905d41a4419",
   "metadata": {},
   "outputs": [],
   "source": [
    "list1 = [2,35,1,8,24]"
   ]
  },
  {
   "cell_type": "code",
   "execution_count": 14,
   "id": "6072b0be-0ad2-4d69-9739-9edf6e2c4ed6",
   "metadata": {},
   "outputs": [
    {
     "data": {
      "text/plain": [
       "[2, 35, 1, 8, 24]"
      ]
     },
     "execution_count": 14,
     "metadata": {},
     "output_type": "execute_result"
    }
   ],
   "source": [
    "list1"
   ]
  },
  {
   "cell_type": "code",
   "execution_count": 15,
   "id": "ddb181f6-c3c5-4a86-8823-3991c54971fa",
   "metadata": {},
   "outputs": [
    {
     "data": {
      "text/plain": [
       "[1, 2, 8, 24, 35]"
      ]
     },
     "execution_count": 15,
     "metadata": {},
     "output_type": "execute_result"
    }
   ],
   "source": [
    "sorted(list1)"
   ]
  },
  {
   "cell_type": "code",
   "execution_count": 16,
   "id": "649b552a-ef96-4348-9cd5-208df1b23c2a",
   "metadata": {},
   "outputs": [],
   "source": [
    "x = sorted(list1)"
   ]
  },
  {
   "cell_type": "code",
   "execution_count": 17,
   "id": "d64dd1af-04fb-4c7a-8720-d3e5bb0e8bd2",
   "metadata": {},
   "outputs": [
    {
     "data": {
      "text/plain": [
       "[1, 2, 8, 24, 35]"
      ]
     },
     "execution_count": 17,
     "metadata": {},
     "output_type": "execute_result"
    }
   ],
   "source": [
    "x"
   ]
  },
  {
   "cell_type": "code",
   "execution_count": 18,
   "id": "9111362d-ef36-4fca-8237-cf219f880c20",
   "metadata": {},
   "outputs": [
    {
     "data": {
      "text/plain": [
       "[2, 35, 1, 8, 24]"
      ]
     },
     "execution_count": 18,
     "metadata": {},
     "output_type": "execute_result"
    }
   ],
   "source": [
    "list1"
   ]
  },
  {
   "cell_type": "code",
   "execution_count": 19,
   "id": "0097a567-b26e-4bff-89f2-66879419f467",
   "metadata": {},
   "outputs": [],
   "source": [
    "list1.sort()"
   ]
  },
  {
   "cell_type": "code",
   "execution_count": 20,
   "id": "81e7ce7c-abb9-4ac5-8dd2-5d9360df34ed",
   "metadata": {},
   "outputs": [
    {
     "data": {
      "text/plain": [
       "[1, 2, 8, 24, 35]"
      ]
     },
     "execution_count": 20,
     "metadata": {},
     "output_type": "execute_result"
    }
   ],
   "source": [
    "list1"
   ]
  },
  {
   "cell_type": "code",
   "execution_count": null,
   "id": "0ca546e8-ed64-4e6f-bb70-743c4b5813a2",
   "metadata": {},
   "outputs": [],
   "source": []
  }
 ],
 "metadata": {
  "kernelspec": {
   "display_name": "Python 3 (ipykernel)",
   "language": "python",
   "name": "python3"
  },
  "language_info": {
   "codemirror_mode": {
    "name": "ipython",
    "version": 3
   },
   "file_extension": ".py",
   "mimetype": "text/x-python",
   "name": "python",
   "nbconvert_exporter": "python",
   "pygments_lexer": "ipython3",
   "version": "3.12.1"
  }
 },
 "nbformat": 4,
 "nbformat_minor": 5
}
