{
 "cells": [
  {
   "cell_type": "markdown",
   "id": "0a1a7a3e-5327-40c3-8864-4e703bd41001",
   "metadata": {},
   "source": [
    "# Sets"
   ]
  },
  {
   "cell_type": "code",
   "execution_count": 1,
   "id": "d1b58179-3a5a-4ddb-a557-04e169dab063",
   "metadata": {},
   "outputs": [],
   "source": [
    "set1 = {\"pop\",\"rock\",1,3.5}"
   ]
  },
  {
   "cell_type": "code",
   "execution_count": 6,
   "id": "d0b37ca8-ad35-4dd3-ad32-85b2f9af902b",
   "metadata": {},
   "outputs": [
    {
     "name": "stdout",
     "output_type": "stream",
     "text": [
      "{1, 3.5, 'pop', 'rock'}\n"
     ]
    }
   ],
   "source": [
    "# sets are unordered unlike lists and tuples\n",
    "print(set1) "
   ]
  },
  {
   "cell_type": "code",
   "execution_count": 7,
   "id": "16d9978c-b95c-4d6a-9043-e6fd358dd3ad",
   "metadata": {},
   "outputs": [],
   "source": [
    "# sets store only unique values\n",
    "set1 = {\"pop\",\"rock\",\"pop\",\"pop\",1,1,3.5}"
   ]
  },
  {
   "cell_type": "code",
   "execution_count": 8,
   "id": "f4c5623b-11d8-4e48-9b3a-d61ba234303c",
   "metadata": {},
   "outputs": [
    {
     "name": "stdout",
     "output_type": "stream",
     "text": [
      "{1, 3.5, 'pop', 'rock'}\n"
     ]
    }
   ],
   "source": [
    "print(set1)"
   ]
  },
  {
   "cell_type": "code",
   "execution_count": 10,
   "id": "55b277f9-ff7b-4e2c-b5ce-aee595f5272f",
   "metadata": {},
   "outputs": [
    {
     "ename": "TypeError",
     "evalue": "'set' object is not subscriptable",
     "output_type": "error",
     "traceback": [
      "\u001b[0;31m---------------------------------------------------------------------------\u001b[0m",
      "\u001b[0;31mTypeError\u001b[0m                                 Traceback (most recent call last)",
      "Cell \u001b[0;32mIn[10], line 1\u001b[0m\n\u001b[0;32m----> 1\u001b[0m \u001b[38;5;28mprint\u001b[39m(\u001b[43mset1\u001b[49m\u001b[43m[\u001b[49m\u001b[38;5;241;43m0\u001b[39;49m\u001b[43m]\u001b[49m) \u001b[38;5;66;03m# as it is unoreded, it doesn't store element position\u001b[39;00m\n",
      "\u001b[0;31mTypeError\u001b[0m: 'set' object is not subscriptable"
     ]
    }
   ],
   "source": [
    "print(set1[0]) # as it is unoreded, it doesn't store element position"
   ]
  },
  {
   "cell_type": "markdown",
   "id": "991176b3-4472-461b-93ee-a9a33a1f49b2",
   "metadata": {},
   "source": [
    "# Convert List to Set"
   ]
  },
  {
   "cell_type": "code",
   "execution_count": 19,
   "id": "3205293f-e681-4dc6-acd1-a67003f4c3cd",
   "metadata": {},
   "outputs": [],
   "source": [
    "list1 = [\"rock\",\"pop\",\"rock\",1,1,3.5]"
   ]
  },
  {
   "cell_type": "code",
   "execution_count": 20,
   "id": "efd4c15a-9ca9-4f3e-b661-f011fe240653",
   "metadata": {},
   "outputs": [
    {
     "name": "stdout",
     "output_type": "stream",
     "text": [
      "['rock', 'pop', 'rock', 1, 1, 3.5]\n"
     ]
    }
   ],
   "source": [
    "print(list1)"
   ]
  },
  {
   "cell_type": "code",
   "execution_count": 21,
   "id": "53d2ccc4-f135-43ff-a418-14f03c74e24d",
   "metadata": {},
   "outputs": [],
   "source": [
    "set1 = set(list1)"
   ]
  },
  {
   "cell_type": "code",
   "execution_count": 22,
   "id": "fa6303ba-d765-4c44-915d-34b40b0a3ad0",
   "metadata": {},
   "outputs": [
    {
     "name": "stdout",
     "output_type": "stream",
     "text": [
      "{'pop', 3.5, 'rock', 1}\n"
     ]
    }
   ],
   "source": [
    "print(set1)"
   ]
  },
  {
   "cell_type": "markdown",
   "id": "5a3ce6fc-8ecb-4cfc-93f2-baf1f3f053ca",
   "metadata": {},
   "source": [
    "# Convert Tuple to Set"
   ]
  },
  {
   "cell_type": "code",
   "execution_count": 23,
   "id": "fd8a3710-20b2-4d0b-91d6-b1d5944a042f",
   "metadata": {},
   "outputs": [],
   "source": [
    "tuple1 = (4,4,4,5,6,7,\"Ram\")"
   ]
  },
  {
   "cell_type": "code",
   "execution_count": 24,
   "id": "0f4bc165-8897-43e2-9489-c9b37590d941",
   "metadata": {},
   "outputs": [
    {
     "name": "stdout",
     "output_type": "stream",
     "text": [
      "(4, 4, 4, 5, 6, 7, 'Ram')\n"
     ]
    }
   ],
   "source": [
    "print(tuple1)"
   ]
  },
  {
   "cell_type": "code",
   "execution_count": 25,
   "id": "344f7b9d-1d8c-443b-9fd7-620b2d33074c",
   "metadata": {},
   "outputs": [],
   "source": [
    "set2 = set(tuple1)"
   ]
  },
  {
   "cell_type": "code",
   "execution_count": 26,
   "id": "cb53cc02-1981-441b-b9a9-ac1b0feaac2e",
   "metadata": {},
   "outputs": [
    {
     "name": "stdout",
     "output_type": "stream",
     "text": [
      "{4, 'Ram', 5, 6, 7}\n"
     ]
    }
   ],
   "source": [
    "print(set2)"
   ]
  },
  {
   "cell_type": "markdown",
   "id": "22cbb18d-b180-4ec6-b049-a09045de1514",
   "metadata": {},
   "source": [
    "# Set Operations"
   ]
  },
  {
   "cell_type": "code",
   "execution_count": 28,
   "id": "e3954d96-07e4-40e0-b7b3-b8200dd3f991",
   "metadata": {},
   "outputs": [
    {
     "name": "stdout",
     "output_type": "stream",
     "text": [
      "{3, 4.5, 'pop', 'rock'}\n"
     ]
    }
   ],
   "source": [
    "set1 = {\"rock\",\"pop\",3,3,4.5}\n",
    "print(set1)"
   ]
  },
  {
   "cell_type": "code",
   "execution_count": 29,
   "id": "f88a5982-a873-41c3-aa88-7774a5f950b5",
   "metadata": {},
   "outputs": [],
   "source": [
    "# Add a new element\n",
    "set1.add(\"Ram\")"
   ]
  },
  {
   "cell_type": "code",
   "execution_count": 30,
   "id": "2aac44d1-ecd0-41b7-8e93-2710a33c6575",
   "metadata": {},
   "outputs": [
    {
     "name": "stdout",
     "output_type": "stream",
     "text": [
      "{3, 4.5, 'Ram', 'pop', 'rock'}\n"
     ]
    }
   ],
   "source": [
    "print(set1)"
   ]
  },
  {
   "cell_type": "code",
   "execution_count": 32,
   "id": "182067dd-9b1b-44c8-bb86-3f97fa750162",
   "metadata": {},
   "outputs": [
    {
     "ename": "TypeError",
     "evalue": "unhashable type: 'set'",
     "output_type": "error",
     "traceback": [
      "\u001b[0;31m---------------------------------------------------------------------------\u001b[0m",
      "\u001b[0;31mTypeError\u001b[0m                                 Traceback (most recent call last)",
      "Cell \u001b[0;32mIn[32], line 1\u001b[0m\n\u001b[0;32m----> 1\u001b[0m \u001b[43mset1\u001b[49m\u001b[38;5;241;43m.\u001b[39;49m\u001b[43madd\u001b[49m\u001b[43m(\u001b[49m\u001b[43m{\u001b[49m\u001b[38;5;124;43m\"\u001b[39;49m\u001b[38;5;124;43mpage\u001b[39;49m\u001b[38;5;124;43m\"\u001b[39;49m\u001b[43m,\u001b[49m\u001b[38;5;241;43m10\u001b[39;49m\u001b[43m}\u001b[49m\u001b[43m)\u001b[49m \u001b[38;5;66;03m# only takes an element\u001b[39;00m\n",
      "\u001b[0;31mTypeError\u001b[0m: unhashable type: 'set'"
     ]
    }
   ],
   "source": [
    "set1.add({\"page\",10}) # only takes an element"
   ]
  },
  {
   "cell_type": "code",
   "execution_count": 33,
   "id": "67e3daeb-ec0d-4aaf-b635-cda503c2058d",
   "metadata": {},
   "outputs": [],
   "source": [
    "# Remove element\n",
    "set1.remove('Ram')"
   ]
  },
  {
   "cell_type": "code",
   "execution_count": 34,
   "id": "dc1cf598-68a8-485c-9d69-87b63f018363",
   "metadata": {},
   "outputs": [
    {
     "name": "stdout",
     "output_type": "stream",
     "text": [
      "{3, 4.5, 'pop', 'rock'}\n"
     ]
    }
   ],
   "source": [
    "print(set1)"
   ]
  },
  {
   "cell_type": "code",
   "execution_count": 35,
   "id": "9f56a269-3bbd-4cb3-87ec-6d6cf90c9bec",
   "metadata": {},
   "outputs": [
    {
     "ename": "KeyError",
     "evalue": "'Pop'",
     "output_type": "error",
     "traceback": [
      "\u001b[0;31m---------------------------------------------------------------------------\u001b[0m",
      "\u001b[0;31mKeyError\u001b[0m                                  Traceback (most recent call last)",
      "Cell \u001b[0;32mIn[35], line 1\u001b[0m\n\u001b[0;32m----> 1\u001b[0m \u001b[43mset1\u001b[49m\u001b[38;5;241;43m.\u001b[39;49m\u001b[43mremove\u001b[49m\u001b[43m(\u001b[49m\u001b[38;5;124;43m'\u001b[39;49m\u001b[38;5;124;43mPop\u001b[39;49m\u001b[38;5;124;43m'\u001b[39;49m\u001b[43m)\u001b[49m\n",
      "\u001b[0;31mKeyError\u001b[0m: 'Pop'"
     ]
    }
   ],
   "source": [
    "set1.remove('Pop')"
   ]
  },
  {
   "cell_type": "code",
   "execution_count": 36,
   "id": "599d64c0-b242-427d-a6cc-70e5921478cf",
   "metadata": {},
   "outputs": [
    {
     "name": "stdout",
     "output_type": "stream",
     "text": [
      "False\n"
     ]
    }
   ],
   "source": [
    "print('Pop' in set1)"
   ]
  },
  {
   "cell_type": "code",
   "execution_count": 37,
   "id": "e1306282-bdbb-4229-b4e4-9ab68a39a590",
   "metadata": {},
   "outputs": [
    {
     "name": "stdout",
     "output_type": "stream",
     "text": [
      "True\n"
     ]
    }
   ],
   "source": [
    "print('pop' in set1)"
   ]
  },
  {
   "cell_type": "markdown",
   "id": "5b2c4cd9-b119-40d6-b694-76daa78ed310",
   "metadata": {},
   "source": [
    "# Mathematical Operations"
   ]
  },
  {
   "cell_type": "code",
   "execution_count": 38,
   "id": "fd4ce468-171a-4256-b987-138e64a78045",
   "metadata": {},
   "outputs": [
    {
     "name": "stdout",
     "output_type": "stream",
     "text": [
      "Set1 -  {2.1, 3, 4, 'pop', 'rock'}\n",
      "Set2 -  {'page', 4, 5}\n"
     ]
    }
   ],
   "source": [
    "set1 = {\"rock\",\"pop\",3,4,2.10}\n",
    "set2 = {4,5,\"page\"}\n",
    "\n",
    "print(\"Set1 - \",set1)\n",
    "print(\"Set2 - \",set2)"
   ]
  },
  {
   "cell_type": "code",
   "execution_count": 49,
   "id": "8020d0cc-45b9-4288-b138-30123295cad0",
   "metadata": {},
   "outputs": [
    {
     "name": "stdout",
     "output_type": "stream",
     "text": [
      "Intersected set -  {3, 4}\n",
      "Another way of intersection -  {3, 4}\n"
     ]
    }
   ],
   "source": [
    "#Intersection of sets\n",
    "\n",
    "set3 = set1 & set2\n",
    "print(\"Intersected set - \",set3)\n",
    "\n",
    "print(\"Another way of intersection - \", set1.intersection(set2))"
   ]
  },
  {
   "cell_type": "code",
   "execution_count": 44,
   "id": "1192dcbf-5e2d-41d6-8c24-660f60a34780",
   "metadata": {},
   "outputs": [
    {
     "name": "stdout",
     "output_type": "stream",
     "text": [
      "Union set -  {2.1, 3, 4, 'pop', 'page', 5, 'rock'}\n"
     ]
    }
   ],
   "source": [
    "# Union of sets\n",
    "set4 = set1.union(set2)\n",
    "print(\"Union set - \", set4)"
   ]
  },
  {
   "cell_type": "code",
   "execution_count": 46,
   "id": "bfcf0051-678a-490b-a451-6907325d0458",
   "metadata": {},
   "outputs": [
    {
     "name": "stdout",
     "output_type": "stream",
     "text": [
      "True\n"
     ]
    }
   ],
   "source": [
    "# if a set is sub set of another set\n",
    "set1 = {\"pop\",\"rock\",4,3,2.5}\n",
    "set2 = {4,3}\n",
    "\n",
    "print(set2.issubset(set1))"
   ]
  },
  {
   "cell_type": "code",
   "execution_count": 47,
   "id": "afb907d5-2d54-4768-b19e-f7ffadd69af6",
   "metadata": {},
   "outputs": [
    {
     "name": "stdout",
     "output_type": "stream",
     "text": [
      "False\n"
     ]
    }
   ],
   "source": [
    "set3 = {3,4,10}\n",
    "\n",
    "print(set3.issubset(set1))"
   ]
  },
  {
   "cell_type": "code",
   "execution_count": 48,
   "id": "3f748b35-49b1-4ecd-a3ec-26fe914f71a6",
   "metadata": {},
   "outputs": [
    {
     "name": "stdout",
     "output_type": "stream",
     "text": [
      "{10}\n"
     ]
    }
   ],
   "source": [
    "# Set difference\n",
    "print(set3.difference(set1))"
   ]
  },
  {
   "cell_type": "code",
   "execution_count": null,
   "id": "2eeafc5e-1457-469d-b6a7-06b763550ff1",
   "metadata": {},
   "outputs": [],
   "source": []
  }
 ],
 "metadata": {
  "kernelspec": {
   "display_name": "Python 3 (ipykernel)",
   "language": "python",
   "name": "python3"
  },
  "language_info": {
   "codemirror_mode": {
    "name": "ipython",
    "version": 3
   },
   "file_extension": ".py",
   "mimetype": "text/x-python",
   "name": "python",
   "nbconvert_exporter": "python",
   "pygments_lexer": "ipython3",
   "version": "3.12.1"
  }
 },
 "nbformat": 4,
 "nbformat_minor": 5
}
