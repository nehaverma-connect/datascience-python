{
 "cells": [
  {
   "cell_type": "markdown",
   "id": "23d02653-80c5-4f35-93d1-e5f5cb23c7ef",
   "metadata": {},
   "source": [
    "# Tuples"
   ]
  },
  {
   "cell_type": "code",
   "execution_count": 6,
   "id": "717f9e13-7371-4252-98af-650482d50b55",
   "metadata": {},
   "outputs": [
    {
     "name": "stdout",
     "output_type": "stream",
     "text": [
      "('Ram', 25, 55.5)\n"
     ]
    }
   ],
   "source": [
    "tuple1 = (\"Ram\",25,55.5)\n",
    "print(tuple1)"
   ]
  },
  {
   "cell_type": "code",
   "execution_count": 7,
   "id": "5a96d81a-a696-4b21-8b2a-f8b260b2b5fc",
   "metadata": {},
   "outputs": [
    {
     "name": "stdout",
     "output_type": "stream",
     "text": [
      "<class 'tuple'>\n"
     ]
    }
   ],
   "source": [
    "print(type(tuple1))"
   ]
  },
  {
   "cell_type": "code",
   "execution_count": 8,
   "id": "5bac9539-e298-49a5-b319-65783e02c783",
   "metadata": {},
   "outputs": [
    {
     "data": {
      "text/plain": [
       "type"
      ]
     },
     "execution_count": 8,
     "metadata": {},
     "output_type": "execute_result"
    }
   ],
   "source": [
    "type(tuple)"
   ]
  },
  {
   "cell_type": "code",
   "execution_count": 24,
   "id": "f865e890-b791-4e5a-976e-8fa9292aaaaa",
   "metadata": {},
   "outputs": [
    {
     "name": "stdout",
     "output_type": "stream",
     "text": [
      "3\n"
     ]
    }
   ],
   "source": [
    "print(len(tuple1))"
   ]
  },
  {
   "cell_type": "markdown",
   "id": "43784c45-c6eb-492a-8f80-3d670f0173b1",
   "metadata": {},
   "source": [
    "# Tuple Element Access"
   ]
  },
  {
   "cell_type": "code",
   "execution_count": 16,
   "id": "9e5d6b76-4ec3-4d7a-8c93-5f37cd857f8d",
   "metadata": {},
   "outputs": [
    {
     "name": "stdout",
     "output_type": "stream",
     "text": [
      "25\n"
     ]
    }
   ],
   "source": [
    "print(tuple1[1])"
   ]
  },
  {
   "cell_type": "code",
   "execution_count": 20,
   "id": "5d138b53-55fe-43c9-8596-dbc0e6e0c5bb",
   "metadata": {},
   "outputs": [
    {
     "name": "stdout",
     "output_type": "stream",
     "text": [
      "55.5\n"
     ]
    }
   ],
   "source": [
    "print(tuple1[-1]) # Similar to string or list negative indexing"
   ]
  },
  {
   "cell_type": "markdown",
   "id": "a5390b8e-ae22-4d59-be29-02ff107965f6",
   "metadata": {},
   "source": [
    "# Tuple Concatenation"
   ]
  },
  {
   "cell_type": "code",
   "execution_count": 12,
   "id": "481cb72b-c54d-454f-a070-749c46c6f7d3",
   "metadata": {},
   "outputs": [],
   "source": [
    "tuple2 = tuple1 + (\"Bangalore\",\"Student\")"
   ]
  },
  {
   "cell_type": "code",
   "execution_count": 13,
   "id": "d22dad92-c695-4ffe-8938-d0f8caabc2e6",
   "metadata": {},
   "outputs": [
    {
     "name": "stdout",
     "output_type": "stream",
     "text": [
      "('Ram', 25, 55.5, 'Bangalore', 'Student')\n"
     ]
    }
   ],
   "source": [
    "print(tuple2)"
   ]
  },
  {
   "cell_type": "markdown",
   "id": "27fcab13-cd44-49a2-ad57-d47e18c28126",
   "metadata": {},
   "source": [
    "# Tuple Slicing"
   ]
  },
  {
   "cell_type": "code",
   "execution_count": 22,
   "id": "ee556f31-a231-4b61-b1a3-e8d9859ef811",
   "metadata": {},
   "outputs": [
    {
     "name": "stdout",
     "output_type": "stream",
     "text": [
      "('Bangalore', 'Student')\n"
     ]
    }
   ],
   "source": [
    "print(tuple2[3:5])"
   ]
  },
  {
   "cell_type": "code",
   "execution_count": 23,
   "id": "69cec4af-c9b4-4ce4-b69d-b79281ca2754",
   "metadata": {},
   "outputs": [
    {
     "name": "stdout",
     "output_type": "stream",
     "text": [
      "('Ram', 55.5, 'Student')\n"
     ]
    }
   ],
   "source": [
    "print(tuple2[::2])"
   ]
  },
  {
   "cell_type": "code",
   "execution_count": 25,
   "id": "e694df07-03f7-4529-b7e4-5d06f06e2cfd",
   "metadata": {},
   "outputs": [
    {
     "name": "stdout",
     "output_type": "stream",
     "text": [
      "(25, 55.5)\n"
     ]
    }
   ],
   "source": [
    "print(tuple2[-4:-2])"
   ]
  },
  {
   "cell_type": "markdown",
   "id": "bcf69dc1-3209-4e9c-8948-69569c43fda7",
   "metadata": {},
   "source": [
    "# Tuples are Immutable"
   ]
  },
  {
   "cell_type": "code",
   "execution_count": 26,
   "id": "0904e81a-1bc2-4d45-85c8-388a5c2d9b58",
   "metadata": {},
   "outputs": [
    {
     "ename": "TypeError",
     "evalue": "'tuple' object does not support item assignment",
     "output_type": "error",
     "traceback": [
      "\u001b[0;31m---------------------------------------------------------------------------\u001b[0m",
      "\u001b[0;31mTypeError\u001b[0m                                 Traceback (most recent call last)",
      "Cell \u001b[0;32mIn[26], line 1\u001b[0m\n\u001b[0;32m----> 1\u001b[0m \u001b[43mtuple2\u001b[49m\u001b[43m[\u001b[49m\u001b[38;5;241;43m4\u001b[39;49m\u001b[43m]\u001b[49m \u001b[38;5;241m=\u001b[39m \u001b[38;5;124m\"\u001b[39m\u001b[38;5;124mSelf Employed\u001b[39m\u001b[38;5;124m\"\u001b[39m\n",
      "\u001b[0;31mTypeError\u001b[0m: 'tuple' object does not support item assignment"
     ]
    }
   ],
   "source": [
    "tuple2[4] = \"Self Employed\""
   ]
  },
  {
   "cell_type": "markdown",
   "id": "706b4530-1e9f-4a99-906e-5b3ec877c47a",
   "metadata": {},
   "source": [
    "# Tuple Manipulation"
   ]
  },
  {
   "cell_type": "code",
   "execution_count": 52,
   "id": "811412d6-481a-49f6-a375-b10f6ec2329d",
   "metadata": {},
   "outputs": [
    {
     "name": "stdout",
     "output_type": "stream",
     "text": [
      "Initial Tuple -  (12, 7, 3, 0, 89, 34)\n",
      "Sorted Tuple -  [0, 3, 7, 12, 34, 89]\n"
     ]
    }
   ],
   "source": [
    "#Sorting\n",
    "\n",
    "tuple1 = (12,7,3,0,89,34)\n",
    "print(\"Initial Tuple - \", tuple1)\n",
    "\n",
    "print(\"Sorted Tuple - \",sorted(tuple1))"
   ]
  },
  {
   "cell_type": "code",
   "execution_count": 53,
   "id": "0f50ea69-45bd-4789-8095-b3387b74ec55",
   "metadata": {},
   "outputs": [
    {
     "name": "stdout",
     "output_type": "stream",
     "text": [
      "Tuple after sorted function -  (12, 7, 3, 0, 89, 34)\n",
      "Tuple after sorted function and re-assignment -  (12, 7, 3, 0, 89, 34)\n"
     ]
    }
   ],
   "source": [
    "# However, sorted does not change the original tuple until other wise assigned\n",
    "\n",
    "print(\"Tuple after sorted function - \", tuple1)\n",
    "\n",
    "tuple = sorted(tuple1)\n",
    "print(\"Tuple after sorted function and re-assignment - \", tuple1)"
   ]
  },
  {
   "cell_type": "code",
   "execution_count": 65,
   "id": "e77322c3-7cf6-4fc9-a025-dcaef8e08814",
   "metadata": {},
   "outputs": [
    {
     "data": {
      "text/plain": [
       "2"
      ]
     },
     "execution_count": 65,
     "metadata": {},
     "output_type": "execute_result"
    }
   ],
   "source": [
    "# Count the number occurances of specified element\n",
    "tuple1 = (12,7,3,0,89,34,7)\n",
    "\n",
    "tuple1.count(7)"
   ]
  },
  {
   "cell_type": "code",
   "execution_count": 67,
   "id": "4cc53bea-e520-4d08-984e-c7f67cc576ab",
   "metadata": {},
   "outputs": [
    {
     "ename": "TypeError",
     "evalue": "'tuple' object doesn't support item deletion",
     "output_type": "error",
     "traceback": [
      "\u001b[0;31m---------------------------------------------------------------------------\u001b[0m",
      "\u001b[0;31mTypeError\u001b[0m                                 Traceback (most recent call last)",
      "Cell \u001b[0;32mIn[67], line 1\u001b[0m\n\u001b[0;32m----> 1\u001b[0m \u001b[38;5;28;01mdel\u001b[39;00m(\u001b[43mtuple1\u001b[49m\u001b[43m[\u001b[49m\u001b[38;5;241;43m1\u001b[39;49m\u001b[43m]\u001b[49m) \u001b[38;5;66;03m# As tuples are immutable\u001b[39;00m\n",
      "\u001b[0;31mTypeError\u001b[0m: 'tuple' object doesn't support item deletion"
     ]
    }
   ],
   "source": [
    "del(tuple1[1]) # As tuples are immutable"
   ]
  },
  {
   "cell_type": "markdown",
   "id": "cf1984b7-7e26-4e0c-8312-17a4ca8f77d0",
   "metadata": {},
   "source": [
    "# Tuples Nesting"
   ]
  },
  {
   "cell_type": "code",
   "execution_count": 55,
   "id": "921b9f2c-3e68-4347-9057-35d0388a3414",
   "metadata": {},
   "outputs": [],
   "source": [
    "tuple1 = (\"Ram\",25,55.5,(\"Varthur\",\"Bangalore\",\"560087\"),\"Student\")"
   ]
  },
  {
   "cell_type": "code",
   "execution_count": 56,
   "id": "c64c3917-21a8-4121-b191-ed5e523bfc3e",
   "metadata": {},
   "outputs": [
    {
     "name": "stdout",
     "output_type": "stream",
     "text": [
      "('Ram', 25, 55.5, ('Varthur', 'Bangalore', '560087'), 'Student')\n"
     ]
    }
   ],
   "source": [
    "print(tuple1)"
   ]
  },
  {
   "cell_type": "code",
   "execution_count": 57,
   "id": "4d13c30c-465b-474a-9187-4acecf7feaa1",
   "metadata": {},
   "outputs": [
    {
     "name": "stdout",
     "output_type": "stream",
     "text": [
      "Ram\n"
     ]
    }
   ],
   "source": [
    "print(tuple1[0])"
   ]
  },
  {
   "cell_type": "code",
   "execution_count": 58,
   "id": "33aa9607-1e4a-4b90-a2db-71d454fd0301",
   "metadata": {},
   "outputs": [
    {
     "name": "stdout",
     "output_type": "stream",
     "text": [
      "Student\n"
     ]
    }
   ],
   "source": [
    "print(tuple1[-1])"
   ]
  },
  {
   "cell_type": "code",
   "execution_count": 59,
   "id": "59d744ce-e231-45e8-bbe9-16bcaf86c57c",
   "metadata": {},
   "outputs": [
    {
     "name": "stdout",
     "output_type": "stream",
     "text": [
      "('Varthur', 'Bangalore', '560087')\n"
     ]
    }
   ],
   "source": [
    "print(tuple1[-2])"
   ]
  },
  {
   "cell_type": "code",
   "execution_count": 60,
   "id": "81411922-c4b5-4136-b379-385af80b5be6",
   "metadata": {},
   "outputs": [
    {
     "name": "stdout",
     "output_type": "stream",
     "text": [
      "560087\n"
     ]
    }
   ],
   "source": [
    "print(tuple1[-2][2])"
   ]
  },
  {
   "cell_type": "code",
   "execution_count": 69,
   "id": "dad65367-9f00-450d-beed-c9c6c3102eee",
   "metadata": {},
   "outputs": [
    {
     "name": "stdout",
     "output_type": "stream",
     "text": [
      "True\n"
     ]
    }
   ],
   "source": [
    "print(89 in tuple1)"
   ]
  },
  {
   "cell_type": "code",
   "execution_count": 61,
   "id": "7c1d6796-1c3b-414b-a2fd-3c14fec91aac",
   "metadata": {},
   "outputs": [
    {
     "name": "stdout",
     "output_type": "stream",
     "text": [
      "Help on tuple object:\n",
      "\n",
      "class tuple(object)\n",
      " |  tuple(iterable=(), /)\n",
      " |\n",
      " |  Built-in immutable sequence.\n",
      " |\n",
      " |  If no argument is given, the constructor returns an empty tuple.\n",
      " |  If iterable is specified the tuple is initialized from iterable's items.\n",
      " |\n",
      " |  If the argument is a tuple, the return value is the same object.\n",
      " |\n",
      " |  Built-in subclasses:\n",
      " |      asyncgen_hooks\n",
      " |      UnraisableHookArgs\n",
      " |\n",
      " |  Methods defined here:\n",
      " |\n",
      " |  __add__(self, value, /)\n",
      " |      Return self+value.\n",
      " |\n",
      " |  __contains__(self, key, /)\n",
      " |      Return bool(key in self).\n",
      " |\n",
      " |  __eq__(self, value, /)\n",
      " |      Return self==value.\n",
      " |\n",
      " |  __ge__(self, value, /)\n",
      " |      Return self>=value.\n",
      " |\n",
      " |  __getattribute__(self, name, /)\n",
      " |      Return getattr(self, name).\n",
      " |\n",
      " |  __getitem__(self, key, /)\n",
      " |      Return self[key].\n",
      " |\n",
      " |  __getnewargs__(self, /)\n",
      " |\n",
      " |  __gt__(self, value, /)\n",
      " |      Return self>value.\n",
      " |\n",
      " |  __hash__(self, /)\n",
      " |      Return hash(self).\n",
      " |\n",
      " |  __iter__(self, /)\n",
      " |      Implement iter(self).\n",
      " |\n",
      " |  __le__(self, value, /)\n",
      " |      Return self<=value.\n",
      " |\n",
      " |  __len__(self, /)\n",
      " |      Return len(self).\n",
      " |\n",
      " |  __lt__(self, value, /)\n",
      " |      Return self<value.\n",
      " |\n",
      " |  __mul__(self, value, /)\n",
      " |      Return self*value.\n",
      " |\n",
      " |  __ne__(self, value, /)\n",
      " |      Return self!=value.\n",
      " |\n",
      " |  __repr__(self, /)\n",
      " |      Return repr(self).\n",
      " |\n",
      " |  __rmul__(self, value, /)\n",
      " |      Return value*self.\n",
      " |\n",
      " |  count(self, value, /)\n",
      " |      Return number of occurrences of value.\n",
      " |\n",
      " |  index(self, value, start=0, stop=9223372036854775807, /)\n",
      " |      Return first index of value.\n",
      " |\n",
      " |      Raises ValueError if the value is not present.\n",
      " |\n",
      " |  ----------------------------------------------------------------------\n",
      " |  Class methods defined here:\n",
      " |\n",
      " |  __class_getitem__(...) from builtins.type\n",
      " |      See PEP 585\n",
      " |\n",
      " |  ----------------------------------------------------------------------\n",
      " |  Static methods defined here:\n",
      " |\n",
      " |  __new__(*args, **kwargs) from builtins.type\n",
      " |      Create and return a new object.  See help(type) for accurate signature.\n",
      "\n"
     ]
    }
   ],
   "source": [
    "help(tuple1)"
   ]
  },
  {
   "cell_type": "code",
   "execution_count": null,
   "id": "810bd034-373b-4d2a-a7b7-da001121c6ac",
   "metadata": {},
   "outputs": [],
   "source": []
  }
 ],
 "metadata": {
  "kernelspec": {
   "display_name": "Python 3 (ipykernel)",
   "language": "python",
   "name": "python3"
  },
  "language_info": {
   "codemirror_mode": {
    "name": "ipython",
    "version": 3
   },
   "file_extension": ".py",
   "mimetype": "text/x-python",
   "name": "python",
   "nbconvert_exporter": "python",
   "pygments_lexer": "ipython3",
   "version": "3.12.1"
  }
 },
 "nbformat": 4,
 "nbformat_minor": 5
}
