{
 "cells": [
  {
   "cell_type": "markdown",
   "id": "1b5ad9b1-6d35-4e21-9421-b2a55f278145",
   "metadata": {},
   "source": [
    "# Carriage Return"
   ]
  },
  {
   "cell_type": "code",
   "execution_count": 11,
   "id": "d14a2c7e-367a-486d-aeab-93ea20405d22",
   "metadata": {},
   "outputs": [
    {
     "name": "stdout",
     "output_type": "stream",
     "text": [
      "Progress: 10/10\n",
      "Task complete!\n"
     ]
    }
   ],
   "source": [
    "import time\n",
    "for i in range(1,11,1):\n",
    "    # Print progress\n",
    "    print(f\"Progress: {i}/10\", end='\\r')\n",
    "    # Simulate some processing time\n",
    "    time.sleep(1)\n",
    "\n",
    "print(\"\\nTask complete!\")"
   ]
  },
  {
   "cell_type": "code",
   "execution_count": 1,
   "id": "d220717e-a203-40f3-8425-01b8e9b12648",
   "metadata": {},
   "outputs": [
    {
     "name": "stdout",
     "output_type": "stream",
     "text": [
      "Progress: 1/10\n",
      "Progress: 2/10\n",
      "Progress: 3/10\n",
      "Progress: 4/10\n",
      "Progress: 5/10\n",
      "Progress: 6/10\n",
      "Progress: 7/10\n",
      "Progress: 8/10\n",
      "Progress: 9/10\n",
      "Progress: 10/10\n",
      "\n",
      "Task complete!\n"
     ]
    }
   ],
   "source": [
    "import time\n",
    "for i in range(1,11,1):\n",
    "    # Print progress\n",
    "    print(f\"Progress: {i}/10\")\n",
    "    # Simulate some processing time\n",
    "    time.sleep(1)\n",
    "\n",
    "print(\"\\nTask complete!\")"
   ]
  },
  {
   "cell_type": "code",
   "execution_count": null,
   "id": "3e02bded-9713-40e8-a659-cee946e2b4c2",
   "metadata": {},
   "outputs": [],
   "source": []
  }
 ],
 "metadata": {
  "kernelspec": {
   "display_name": "Python 3 (ipykernel)",
   "language": "python",
   "name": "python3"
  },
  "language_info": {
   "codemirror_mode": {
    "name": "ipython",
    "version": 3
   },
   "file_extension": ".py",
   "mimetype": "text/x-python",
   "name": "python",
   "nbconvert_exporter": "python",
   "pygments_lexer": "ipython3",
   "version": "3.12.1"
  }
 },
 "nbformat": 4,
 "nbformat_minor": 5
}
