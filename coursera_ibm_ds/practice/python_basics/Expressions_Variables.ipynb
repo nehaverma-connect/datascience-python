{
 "cells": [
  {
   "cell_type": "code",
   "execution_count": 3,
   "id": "b60d3b0f-2ca4-4c7c-a141-0524f2c57e91",
   "metadata": {},
   "outputs": [
    {
     "data": {
      "text/plain": [
       "143"
      ]
     },
     "execution_count": 3,
     "metadata": {},
     "output_type": "execute_result"
    }
   ],
   "source": [
    "# Addition Operation Expression - Integer and Float\n",
    "\n",
    "20 + 25 + 98"
   ]
  },
  {
   "cell_type": "code",
   "execution_count": 4,
   "id": "b84717f5-00d4-4f01-9e80-3c15bb793b17",
   "metadata": {},
   "outputs": [
    {
     "data": {
      "text/plain": [
       "70.5"
      ]
     },
     "execution_count": 4,
     "metadata": {},
     "output_type": "execute_result"
    }
   ],
   "source": [
    "20 + 30.5 + 20"
   ]
  },
  {
   "cell_type": "code",
   "execution_count": 5,
   "id": "3d759ac9-6fdb-4f89-ad0d-a7dd23aaa124",
   "metadata": {},
   "outputs": [
    {
     "data": {
      "text/plain": [
       "22"
      ]
     },
     "execution_count": 5,
     "metadata": {},
     "output_type": "execute_result"
    }
   ],
   "source": [
    "# Substraction Operation Expressin - Integer and Float\n",
    "45 - 23"
   ]
  },
  {
   "cell_type": "code",
   "execution_count": 6,
   "id": "c45b4850-d233-4f6c-87a5-b50ee6837402",
   "metadata": {},
   "outputs": [
    {
     "data": {
      "text/plain": [
       "19.98"
      ]
     },
     "execution_count": 6,
     "metadata": {},
     "output_type": "execute_result"
    }
   ],
   "source": [
    "40 - 20.02"
   ]
  },
  {
   "cell_type": "code",
   "execution_count": 7,
   "id": "a7a2fa40-ac6a-4cc2-b651-927f2c7cce94",
   "metadata": {},
   "outputs": [
    {
     "data": {
      "text/plain": [
       "5.0"
      ]
     },
     "execution_count": 7,
     "metadata": {},
     "output_type": "execute_result"
    }
   ],
   "source": [
    "# Division Operation\n",
    "25/5"
   ]
  },
  {
   "cell_type": "code",
   "execution_count": 8,
   "id": "9774fa48-6124-442f-bb23-101e73e538ef",
   "metadata": {},
   "outputs": [
    {
     "data": {
      "text/plain": [
       "12.5"
      ]
     },
     "execution_count": 8,
     "metadata": {},
     "output_type": "execute_result"
    }
   ],
   "source": [
    "25/2"
   ]
  },
  {
   "cell_type": "code",
   "execution_count": 3,
   "id": "230ecbb3-eb51-442b-a854-2c33c408ccad",
   "metadata": {},
   "outputs": [
    {
     "data": {
      "text/plain": [
       "12"
      ]
     },
     "execution_count": 3,
     "metadata": {},
     "output_type": "execute_result"
    }
   ],
   "source": [
    "# Integer Division Operation\n",
    "# Also known as Floor Division\n",
    "25//2"
   ]
  },
  {
   "cell_type": "code",
   "execution_count": 6,
   "id": "2c3b3dee-ddad-4400-9010-7b355604a7bb",
   "metadata": {},
   "outputs": [
    {
     "data": {
      "text/plain": [
       "1"
      ]
     },
     "execution_count": 6,
     "metadata": {},
     "output_type": "execute_result"
    }
   ],
   "source": [
    "# Modulus operation/ Remainder of division\n",
    "25%2"
   ]
  },
  {
   "cell_type": "code",
   "execution_count": 7,
   "id": "11d11a35-f17c-491d-a70c-5a26eaf9986d",
   "metadata": {},
   "outputs": [
    {
     "data": {
      "text/plain": [
       "5"
      ]
     },
     "execution_count": 7,
     "metadata": {},
     "output_type": "execute_result"
    }
   ],
   "source": [
    "25//5"
   ]
  },
  {
   "cell_type": "code",
   "execution_count": 9,
   "id": "7058e086-0991-4923-af18-5e9c7f01c088",
   "metadata": {},
   "outputs": [
    {
     "data": {
      "text/plain": [
       "64"
      ]
     },
     "execution_count": 9,
     "metadata": {},
     "output_type": "execute_result"
    }
   ],
   "source": [
    "# Exponential operation \n",
    "4 ** 3 #4 to the power 3"
   ]
  },
  {
   "cell_type": "code",
   "execution_count": 11,
   "id": "405af731-cbb1-467e-96e7-145e72ae1337",
   "metadata": {},
   "outputs": [
    {
     "data": {
      "text/plain": [
       "70"
      ]
     },
     "execution_count": 11,
     "metadata": {},
     "output_type": "execute_result"
    }
   ],
   "source": [
    "# Mathematical Expressions\n",
    "30 + 20 * 2"
   ]
  },
  {
   "cell_type": "code",
   "execution_count": 12,
   "id": "0e3d6954-4be5-4edc-ae13-0f506a9ad00d",
   "metadata": {},
   "outputs": [
    {
     "data": {
      "text/plain": [
       "100"
      ]
     },
     "execution_count": 12,
     "metadata": {},
     "output_type": "execute_result"
    }
   ],
   "source": [
    "# Operator Precendence\n",
    "(30 + 20) * 2"
   ]
  },
  {
   "cell_type": "code",
   "execution_count": null,
   "id": "1239ab5b-df3b-4d6e-bd69-8a1eab370f3b",
   "metadata": {},
   "outputs": [],
   "source": []
  }
 ],
 "metadata": {
  "kernelspec": {
   "display_name": "Python 3 (ipykernel)",
   "language": "python",
   "name": "python3"
  },
  "language_info": {
   "codemirror_mode": {
    "name": "ipython",
    "version": 3
   },
   "file_extension": ".py",
   "mimetype": "text/x-python",
   "name": "python",
   "nbconvert_exporter": "python",
   "pygments_lexer": "ipython3",
   "version": "3.12.1"
  }
 },
 "nbformat": 4,
 "nbformat_minor": 5
}
