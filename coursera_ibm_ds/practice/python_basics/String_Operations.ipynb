{
 "cells": [
  {
   "cell_type": "markdown",
   "id": "618dfa1f-9789-41d0-8a90-807a301b2cc8",
   "metadata": {},
   "source": [
    "# String Interpolation\n",
    "Formatting strings"
   ]
  },
  {
   "cell_type": "code",
   "execution_count": 3,
   "id": "cea82913-a151-4f0b-a85e-2d9483f66d39",
   "metadata": {},
   "outputs": [
    {
     "name": "stdout",
     "output_type": "stream",
     "text": [
      "My name is John and I am 30 years old\n"
     ]
    }
   ],
   "source": [
    "# Using (f-strings)\n",
    "name = 'John'\n",
    "age = 30\n",
    "\n",
    "print(f'My name is {name} and I am {age} years old')"
   ]
  },
  {
   "cell_type": "code",
   "execution_count": 6,
   "id": "0393dae6-e6d2-40cf-936c-7f14f7beccc7",
   "metadata": {},
   "outputs": [
    {
     "name": "stdout",
     "output_type": "stream",
     "text": [
      "The sub of x and y is 15\n"
     ]
    }
   ],
   "source": [
    "# Additional Capability of f-strings: able to evaluate expressions inside a curly bracket\n",
    "x = 10\n",
    "y = 5\n",
    "print(f'The sub of x and y is {x+y}')"
   ]
  },
  {
   "cell_type": "code",
   "execution_count": 4,
   "id": "26f837c2-94b4-4591-a282-d156318c6a9b",
   "metadata": {},
   "outputs": [
    {
     "name": "stdout",
     "output_type": "stream",
     "text": [
      "My name is John and I am 30 years old\n"
     ]
    }
   ],
   "source": [
    "# Another way with format method\n",
    "print('My name is {} and I am {} years old'.format(name,age))"
   ]
  },
  {
   "cell_type": "code",
   "execution_count": 5,
   "id": "9bea10f2-4e92-46c0-9029-66bc5bf819f3",
   "metadata": {},
   "outputs": [
    {
     "name": "stdout",
     "output_type": "stream",
     "text": [
      "My name is John and I am 30 years old\n"
     ]
    }
   ],
   "source": [
    "# Third way to do it is with % operator\n",
    "print('My name is %s and I am %d years old' %(name, age))"
   ]
  },
  {
   "cell_type": "markdown",
   "id": "84376712-f93e-4a4c-b7db-002d000a4123",
   "metadata": {},
   "source": [
    "# String Indexing & Length Operations"
   ]
  },
  {
   "cell_type": "code",
   "execution_count": 3,
   "id": "d31788fa-92ae-49fe-989b-4a2f3631f968",
   "metadata": {},
   "outputs": [],
   "source": [
    "name = \"Michael Jackson\""
   ]
  },
  {
   "cell_type": "code",
   "execution_count": 4,
   "id": "4e39b8fc-7311-4e49-8c3b-f5a37b344357",
   "metadata": {},
   "outputs": [
    {
     "data": {
      "text/plain": [
       "'Michael Jackson'"
      ]
     },
     "execution_count": 4,
     "metadata": {},
     "output_type": "execute_result"
    }
   ],
   "source": [
    "name"
   ]
  },
  {
   "cell_type": "code",
   "execution_count": 5,
   "id": "3fb02e9d-b51c-45bb-ae3f-59a5a3af4a94",
   "metadata": {},
   "outputs": [
    {
     "name": "stdout",
     "output_type": "stream",
     "text": [
      "Michael Jackson\n"
     ]
    }
   ],
   "source": [
    "print(name)"
   ]
  },
  {
   "cell_type": "code",
   "execution_count": 6,
   "id": "5ccb821c-c386-43de-9980-f5c225e4b1ff",
   "metadata": {},
   "outputs": [
    {
     "name": "stdout",
     "output_type": "stream",
     "text": [
      "M\n"
     ]
    }
   ],
   "source": [
    "# Using positive indexing\n",
    "print(name[0])"
   ]
  },
  {
   "cell_type": "code",
   "execution_count": 7,
   "id": "daba8c3e-6468-4dc0-b9ce-0a131ad64650",
   "metadata": {},
   "outputs": [
    {
     "name": "stdout",
     "output_type": "stream",
     "text": [
      "l\n"
     ]
    }
   ],
   "source": [
    "print(name[6])"
   ]
  },
  {
   "cell_type": "code",
   "execution_count": 8,
   "id": "210e9715-e2ce-4abf-90cb-15015d4bbe41",
   "metadata": {},
   "outputs": [
    {
     "name": "stdout",
     "output_type": "stream",
     "text": [
      "o\n"
     ]
    }
   ],
   "source": [
    "print(name[13])"
   ]
  },
  {
   "cell_type": "code",
   "execution_count": 9,
   "id": "a148b77d-7ae0-4be7-8842-0c14f5a2b598",
   "metadata": {},
   "outputs": [
    {
     "name": "stdout",
     "output_type": "stream",
     "text": [
      "n\n"
     ]
    }
   ],
   "source": [
    "# Using negative indexing\n",
    "print(name[-1])"
   ]
  },
  {
   "cell_type": "code",
   "execution_count": 10,
   "id": "fb1f6a45-3a8b-4f6c-bc5d-21c4bda47d8b",
   "metadata": {},
   "outputs": [
    {
     "name": "stdout",
     "output_type": "stream",
     "text": [
      "J\n"
     ]
    }
   ],
   "source": [
    "print(name[-7])"
   ]
  },
  {
   "cell_type": "code",
   "execution_count": 11,
   "id": "441e8f55-0c01-4281-929f-2393133d38c0",
   "metadata": {},
   "outputs": [
    {
     "name": "stdout",
     "output_type": "stream",
     "text": [
      " \n"
     ]
    }
   ],
   "source": [
    "print(name[-8])"
   ]
  },
  {
   "cell_type": "code",
   "execution_count": 12,
   "id": "d478f1a8-c8c7-4cc4-9217-f5c4d75ea0e6",
   "metadata": {},
   "outputs": [
    {
     "name": "stdout",
     "output_type": "stream",
     "text": [
      "15\n"
     ]
    }
   ],
   "source": [
    "#Length os string\n",
    "print(len(name))"
   ]
  },
  {
   "cell_type": "code",
   "execution_count": 13,
   "id": "af963383-4889-4653-9eef-1eedc59aef3a",
   "metadata": {},
   "outputs": [
    {
     "data": {
      "text/plain": [
       "'e'"
      ]
     },
     "execution_count": 13,
     "metadata": {},
     "output_type": "execute_result"
    }
   ],
   "source": [
    "x = 'len'\n",
    "x[len(x*2)-5]"
   ]
  },
  {
   "cell_type": "markdown",
   "id": "2b1af0d5-bf7f-4633-8732-5350a12a4290",
   "metadata": {},
   "source": [
    "# String Slicing Operations"
   ]
  },
  {
   "cell_type": "code",
   "execution_count": 16,
   "id": "ad4d3e95-dee8-4821-8e63-5c731863fe0c",
   "metadata": {},
   "outputs": [
    {
     "data": {
      "text/plain": [
       "'Michael Jackson'"
      ]
     },
     "execution_count": 16,
     "metadata": {},
     "output_type": "execute_result"
    }
   ],
   "source": [
    "name"
   ]
  },
  {
   "cell_type": "code",
   "execution_count": 15,
   "id": "dd9d89e4-b27c-43e0-9f1d-04f47a4a8846",
   "metadata": {},
   "outputs": [
    {
     "name": "stdout",
     "output_type": "stream",
     "text": [
      "Micha\n"
     ]
    }
   ],
   "source": [
    "print(name[0:5])"
   ]
  },
  {
   "cell_type": "code",
   "execution_count": 17,
   "id": "658132c0-cf03-493d-b1e5-3bac38b7c372",
   "metadata": {},
   "outputs": [
    {
     "name": "stdout",
     "output_type": "stream",
     "text": [
      "ael Ja\n"
     ]
    }
   ],
   "source": [
    "print(name[4:10])"
   ]
  },
  {
   "cell_type": "code",
   "execution_count": 21,
   "id": "d938b3bb-e2d6-4ded-ab41-a3827bc57436",
   "metadata": {},
   "outputs": [
    {
     "name": "stdout",
     "output_type": "stream",
     "text": [
      "el Jackson\n"
     ]
    }
   ],
   "source": [
    "print(name[5:20]) # works even if the last index is wrong"
   ]
  },
  {
   "cell_type": "code",
   "execution_count": 23,
   "id": "fa930d8f-7694-4307-b2cb-02aa3f6abf9f",
   "metadata": {},
   "outputs": [
    {
     "name": "stdout",
     "output_type": "stream",
     "text": [
      "McalJcsn\n"
     ]
    }
   ],
   "source": [
    "# Stride to get every second element\n",
    "print(name[::2])"
   ]
  },
  {
   "cell_type": "code",
   "execution_count": 14,
   "id": "82d29154-7c27-4172-97c1-e1e557f8ba7b",
   "metadata": {},
   "outputs": [
    {
     "name": "stdout",
     "output_type": "stream",
     "text": [
      "Mca\n"
     ]
    }
   ],
   "source": [
    "# Get every second element in the range from index 0 to index 4\n",
    "\n",
    "print(name[0:5:2])"
   ]
  },
  {
   "cell_type": "markdown",
   "id": "717546fb-6c08-4043-87bc-25c56b105887",
   "metadata": {},
   "source": [
    "# String Concatenation"
   ]
  },
  {
   "cell_type": "code",
   "execution_count": 25,
   "id": "777a5641-3fb8-441d-9a14-6dc921405bed",
   "metadata": {},
   "outputs": [
    {
     "data": {
      "text/plain": [
       "'Michael Jackson'"
      ]
     },
     "execution_count": 25,
     "metadata": {},
     "output_type": "execute_result"
    }
   ],
   "source": [
    "name"
   ]
  },
  {
   "cell_type": "code",
   "execution_count": 28,
   "id": "08a37d3d-c758-4c74-8e08-8387fabe6521",
   "metadata": {},
   "outputs": [],
   "source": [
    "statement = name + \" is the best.\""
   ]
  },
  {
   "cell_type": "code",
   "execution_count": 29,
   "id": "d1632784-b998-4080-86e5-cd6c163389a8",
   "metadata": {},
   "outputs": [
    {
     "name": "stdout",
     "output_type": "stream",
     "text": [
      "Michael Jackson is the best.\n"
     ]
    }
   ],
   "source": [
    "print(statement)"
   ]
  },
  {
   "cell_type": "code",
   "execution_count": 30,
   "id": "ce20e0d0-ced3-44c2-8654-5f1152d204e7",
   "metadata": {},
   "outputs": [
    {
     "name": "stdout",
     "output_type": "stream",
     "text": [
      "Michael JacksonMichael JacksonMichael Jackson\n"
     ]
    }
   ],
   "source": [
    "# Print name 3 times\n",
    "print(name*3)"
   ]
  },
  {
   "cell_type": "code",
   "execution_count": 31,
   "id": "ba88407f-ffc4-46be-a656-0efa873e33fc",
   "metadata": {},
   "outputs": [
    {
     "name": "stdout",
     "output_type": "stream",
     "text": [
      "Michael Jackson is the best\n"
     ]
    }
   ],
   "source": [
    "name = name + \" is the best\"\n",
    "print(name)"
   ]
  },
  {
   "cell_type": "markdown",
   "id": "969efe7e-ccfb-45ea-9ea9-bd94d0ad4365",
   "metadata": {},
   "source": [
    "# Escape Sequences"
   ]
  },
  {
   "cell_type": "code",
   "execution_count": 38,
   "id": "c9b6cb67-cd09-4b77-b3dd-896fa49977a8",
   "metadata": {},
   "outputs": [
    {
     "name": "stdout",
     "output_type": "stream",
     "text": [
      " Michael Jackson \n",
      " is the best\n"
     ]
    }
   ],
   "source": [
    "print(\" Michael Jackson \\n is the best\")"
   ]
  },
  {
   "cell_type": "code",
   "execution_count": 39,
   "id": "65d77708-c42d-4b5f-af0e-9cd2cdecd193",
   "metadata": {},
   "outputs": [
    {
     "name": "stdout",
     "output_type": "stream",
     "text": [
      " Michael Jackson \t is the best\n"
     ]
    }
   ],
   "source": [
    "print(\" Michael Jackson \\t is the best\")"
   ]
  },
  {
   "cell_type": "code",
   "execution_count": 40,
   "id": "d0d4ff1b-05f5-430c-af94-f27c71bdb487",
   "metadata": {},
   "outputs": [
    {
     "name": "stdout",
     "output_type": "stream",
     "text": [
      "Michael Jackson \\ is the best\n"
     ]
    }
   ],
   "source": [
    "print(\"Michael Jackson \\\\ is the best\")"
   ]
  },
  {
   "cell_type": "code",
   "execution_count": 41,
   "id": "e53a0343-e088-4310-9cf9-107091e87934",
   "metadata": {},
   "outputs": [
    {
     "name": "stdout",
     "output_type": "stream",
     "text": [
      "Michael Jackson \\ is the best\n"
     ]
    }
   ],
   "source": [
    "print(r\"Michael Jackson \\ is the best\")"
   ]
  },
  {
   "cell_type": "markdown",
   "id": "d37595da-36bf-4c3c-97eb-4da2b2e355f8",
   "metadata": {},
   "source": [
    "# String Manipulation Operators"
   ]
  },
  {
   "cell_type": "code",
   "execution_count": 46,
   "id": "c44b3b21-881b-4979-b163-0a6e2ee04c1e",
   "metadata": {},
   "outputs": [
    {
     "name": "stdout",
     "output_type": "stream",
     "text": [
      "Initial statemement -  It is great learning JAVA programming\n"
     ]
    }
   ],
   "source": [
    "# Convert all characters in upper case\n",
    "statement = \"It is great learning JAVA programming\"\n",
    "print(\"Initial statemement - \",statement)"
   ]
  },
  {
   "cell_type": "code",
   "execution_count": 47,
   "id": "fe8202d1-6b52-41a5-a56c-f9feae9e7d59",
   "metadata": {},
   "outputs": [
    {
     "name": "stdout",
     "output_type": "stream",
     "text": [
      "IT IS GREAT LEARNING JAVA PROGRAMMING\n"
     ]
    }
   ],
   "source": [
    "print(statement.upper())"
   ]
  },
  {
   "cell_type": "code",
   "execution_count": 48,
   "id": "aa4dc550-83b9-45cc-8c95-4e9c1534dfc2",
   "metadata": {},
   "outputs": [
    {
     "name": "stdout",
     "output_type": "stream",
     "text": [
      "it is great learning java programming\n"
     ]
    }
   ],
   "source": [
    "print(statement.lower())"
   ]
  },
  {
   "cell_type": "code",
   "execution_count": 49,
   "id": "47d5101c-1711-4f01-8ad3-ef4249f53345",
   "metadata": {},
   "outputs": [
    {
     "name": "stdout",
     "output_type": "stream",
     "text": [
      "It is great learning JAVA programming\n"
     ]
    }
   ],
   "source": [
    "print(statement)"
   ]
  },
  {
   "cell_type": "code",
   "execution_count": 51,
   "id": "9df27323-62b6-4c48-97e4-a03a17dc37b7",
   "metadata": {},
   "outputs": [
    {
     "name": "stdout",
     "output_type": "stream",
     "text": [
      "It is great learning Python programming\n"
     ]
    }
   ],
   "source": [
    "print(statement.replace(\"JAVA\",\"Python\"))"
   ]
  },
  {
   "cell_type": "code",
   "execution_count": 52,
   "id": "4a934e4c-d3c5-41aa-9700-2d87e31610ca",
   "metadata": {},
   "outputs": [
    {
     "data": {
      "text/plain": [
       "'It is great learning JAVA programming'"
      ]
     },
     "execution_count": 52,
     "metadata": {},
     "output_type": "execute_result"
    }
   ],
   "source": [
    "statement # Does not alters the original string"
   ]
  },
  {
   "cell_type": "code",
   "execution_count": 54,
   "id": "ff04a711-a6e4-4405-a17d-7df451c7f386",
   "metadata": {},
   "outputs": [
    {
     "name": "stdout",
     "output_type": "stream",
     "text": [
      "It is great learning JAVA programming\n"
     ]
    }
   ],
   "source": [
    "print(statement.replace(\"R Lanaguage\",\"Python\")) # if string not found, prints original string"
   ]
  },
  {
   "cell_type": "code",
   "execution_count": 57,
   "id": "fd33f59a-5a26-44fb-b7be-e5074e8323fd",
   "metadata": {},
   "outputs": [
    {
     "name": "stdout",
     "output_type": "stream",
     "text": [
      "-1\n"
     ]
    }
   ],
   "source": [
    "print(statement.find('Python')) # returns -1 if not found"
   ]
  },
  {
   "cell_type": "code",
   "execution_count": 58,
   "id": "99170a24-2e01-44c1-a9cc-64638df47631",
   "metadata": {},
   "outputs": [
    {
     "name": "stdout",
     "output_type": "stream",
     "text": [
      "21\n"
     ]
    }
   ],
   "source": [
    "print(statement.find(\"JAVA\"))"
   ]
  },
  {
   "cell_type": "code",
   "execution_count": 59,
   "id": "a2a66c51-af22-4daa-a972-f8524e8670d2",
   "metadata": {},
   "outputs": [
    {
     "name": "stdout",
     "output_type": "stream",
     "text": [
      "-1\n"
     ]
    }
   ],
   "source": [
    "print(statement.find(\"Java\")) # find is case sensitive"
   ]
  },
  {
   "cell_type": "code",
   "execution_count": 60,
   "id": "d289ea27-4bbc-4227-8040-7e6f176a7854",
   "metadata": {},
   "outputs": [
    {
     "name": "stdout",
     "output_type": "stream",
     "text": [
      "21\n"
     ]
    }
   ],
   "source": [
    "print(statement.lower().find(\"java\"))"
   ]
  },
  {
   "cell_type": "code",
   "execution_count": 61,
   "id": "71abf2a4-5c4f-49f5-845d-c95ada680694",
   "metadata": {},
   "outputs": [
    {
     "name": "stdout",
     "output_type": "stream",
     "text": [
      "['It', 'is', 'great', 'learning', 'JAVA', 'programming']\n"
     ]
    }
   ],
   "source": [
    "print(statement.split())"
   ]
  },
  {
   "cell_type": "code",
   "execution_count": 68,
   "id": "daf38185-334c-41e5-a20f-14036526cb32",
   "metadata": {},
   "outputs": [],
   "source": [
    "statement2 = 'Lets try split with different delimeter. By default it is space. But we can choose . as delimeter too'"
   ]
  },
  {
   "cell_type": "code",
   "execution_count": 69,
   "id": "b3210314-7097-465f-b16f-00f4eebca3f2",
   "metadata": {},
   "outputs": [
    {
     "name": "stdout",
     "output_type": "stream",
     "text": [
      "['Lets try split with different delimeter', ' By default it is space', ' But we can choose ', ' as delimeter too']\n"
     ]
    }
   ],
   "source": [
    "print(statement2.split(\".\"))"
   ]
  },
  {
   "cell_type": "markdown",
   "id": "37118039-5d61-4c0e-a732-d04c20657616",
   "metadata": {},
   "source": [
    "# Regex\n",
    "\n",
    "RegEx module provides several functions for working with regular expressions, including search, split, findall, and sub."
   ]
  },
  {
   "cell_type": "code",
   "execution_count": 71,
   "id": "bd5fd31b-be13-4d99-9e16-ac8574342e4f",
   "metadata": {},
   "outputs": [],
   "source": [
    "import re"
   ]
  },
  {
   "cell_type": "code",
   "execution_count": 72,
   "id": "279b15de-b8de-43bb-8f66-f5214aee5060",
   "metadata": {},
   "outputs": [
    {
     "name": "stdout",
     "output_type": "stream",
     "text": [
      "Match Found!\n"
     ]
    }
   ],
   "source": [
    "statement = \"Neha Verma is a sincere girl\"\n",
    "\n",
    "pattern = r\"Neha\"\n",
    "\n",
    "result = re.search(pattern,statement)\n",
    "\n",
    "if result:\n",
    "    print(\"Match Found!\")\n",
    "else:\n",
    "    print(\"Match Not Found!\")"
   ]
  },
  {
   "cell_type": "markdown",
   "id": "6718f916-4d21-4854-b734-269e50e782d2",
   "metadata": {},
   "source": [
    "***RegEx Pattern Matching***\n",
    "\n",
    "Regular expressions (RegEx) are patterns used to match and manipulate strings of text. There are several special sequences in RegEx that can be used to match specific characters or patterns.\n",
    "\n",
    "| Special Sequence | Meaning                 | \tExample             |\n",
    "| -----------  | ----------------------- | ----------------------|\n",
    "| \\d|Matches any digit character (0-9)|\"123\" matches \"\\d\\d\\d\"|\n",
    "|\\D|Matches any non-digit character|\"hello\" matches \"\\D\\D\\D\\D\\D\"|\n",
    "|\\w|Matches any word character (a-z, A-Z, 0-9, and _)|\"hello_world\" matches \"\\w\\w\\w\\w\\w\\w\\w\\w\\w\\w\\w\"|\n",
    "|\\W|Matches any non-word character|\t\"@#$%\" matches \"\\W\\W\\W\\W\"|\n",
    "|\\s|Matches any whitespace character (space, tab, newline, etc.)|\"hello world\" matches \"\\w\\w\\w\\w\\w\\s\\w\\w\\w\\w\\w\"|\n",
    "|\\S|Matches any non-whitespace character|\"hello_world\" matches \"\\S\\S\\S\\S\\S\\S\\S\\S\\S\"|\n",
    "|\\b|Matches the boundary between a word character and a non-word character|\"cat\" matches \"\\bcat\\b\" in \"The cat sat on the mat\"|\n",
    "|\\B|Matches any position that is not a word boundary|\"cat\" matches \"\\Bcat\\B\" in \"category\" but not in \"The cat sat on the mat\"|"
   ]
  },
  {
   "cell_type": "code",
   "execution_count": 73,
   "id": "45b4b12a-ae23-4038-a976-5213d0ed6f86",
   "metadata": {},
   "outputs": [
    {
     "name": "stdout",
     "output_type": "stream",
     "text": [
      "Phone number found 1234567890\n"
     ]
    }
   ],
   "source": [
    "pattern = r\"\\d\\d\\d\\d\\d\\d\\d\\d\\d\\d\"\n",
    "\n",
    "text = \"My phone number is 1234567890\"\n",
    "\n",
    "match = re.search(pattern,text)\n",
    "\n",
    "if match:\n",
    "    print(\"Phone number found\", match.group())\n",
    "else:\n",
    "    print(\"Phone number not found\")"
   ]
  },
  {
   "cell_type": "code",
   "execution_count": 77,
   "id": "4069a5b5-a500-444b-9132-6dbcdde53ebd",
   "metadata": {},
   "outputs": [
    {
     "name": "stdout",
     "output_type": "stream",
     "text": [
      "[' ', '!', '!', '!']\n"
     ]
    }
   ],
   "source": [
    "pattern = r\"\\W\"\n",
    "\n",
    "text = \"Hello World!!!\"\n",
    "\n",
    "match = re.findall(pattern,text)\n",
    "\n",
    "print(match)"
   ]
  },
  {
   "cell_type": "code",
   "execution_count": 78,
   "id": "057b14d5-dd1d-4fce-9d93-3f7579690f92",
   "metadata": {},
   "outputs": [
    {
     "name": "stdout",
     "output_type": "stream",
     "text": [
      "['as', 'as']\n"
     ]
    }
   ],
   "source": [
    "s2 = \"Michael Jackson was a singer and known as the 'King of Pop'\"\n",
    "\n",
    "# Use the findall() function to find all occurrences of the \"as\" in the string\n",
    "result = re.findall(\"as\", s2)\n",
    "\n",
    "# Print out the list of matched words\n",
    "print(result)"
   ]
  },
  {
   "cell_type": "code",
   "execution_count": 81,
   "id": "b2ce1209-fc8a-4a61-9260-0c227901f448",
   "metadata": {},
   "outputs": [
    {
     "name": "stdout",
     "output_type": "stream",
     "text": [
      "['Michael', 'Jackson', 'was', 'a', 'singer', 'and', 'known', 'as', 'the', \"'King\", 'of', \"Pop'\"]\n"
     ]
    }
   ],
   "source": [
    "# Use the split function to split the string by the \"\\s\"\n",
    "split_array = re.split(r\"\\s\", s2)\n",
    "\n",
    "# The split_array contains all the substrings, split by whitespace characters\n",
    "print(split_array) "
   ]
  },
  {
   "cell_type": "code",
   "execution_count": 83,
   "id": "664aedc3-ad30-4603-855b-b3671e951bc5",
   "metadata": {},
   "outputs": [
    {
     "name": "stdout",
     "output_type": "stream",
     "text": [
      "Michael Jackson was a singer and known as the 'legend'\n"
     ]
    }
   ],
   "source": [
    "# Define the regular expression pattern to search for\n",
    "pattern = r\"King of Pop\"\n",
    "\n",
    "# Define the replacement string\n",
    "replacement = \"legend\"\n",
    "\n",
    "# Use the sub function to replace the pattern with the replacement string\n",
    "new_string = re.sub(pattern, replacement, s2, flags=re.IGNORECASE)\n",
    "\n",
    "# The new_string contains the original string with the pattern replaced by the replacement string\n",
    "print(new_string) "
   ]
  },
  {
   "cell_type": "code",
   "execution_count": null,
   "id": "86754961-a1e3-482a-a518-1d953d9c8ecb",
   "metadata": {},
   "outputs": [],
   "source": []
  }
 ],
 "metadata": {
  "kernelspec": {
   "display_name": "Python 3 (ipykernel)",
   "language": "python",
   "name": "python3"
  },
  "language_info": {
   "codemirror_mode": {
    "name": "ipython",
    "version": 3
   },
   "file_extension": ".py",
   "mimetype": "text/x-python",
   "name": "python",
   "nbconvert_exporter": "python",
   "pygments_lexer": "ipython3",
   "version": "3.12.1"
  }
 },
 "nbformat": 4,
 "nbformat_minor": 5
}
